{
  "cells": [
    {
      "cell_type": "code",
      "execution_count": 1,
      "metadata": {
        "collapsed": false
      },
      "outputs": [],
      "source": [
        "%matplotlib inline"
      ]
    },
    {
      "cell_type": "markdown",
      "metadata": {},
      "source": [
        "\n",
        "# Self-supervised learning on EEG with relative positioning\n",
        "\n",
        "This example shows how to train a neural network with self-supervision on sleep\n",
        "EEG data. We follow the relative positioning approach of [1]_ on the openly\n",
        "accessible Sleep Physionet dataset [2]_ [3]_.\n",
        "\n",
        ".. topic:: Self-supervised learning\n",
        "\n",
        "    Self-supervised learning (SSL) is a learning paradigm that leverages\n",
        "    unlabelled data to train neural networks. First, neural networks are\n",
        "    trained on a \"pretext task\" which uses unlabelled data only. The pretext\n",
        "    task is designed based on a prior understanding of the data under study\n",
        "    (e.g., EEG has an underlying autocorrelation struture) and such that the\n",
        "    processing required to perform well on this pretext task is related to the\n",
        "    processing required to perform well on another task of interest.\n",
        "    Once trained, these neural networks can be reused as feature extractors or\n",
        "    weight initialization in a \"downstream task\", which is the task that we are\n",
        "    actually interested in (e.g., sleep staging). The pretext task step can\n",
        "    help reduce the quantity of labelled data needed to perform well on the\n",
        "    downstream task and/or improve downstream performance as compared to a\n",
        "    strictly supervised approach [1]_.\n",
        "\n",
        "Here, we use relative positioning (RP) as our pretext task, and perform sleep\n",
        "staging as our downstream task. RP is a simple SSL task, in which a neural\n",
        "network is trained to predict whether two randomly sampled EEG windows are\n",
        "close or far apart in time. This method was shown to yield physiologically- and\n",
        "clinically-relevant features and to boost classification performance in\n",
        "low-labels data regimes [1]_.\n",
        "   :depth: 2\n"
      ]
    },
    {
      "cell_type": "code",
      "execution_count": 2,
      "metadata": {
        "collapsed": false
      },
      "outputs": [],
      "source": [
        "# Authors: Hubert Banville <hubert.jbanville@gmail.com>\n",
        "#\n",
        "# License: BSD (3-clause)\n",
        "\n",
        "\n",
        "random_state = 87\n",
        "n_jobs = 1"
      ]
    },
    {
      "cell_type": "markdown",
      "metadata": {},
      "source": [
        "## Loading and preprocessing the dataset\n",
        "\n",
        "\n"
      ]
    },
    {
      "cell_type": "markdown",
      "metadata": {},
      "source": [
        "### Loading the raw recordings\n",
        "\n",
        "\n"
      ]
    },
    {
      "cell_type": "markdown",
      "metadata": {},
      "source": [
        "First, we load a few recordings from the Sleep Physionet dataset. Running\n",
        "this example with more recordings should yield better representations and\n",
        "downstream classification performance.\n",
        "\n",
        "\n"
      ]
    },
    {
      "cell_type": "code",
      "execution_count": 3,
      "metadata": {
        "collapsed": false
      },
      "outputs": [
        {
          "name": "stdout",
          "output_type": "stream",
          "text": [
            "Using default location ~/mne_data for PHYSIONET_SLEEP...\n",
            "Extracting EDF parameters from /home/maligan/mne_data/physionet-sleep-data/SC4001E0-PSG.edf...\n",
            "EDF file detected\n",
            "Setting channel info structure...\n",
            "Creating raw.info structure...\n",
            "Extracting EDF parameters from /home/maligan/mne_data/physionet-sleep-data/SC4011E0-PSG.edf...\n",
            "EDF file detected\n",
            "Setting channel info structure...\n",
            "Creating raw.info structure...\n",
            "Extracting EDF parameters from /home/maligan/mne_data/physionet-sleep-data/SC4021E0-PSG.edf...\n",
            "EDF file detected\n",
            "Setting channel info structure...\n",
            "Creating raw.info structure...\n"
          ]
        }
      ],
      "source": [
        "from braindecode.datasets.sleep_physionet import SleepPhysionet\n",
        "\n",
        "dataset = SleepPhysionet(\n",
        "    subject_ids=[0, 1, 2], recording_ids=[1], crop_wake_mins=30)"
      ]
    },
    {
      "cell_type": "markdown",
      "metadata": {},
      "source": [
        "### Preprocessing\n",
        "\n",
        "\n"
      ]
    },
    {
      "cell_type": "markdown",
      "metadata": {},
      "source": [
        "Next, we preprocess the raw data. We convert the data to microvolts and apply\n",
        "a lowpass filter. Since the Sleep Physionet data is already sampled at 100 Hz\n",
        "we don't need to apply resampling.\n",
        "\n",
        "\n"
      ]
    },
    {
      "cell_type": "code",
      "execution_count": 4,
      "metadata": {
        "collapsed": false
      },
      "outputs": [
        {
          "name": "stdout",
          "output_type": "stream",
          "text": [
            "Reading 0 ... 2508000  =      0.000 ... 25080.000 secs...\n"
          ]
        },
        {
          "name": "stderr",
          "output_type": "stream",
          "text": [
            "/home/maligan/Documents/VU/Year_2/M.Sc._Thesis_[X_400285]/my_thesis/code/braindecode_ssl_thesis/braindecode/braindecode/datautil/preprocess.py:10: UserWarning: datautil.preprocess module is deprecated and is now under preprocessing.preprocess, please use from import braindecode.preprocessing.preprocess\n",
            "  warn('datautil.preprocess module is deprecated and is now under '\n",
            "/home/maligan/Documents/VU/Year_2/M.Sc._Thesis_[X_400285]/my_thesis/code/braindecode_ssl_thesis/braindecode/braindecode/preprocessing/preprocess.py:52: UserWarning: Preprocessing choices with lambda functions cannot be saved.\n",
            "  warn('Preprocessing choices with lambda functions cannot be saved.')\n"
          ]
        },
        {
          "name": "stdout",
          "output_type": "stream",
          "text": [
            "Filtering raw data in 1 contiguous segment\n",
            "Setting up low-pass filter at 30 Hz\n",
            "\n",
            "FIR filter parameters\n",
            "---------------------\n",
            "Designing a one-pass, zero-phase, non-causal lowpass filter:\n",
            "- Windowed time-domain design (firwin) method\n",
            "- Hamming window with 0.0194 passband ripple and 53 dB stopband attenuation\n",
            "- Upper passband edge: 30.00 Hz\n",
            "- Upper transition bandwidth: 7.50 Hz (-6 dB cutoff frequency: 33.75 Hz)\n",
            "- Filter length: 45 samples (0.450 sec)\n",
            "\n",
            "Reading 0 ... 3261000  =      0.000 ... 32610.000 secs...\n",
            "Filtering raw data in 1 contiguous segment\n",
            "Setting up low-pass filter at 30 Hz\n",
            "\n",
            "FIR filter parameters\n",
            "---------------------\n",
            "Designing a one-pass, zero-phase, non-causal lowpass filter:\n",
            "- Windowed time-domain design (firwin) method\n",
            "- Hamming window with 0.0194 passband ripple and 53 dB stopband attenuation\n",
            "- Upper passband edge: 30.00 Hz\n",
            "- Upper transition bandwidth: 7.50 Hz (-6 dB cutoff frequency: 33.75 Hz)\n",
            "- Filter length: 45 samples (0.450 sec)\n",
            "\n",
            "Reading 0 ... 3060000  =      0.000 ... 30600.000 secs...\n",
            "Filtering raw data in 1 contiguous segment\n",
            "Setting up low-pass filter at 30 Hz\n",
            "\n",
            "FIR filter parameters\n",
            "---------------------\n",
            "Designing a one-pass, zero-phase, non-causal lowpass filter:\n",
            "- Windowed time-domain design (firwin) method\n",
            "- Hamming window with 0.0194 passband ripple and 53 dB stopband attenuation\n",
            "- Upper passband edge: 30.00 Hz\n",
            "- Upper transition bandwidth: 7.50 Hz (-6 dB cutoff frequency: 33.75 Hz)\n",
            "- Filter length: 45 samples (0.450 sec)\n",
            "\n"
          ]
        },
        {
          "data": {
            "text/plain": [
              "<braindecode.datasets.sleep_physionet.SleepPhysionet at 0x7f5d14178910>"
            ]
          },
          "execution_count": 4,
          "metadata": {},
          "output_type": "execute_result"
        }
      ],
      "source": [
        "from braindecode.datautil.preprocess import preprocess, Preprocessor\n",
        "\n",
        "high_cut_hz = 30\n",
        "\n",
        "preprocessors = [\n",
        "    Preprocessor(lambda x: x * 1e6),\n",
        "    Preprocessor('filter', l_freq=None, h_freq=high_cut_hz, n_jobs=n_jobs)\n",
        "]\n",
        "\n",
        "# Transform the data\n",
        "preprocess(dataset, preprocessors)"
      ]
    },
    {
      "cell_type": "markdown",
      "metadata": {},
      "source": [
        "### Extracting windows\n",
        "\n",
        "\n"
      ]
    },
    {
      "cell_type": "markdown",
      "metadata": {},
      "source": [
        "We extract 30-s windows to be used in both the pretext and downstream tasks.\n",
        "As RP (and SSL in general) don't require labelled data, the pretext task\n",
        "could be performed using unlabelled windows extracted with\n",
        ":func:`braindecode.datautil.windower.create_fixed_length_window`.\n",
        "Here however, purely for convenience, we directly extract labelled windows so\n",
        "that we can reuse them in the sleep staging downstream task later.\n",
        "\n",
        "\n"
      ]
    },
    {
      "cell_type": "code",
      "execution_count": 5,
      "metadata": {
        "collapsed": false
      },
      "outputs": [
        {
          "name": "stdout",
          "output_type": "stream",
          "text": [
            "Used Annotations descriptions: ['Sleep stage 1', 'Sleep stage 2', 'Sleep stage 3', 'Sleep stage 4', 'Sleep stage R', 'Sleep stage W']\n",
            "Adding metadata with 4 columns\n",
            "Replacing existing metadata with 4 columns\n",
            "837 matching events found\n",
            "No baseline correction applied\n",
            "0 projection items activated\n",
            "Loading data for 837 events and 3000 original time points ...\n"
          ]
        },
        {
          "name": "stderr",
          "output_type": "stream",
          "text": [
            "/home/maligan/Documents/VU/Year_2/M.Sc._Thesis_[X_400285]/my_thesis/code/braindecode_ssl_thesis/braindecode/braindecode/datautil/windowers.py:4: UserWarning: datautil.windowers module is deprecated and is now under preprocessing.windowers, please use from import braindecode.preprocessing.windowers\n",
            "  warn('datautil.windowers module is deprecated and is now under '\n"
          ]
        },
        {
          "name": "stdout",
          "output_type": "stream",
          "text": [
            "0 bad epochs dropped\n",
            "Used Annotations descriptions: ['Sleep stage 1', 'Sleep stage 2', 'Sleep stage 3', 'Sleep stage 4', 'Sleep stage R', 'Sleep stage W']\n",
            "Adding metadata with 4 columns\n",
            "Replacing existing metadata with 4 columns\n",
            "1088 matching events found\n",
            "No baseline correction applied\n",
            "0 projection items activated\n",
            "Loading data for 1088 events and 3000 original time points ...\n",
            "0 bad epochs dropped\n",
            "Used Annotations descriptions: ['Sleep stage 1', 'Sleep stage 2', 'Sleep stage 3', 'Sleep stage 4', 'Sleep stage R', 'Sleep stage W']\n",
            "Adding metadata with 4 columns\n",
            "Replacing existing metadata with 4 columns\n",
            "1021 matching events found\n",
            "No baseline correction applied\n",
            "0 projection items activated\n",
            "Loading data for 1021 events and 3000 original time points ...\n",
            "0 bad epochs dropped\n"
          ]
        }
      ],
      "source": [
        "from braindecode.datautil.windowers import create_windows_from_events\n",
        "\n",
        "window_size_s = 30\n",
        "sfreq = 100\n",
        "window_size_samples = window_size_s * sfreq\n",
        "\n",
        "mapping = {  # We merge stages 3 and 4 following AASM standards.\n",
        "    'Sleep stage W': 0,\n",
        "    'Sleep stage 1': 1,\n",
        "    'Sleep stage 2': 2,\n",
        "    'Sleep stage 3': 3,\n",
        "    'Sleep stage 4': 3,\n",
        "    'Sleep stage R': 4\n",
        "}\n",
        "\n",
        "windows_dataset = create_windows_from_events(\n",
        "    dataset, trial_start_offset_samples=0, trial_stop_offset_samples=0,\n",
        "    window_size_samples=window_size_samples,\n",
        "    window_stride_samples=window_size_samples, preload=True, mapping=mapping)"
      ]
    },
    {
      "cell_type": "markdown",
      "metadata": {},
      "source": [
        "### Preprocessing windows\n",
        "\n",
        "\n"
      ]
    },
    {
      "cell_type": "markdown",
      "metadata": {},
      "source": [
        "We also preprocess the windows by applying channel-wise z-score normalization.\n",
        "\n",
        "\n"
      ]
    },
    {
      "cell_type": "code",
      "execution_count": 6,
      "metadata": {
        "collapsed": false
      },
      "outputs": [
        {
          "name": "stderr",
          "output_type": "stream",
          "text": [
            "/home/maligan/.local/lib/python3.8/site-packages/sklearn/utils/deprecation.py:87: FutureWarning: Function zscore is deprecated; will be removed in 0.7.0. Use sklearn.preprocessing.scale instead.\n",
            "  warnings.warn(msg, category=FutureWarning)\n"
          ]
        },
        {
          "data": {
            "text/plain": [
              "<braindecode.datasets.base.BaseConcatDataset at 0x7f5d15f47ca0>"
            ]
          },
          "execution_count": 6,
          "metadata": {},
          "output_type": "execute_result"
        }
      ],
      "source": [
        "from braindecode.datautil.preprocess import zscore\n",
        "\n",
        "preprocess(windows_dataset, [Preprocessor(zscore)])"
      ]
    },
    {
      "cell_type": "markdown",
      "metadata": {},
      "source": [
        "### Splitting dataset into train, valid and test sets\n",
        "\n",
        "\n"
      ]
    },
    {
      "cell_type": "markdown",
      "metadata": {},
      "source": [
        "We randomly split the recordings by subject into train, validation and\n",
        "testing sets. We further define a new Dataset class which can receive a pair\n",
        "of indices and return the corresponding windows. This will be needed when\n",
        "training and evaluating on the pretext task.\n",
        "\n",
        "\n"
      ]
    },
    {
      "cell_type": "code",
      "execution_count": 7,
      "metadata": {
        "collapsed": false
      },
      "outputs": [],
      "source": [
        "import numpy as np\n",
        "from sklearn.model_selection import train_test_split\n",
        "from braindecode.datasets import BaseConcatDataset\n",
        "\n",
        "subjects = np.unique(windows_dataset.description['subject'])\n",
        "subj_train, subj_test = train_test_split(\n",
        "    subjects, test_size=0.4, random_state=random_state)\n",
        "subj_valid, subj_test = train_test_split(\n",
        "    subj_test, test_size=0.5, random_state=random_state)\n",
        "\n",
        "\n",
        "class RelativePositioningDataset(BaseConcatDataset):\n",
        "    \"\"\"BaseConcatDataset with __getitem__ that expects 2 indices and a target.\n",
        "    \"\"\"\n",
        "    def __init__(self, list_of_ds):\n",
        "        super().__init__(list_of_ds)\n",
        "        self.return_pair = True\n",
        "\n",
        "    def __getitem__(self, index):\n",
        "        if self.return_pair:\n",
        "            ind1, ind2, y = index\n",
        "            return (super().__getitem__(ind1)[0],\n",
        "                    super().__getitem__(ind2)[0]), y\n",
        "        else:\n",
        "            return super().__getitem__(index)\n",
        "\n",
        "    @property\n",
        "    def return_pair(self):\n",
        "        return self._return_pair\n",
        "\n",
        "    @return_pair.setter\n",
        "    def return_pair(self, value):\n",
        "        self._return_pair = value\n",
        "\n",
        "\n",
        "split_ids = {'train': subj_train, 'valid': subj_valid, 'test': subj_test}\n",
        "splitted = dict()\n",
        "for name, values in split_ids.items():\n",
        "    splitted[name] = RelativePositioningDataset(\n",
        "        [ds for ds in windows_dataset.datasets\n",
        "         if ds.description['subject'] in values])"
      ]
    },
    {
      "cell_type": "markdown",
      "metadata": {},
      "source": [
        "### Creating samplers\n",
        "\n",
        "\n"
      ]
    },
    {
      "cell_type": "markdown",
      "metadata": {},
      "source": [
        "Next, we need to create samplers. These samplers will be used to randomly\n",
        "sample pairs of examples to train and validate our model with\n",
        "self-supervision.\n",
        "\n",
        "The RP samplers have two main hyperparameters. `tau_pos` and `tau_neg`\n",
        "control the size of the \"positive\" and \"negative\" contexts, respectively.\n",
        "Pairs of windows that are separated by less than `tau_pos` samples will be\n",
        "given a label of `1`, while pairs of windows that are separated by more than\n",
        "`tau_neg` samples will be given a label of `0`. Here, we use the same values\n",
        "as in [1]_, i.e., `tau_pos`= 1 min and `tau_neg`= 15 mins.\n",
        "\n",
        "The samplers also control the number of pairs to be sampled (defined with\n",
        "`n_examples`). This number can be large to help regularize the pretext task\n",
        "training, for instance 2,000 pairs per recording as in [1]_. Here, we use a\n",
        "lower number of 250 pairs per recording to reduce training time.\n",
        "\n",
        "\n"
      ]
    },
    {
      "cell_type": "code",
      "execution_count": 8,
      "metadata": {
        "collapsed": false
      },
      "outputs": [],
      "source": [
        "from braindecode.samplers.ssl import RelativePositioningSampler\n",
        "\n",
        "tau_pos, tau_neg = int(sfreq * 60), int(sfreq * 15 * 60)\n",
        "n_examples_train = 250 * len(splitted['train'].datasets)\n",
        "n_examples_valid = 250 * len(splitted['valid'].datasets)\n",
        "n_examples_test = 250 * len(splitted['test'].datasets)\n",
        "\n",
        "train_sampler = RelativePositioningSampler(\n",
        "    splitted['train'].get_metadata(), tau_pos=tau_pos, tau_neg=tau_neg,\n",
        "    n_examples=n_examples_train, same_rec_neg=True, random_state=random_state)\n",
        "valid_sampler = RelativePositioningSampler(\n",
        "    splitted['valid'].get_metadata(), tau_pos=tau_pos, tau_neg=tau_neg,\n",
        "    n_examples=n_examples_valid, same_rec_neg=True,\n",
        "    random_state=random_state).presample()\n",
        "test_sampler = RelativePositioningSampler(\n",
        "    splitted['test'].get_metadata(), tau_pos=tau_pos, tau_neg=tau_neg,\n",
        "    n_examples=n_examples_test, same_rec_neg=True,\n",
        "    random_state=random_state).presample()"
      ]
    },
    {
      "cell_type": "markdown",
      "metadata": {},
      "source": [
        "## Creating the model\n",
        "\n",
        "\n"
      ]
    },
    {
      "cell_type": "markdown",
      "metadata": {},
      "source": [
        "We can now create the deep learning model. In this tutorial, we use a\n",
        "modified version of the sleep staging architecture introduced in [4]_ -\n",
        "a four-layer convolutional neural network - as our embedder.\n",
        "We change the dimensionality of the last layer to obtain a 100-dimension\n",
        "embedding, use 16 convolutional channels instead of 8, and add batch\n",
        "normalization after both temporal convolution layers.\n",
        "\n",
        "We further wrap the model into a siamese architecture using the\n",
        "# :class:`ContrastiveNet` class defined below. This allows us to train the\n",
        "feature extractor end-to-end.\n",
        "\n",
        "\n"
      ]
    },
    {
      "cell_type": "code",
      "execution_count": 9,
      "metadata": {
        "collapsed": false
      },
      "outputs": [
        {
          "name": "stderr",
          "output_type": "stream",
          "text": [
            "/home/maligan/.local/lib/python3.8/site-packages/torch/nn/functional.py:718: UserWarning: Named tensors and all their associated APIs are an experimental feature and subject to change. Please do not use them for anything important until they are released as stable. (Triggered internally at  /pytorch/c10/core/TensorImpl.h:1156.)\n",
            "  return torch.max_pool2d(input, kernel_size, stride, padding, dilation, ceil_mode)\n"
          ]
        }
      ],
      "source": [
        "import torch\n",
        "from torch import nn\n",
        "from braindecode.util import set_random_seeds\n",
        "from braindecode.models import SleepStagerChambon2018\n",
        "\n",
        "device = 'cuda' if torch.cuda.is_available() else 'cpu'\n",
        "if device == 'cuda':\n",
        "    torch.backends.cudnn.benchmark = True\n",
        "# Set random seed to be able to reproduce results\n",
        "set_random_seeds(seed=random_state, cuda=device == 'cuda')\n",
        "\n",
        "# Extract number of channels and time steps from dataset\n",
        "n_channels, input_size_samples = windows_dataset[0][0].shape\n",
        "emb_size = 100\n",
        "\n",
        "emb = SleepStagerChambon2018(\n",
        "    n_channels,\n",
        "    sfreq,\n",
        "    n_classes=emb_size,\n",
        "    n_conv_chs=16,\n",
        "    input_size_s=input_size_samples / sfreq,\n",
        "    dropout=0,\n",
        "    apply_batch_norm=True\n",
        ")\n",
        "\n",
        "\n",
        "class ContrastiveNet(nn.Module):\n",
        "    \"\"\"Contrastive module with linear layer on top of siamese embedder.\n",
        "\n",
        "    Parameters\n",
        "    ----------\n",
        "    emb : nn.Module\n",
        "        Embedder architecture.\n",
        "    emb_size : int\n",
        "        Output size of the embedder.\n",
        "    dropout : float\n",
        "        Dropout rate applied to the linear layer of the contrastive module.\n",
        "    \"\"\"\n",
        "    def __init__(self, emb, emb_size, dropout=0.5):\n",
        "        super().__init__()\n",
        "        self.emb = emb\n",
        "        self.clf = nn.Sequential(\n",
        "            nn.Dropout(dropout),\n",
        "            nn.Linear(emb_size, 1)\n",
        "        )\n",
        "\n",
        "    def forward(self, x):\n",
        "        x1, x2 = x\n",
        "        z1, z2 = self.emb(x1), self.emb(x2)\n",
        "        return self.clf(torch.abs(z1 - z2)).flatten()\n",
        "\n",
        "\n",
        "model = ContrastiveNet(emb, emb_size).to(device)"
      ]
    },
    {
      "cell_type": "markdown",
      "metadata": {},
      "source": [
        "## Training\n",
        "\n",
        "\n"
      ]
    },
    {
      "cell_type": "markdown",
      "metadata": {},
      "source": [
        "We can now train our network on the pretext task. We use similar\n",
        "hyperparameters as in [1]_, but reduce the number of epochs and increase the\n",
        "learning rate to account for the smaller setting of this example.\n",
        "\n",
        "\n"
      ]
    },
    {
      "cell_type": "code",
      "execution_count": 10,
      "metadata": {
        "collapsed": false
      },
      "outputs": [
        {
          "name": "stdout",
          "output_type": "stream",
          "text": [
            "  epoch    train_acc    train_loss    valid_acc    valid_loss    cp     dur\n",
            "-------  -----------  ------------  -----------  ------------  ----  ------\n",
            "      1       \u001b[36m0.5520\u001b[0m        \u001b[32m0.7133\u001b[0m       \u001b[35m0.6040\u001b[0m        \u001b[31m0.6831\u001b[0m     +  3.7287\n",
            "      2       \u001b[36m0.5920\u001b[0m        \u001b[32m0.6791\u001b[0m       0.5720        \u001b[31m0.6326\u001b[0m     +  3.4029\n",
            "      3       0.5160        0.8718       \u001b[35m0.6880\u001b[0m        0.6443        3.2616\n",
            "      4       0.5320        0.6846       0.5560        0.6835        3.1319\n",
            "      5       0.5600        0.7039       0.6200        0.6580        3.5585\n",
            "      6       \u001b[36m0.6400\u001b[0m        \u001b[32m0.6484\u001b[0m       \u001b[35m0.7040\u001b[0m        \u001b[31m0.6151\u001b[0m     +  3.1900\n",
            "      7       0.6080        \u001b[32m0.6468\u001b[0m       0.6760        \u001b[31m0.5911\u001b[0m     +  3.1830\n",
            "      8       0.6320        \u001b[32m0.5977\u001b[0m       0.6720        \u001b[31m0.5820\u001b[0m     +  3.1004\n",
            "      9       0.6000        0.6489       \u001b[35m0.7240\u001b[0m        \u001b[31m0.5779\u001b[0m     +  3.2821\n",
            "     10       \u001b[36m0.6640\u001b[0m        0.6190       0.7120        0.5808        3.2398\n",
            "     11       \u001b[36m0.6960\u001b[0m        \u001b[32m0.5652\u001b[0m       0.7080        0.5797        3.2230\n",
            "     12       0.6440        0.6365       0.7040        \u001b[31m0.5691\u001b[0m     +  3.4261\n",
            "     13       0.6920        0.5711       0.7000        \u001b[31m0.5605\u001b[0m     +  3.4491\n",
            "     14       \u001b[36m0.7000\u001b[0m        0.5731       0.7080        \u001b[31m0.5547\u001b[0m     +  3.2532\n",
            "     15       \u001b[36m0.7280\u001b[0m        \u001b[32m0.5528\u001b[0m       0.7000        \u001b[31m0.5492\u001b[0m     +  3.0754\n",
            "     16       0.6600        0.5781       0.7080        \u001b[31m0.5466\u001b[0m     +  3.3488\n",
            "     17       0.6800        0.5805       0.7200        0.5473        3.4427\n",
            "     18       0.7120        0.5565       0.7240        \u001b[31m0.5446\u001b[0m     +  3.5016\n",
            "     19       0.7080        0.5677       0.7240        \u001b[31m0.5390\u001b[0m     +  3.2950\n",
            "     20       0.7040        0.5832       \u001b[35m0.7280\u001b[0m        \u001b[31m0.5283\u001b[0m     +  3.2176\n",
            "     21       \u001b[36m0.7520\u001b[0m        \u001b[32m0.5218\u001b[0m       \u001b[35m0.7440\u001b[0m        \u001b[31m0.5249\u001b[0m     +  3.1932\n",
            "     22       0.7160        0.5544       0.7440        0.5264        3.2986\n",
            "     23       0.7120        0.5457       \u001b[35m0.7480\u001b[0m        \u001b[31m0.5247\u001b[0m     +  3.3893\n",
            "     24       \u001b[36m0.7560\u001b[0m        0.5738       \u001b[35m0.7520\u001b[0m        \u001b[31m0.5184\u001b[0m     +  3.1664\n",
            "     25       0.7160        0.5389       \u001b[35m0.7560\u001b[0m        \u001b[31m0.5086\u001b[0m     +  3.1284\n"
          ]
        }
      ],
      "source": [
        "import os\n",
        "\n",
        "from skorch.helper import predefined_split\n",
        "from skorch.callbacks import Checkpoint, EarlyStopping, EpochScoring\n",
        "from braindecode import EEGClassifier\n",
        "\n",
        "lr = 5e-3\n",
        "batch_size = 512\n",
        "n_epochs = 25\n",
        "num_workers = 0 if n_jobs <= 1 else n_jobs\n",
        "\n",
        "cp = Checkpoint(dirname='', f_criterion=None, f_optimizer=None, f_history=None)\n",
        "early_stopping = EarlyStopping(patience=10)\n",
        "train_acc = EpochScoring(\n",
        "    scoring='accuracy', on_train=True, name='train_acc', lower_is_better=False)\n",
        "valid_acc = EpochScoring(\n",
        "    scoring='accuracy', on_train=False, name='valid_acc',\n",
        "    lower_is_better=False)\n",
        "callbacks = [\n",
        "    ('cp', cp),\n",
        "    ('patience', early_stopping),\n",
        "    ('train_acc', train_acc),\n",
        "    ('valid_acc', valid_acc)\n",
        "]\n",
        "\n",
        "clf = EEGClassifier(\n",
        "    model,\n",
        "    criterion=torch.nn.BCEWithLogitsLoss,\n",
        "    optimizer=torch.optim.Adam,\n",
        "    max_epochs=n_epochs,\n",
        "    iterator_train__shuffle=False,\n",
        "    iterator_train__sampler=train_sampler,\n",
        "    iterator_valid__sampler=valid_sampler,\n",
        "    iterator_train__num_workers=num_workers,\n",
        "    iterator_valid__num_workers=num_workers,\n",
        "    train_split=predefined_split(splitted['valid']),\n",
        "    optimizer__lr=lr,\n",
        "    batch_size=batch_size,\n",
        "    callbacks=callbacks,\n",
        "    device=device\n",
        ")\n",
        "# Model training for a specified number of epochs. `y` is None as it is already\n",
        "# supplied in the dataset.\n",
        "clf.fit(splitted['train'], y=None)\n",
        "clf.load_params(checkpoint=cp)  # Load the model with the lowest valid_loss\n",
        "\n",
        "os.remove('./params.pt')  # Delete parameters file"
      ]
    },
    {
      "cell_type": "markdown",
      "metadata": {},
      "source": [
        "## Visualizing the results\n",
        "\n",
        "\n"
      ]
    },
    {
      "cell_type": "markdown",
      "metadata": {},
      "source": [
        "### Inspecting pretext task performance\n",
        "\n",
        "\n"
      ]
    },
    {
      "cell_type": "markdown",
      "metadata": {},
      "source": [
        "We plot the loss and pretext task performance for the training and validation\n",
        "sets.\n",
        "\n",
        "\n"
      ]
    },
    {
      "cell_type": "code",
      "execution_count": 11,
      "metadata": {
        "collapsed": false
      },
      "outputs": [
        {
          "data": {
            "image/png": "[encoded data removed]",
            "text/plain": [
              "<Figure size 576x216 with 2 Axes>"
            ]
          },
          "metadata": {},
          "output_type": "display_data"
        }
      ],
      "source": [
        "import matplotlib.pyplot as plt\n",
        "from matplotlib.lines import Line2D\n",
        "import pandas as pd\n",
        "\n",
        "# Extract loss and balanced accuracy values for plotting from history object\n",
        "df = pd.DataFrame(clf.history.to_list())\n",
        "\n",
        "df['train_acc'] *= 100\n",
        "df['valid_acc'] *= 100\n",
        "\n",
        "ys1 = ['train_loss', 'valid_loss']\n",
        "ys2 = ['train_acc', 'valid_acc']\n",
        "styles = ['-', ':']\n",
        "markers = ['.', '.']\n",
        "\n",
        "plt.style.use('seaborn-talk')\n",
        "\n",
        "fig, ax1 = plt.subplots(figsize=(8, 3))\n",
        "ax2 = ax1.twinx()\n",
        "for y1, y2, style, marker in zip(ys1, ys2, styles, markers):\n",
        "    ax1.plot(df['epoch'], df[y1], ls=style, marker=marker, ms=7,\n",
        "             c='tab:blue', label=y1)\n",
        "    ax2.plot(df['epoch'], df[y2], ls=style, marker=marker, ms=7,\n",
        "             c='tab:orange', label=y2)\n",
        "\n",
        "ax1.tick_params(axis='y', labelcolor='tab:blue')\n",
        "ax1.set_ylabel('Loss', color='tab:blue')\n",
        "ax2.tick_params(axis='y', labelcolor='tab:orange')\n",
        "ax2.set_ylabel('Accuracy [%]', color='tab:orange')\n",
        "ax1.set_xlabel('Epoch')\n",
        "\n",
        "lines1, labels1 = ax1.get_legend_handles_labels()\n",
        "lines2, labels2 = ax2.get_legend_handles_labels()\n",
        "ax2.legend(lines1 + lines2, labels1 + labels2)\n",
        "\n",
        "plt.tight_layout()"
      ]
    },
    {
      "cell_type": "markdown",
      "metadata": {},
      "source": [
        "We also display the confusion matrix and classification report for the\n",
        "pretext task:\n",
        "\n",
        "\n"
      ]
    },
    {
      "cell_type": "code",
      "execution_count": 12,
      "metadata": {
        "collapsed": false
      },
      "outputs": [
        {
          "name": "stdout",
          "output_type": "stream",
          "text": [
            "[[ 75  46]\n",
            " [ 29 100]]\n",
            "              precision    recall  f1-score   support\n",
            "\n",
            "         0.0       0.72      0.62      0.67       121\n",
            "         1.0       0.68      0.78      0.73       129\n",
            "\n",
            "    accuracy                           0.70       250\n",
            "   macro avg       0.70      0.70      0.70       250\n",
            "weighted avg       0.70      0.70      0.70       250\n",
            "\n"
          ]
        }
      ],
      "source": [
        "from sklearn.metrics import confusion_matrix\n",
        "from sklearn.metrics import classification_report\n",
        "\n",
        "# Switch to the test sampler\n",
        "clf.iterator_valid__sampler = test_sampler\n",
        "y_pred = clf.forward(splitted['test'], training=False) > 0\n",
        "y_true = [y for _, _, y in test_sampler]\n",
        "\n",
        "print(confusion_matrix(y_true, y_pred))\n",
        "print(classification_report(y_true, y_pred))"
      ]
    },
    {
      "cell_type": "markdown",
      "metadata": {},
      "source": [
        "### Using the learned representation for sleep staging\n",
        "\n",
        "\n"
      ]
    },
    {
      "cell_type": "markdown",
      "metadata": {},
      "source": [
        "We can now use the trained convolutional neural network as a feature\n",
        "extractor. We perform sleep stage classification from the learned feature\n",
        "representation using a linear logistic regression classifier.\n",
        "\n",
        "\n"
      ]
    },
    {
      "cell_type": "code",
      "execution_count": 13,
      "metadata": {
        "collapsed": false
      },
      "outputs": [
        {
          "name": "stdout",
          "output_type": "stream",
          "text": [
            "Sleep staging performance with logistic regression:\n",
            "Train bal acc: 0.9297\n",
            "Valid bal acc: 0.5477\n",
            "Test bal acc: 0.5149\n",
            "Results on test set:\n",
            "[[102  28   4   0   8]\n",
            " [ 16  52   9   0  32]\n",
            " [  1  35 317   1 208]\n",
            " [  0   0  88  17   0]\n",
            " [  3  21  35   0 111]]\n",
            "              precision    recall  f1-score   support\n",
            "\n",
            "           0       0.84      0.72      0.77       142\n",
            "           1       0.38      0.48      0.42       109\n",
            "           2       0.70      0.56      0.62       562\n",
            "           3       0.94      0.16      0.28       105\n",
            "           4       0.31      0.65      0.42       170\n",
            "\n",
            "    accuracy                           0.55      1088\n",
            "   macro avg       0.63      0.51      0.50      1088\n",
            "weighted avg       0.65      0.55      0.56      1088\n",
            "\n"
          ]
        },
        {
          "name": "stderr",
          "output_type": "stream",
          "text": [
            "/home/maligan/.local/lib/python3.8/site-packages/sklearn/linear_model/_logistic.py:814: ConvergenceWarning: lbfgs failed to converge (status=1):\n",
            "STOP: TOTAL NO. of ITERATIONS REACHED LIMIT.\n",
            "\n",
            "Increase the number of iterations (max_iter) or scale the data as shown in:\n",
            "    https://scikit-learn.org/stable/modules/preprocessing.html\n",
            "Please also refer to the documentation for alternative solver options:\n",
            "    https://scikit-learn.org/stable/modules/linear_model.html#logistic-regression\n",
            "  n_iter_i = _check_optimize_result(\n"
          ]
        }
      ],
      "source": [
        "from torch.utils.data import DataLoader\n",
        "from sklearn.metrics import balanced_accuracy_score\n",
        "from sklearn.linear_model import LogisticRegression\n",
        "from sklearn.preprocessing import StandardScaler\n",
        "from sklearn.pipeline import make_pipeline\n",
        "\n",
        "# Extract features with the trained embedder\n",
        "data = dict()\n",
        "for name, split in splitted.items():\n",
        "    split.return_pair = False  # Return single windows\n",
        "    loader = DataLoader(split, batch_size=batch_size, num_workers=num_workers)\n",
        "    with torch.no_grad():\n",
        "        feats = [emb(batch_x.to(device)).cpu().numpy()\n",
        "                 for batch_x, _, _ in loader]\n",
        "    data[name] = (np.concatenate(feats), split.get_metadata()['target'].values)\n",
        "\n",
        "# Initialize the logistic regression model\n",
        "log_reg = LogisticRegression(\n",
        "    penalty='l2', C=1.0, class_weight='balanced', solver='lbfgs',\n",
        "    multi_class='multinomial', random_state=random_state)\n",
        "clf_pipe = make_pipeline(StandardScaler(), log_reg)\n",
        "\n",
        "# Fit and score the logistic regression\n",
        "clf_pipe.fit(*data['train'])\n",
        "train_y_pred = clf_pipe.predict(data['train'][0])\n",
        "valid_y_pred = clf_pipe.predict(data['valid'][0])\n",
        "test_y_pred = clf_pipe.predict(data['test'][0])\n",
        "\n",
        "train_bal_acc = balanced_accuracy_score(data['train'][1], train_y_pred)\n",
        "valid_bal_acc = balanced_accuracy_score(data['valid'][1], valid_y_pred)\n",
        "test_bal_acc = balanced_accuracy_score(data['test'][1], test_y_pred)\n",
        "\n",
        "print('Sleep staging performance with logistic regression:')\n",
        "print(f'Train bal acc: {train_bal_acc:0.4f}')\n",
        "print(f'Valid bal acc: {valid_bal_acc:0.4f}')\n",
        "print(f'Test bal acc: {test_bal_acc:0.4f}')\n",
        "\n",
        "print('Results on test set:')\n",
        "print(confusion_matrix(data['test'][1], test_y_pred))\n",
        "print(classification_report(data['test'][1], test_y_pred))"
      ]
    },
    {
      "cell_type": "markdown",
      "metadata": {},
      "source": [
        "The balanced accuracy is much higher than chance-level (i.e., 20% for our\n",
        "5-class classification problem). Finally, we perform a quick 2D visualization\n",
        "of the feature space using a PCA:\n",
        "\n",
        "\n"
      ]
    },
    {
      "cell_type": "code",
      "execution_count": 29,
      "metadata": {},
      "outputs": [
        {
          "name": "stderr",
          "output_type": "stream",
          "text": [
            "/home/maligan/.local/lib/python3.8/site-packages/sklearn/manifold/_t_sne.py:780: FutureWarning: The default initialization in TSNE will change from 'random' to 'pca' in 1.2.\n",
            "  warnings.warn(\n",
            "/home/maligan/.local/lib/python3.8/site-packages/sklearn/manifold/_t_sne.py:790: FutureWarning: The default learning rate in TSNE will change from 200.0 to 'auto' in 1.2.\n",
            "  warnings.warn(\n"
          ]
        }
      ],
      "source": [
        "# PCA, TSNE, UMAP plot visualizations\n",
        "\n",
        "from sklearn.decomposition import PCA\n",
        "from sklearn.manifold import TSNE\n",
        "from matplotlib import cm\n",
        "import umap.umap_ as umap\n",
        "\n",
        "X = np.concatenate([v[0] for k, v in data.items()])\n",
        "y = np.concatenate([v[1] for k, v in data.items()])\n",
        "\n",
        "pca = PCA(n_components=2)\n",
        "tsne = TSNE(n_components=2)\n",
        "_umap = umap.UMAP(n_neighbors=15)\n",
        "\n",
        "pca_components = pca.fit_transform(X)\n",
        "tsne_components = tsne.fit_transform(X)\n",
        "umap_components = _umap.fit_transform(X)\n",
        "\n",
        "components = [pca_components, tsne_components, umap_components]\n",
        "components_titles = ['PCA', 'TSNE', 'UMAP']\n",
        "\n",
        "fig, ax = plt.subplots(3, figsize=(15,30))\n",
        "for component_i, component_plot in enumerate(components):\n",
        "    colors = cm.get_cmap('viridis', 5)(range(5))\n",
        "    for i, stage in enumerate(['W', 'N1', 'N2', 'N3', 'R']):\n",
        "        mask = y == i\n",
        "        ax[component_i].scatter(component_plot[mask, 0], component_plot[mask, 1], s=10, alpha=0.7,\n",
        "                color=colors[i], label=stage)\n",
        "    ax[component_i].legend()\n",
        "    \n",
        "    ax[component_i].set_title(components_titles[component_i])"
      ]
    },
    {
      "cell_type": "markdown",
      "metadata": {},
      "source": [
        "We see that there is sleep stage-related structure in the embedding. A\n",
        "nonlinear projection method (e.g., tSNE, UMAP) might yield more insightful\n",
        "visualizations. Using a similar approach, the embedding space could also be\n",
        "explored with respect to subject-level features, e.g., age and sex.\n",
        "\n",
        "\n"
      ]
    },
    {
      "cell_type": "markdown",
      "metadata": {},
      "source": [
        "## Conclusion\n",
        "\n",
        "\n"
      ]
    },
    {
      "cell_type": "markdown",
      "metadata": {},
      "source": [
        "In this example, we used self-supervised learning (SSL) as a way to learn\n",
        "representations from unlabelled raw EEG data. Specifically, we used the\n",
        "relative positioning (RP) pretext task to train a feature extractor on a\n",
        "subset of the Sleep Physionet dataset. We then reused these features in a\n",
        "downstream sleep staging task. We achieved reasonable downstream performance\n",
        "and further showed with a 2D projection that the learned embedding space\n",
        "contained sleep-related structure.\n",
        "\n",
        "Many avenues could be taken to improve on these results. For instance, using\n",
        "the entire Sleep Physionet dataset or training on larger datasets should help\n",
        "the feature extractor learn better representations during the pretext task.\n",
        "Other SSL tasks such as those described in [1]_ could further help discover\n",
        "more powerful features.\n",
        "\n",
        "\n",
        "## References\n",
        "\n",
        ".. [1] Banville, H., Chehab, O., Hyvärinen, A., Engemann, D. A., & Gramfort, A.\n",
        "      (2020). Uncovering the structure of clinical EEG signals with\n",
        "      self-supervised learning. arXiv preprint arXiv:2007.16104.\n",
        "\n",
        ".. [2] Kemp, B., Zwinderman, A. H., Tuk, B., Kamphuisen, H. A., & Oberye, J. J.\n",
        "       (2000). Analysis of a sleep-dependent neuronal feedback loop: the\n",
        "       slow-wave microcontinuity of the EEG. IEEE Transactions on Biomedical\n",
        "       Engineering, 47(9), 1185-1194.\n",
        "\n",
        ".. [3] Goldberger, A. L., Amaral, L. A., Glass, L., Hausdorff, J. M., Ivanov,\n",
        "       P. C., Mark, R. G., ... & Stanley, H. E. (2000). PhysioBank,\n",
        "       PhysioToolkit, and PhysioNet: components of a new research resource for\n",
        "       complex physiologic signals. circulation, 101(23), e215-e220.\n",
        "\n",
        ".. [4] Chambon, S., Galtier, M., Arnal, P., Wainrib, G. and Gramfort, A.\n",
        "      (2018)A Deep Learning Architecture for Temporal Sleep Stage\n",
        "      Classification Using Multivariate and Multimodal Time Series.\n",
        "      IEEE Trans. on Neural Systems and Rehabilitation Engineering 26:\n",
        "      (758-769)\n",
        "\n",
        "\n"
      ]
    }
  ],
  "metadata": {
    "interpreter": {
      "hash": "31f2aee4e71d21fbe5cf8b01ff0e069b9275f58929596ceb00d14d90e3e16cd6"
    },
    "kernelspec": {
      "display_name": "Python 3.8.10 64-bit",
      "name": "python3"
    },
    "language_info": {
      "codemirror_mode": {
        "name": "ipython",
        "version": 3
      },
      "file_extension": ".py",
      "mimetype": "text/x-python",
      "name": "python",
      "nbconvert_exporter": "python",
      "pygments_lexer": "ipython3",
      "version": "3.8.10"
    }
  },
  "nbformat": 4,
  "nbformat_minor": 0
}
