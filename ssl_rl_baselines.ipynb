{
 "cells": [
  {
   "cell_type": "code",
   "execution_count": 1,
   "metadata": {},
   "outputs": [
    {
     "name": "stderr",
     "output_type": "stream",
     "text": [
      "/home/maligan/Documents/VU/Year_2/M.Sc._Thesis_[X_400285]/my_thesis/code/ssl_thesis/braindecode/datautil/preprocess.py:10: UserWarning: datautil.preprocess module is deprecated and is now under preprocessing.preprocess, please use from import braindecode.preprocessing.preprocess\n",
      "  warn('datautil.preprocess module is deprecated and is now under '\n"
     ]
    }
   ],
   "source": [
    "# %pip install braindecode mne umap-learn skorch==0.10.0\n",
    "# %pip install umap-learn[plot] pandas matplotlib datashader bokeh holoviews scikit-image colorcet\n",
    "\n",
    "# imports\n",
    "import os\n",
    "import importlib\n",
    "from datetime import datetime\n",
    "import pickle\n",
    "import numpy as np\n",
    "import pandas as pd\n",
    "import matplotlib.pyplot as plt\n",
    "# %matplotlib inline\n",
    "\n",
    "import matplotlib.pyplot as plt\n",
    "from matplotlib.lines import Line2D\n",
    "\n",
    "import mne\n",
    "import torch\n",
    "from torch import nn\n",
    "from torch.utils.data import DataLoader\n",
    "from braindecode.datasets.sleep_physionet import SleepPhysionet\n",
    "from braindecode.datasets import BaseConcatDataset\n",
    "from braindecode.datautil.preprocess import preprocess, Preprocessor\n",
    "from braindecode.preprocessing.windowers import create_windows_from_events\n",
    "from braindecode.util import set_random_seeds\n",
    "from braindecode.models import SleepStagerChambon2018\n",
    "from braindecode import EEGClassifier\n",
    "from braindecode.datautil.preprocess import zscore\n",
    "from braindecode.samplers.ssl import RelativePositioningSampler\n",
    "from braindecode.datasets import (create_from_mne_raw, create_from_mne_epochs)\n",
    "\n",
    "from sklearn.model_selection import train_test_split\n",
    "from skorch.helper import predefined_split\n",
    "from skorch.callbacks import Checkpoint, EarlyStopping, EpochScoring\n",
    "from skorch.utils import to_tensor\n",
    "from sklearn.metrics import confusion_matrix\n",
    "from sklearn.metrics import classification_report\n",
    "from sklearn.metrics import balanced_accuracy_score\n",
    "from sklearn.linear_model import LogisticRegression\n",
    "from sklearn.preprocessing import StandardScaler\n",
    "from sklearn.pipeline import make_pipeline\n",
    "from sklearn.model_selection import train_test_split\n",
    "\n",
    "# visualizations\n",
    "\n",
    "from sklearn.decomposition import PCA\n",
    "from sklearn.manifold import TSNE\n",
    "from sklearn.model_selection import learning_curve\n",
    "from matplotlib import cm\n",
    "import umap.umap_ as umap\n",
    "import umap.plot\n",
    "\n",
    "from umap import UMAP\n",
    "import plotly.express as px\n",
    "\n",
    "# ----\n",
    "\n",
    "\n",
    "# classes\n",
    "from helper_funcs import HelperFuncs as hf\n",
    "from ContrastiveNet import *\n",
    "from RelativePositioningDataset import *\n",
    "from plot import Plot\n",
    "\n",
    "from tqdm import tqdm\n",
    "\n",
    "# Authors: Hubert Banville <hubert.jbanville@gmail.com>\n",
    "#\n",
    "# License: BSD (3-clause)\n",
    "\n",
    "\n",
    "random_state = 87\n",
    "n_jobs = 1\n",
    "batch_size = 256\n",
    "sfreq = 100\n",
    "n_epochs = 25\n",
    "n_classes = 5\n",
    "cv = 5\n",
    "n_epochs = 5\n",
    "lr = 5e-3"
   ]
  },
  {
   "cell_type": "markdown",
   "metadata": {},
   "source": [
    "Loading data, preprocessing, and windowing"
   ]
  },
  {
   "cell_type": "code",
   "execution_count": 2,
   "metadata": {},
   "outputs": [
    {
     "name": "stdout",
     "output_type": "stream",
     "text": [
      "Using default location ~/mne_data for PHYSIONET_SLEEP...\n",
      "Extracting EDF parameters from /home/maligan/mne_data/physionet-sleep-data/SC4001E0-PSG.edf...\n",
      "EDF file detected\n",
      "Setting channel info structure...\n",
      "Creating raw.info structure...\n",
      "Extracting EDF parameters from /home/maligan/mne_data/physionet-sleep-data/SC4011E0-PSG.edf...\n",
      "EDF file detected\n",
      "Setting channel info structure...\n",
      "Creating raw.info structure...\n",
      "Extracting EDF parameters from /home/maligan/mne_data/physionet-sleep-data/SC4021E0-PSG.edf...\n",
      "EDF file detected\n",
      "Setting channel info structure...\n",
      "Creating raw.info structure...\n",
      "Extracting EDF parameters from /home/maligan/mne_data/physionet-sleep-data/SC4031E0-PSG.edf...\n",
      "EDF file detected\n",
      "Setting channel info structure...\n",
      "Creating raw.info structure...\n",
      "Extracting EDF parameters from /home/maligan/mne_data/physionet-sleep-data/SC4041E0-PSG.edf...\n",
      "EDF file detected\n",
      "Setting channel info structure...\n",
      "Creating raw.info structure...\n",
      "Reading 0 ... 2508000  =      0.000 ... 25080.000 secs...\n"
     ]
    },
    {
     "name": "stderr",
     "output_type": "stream",
     "text": [
      "/home/maligan/Documents/VU/Year_2/M.Sc._Thesis_[X_400285]/my_thesis/code/ssl_thesis/braindecode/preprocessing/preprocess.py:52: UserWarning: Preprocessing choices with lambda functions cannot be saved.\n",
      "  warn('Preprocessing choices with lambda functions cannot be saved.')\n"
     ]
    },
    {
     "name": "stdout",
     "output_type": "stream",
     "text": [
      "Filtering raw data in 1 contiguous segment\n",
      "Setting up low-pass filter at 30 Hz\n",
      "\n",
      "FIR filter parameters\n",
      "---------------------\n",
      "Designing a one-pass, zero-phase, non-causal lowpass filter:\n",
      "- Windowed time-domain design (firwin) method\n",
      "- Hamming window with 0.0194 passband ripple and 53 dB stopband attenuation\n",
      "- Upper passband edge: 30.00 Hz\n",
      "- Upper transition bandwidth: 7.50 Hz (-6 dB cutoff frequency: 33.75 Hz)\n",
      "- Filter length: 45 samples (0.450 sec)\n",
      "\n",
      "Reading 0 ... 3261000  =      0.000 ... 32610.000 secs...\n",
      "Filtering raw data in 1 contiguous segment\n",
      "Setting up low-pass filter at 30 Hz\n",
      "\n",
      "FIR filter parameters\n",
      "---------------------\n",
      "Designing a one-pass, zero-phase, non-causal lowpass filter:\n",
      "- Windowed time-domain design (firwin) method\n",
      "- Hamming window with 0.0194 passband ripple and 53 dB stopband attenuation\n",
      "- Upper passband edge: 30.00 Hz\n",
      "- Upper transition bandwidth: 7.50 Hz (-6 dB cutoff frequency: 33.75 Hz)\n",
      "- Filter length: 45 samples (0.450 sec)\n",
      "\n",
      "Reading 0 ... 3060000  =      0.000 ... 30600.000 secs...\n",
      "Filtering raw data in 1 contiguous segment\n",
      "Setting up low-pass filter at 30 Hz\n",
      "\n",
      "FIR filter parameters\n",
      "---------------------\n",
      "Designing a one-pass, zero-phase, non-causal lowpass filter:\n",
      "- Windowed time-domain design (firwin) method\n",
      "- Hamming window with 0.0194 passband ripple and 53 dB stopband attenuation\n",
      "- Upper passband edge: 30.00 Hz\n",
      "- Upper transition bandwidth: 7.50 Hz (-6 dB cutoff frequency: 33.75 Hz)\n",
      "- Filter length: 45 samples (0.450 sec)\n",
      "\n",
      "Reading 0 ... 2850000  =      0.000 ... 28500.000 secs...\n",
      "Filtering raw data in 1 contiguous segment\n",
      "Setting up low-pass filter at 30 Hz\n",
      "\n",
      "FIR filter parameters\n",
      "---------------------\n",
      "Designing a one-pass, zero-phase, non-causal lowpass filter:\n",
      "- Windowed time-domain design (firwin) method\n",
      "- Hamming window with 0.0194 passband ripple and 53 dB stopband attenuation\n",
      "- Upper passband edge: 30.00 Hz\n",
      "- Upper transition bandwidth: 7.50 Hz (-6 dB cutoff frequency: 33.75 Hz)\n",
      "- Filter length: 45 samples (0.450 sec)\n",
      "\n",
      "Reading 0 ... 3705000  =      0.000 ... 37050.000 secs...\n",
      "Filtering raw data in 1 contiguous segment\n",
      "Setting up low-pass filter at 30 Hz\n",
      "\n",
      "FIR filter parameters\n",
      "---------------------\n",
      "Designing a one-pass, zero-phase, non-causal lowpass filter:\n",
      "- Windowed time-domain design (firwin) method\n",
      "- Hamming window with 0.0194 passband ripple and 53 dB stopband attenuation\n",
      "- Upper passband edge: 30.00 Hz\n",
      "- Upper transition bandwidth: 7.50 Hz (-6 dB cutoff frequency: 33.75 Hz)\n",
      "- Filter length: 45 samples (0.450 sec)\n",
      "\n",
      "Used Annotations descriptions: ['Sleep stage 1', 'Sleep stage 2', 'Sleep stage 3', 'Sleep stage 4', 'Sleep stage R', 'Sleep stage W']\n",
      "Adding metadata with 4 columns\n",
      "Replacing existing metadata with 4 columns\n",
      "5017 matching events found\n",
      "No baseline correction applied\n",
      "0 projection items activated\n",
      "Loading data for 5017 events and 500 original time points ...\n",
      "0 bad epochs dropped\n",
      "Used Annotations descriptions: ['Sleep stage 1', 'Sleep stage 2', 'Sleep stage 3', 'Sleep stage 4', 'Sleep stage R', 'Sleep stage W']\n",
      "Adding metadata with 4 columns\n",
      "Replacing existing metadata with 4 columns\n",
      "6523 matching events found\n",
      "No baseline correction applied\n",
      "0 projection items activated\n",
      "Loading data for 6523 events and 500 original time points ...\n",
      "0 bad epochs dropped\n",
      "Used Annotations descriptions: ['Sleep stage 1', 'Sleep stage 2', 'Sleep stage 3', 'Sleep stage 4', 'Sleep stage R', 'Sleep stage W']\n",
      "Adding metadata with 4 columns\n",
      "Replacing existing metadata with 4 columns\n",
      "6121 matching events found\n",
      "No baseline correction applied\n",
      "0 projection items activated\n",
      "Loading data for 6121 events and 500 original time points ...\n",
      "0 bad epochs dropped\n",
      "Used Annotations descriptions: ['Sleep stage 1', 'Sleep stage 2', 'Sleep stage 3', 'Sleep stage 4', 'Sleep stage R', 'Sleep stage W']\n",
      "Adding metadata with 4 columns\n",
      "Replacing existing metadata with 4 columns\n",
      "5701 matching events found\n",
      "No baseline correction applied\n",
      "0 projection items activated\n",
      "Loading data for 5701 events and 500 original time points ...\n",
      "0 bad epochs dropped\n",
      "Used Annotations descriptions: ['Sleep stage 1', 'Sleep stage 2', 'Sleep stage 3', 'Sleep stage R', 'Sleep stage W']\n",
      "Adding metadata with 4 columns\n",
      "Replacing existing metadata with 4 columns\n",
      "7405 matching events found\n",
      "No baseline correction applied\n",
      "0 projection items activated\n",
      "Loading data for 7405 events and 500 original time points ...\n",
      "0 bad epochs dropped\n"
     ]
    },
    {
     "name": "stderr",
     "output_type": "stream",
     "text": [
      "/home/maligan/.local/lib/python3.8/site-packages/sklearn/utils/deprecation.py:86: FutureWarning: Function zscore is deprecated; will be removed in 0.7.0. Use sklearn.preprocessing.scale instead.\n",
      "  warnings.warn(msg, category=FutureWarning)\n"
     ]
    },
    {
     "data": {
      "text/plain": [
       "<braindecode.datasets.base.BaseConcatDataset at 0x7fb6e71643a0>"
      ]
     },
     "execution_count": 2,
     "metadata": {},
     "output_type": "execute_result"
    }
   ],
   "source": [
    "dataset = SleepPhysionet(\n",
    "    subject_ids=[*range(5)],\n",
    "    recording_ids=[1],\n",
    "    crop_wake_mins=30,\n",
    "    load_eeg_only=True,\n",
    "    sfreq=sfreq\n",
    ")\n",
    "\n",
    "high_cut_hz = 30\n",
    "\n",
    "preprocessors = [\n",
    "    Preprocessor(lambda x: x * 1e6), # convert to microvolts\n",
    "    Preprocessor('filter', l_freq=None, h_freq=high_cut_hz, n_jobs=n_jobs) # high pass filtering\n",
    "]\n",
    "\n",
    "# Transform the data\n",
    "preprocess(dataset, preprocessors)\n",
    "\n",
    "# change to 5 second windows\n",
    "window_size_s = 5\n",
    "sfreq = 100\n",
    "# window_size_samples = window_size_s * sfreq\n",
    "window_size_samples = 500\n",
    "\n",
    "mapping = {  # We merge stages 3 and 4 following AASM standards.\n",
    "    'Sleep stage W': 0,\n",
    "    'Sleep stage 1': 1,\n",
    "    'Sleep stage 2': 2,\n",
    "    'Sleep stage 3': 3,\n",
    "    'Sleep stage 4': 3,\n",
    "    'Sleep stage R': 4\n",
    "}\n",
    "\n",
    "windows_dataset = create_windows_from_events(\n",
    "    dataset, trial_start_offset_samples=0, trial_stop_offset_samples=0,\n",
    "    window_size_samples=window_size_samples,\n",
    "    window_stride_samples=window_size_samples, preload=True, mapping=mapping)\n",
    "\n",
    "preprocess(windows_dataset, [Preprocessor(zscore)])"
   ]
  },
  {
   "cell_type": "code",
   "execution_count": 183,
   "metadata": {},
   "outputs": [],
   "source": [
    "subjects = np.unique(windows_dataset.description['subject'])\n",
    "subj_train, subj_test = train_test_split(\n",
    "    subjects, test_size=0.4, random_state=random_state)\n",
    "subj_valid, subj_test = train_test_split(\n",
    "    subj_test, test_size=0.5, random_state=random_state)\n",
    "\n",
    "\n",
    "split_ids = {'train': subj_train, 'valid': subj_valid, 'test': subj_test}\n",
    "splitted = dict()\n",
    "for name, values in split_ids.items():\n",
    "    splitted[name] = RelativePositioningDataset(\n",
    "        [ds for ds in windows_dataset.datasets\n",
    "         if ds.description['subject'] in values])\n",
    "\n",
    "\n",
    "# obtain X and y data from datasets\n",
    "# nn_set, loader = dict(), dict()\n",
    "# for name, split in splitted.items():\n",
    "#     _set = []\n",
    "#     split.return_pair = False\n",
    "#     for ds in split.datasets:\n",
    "#         for window in ds:\n",
    "#             _set += [window[0:2]]\n",
    "            \n",
    "#     nn_set[name] = _set\n",
    "#     loader[name] = DataLoader(nn_set[name], batch_size=1, num_workers=1, shuffle=True)\n",
    "\n",
    "# dataiter = iter(loader['train'])\n",
    "# train_data, labels = dataiter.next()"
   ]
  },
  {
   "cell_type": "code",
   "execution_count": 184,
   "metadata": {},
   "outputs": [],
   "source": [
    "num_workers = 1\n",
    "batch_size = 256\n",
    "desc = None\n",
    "\n",
    "# fetch pretrained model\n",
    "ssl_model = torch.load(\"models/pretrained/2021_12_16__10_23_49_sleep_staging_5s_windows_83_subjects_cpu_15_epochs_100hz.model\")\n",
    "\n",
    "# Extract features with the trained embedder\n",
    "dataset = []\n",
    "data, raw_data, descriptions = dict(), dict(), dict()\n",
    "for name, split in splitted.items():\n",
    "    split.return_pair = False  # Return single windows\n",
    "    loader = DataLoader(split, batch_size=batch_size, num_workers=num_workers)\n",
    "    with torch.no_grad():\n",
    "        feats = [ssl_model.emb(batch_x.to(device)).cpu().numpy() for batch_x, _, _ in loader]\n",
    "        # make a copy of the vectors WITHOUT passing them through the pretrained model\n",
    "        raw_vectors = [batch_x.to(device).cpu().numpy() for batch_x, _, _ in loader]\n",
    "    # descriptions values according to dataset in use: CHANGE MANUALLY\n",
    "    if desc is not None:\n",
    "        descriptions[name] = split.get_metadata()[desc].values  \n",
    "    data[name] = (np.concatenate(feats), split.get_metadata()['target'].values)\n",
    "    # concatenate channels per window such that you will have 10s windows\n",
    "    raw_data[name] = ([np.concatenate(x.T) for x in np.concatenate(raw_vectors)], split.get_metadata()['target'].values)\n",
    "    # add data and targets to [dataset]\n",
    "    for ds in split.datasets:\n",
    "        for window in ds:\n",
    "            dataset += [window[0:2]]\n",
    "\n",
    "# combine all vectors (X) and labels (y) from DATA sets\n",
    "X = np.concatenate([v[0] for k, v in data.items()])\n",
    "y = np.concatenate([v[1] for k, v in data.items()])\n",
    "if desc is not None:\n",
    "    desc = np.concatenate([v for k, v in descriptions.items()])"
   ]
  },
  {
   "cell_type": "code",
   "execution_count": 185,
   "metadata": {},
   "outputs": [],
   "source": [
    "device = 'cuda' if torch.cuda.is_available() else 'cpu'\n",
    "if device == 'cuda':\n",
    "    torch.backends.cudnn.benchmark = True\n",
    "# Set random seed to be able to reproduce results\n",
    "set_random_seeds(seed=random_state, cuda=device == 'cuda')\n",
    "\n",
    "# Extract number of channels and time steps from dataset\n",
    "n_channels, input_size_samples = windows_dataset[0][0].shape\n",
    "emb_size = sfreq\n",
    "\n",
    "fs_model = SleepStagerChambon2018(\n",
    "    n_channels,\n",
    "    sfreq,\n",
    "    n_classes=n_classes,\n",
    "    n_conv_chs=16,\n",
    "    input_size_s=input_size_samples / sfreq,\n",
    "    dropout=0,\n",
    "    apply_batch_norm=True\n",
    ")"
   ]
  },
  {
   "cell_type": "code",
   "execution_count": 186,
   "metadata": {},
   "outputs": [
    {
     "data": {
      "text/plain": [
       "SleepStagerChambon2018(\n",
       "  (spatial_conv): Conv2d(1, 2, kernel_size=(2, 1), stride=(1, 1))\n",
       "  (feature_extractor): Sequential(\n",
       "    (0): Conv2d(1, 16, kernel_size=(1, 50), stride=(1, 1), padding=(0, 25))\n",
       "    (1): BatchNorm2d(16, eps=1e-05, momentum=0.1, affine=True, track_running_stats=True)\n",
       "    (2): ReLU()\n",
       "    (3): MaxPool2d(kernel_size=(1, 13), stride=(1, 13), padding=0, dilation=1, ceil_mode=False)\n",
       "    (4): Conv2d(16, 16, kernel_size=(1, 50), stride=(1, 1), padding=(0, 25))\n",
       "    (5): BatchNorm2d(16, eps=1e-05, momentum=0.1, affine=True, track_running_stats=True)\n",
       "    (6): ReLU()\n",
       "    (7): MaxPool2d(kernel_size=(1, 13), stride=(1, 13), padding=0, dilation=1, ceil_mode=False)\n",
       "  )\n",
       "  (fc): Sequential(\n",
       "    (0): Dropout(p=0, inplace=False)\n",
       "    (1): Linear(in_features=96, out_features=5, bias=True)\n",
       "  )\n",
       ")"
      ]
     },
     "execution_count": 186,
     "metadata": {},
     "output_type": "execute_result"
    }
   ],
   "source": [
    "fs_model"
   ]
  },
  {
   "cell_type": "code",
   "execution_count": 188,
   "metadata": {},
   "outputs": [],
   "source": [
    "import torch.optim as optim\n",
    "from sklearn.model_selection import KFold\n",
    "\n",
    "criterion = nn.CrossEntropyLoss()\n",
    "optimizer = optim.SGD(fs_model.parameters(), lr=lr, momentum=0.9)\n",
    "\n",
    "# 5-fold cross-validation\n",
    "kfold = KFold(n_splits=cv, shuffle=True, random_state=42)"
   ]
  },
  {
   "cell_type": "code",
   "execution_count": 187,
   "metadata": {},
   "outputs": [],
   "source": [
    "def reset_weights(m):\n",
    "\t'''\n",
    "\t\tTry resetting model weights to avoid\n",
    "\t\tweight leakage.\n",
    "\t'''\n",
    "\tfor layer in m.children():\n",
    "\t\tif hasattr(layer, 'reset_parameters'):\n",
    "\t\t\t# print(f'Reset trainable parameters of layer = {layer}')\n",
    "\t\t\tlayer.reset_parameters()\n",
    "\n",
    "# confusion matrix\n",
    "def conf_matrix_class_report(model, dataloader, n_classes):\n",
    "\t\tconfusion_matrix = torch.zeros(n_classes, n_classes)\n",
    "\t\ty_pred = []\n",
    "\t\ty_true = []\n",
    "\t\twith torch.no_grad():\n",
    "\t\t\tfor i, (inputs, labels) in enumerate(dataloader):\n",
    "\t\t\t\tinputs = inputs.to(device)\n",
    "\t\t\t\tlabels = labels.to(device)\n",
    "\t\t\t\toutputs = model(inputs)\n",
    "\t\t\t\t_, preds = torch.max(outputs, 1)\n",
    "\t\t\t\tfor t, p in zip(labels.view(-1), preds.view(-1)):\n",
    "\t\t\t\t\t\t\t\tconfusion_matrix[t, p] += 1\n",
    "\t\t\t\ty_pred += [preds]\n",
    "\t\t\t\ty_true += [labels]\n",
    "\n",
    "\t\ty_pred = np.concatenate(y_pred)\n",
    "\t\ty_true = np.concatenate(y_true)\n",
    "\n",
    "\t\tclass_report = classification_report(y_true=y_true, y_pred=y_pred)\n",
    "\n",
    "\t\ttorch.set_printoptions(sci_mode=False)\n",
    "\t\treturn confusion_matrix, class_report"
   ]
  },
  {
   "cell_type": "code",
   "execution_count": null,
   "metadata": {},
   "outputs": [],
   "source": [
    "# results = {}\n",
    "\n",
    "# # K-fold Cross Validation model evaluation\n",
    "# for fold, (train_ids, test_ids) in enumerate(kfold.split(dataset)):\n",
    "# \t# Print\n",
    "# \tprint(f'FOLD {fold}')\n",
    "# \tprint('--------------------------------')\n",
    "\t\n",
    "# \t# Sample elements randomly from a given list of ids, no replacement.\n",
    "# \ttrain_subsampler = torch.utils.data.SubsetRandomSampler(train_ids)\n",
    "# \ttest_subsampler = torch.utils.data.SubsetRandomSampler(test_ids)\n",
    "\t\n",
    "# \t# Define data loaders for training and testing data in this fold\n",
    "# \ttrainloader = DataLoader(dataset, batch_size=5, sampler=train_subsampler)\n",
    "# \ttestloader = DataLoader(dataset, batch_size=5, sampler=test_subsampler)\n",
    "\n",
    "# \t# Init the neural network\n",
    "# \tprint('Resetting trainable parameters...')\n",
    "# \tfs_model.apply(reset_weights)\n",
    "\t\n",
    "# \t# Run the training loop for defined number of epochs\n",
    "# \tfor epoch in range(5):\n",
    "# \t\tprint(f'Epoch {epoch+1}')\n",
    "# \t\t# Set current loss value\n",
    "# \t\trunning_loss = 0.0\n",
    "\n",
    "# \t\t# Iterate over the DataLoader for training data\n",
    "# \t\tfor i, data in enumerate(tqdm(trainloader, 0)):\n",
    "# \t\t\t# Get inputs\n",
    "# \t\t\tinputs, targets = data\n",
    "\t\t\t\n",
    "# \t\t\t# Zero the gradients\n",
    "# \t\t\toptimizer.zero_grad()\n",
    "\t\t\t\n",
    "# \t\t\t# Perform forward pass\n",
    "# \t\t\toutputs = fs_model(inputs)\n",
    "# \t\t\t# Compute loss\n",
    "# \t\t\tloss = criterion(outputs, targets)\n",
    "# \t\t\t# Perform backward pass\n",
    "# \t\t\tloss.backward()\n",
    "# \t\t\t# Perform optimization\n",
    "# \t\t\toptimizer.step()\n",
    "\t\t\t\n",
    "# \t\t\t# Print statistics\n",
    "# \t\t\trunning_loss += loss.item()\n",
    "# \t\t\t# if i % 25 == 24:\n",
    "# \t\tprint('Loss after mini-batch %5d: %.3f' % (i + 1, running_loss))\n",
    "# \t\trunning_loss = 0.0\n",
    "\t\t\t\t\t\n",
    "# \t# Process is complete.\n",
    "# \tprint('Training process has finished. Saving trained model.')\n",
    "\n",
    "# \t# Print about testing\n",
    "# \tprint('Starting testing')\n",
    "\t\n",
    "# \t# Saving the model\n",
    "# \tsave_path = f'./model-fold-{fold}.pth'\n",
    "# \ttorch.save(fs_model.state_dict(), save_path)\n",
    "\n",
    "# \t# Evaluation for this fold\n",
    "# \tcorrect, total = 0, 0\n",
    "# \twith torch.no_grad():\n",
    "# \t\t# Iterate over the test data and generate predictions\n",
    "# \t\tfor i, data in enumerate(testloader, 0):\n",
    "\n",
    "# \t\t\t# Get inputs\n",
    "# \t\t\tinputs, targets = data\n",
    "\n",
    "# \t\t\t# Generate outputs\n",
    "# \t\t\toutputs = fs_model(inputs)\n",
    "\n",
    "# \t\t\t# Set total and correct\n",
    "# \t\t\t_, predicted = torch.max(outputs.data, 1)\n",
    "# \t\t\ttotal += targets.size(0)\n",
    "# \t\t\tcorrect += (predicted == targets).sum().item()\n",
    "\n",
    "# \t\tbal_acc = balanced_accuracy_score(y_pred=predicted, y_true=targets)\n",
    "\n",
    "# \t\t# Print accuracy\n",
    "#       \t# print('Accuracy for fold %d: %d %%' % (fold, 100.0 * correct / total))\n",
    "# \t\tprint(f'Balanced Accuracy for fold {bal_acc}')\n",
    "# \t\tprint('--------------------------------')\n",
    "# \t\tresults[fold] = bal_acc\n",
    "# \tbreak\n",
    "\n",
    "# # Print fold results\n",
    "# print(f'K-FOLD CROSS VALIDATION RESULTS FOR {cv} FOLDS')\n",
    "# print('--------------------------------')\n",
    "# sum = 0.0\n",
    "# for key, value in results.items():\n",
    "# \tprint(f'Fold {key}: {value} %')\n",
    "# \tsum += value\n",
    "# print(f'Average: {sum/len(results.items())} %')"
   ]
  },
  {
   "cell_type": "code",
   "execution_count": null,
   "metadata": {},
   "outputs": [],
   "source": [
    "matrix, report = conf_matrix_class_report(fs_model, loader['test'], n_classes)\n",
    "print(matrix)\n",
    "print(report)"
   ]
  },
  {
   "cell_type": "code",
   "execution_count": 261,
   "metadata": {},
   "outputs": [],
   "source": [
    "input, label = next(iter(loader['test']))\n",
    "output = fs_model(input)"
   ]
  },
  {
   "cell_type": "code",
   "execution_count": null,
   "metadata": {},
   "outputs": [],
   "source": [
    "labels = []\n",
    "for x in loader['train']:\n",
    "    labels += [x[-1]]\n",
    "np.unique(labels)"
   ]
  },
  {
   "cell_type": "code",
   "execution_count": 175,
   "metadata": {},
   "outputs": [
    {
     "name": "stdout",
     "output_type": "stream",
     "text": [
      "FOLD 0\n",
      "--------------------------------\n",
      "n training examples: 4103        \n",
      "train_space intervals: [    0.  6837. 13674. 20511.]        \n",
      "test_space intervals: [    0.  3419.  6837. 10256.]\n"
     ]
    },
    {
     "name": "stderr",
     "output_type": "stream",
     "text": [
      "  0%|          | 8/4103 [00:11<1:10:14,  1.03s/it] "
     ]
    },
    {
     "name": "stdout",
     "output_type": "stream",
     "text": [
      "Space index: #0                    \n",
      "train|test space size: 6837.0|3419.0                    \n",
      "running loss: 0.211753249168396                    \n",
      "bal_acc --> 0.7369663132209348\n"
     ]
    },
    {
     "name": "stderr",
     "output_type": "stream",
     "text": [
      " 34%|███▎      | 1375/4103 [00:54<13:49,  3.29it/s]"
     ]
    },
    {
     "name": "stdout",
     "output_type": "stream",
     "text": [
      "Space index: #1                    \n",
      "train|test space size: 13674.0|6837.0                    \n",
      "running loss: 756.785045819357                    \n",
      "bal_acc --> 0.7145473096783386\n"
     ]
    },
    {
     "name": "stderr",
     "output_type": "stream",
     "text": [
      " 67%|██████▋   | 2746/4103 [01:38<08:05,  2.79it/s]"
     ]
    },
    {
     "name": "stdout",
     "output_type": "stream",
     "text": [
      "Space index: #2                    \n",
      "train|test space size: 20511.0|10256.0                    \n",
      "running loss: 731.8252023747191                    \n",
      "bal_acc --> 0.7348145691057149\n"
     ]
    },
    {
     "name": "stderr",
     "output_type": "stream",
     "text": [
      "100%|██████████| 4103/4103 [02:10<00:00, 31.50it/s]\n",
      "  0%|          | 7/4103 [00:09<1:08:39,  1.01s/it] "
     ]
    },
    {
     "name": "stdout",
     "output_type": "stream",
     "text": [
      "Space index: #0                    \n",
      "train|test space size: 6837.0|3419.0                    \n",
      "running loss: 0.5413296222686768                    \n",
      "bal_acc --> 0.6960099542623925\n"
     ]
    },
    {
     "name": "stderr",
     "output_type": "stream",
     "text": [
      " 34%|███▎      | 1379/4103 [00:53<17:42,  2.56it/s]"
     ]
    },
    {
     "name": "stdout",
     "output_type": "stream",
     "text": [
      "Space index: #1                    \n",
      "train|test space size: 13674.0|6837.0                    \n",
      "running loss: 722.2683610226959                    \n",
      "bal_acc --> 0.7126515732546503\n"
     ]
    },
    {
     "name": "stderr",
     "output_type": "stream",
     "text": [
      " 67%|██████▋   | 2741/4103 [01:40<10:15,  2.21it/s]"
     ]
    },
    {
     "name": "stdout",
     "output_type": "stream",
     "text": [
      "Space index: #2                    \n",
      "train|test space size: 20511.0|10256.0                    \n",
      "running loss: 738.5003493353724                    \n",
      "bal_acc --> 0.6553465195724741\n"
     ]
    },
    {
     "name": "stderr",
     "output_type": "stream",
     "text": [
      "100%|██████████| 4103/4103 [02:12<00:00, 30.95it/s]\n",
      "  0%|          | 7/4103 [00:10<1:16:51,  1.13s/it] "
     ]
    },
    {
     "name": "stdout",
     "output_type": "stream",
     "text": [
      "Space index: #0                    \n",
      "train|test space size: 6837.0|3419.0                    \n",
      "running loss: 1.2214564085006714                    \n",
      "bal_acc --> 0.7129611590929958\n"
     ]
    },
    {
     "name": "stderr",
     "output_type": "stream",
     "text": [
      " 33%|███▎      | 1374/4103 [00:53<18:40,  2.43it/s]"
     ]
    },
    {
     "name": "stdout",
     "output_type": "stream",
     "text": [
      "Space index: #1                    \n",
      "train|test space size: 13674.0|6837.0                    \n",
      "running loss: 711.9309069709852                    \n",
      "bal_acc --> 0.6604576027526978\n"
     ]
    },
    {
     "name": "stderr",
     "output_type": "stream",
     "text": [
      " 67%|██████▋   | 2746/4103 [01:36<09:27,  2.39it/s]"
     ]
    },
    {
     "name": "stdout",
     "output_type": "stream",
     "text": [
      "Space index: #2                    \n",
      "train|test space size: 20511.0|10256.0                    \n",
      "running loss: 735.8570626601577                    \n",
      "bal_acc --> 0.721328745470434\n"
     ]
    },
    {
     "name": "stderr",
     "output_type": "stream",
     "text": [
      "100%|██████████| 4103/4103 [02:08<00:00, 31.87it/s]\n",
      "  0%|          | 8/4103 [00:09<1:02:13,  1.10it/s] "
     ]
    },
    {
     "name": "stdout",
     "output_type": "stream",
     "text": [
      "Space index: #0                    \n",
      "train|test space size: 6837.0|3419.0                    \n",
      "running loss: 0.19663892686367035                    \n",
      "bal_acc --> 0.6932281008337279\n"
     ]
    },
    {
     "name": "stderr",
     "output_type": "stream",
     "text": [
      " 33%|███▎      | 1374/4103 [00:49<18:10,  2.50it/s]"
     ]
    },
    {
     "name": "stdout",
     "output_type": "stream",
     "text": [
      "Space index: #1                    \n",
      "train|test space size: 13674.0|6837.0                    \n",
      "running loss: 713.0770901218057                    \n",
      "bal_acc --> 0.6887944607983646\n"
     ]
    },
    {
     "name": "stderr",
     "output_type": "stream",
     "text": [
      " 67%|██████▋   | 2742/4103 [01:30<10:36,  2.14it/s]"
     ]
    },
    {
     "name": "stdout",
     "output_type": "stream",
     "text": [
      "Space index: #2                    \n",
      "train|test space size: 20511.0|10256.0                    \n",
      "running loss: 711.3114056903869                    \n",
      "bal_acc --> 0.7281318727828074\n"
     ]
    },
    {
     "name": "stderr",
     "output_type": "stream",
     "text": [
      "100%|██████████| 4103/4103 [02:01<00:00, 33.88it/s]\n",
      "  0%|          | 8/4103 [00:10<1:04:46,  1.05it/s] "
     ]
    },
    {
     "name": "stdout",
     "output_type": "stream",
     "text": [
      "Space index: #0                    \n",
      "train|test space size: 6837.0|3419.0                    \n",
      "running loss: 0.2881799340248108                    \n",
      "bal_acc --> 0.7173526377847044\n"
     ]
    },
    {
     "name": "stderr",
     "output_type": "stream",
     "text": [
      " 34%|███▎      | 1375/4103 [00:49<16:43,  2.72it/s]"
     ]
    },
    {
     "name": "stdout",
     "output_type": "stream",
     "text": [
      "Space index: #1                    \n",
      "train|test space size: 13674.0|6837.0                    \n",
      "running loss: 686.2958731306717                    \n",
      "bal_acc --> 0.6779401280558982\n"
     ]
    },
    {
     "name": "stderr",
     "output_type": "stream",
     "text": [
      " 67%|██████▋   | 2744/4103 [01:31<08:28,  2.67it/s]"
     ]
    },
    {
     "name": "stdout",
     "output_type": "stream",
     "text": [
      "Space index: #2                    \n",
      "train|test space size: 20511.0|10256.0                    \n",
      "running loss: 716.0259579773992                    \n",
      "bal_acc --> 0.6829601343887967\n"
     ]
    },
    {
     "name": "stderr",
     "output_type": "stream",
     "text": [
      "100%|██████████| 4103/4103 [02:14<00:00, 30.60it/s] \n",
      "  0%|          | 12/4103 [00:06<28:07,  2.42it/s] "
     ]
    },
    {
     "name": "stdout",
     "output_type": "stream",
     "text": [
      "Space index: #0                    \n",
      "train|test space size: 6837.0|3419.0                    \n",
      "running loss: 0.13327829539775848                    \n",
      "bal_acc --> 0.7224190052753929\n"
     ]
    },
    {
     "name": "stderr",
     "output_type": "stream",
     "text": [
      " 34%|███▎      | 1384/4103 [00:25<05:16,  8.59it/s] "
     ]
    },
    {
     "name": "stdout",
     "output_type": "stream",
     "text": [
      "Space index: #1                    \n",
      "train|test space size: 13674.0|6837.0                    \n",
      "running loss: 665.5068270759657                    \n",
      "bal_acc --> 0.6856974678435593\n"
     ]
    },
    {
     "name": "stderr",
     "output_type": "stream",
     "text": [
      " 67%|██████▋   | 2754/4103 [00:42<01:43, 13.04it/s] "
     ]
    },
    {
     "name": "stdout",
     "output_type": "stream",
     "text": [
      "Space index: #2                    \n",
      "train|test space size: 20511.0|10256.0                    \n",
      "running loss: 704.3447846826166                    \n",
      "bal_acc --> 0.7303204171750425\n"
     ]
    },
    {
     "name": "stderr",
     "output_type": "stream",
     "text": [
      "100%|██████████| 4103/4103 [00:52<00:00, 78.60it/s] \n",
      "  0%|          | 13/4103 [00:04<17:51,  3.82it/s] "
     ]
    },
    {
     "name": "stdout",
     "output_type": "stream",
     "text": [
      "Space index: #0                    \n",
      "train|test space size: 6837.0|3419.0                    \n",
      "running loss: 0.3654383718967438                    \n",
      "bal_acc --> 0.713573342283723\n"
     ]
    },
    {
     "name": "stderr",
     "output_type": "stream",
     "text": [
      " 34%|███▍      | 1397/4103 [00:19<03:05, 14.57it/s] "
     ]
    },
    {
     "name": "stdout",
     "output_type": "stream",
     "text": [
      "Space index: #1                    \n",
      "train|test space size: 13674.0|6837.0                    \n",
      "running loss: 684.0106925764121                    \n",
      "bal_acc --> 0.6760119453191177\n"
     ]
    },
    {
     "name": "stderr",
     "output_type": "stream",
     "text": [
      " 67%|██████▋   | 2758/4103 [00:34<01:50, 12.19it/s] "
     ]
    },
    {
     "name": "stdout",
     "output_type": "stream",
     "text": [
      "Space index: #2                    \n",
      "train|test space size: 20511.0|10256.0                    \n",
      "running loss: 687.257087492384                    \n",
      "bal_acc --> 0.6571029651954159\n"
     ]
    },
    {
     "name": "stderr",
     "output_type": "stream",
     "text": [
      "100%|██████████| 4103/4103 [00:44<00:00, 92.54it/s] \n",
      "  0%|          | 14/4103 [00:04<17:19,  3.93it/s] "
     ]
    },
    {
     "name": "stdout",
     "output_type": "stream",
     "text": [
      "Space index: #0                    \n",
      "train|test space size: 6837.0|3419.0                    \n",
      "running loss: 0.33614295721054077                    \n",
      "bal_acc --> 0.7281362559996517\n"
     ]
    },
    {
     "name": "stderr",
     "output_type": "stream",
     "text": [
      " 34%|███▍      | 1397/4103 [00:19<03:18, 13.66it/s] "
     ]
    },
    {
     "name": "stdout",
     "output_type": "stream",
     "text": [
      "Space index: #1                    \n",
      "train|test space size: 13674.0|6837.0                    \n",
      "running loss: 659.2646824261174                    \n",
      "bal_acc --> 0.7146038245764205\n"
     ]
    },
    {
     "name": "stderr",
     "output_type": "stream",
     "text": [
      " 67%|██████▋   | 2751/4103 [00:34<01:42, 13.22it/s] "
     ]
    },
    {
     "name": "stdout",
     "output_type": "stream",
     "text": [
      "Space index: #2                    \n",
      "train|test space size: 20511.0|10256.0                    \n",
      "running loss: 690.4713419154286                    \n",
      "bal_acc --> 0.7182511285581836\n"
     ]
    },
    {
     "name": "stderr",
     "output_type": "stream",
     "text": [
      "100%|██████████| 4103/4103 [00:45<00:00, 90.96it/s] \n",
      "  0%|          | 16/4103 [00:05<15:23,  4.43it/s] "
     ]
    },
    {
     "name": "stdout",
     "output_type": "stream",
     "text": [
      "Space index: #0                    \n",
      "train|test space size: 6837.0|3419.0                    \n",
      "running loss: 0.15239210426807404                    \n",
      "bal_acc --> 0.6932020540416131\n"
     ]
    },
    {
     "name": "stderr",
     "output_type": "stream",
     "text": [
      " 34%|███▍      | 1387/4103 [00:19<03:10, 14.29it/s] "
     ]
    },
    {
     "name": "stdout",
     "output_type": "stream",
     "text": [
      "Space index: #1                    \n",
      "train|test space size: 13674.0|6837.0                    \n",
      "running loss: 626.9925411501899                    \n",
      "bal_acc --> 0.6936348890474469\n"
     ]
    },
    {
     "name": "stderr",
     "output_type": "stream",
     "text": [
      " 67%|██████▋   | 2759/4103 [00:34<01:48, 12.34it/s] "
     ]
    },
    {
     "name": "stdout",
     "output_type": "stream",
     "text": [
      "Space index: #2                    \n",
      "train|test space size: 20511.0|10256.0                    \n",
      "running loss: 684.8566859313287                    \n",
      "bal_acc --> 0.7011360415122928\n"
     ]
    },
    {
     "name": "stderr",
     "output_type": "stream",
     "text": [
      "100%|██████████| 4103/4103 [00:45<00:00, 90.51it/s] \n",
      "  0%|          | 12/4103 [00:04<18:23,  3.71it/s] "
     ]
    },
    {
     "name": "stdout",
     "output_type": "stream",
     "text": [
      "Space index: #0                    \n",
      "train|test space size: 6837.0|3419.0                    \n",
      "running loss: 0.10942450910806656                    \n",
      "bal_acc --> 0.6601033417154915\n"
     ]
    },
    {
     "name": "stderr",
     "output_type": "stream",
     "text": [
      " 34%|███▍      | 1390/4103 [00:19<03:34, 12.65it/s] "
     ]
    },
    {
     "name": "stdout",
     "output_type": "stream",
     "text": [
      "Space index: #1                    \n",
      "train|test space size: 13674.0|6837.0                    \n",
      "running loss: 643.284822515212                    \n",
      "bal_acc --> 0.6963891496468603\n"
     ]
    },
    {
     "name": "stderr",
     "output_type": "stream",
     "text": [
      " 67%|██████▋   | 2760/4103 [00:34<01:45, 12.71it/s] "
     ]
    },
    {
     "name": "stdout",
     "output_type": "stream",
     "text": [
      "Space index: #2                    \n",
      "train|test space size: 20511.0|10256.0                    \n",
      "running loss: 686.9628053028136                    \n",
      "bal_acc --> 0.6884408752239395\n"
     ]
    },
    {
     "name": "stderr",
     "output_type": "stream",
     "text": [
      "100%|██████████| 4103/4103 [00:44<00:00, 91.93it/s] \n",
      "  0%|          | 13/4103 [00:05<19:42,  3.46it/s] "
     ]
    },
    {
     "name": "stdout",
     "output_type": "stream",
     "text": [
      "Space index: #0                    \n",
      "train|test space size: 6837.0|3419.0                    \n",
      "running loss: 1.7919280529022217                    \n",
      "bal_acc --> 0.6896385074779513\n"
     ]
    },
    {
     "name": "stderr",
     "output_type": "stream",
     "text": [
      " 34%|███▍      | 1387/4103 [00:20<03:11, 14.16it/s] "
     ]
    },
    {
     "name": "stdout",
     "output_type": "stream",
     "text": [
      "Space index: #1                    \n",
      "train|test space size: 13674.0|6837.0                    \n",
      "running loss: 623.8133805114776                    \n",
      "bal_acc --> 0.699158346175693\n"
     ]
    },
    {
     "name": "stderr",
     "output_type": "stream",
     "text": [
      " 67%|██████▋   | 2750/4103 [00:34<01:46, 12.74it/s] "
     ]
    },
    {
     "name": "stdout",
     "output_type": "stream",
     "text": [
      "Space index: #2                    \n",
      "train|test space size: 20511.0|10256.0                    \n",
      "running loss: 628.8666731971316                    \n",
      "bal_acc --> 0.6905324383818893\n"
     ]
    },
    {
     "name": "stderr",
     "output_type": "stream",
     "text": [
      "100%|██████████| 4103/4103 [00:44<00:00, 91.32it/s] \n",
      "  0%|          | 15/4103 [00:04<15:20,  4.44it/s] "
     ]
    },
    {
     "name": "stdout",
     "output_type": "stream",
     "text": [
      "Space index: #0                    \n",
      "train|test space size: 6837.0|3419.0                    \n",
      "running loss: 0.18321511149406433                    \n",
      "bal_acc --> 0.6617200758709135\n"
     ]
    },
    {
     "name": "stderr",
     "output_type": "stream",
     "text": [
      " 34%|███▍      | 1389/4103 [00:20<03:45, 12.05it/s] "
     ]
    },
    {
     "name": "stdout",
     "output_type": "stream",
     "text": [
      "Space index: #1                    \n",
      "train|test space size: 13674.0|6837.0                    \n",
      "running loss: 639.9904235817958                    \n",
      "bal_acc --> 0.7127190360270814\n"
     ]
    },
    {
     "name": "stderr",
     "output_type": "stream",
     "text": [
      " 67%|██████▋   | 2759/4103 [00:35<01:37, 13.75it/s] "
     ]
    },
    {
     "name": "stdout",
     "output_type": "stream",
     "text": [
      "Space index: #2                    \n",
      "train|test space size: 20511.0|10256.0                    \n",
      "running loss: 639.133813649416                    \n",
      "bal_acc --> 0.6956576478653743\n"
     ]
    },
    {
     "name": "stderr",
     "output_type": "stream",
     "text": [
      "100%|██████████| 4103/4103 [00:45<00:00, 89.83it/s] \n",
      "  0%|          | 16/4103 [00:05<15:37,  4.36it/s] "
     ]
    },
    {
     "name": "stdout",
     "output_type": "stream",
     "text": [
      "Space index: #0                    \n",
      "train|test space size: 6837.0|3419.0                    \n",
      "running loss: 0.43374377489089966                    \n",
      "bal_acc --> 0.6898169080680967\n"
     ]
    },
    {
     "name": "stderr",
     "output_type": "stream",
     "text": [
      " 34%|███▍      | 1385/4103 [00:19<03:26, 13.19it/s] "
     ]
    },
    {
     "name": "stdout",
     "output_type": "stream",
     "text": [
      "Space index: #1                    \n",
      "train|test space size: 13674.0|6837.0                    \n",
      "running loss: 609.4363637194037                    \n",
      "bal_acc --> 0.6944593581496965\n"
     ]
    },
    {
     "name": "stderr",
     "output_type": "stream",
     "text": [
      " 67%|██████▋   | 2758/4103 [00:35<02:04, 10.77it/s] "
     ]
    },
    {
     "name": "stdout",
     "output_type": "stream",
     "text": [
      "Space index: #2                    \n",
      "train|test space size: 20511.0|10256.0                    \n",
      "running loss: 630.1905324072577                    \n",
      "bal_acc --> 0.7086605383682903\n"
     ]
    },
    {
     "name": "stderr",
     "output_type": "stream",
     "text": [
      "100%|██████████| 4103/4103 [00:45<00:00, 89.35it/s] \n",
      "  0%|          | 12/4103 [00:04<19:30,  3.50it/s] "
     ]
    },
    {
     "name": "stdout",
     "output_type": "stream",
     "text": [
      "Space index: #0                    \n",
      "train|test space size: 6837.0|3419.0                    \n",
      "running loss: 1.7345850467681885                    \n",
      "bal_acc --> 0.6968789716733943\n"
     ]
    },
    {
     "name": "stderr",
     "output_type": "stream",
     "text": [
      " 34%|███▍      | 1390/4103 [00:19<03:21, 13.48it/s] "
     ]
    },
    {
     "name": "stdout",
     "output_type": "stream",
     "text": [
      "Space index: #1                    \n",
      "train|test space size: 13674.0|6837.0                    \n",
      "running loss: 585.7985689304769                    \n",
      "bal_acc --> 0.6927571988335967\n"
     ]
    },
    {
     "name": "stderr",
     "output_type": "stream",
     "text": [
      " 67%|██████▋   | 2758/4103 [00:34<01:39, 13.50it/s] "
     ]
    },
    {
     "name": "stdout",
     "output_type": "stream",
     "text": [
      "Space index: #2                    \n",
      "train|test space size: 20511.0|10256.0                    \n",
      "running loss: 638.0526742786169                    \n",
      "bal_acc --> 0.7139198233835674\n"
     ]
    },
    {
     "name": "stderr",
     "output_type": "stream",
     "text": [
      "100%|██████████| 4103/4103 [00:44<00:00, 91.52it/s] \n",
      "  0%|          | 14/4103 [00:05<18:59,  3.59it/s] "
     ]
    },
    {
     "name": "stdout",
     "output_type": "stream",
     "text": [
      "Space index: #0                    \n",
      "train|test space size: 6837.0|3419.0                    \n",
      "running loss: 0.7014917731285095                    \n",
      "bal_acc --> 0.6757251424536428\n"
     ]
    },
    {
     "name": "stderr",
     "output_type": "stream",
     "text": [
      " 34%|███▎      | 1383/4103 [00:20<03:21, 13.47it/s] "
     ]
    },
    {
     "name": "stdout",
     "output_type": "stream",
     "text": [
      "Space index: #1                    \n",
      "train|test space size: 13674.0|6837.0                    \n",
      "running loss: 588.5325492080301                    \n",
      "bal_acc --> 0.7183993022392147\n"
     ]
    },
    {
     "name": "stderr",
     "output_type": "stream",
     "text": [
      " 67%|██████▋   | 2754/4103 [00:36<01:56, 11.54it/s] "
     ]
    },
    {
     "name": "stdout",
     "output_type": "stream",
     "text": [
      "Space index: #2                    \n",
      "train|test space size: 20511.0|10256.0                    \n",
      "running loss: 612.0337487459183                    \n",
      "bal_acc --> 0.6821789164497704\n"
     ]
    },
    {
     "name": "stderr",
     "output_type": "stream",
     "text": [
      "100%|██████████| 4103/4103 [00:47<00:00, 87.04it/s] \n"
     ]
    },
    {
     "name": "stdout",
     "output_type": "stream",
     "text": [
      "Finished Training\n",
      "FOLD 1\n",
      "--------------------------------\n",
      "n training examples: 4103        \n",
      "train_space intervals: [    0.  6837. 13674. 20511.]        \n",
      "test_space intervals: [    0.  3419.  6837. 10256.]\n"
     ]
    },
    {
     "name": "stderr",
     "output_type": "stream",
     "text": [
      "  0%|          | 16/4103 [00:04<13:54,  4.90it/s] "
     ]
    },
    {
     "name": "stdout",
     "output_type": "stream",
     "text": [
      "Space index: #0                    \n",
      "train|test space size: 6837.0|3419.0                    \n",
      "running loss: 0.05201251059770584                    \n",
      "bal_acc --> 0.7813671487514945\n"
     ]
    },
    {
     "name": "stderr",
     "output_type": "stream",
     "text": [
      " 34%|███▍      | 1389/4103 [00:19<03:26, 13.13it/s] "
     ]
    },
    {
     "name": "stdout",
     "output_type": "stream",
     "text": [
      "Space index: #1                    \n",
      "train|test space size: 13674.0|6837.0                    \n",
      "running loss: 746.2994859386235                    \n",
      "bal_acc --> 0.7739702268009333\n"
     ]
    },
    {
     "name": "stderr",
     "output_type": "stream",
     "text": [
      " 67%|██████▋   | 2755/4103 [00:34<01:37, 13.85it/s] "
     ]
    },
    {
     "name": "stdout",
     "output_type": "stream",
     "text": [
      "Space index: #2                    \n",
      "train|test space size: 20511.0|10256.0                    \n",
      "running loss: 766.9190860278904                    \n",
      "bal_acc --> 0.77566062875701\n"
     ]
    },
    {
     "name": "stderr",
     "output_type": "stream",
     "text": [
      "100%|██████████| 4103/4103 [00:44<00:00, 91.64it/s] \n",
      "  0%|          | 13/4103 [00:04<17:30,  3.89it/s] "
     ]
    },
    {
     "name": "stdout",
     "output_type": "stream",
     "text": [
      "Space index: #0                    \n",
      "train|test space size: 6837.0|3419.0                    \n",
      "running loss: 0.6355868577957153                    \n",
      "bal_acc --> 0.7483173919646644\n"
     ]
    },
    {
     "name": "stderr",
     "output_type": "stream",
     "text": [
      " 34%|███▍      | 1387/4103 [00:19<03:17, 13.76it/s] "
     ]
    },
    {
     "name": "stdout",
     "output_type": "stream",
     "text": [
      "Space index: #1                    \n",
      "train|test space size: 13674.0|6837.0                    \n",
      "running loss: 705.752718327567                    \n",
      "bal_acc --> 0.7631365132929437\n"
     ]
    },
    {
     "name": "stderr",
     "output_type": "stream",
     "text": [
      " 67%|██████▋   | 2759/4103 [00:34<01:49, 12.31it/s] "
     ]
    },
    {
     "name": "stdout",
     "output_type": "stream",
     "text": [
      "Space index: #2                    \n",
      "train|test space size: 20511.0|10256.0                    \n",
      "running loss: 695.198952421546                    \n",
      "bal_acc --> 0.765734366475638\n"
     ]
    },
    {
     "name": "stderr",
     "output_type": "stream",
     "text": [
      "100%|██████████| 4103/4103 [00:44<00:00, 91.33it/s] \n",
      "  0%|          | 13/4103 [00:04<17:16,  3.95it/s] "
     ]
    },
    {
     "name": "stdout",
     "output_type": "stream",
     "text": [
      "Space index: #0                    \n",
      "train|test space size: 6837.0|3419.0                    \n",
      "running loss: 0.3407401144504547                    \n",
      "bal_acc --> 0.7604198470989629\n"
     ]
    },
    {
     "name": "stderr",
     "output_type": "stream",
     "text": [
      " 34%|███▍      | 1391/4103 [00:19<03:40, 12.30it/s] "
     ]
    },
    {
     "name": "stdout",
     "output_type": "stream",
     "text": [
      "Space index: #1                    \n",
      "train|test space size: 13674.0|6837.0                    \n",
      "running loss: 674.7601136052981                    \n",
      "bal_acc --> 0.7385727596744767\n"
     ]
    },
    {
     "name": "stderr",
     "output_type": "stream",
     "text": [
      " 67%|██████▋   | 2752/4103 [00:34<01:37, 13.80it/s] "
     ]
    },
    {
     "name": "stdout",
     "output_type": "stream",
     "text": [
      "Space index: #2                    \n",
      "train|test space size: 20511.0|10256.0                    \n",
      "running loss: 710.0156402401626                    \n",
      "bal_acc --> 0.7924717196323481\n"
     ]
    },
    {
     "name": "stderr",
     "output_type": "stream",
     "text": [
      "100%|██████████| 4103/4103 [00:45<00:00, 90.57it/s] \n",
      "  0%|          | 15/4103 [00:05<16:43,  4.07it/s] "
     ]
    },
    {
     "name": "stdout",
     "output_type": "stream",
     "text": [
      "Space index: #0                    \n",
      "train|test space size: 6837.0|3419.0                    \n",
      "running loss: 0.1357884407043457                    \n",
      "bal_acc --> 0.7662743911348007\n"
     ]
    },
    {
     "name": "stderr",
     "output_type": "stream",
     "text": [
      " 34%|███▍      | 1388/4103 [00:20<03:28, 13.02it/s] "
     ]
    },
    {
     "name": "stdout",
     "output_type": "stream",
     "text": [
      "Space index: #1                    \n",
      "train|test space size: 13674.0|6837.0                    \n",
      "running loss: 680.1573321921751                    \n",
      "bal_acc --> 0.7479010165451417\n"
     ]
    },
    {
     "name": "stderr",
     "output_type": "stream",
     "text": [
      " 67%|██████▋   | 2753/4103 [00:35<01:46, 12.66it/s] "
     ]
    },
    {
     "name": "stdout",
     "output_type": "stream",
     "text": [
      "Space index: #2                    \n",
      "train|test space size: 20511.0|10256.0                    \n",
      "running loss: 659.3649280518293                    \n",
      "bal_acc --> 0.7662428902299817\n"
     ]
    },
    {
     "name": "stderr",
     "output_type": "stream",
     "text": [
      "100%|██████████| 4103/4103 [00:45<00:00, 89.66it/s] \n",
      "  0%|          | 15/4103 [00:04<15:22,  4.43it/s] "
     ]
    },
    {
     "name": "stdout",
     "output_type": "stream",
     "text": [
      "Space index: #0                    \n",
      "train|test space size: 6837.0|3419.0                    \n",
      "running loss: 0.18956413865089417                    \n",
      "bal_acc --> 0.7661378691891867\n"
     ]
    },
    {
     "name": "stderr",
     "output_type": "stream",
     "text": [
      " 34%|███▍      | 1387/4103 [00:19<03:29, 12.97it/s] "
     ]
    },
    {
     "name": "stdout",
     "output_type": "stream",
     "text": [
      "Space index: #1                    \n",
      "train|test space size: 13674.0|6837.0                    \n",
      "running loss: 662.5958323832601                    \n",
      "bal_acc --> 0.7134544002503146\n"
     ]
    },
    {
     "name": "stderr",
     "output_type": "stream",
     "text": [
      " 67%|██████▋   | 2764/4103 [00:34<01:29, 14.95it/s] "
     ]
    },
    {
     "name": "stdout",
     "output_type": "stream",
     "text": [
      "Space index: #2                    \n",
      "train|test space size: 20511.0|10256.0                    \n",
      "running loss: 655.8486945116892                    \n",
      "bal_acc --> 0.7764217489316392\n"
     ]
    },
    {
     "name": "stderr",
     "output_type": "stream",
     "text": [
      "100%|██████████| 4103/4103 [00:44<00:00, 92.19it/s] \n",
      "  0%|          | 13/4103 [00:04<17:06,  3.98it/s] "
     ]
    },
    {
     "name": "stdout",
     "output_type": "stream",
     "text": [
      "Space index: #0                    \n",
      "train|test space size: 6837.0|3419.0                    \n",
      "running loss: 0.40366631746292114                    \n",
      "bal_acc --> 0.7149917240764584\n"
     ]
    },
    {
     "name": "stderr",
     "output_type": "stream",
     "text": [
      " 34%|███▍      | 1394/4103 [00:19<03:05, 14.60it/s] "
     ]
    },
    {
     "name": "stdout",
     "output_type": "stream",
     "text": [
      "Space index: #1                    \n",
      "train|test space size: 13674.0|6837.0                    \n",
      "running loss: 640.5911657530814                    \n",
      "bal_acc --> 0.7707734440035148\n"
     ]
    },
    {
     "name": "stderr",
     "output_type": "stream",
     "text": [
      " 67%|██████▋   | 2760/4103 [00:35<01:44, 12.85it/s] "
     ]
    },
    {
     "name": "stdout",
     "output_type": "stream",
     "text": [
      "Space index: #2                    \n",
      "train|test space size: 20511.0|10256.0                    \n",
      "running loss: 679.5104009611532                    \n",
      "bal_acc --> 0.7692146865413528\n"
     ]
    },
    {
     "name": "stderr",
     "output_type": "stream",
     "text": [
      "100%|██████████| 4103/4103 [00:45<00:00, 89.67it/s] \n",
      "  0%|          | 16/4103 [00:04<13:50,  4.92it/s] "
     ]
    },
    {
     "name": "stdout",
     "output_type": "stream",
     "text": [
      "Space index: #0                    \n",
      "train|test space size: 6837.0|3419.0                    \n",
      "running loss: 0.1354580819606781                    \n",
      "bal_acc --> 0.7717600645151015\n"
     ]
    },
    {
     "name": "stderr",
     "output_type": "stream",
     "text": [
      " 34%|███▍      | 1391/4103 [00:21<03:24, 13.23it/s] "
     ]
    },
    {
     "name": "stdout",
     "output_type": "stream",
     "text": [
      "Space index: #1                    \n",
      "train|test space size: 13674.0|6837.0                    \n",
      "running loss: 627.9664941402152                    \n",
      "bal_acc --> 0.7576711718254286\n"
     ]
    },
    {
     "name": "stderr",
     "output_type": "stream",
     "text": [
      " 67%|██████▋   | 2758/4103 [00:36<01:41, 13.29it/s] "
     ]
    },
    {
     "name": "stdout",
     "output_type": "stream",
     "text": [
      "Space index: #2                    \n",
      "train|test space size: 20511.0|10256.0                    \n",
      "running loss: 653.4620614079759                    \n",
      "bal_acc --> 0.7194596704400464\n"
     ]
    },
    {
     "name": "stderr",
     "output_type": "stream",
     "text": [
      "100%|██████████| 4103/4103 [00:46<00:00, 88.39it/s] \n",
      "  0%|          | 15/4103 [00:05<17:07,  3.98it/s] "
     ]
    },
    {
     "name": "stdout",
     "output_type": "stream",
     "text": [
      "Space index: #0                    \n",
      "train|test space size: 6837.0|3419.0                    \n",
      "running loss: 0.12059495598077774                    \n",
      "bal_acc --> 0.7225198185529045\n"
     ]
    },
    {
     "name": "stderr",
     "output_type": "stream",
     "text": [
      " 34%|███▍      | 1392/4103 [00:20<03:32, 12.77it/s] "
     ]
    },
    {
     "name": "stdout",
     "output_type": "stream",
     "text": [
      "Space index: #1                    \n",
      "train|test space size: 13674.0|6837.0                    \n",
      "running loss: 638.743868467398                    \n",
      "bal_acc --> 0.7513680696166821\n"
     ]
    },
    {
     "name": "stderr",
     "output_type": "stream",
     "text": [
      " 67%|██████▋   | 2750/4103 [00:34<01:55, 11.71it/s] "
     ]
    },
    {
     "name": "stdout",
     "output_type": "stream",
     "text": [
      "Space index: #2                    \n",
      "train|test space size: 20511.0|10256.0                    \n",
      "running loss: 627.0106631731614                    \n",
      "bal_acc --> 0.7477113279060862\n"
     ]
    },
    {
     "name": "stderr",
     "output_type": "stream",
     "text": [
      "100%|██████████| 4103/4103 [00:44<00:00, 91.39it/s] \n",
      "  0%|          | 16/4103 [00:04<13:56,  4.88it/s] "
     ]
    },
    {
     "name": "stdout",
     "output_type": "stream",
     "text": [
      "Space index: #0                    \n",
      "train|test space size: 6837.0|3419.0                    \n",
      "running loss: 0.36469265818595886                    \n",
      "bal_acc --> 0.7118643300496629\n"
     ]
    },
    {
     "name": "stderr",
     "output_type": "stream",
     "text": [
      " 34%|███▎      | 1383/4103 [00:20<05:29,  8.25it/s] "
     ]
    },
    {
     "name": "stdout",
     "output_type": "stream",
     "text": [
      "Space index: #1                    \n",
      "train|test space size: 13674.0|6837.0                    \n",
      "running loss: 605.5118559030816                    \n",
      "bal_acc --> 0.7190067455434642\n"
     ]
    },
    {
     "name": "stderr",
     "output_type": "stream",
     "text": [
      " 67%|██████▋   | 2743/4103 [01:13<11:06,  2.04it/s]"
     ]
    },
    {
     "name": "stdout",
     "output_type": "stream",
     "text": [
      "Space index: #2                    \n",
      "train|test space size: 20511.0|10256.0                    \n",
      "running loss: 618.8236162280664                    \n",
      "bal_acc --> 0.7415391266063699\n"
     ]
    },
    {
     "name": "stderr",
     "output_type": "stream",
     "text": [
      "100%|██████████| 4103/4103 [01:54<00:00, 35.78it/s]\n",
      "  0%|          | 10/4103 [00:10<53:15,  1.28it/s]  "
     ]
    },
    {
     "name": "stdout",
     "output_type": "stream",
     "text": [
      "Space index: #0                    \n",
      "train|test space size: 6837.0|3419.0                    \n",
      "running loss: 0.6556748151779175                    \n",
      "bal_acc --> 0.7408961454744257\n"
     ]
    },
    {
     "name": "stderr",
     "output_type": "stream",
     "text": [
      " 34%|███▎      | 1377/4103 [01:03<22:38,  2.01it/s]"
     ]
    },
    {
     "name": "stdout",
     "output_type": "stream",
     "text": [
      "Space index: #1                    \n",
      "train|test space size: 13674.0|6837.0                    \n",
      "running loss: 610.0214561698958                    \n",
      "bal_acc --> 0.7294547170501139\n"
     ]
    },
    {
     "name": "stderr",
     "output_type": "stream",
     "text": [
      " 67%|██████▋   | 2741/4103 [01:55<10:57,  2.07it/s]"
     ]
    },
    {
     "name": "stdout",
     "output_type": "stream",
     "text": [
      "Space index: #2                    \n",
      "train|test space size: 20511.0|10256.0                    \n",
      "running loss: 577.3911439930089                    \n",
      "bal_acc --> 0.7424399494267051\n"
     ]
    },
    {
     "name": "stderr",
     "output_type": "stream",
     "text": [
      "100%|██████████| 4103/4103 [02:35<00:00, 26.35it/s]\n",
      "  0%|          | 7/4103 [00:11<1:23:05,  1.22s/it] "
     ]
    },
    {
     "name": "stdout",
     "output_type": "stream",
     "text": [
      "Space index: #0                    \n",
      "train|test space size: 6837.0|3419.0                    \n",
      "running loss: 0.12136182934045792                    \n",
      "bal_acc --> 0.7450399824548782\n"
     ]
    },
    {
     "name": "stderr",
     "output_type": "stream",
     "text": [
      " 33%|███▎      | 1374/4103 [01:02<25:42,  1.77it/s]"
     ]
    },
    {
     "name": "stdout",
     "output_type": "stream",
     "text": [
      "Space index: #1                    \n",
      "train|test space size: 13674.0|6837.0                    \n",
      "running loss: 590.8842174890451                    \n",
      "bal_acc --> 0.7422513328920705\n"
     ]
    },
    {
     "name": "stderr",
     "output_type": "stream",
     "text": [
      " 67%|██████▋   | 2745/4103 [01:51<11:16,  2.01it/s]"
     ]
    },
    {
     "name": "stdout",
     "output_type": "stream",
     "text": [
      "Space index: #2                    \n",
      "train|test space size: 20511.0|10256.0                    \n",
      "running loss: 603.0326512306929                    \n",
      "bal_acc --> 0.7303029584857369\n"
     ]
    },
    {
     "name": "stderr",
     "output_type": "stream",
     "text": [
      "100%|██████████| 4103/4103 [02:35<00:00, 26.31it/s]\n",
      "  0%|          | 6/4103 [00:11<1:33:22,  1.37s/it] "
     ]
    },
    {
     "name": "stdout",
     "output_type": "stream",
     "text": [
      "Space index: #0                    \n",
      "train|test space size: 6837.0|3419.0                    \n",
      "running loss: 0.09991317987442017                    \n",
      "bal_acc --> 0.7307454845764382\n"
     ]
    },
    {
     "name": "stderr",
     "output_type": "stream",
     "text": [
      " 34%|███▎      | 1378/4103 [00:59<21:02,  2.16it/s]"
     ]
    },
    {
     "name": "stdout",
     "output_type": "stream",
     "text": [
      "Space index: #1                    \n",
      "train|test space size: 13674.0|6837.0                    \n",
      "running loss: 616.2329809204675                    \n",
      "bal_acc --> 0.6915558471312023\n"
     ]
    },
    {
     "name": "stderr",
     "output_type": "stream",
     "text": [
      " 67%|██████▋   | 2746/4103 [01:52<08:53,  2.54it/s]"
     ]
    },
    {
     "name": "stdout",
     "output_type": "stream",
     "text": [
      "Space index: #2                    \n",
      "train|test space size: 20511.0|10256.0                    \n",
      "running loss: 575.1776366122067                    \n",
      "bal_acc --> 0.7102319948195813\n"
     ]
    },
    {
     "name": "stderr",
     "output_type": "stream",
     "text": [
      "100%|██████████| 4103/4103 [02:37<00:00, 26.07it/s]\n",
      "  0%|          | 8/4103 [00:11<1:14:14,  1.09s/it] "
     ]
    },
    {
     "name": "stdout",
     "output_type": "stream",
     "text": [
      "Space index: #0                    \n",
      "train|test space size: 6837.0|3419.0                    \n",
      "running loss: 0.7370330691337585                    \n",
      "bal_acc --> 0.7305013503440156\n"
     ]
    },
    {
     "name": "stderr",
     "output_type": "stream",
     "text": [
      " 34%|███▎      | 1376/4103 [01:04<18:43,  2.43it/s]"
     ]
    },
    {
     "name": "stdout",
     "output_type": "stream",
     "text": [
      "Space index: #1                    \n",
      "train|test space size: 13674.0|6837.0                    \n",
      "running loss: 598.7146360073239                    \n",
      "bal_acc --> 0.7229364984534081\n"
     ]
    },
    {
     "name": "stderr",
     "output_type": "stream",
     "text": [
      " 67%|██████▋   | 2754/4103 [01:40<01:34, 14.28it/s] "
     ]
    },
    {
     "name": "stdout",
     "output_type": "stream",
     "text": [
      "Space index: #2                    \n",
      "train|test space size: 20511.0|10256.0                    \n",
      "running loss: 594.1187904812396                    \n",
      "bal_acc --> 0.6948746253745168\n"
     ]
    },
    {
     "name": "stderr",
     "output_type": "stream",
     "text": [
      "100%|██████████| 4103/4103 [01:51<00:00, 36.87it/s] \n",
      "  0%|          | 13/4103 [00:04<17:22,  3.92it/s] "
     ]
    },
    {
     "name": "stdout",
     "output_type": "stream",
     "text": [
      "Space index: #0                    \n",
      "train|test space size: 6837.0|3419.0                    \n",
      "running loss: 0.25274085998535156                    \n",
      "bal_acc --> 0.7178225962390662\n"
     ]
    },
    {
     "name": "stderr",
     "output_type": "stream",
     "text": [
      " 34%|███▍      | 1393/4103 [00:19<03:32, 12.78it/s] "
     ]
    },
    {
     "name": "stdout",
     "output_type": "stream",
     "text": [
      "Space index: #1                    \n",
      "train|test space size: 13674.0|6837.0                    \n",
      "running loss: 542.0322975059971                    \n",
      "bal_acc --> 0.7265250810344202\n"
     ]
    },
    {
     "name": "stderr",
     "output_type": "stream",
     "text": [
      " 67%|██████▋   | 2763/4103 [00:34<01:36, 13.90it/s] "
     ]
    },
    {
     "name": "stdout",
     "output_type": "stream",
     "text": [
      "Space index: #2                    \n",
      "train|test space size: 20511.0|10256.0                    \n",
      "running loss: 594.2495665918104                    \n",
      "bal_acc --> 0.7123060109741024\n"
     ]
    },
    {
     "name": "stderr",
     "output_type": "stream",
     "text": [
      "100%|██████████| 4103/4103 [00:45<00:00, 90.85it/s] \n",
      "  0%|          | 14/4103 [00:04<16:33,  4.12it/s] "
     ]
    },
    {
     "name": "stdout",
     "output_type": "stream",
     "text": [
      "Space index: #0                    \n",
      "train|test space size: 6837.0|3419.0                    \n",
      "running loss: 0.31662553548812866                    \n",
      "bal_acc --> 0.7305577315083214\n"
     ]
    },
    {
     "name": "stderr",
     "output_type": "stream",
     "text": [
      " 34%|███▎      | 1378/4103 [00:19<03:53, 11.68it/s] "
     ]
    },
    {
     "name": "stdout",
     "output_type": "stream",
     "text": [
      "Space index: #1                    \n",
      "train|test space size: 13674.0|6837.0                    \n",
      "running loss: 555.428161512129                    \n",
      "bal_acc --> 0.7203507250296936\n"
     ]
    },
    {
     "name": "stderr",
     "output_type": "stream",
     "text": [
      " 67%|██████▋   | 2751/4103 [00:34<01:50, 12.18it/s] "
     ]
    },
    {
     "name": "stdout",
     "output_type": "stream",
     "text": [
      "Space index: #2                    \n",
      "train|test space size: 20511.0|10256.0                    \n",
      "running loss: 576.6516622784548                    \n",
      "bal_acc --> 0.6967915386834637\n"
     ]
    },
    {
     "name": "stderr",
     "output_type": "stream",
     "text": [
      "100%|██████████| 4103/4103 [00:45<00:00, 89.44it/s] \n"
     ]
    },
    {
     "name": "stdout",
     "output_type": "stream",
     "text": [
      "Finished Training\n",
      "FOLD 2\n",
      "--------------------------------\n",
      "n training examples: 4103        \n",
      "train_space intervals: [    0.  6837. 13675. 20512.]        \n",
      "test_space intervals: [    0.  3418.  6837. 10255.]\n"
     ]
    },
    {
     "name": "stderr",
     "output_type": "stream",
     "text": [
      "  0%|          | 16/4103 [00:04<13:58,  4.88it/s] "
     ]
    },
    {
     "name": "stdout",
     "output_type": "stream",
     "text": [
      "Space index: #0                    \n",
      "train|test space size: 6837.0|3418.0                    \n",
      "running loss: 0.49506473541259766                    \n",
      "bal_acc --> 0.8571861502077027\n"
     ]
    },
    {
     "name": "stderr",
     "output_type": "stream",
     "text": [
      " 34%|███▍      | 1389/4103 [00:19<03:05, 14.63it/s] "
     ]
    },
    {
     "name": "stdout",
     "output_type": "stream",
     "text": [
      "Space index: #1                    \n",
      "train|test space size: 13675.0|6837.0                    \n",
      "running loss: 702.2640033047646                    \n",
      "bal_acc --> 0.7621060220444567\n"
     ]
    },
    {
     "name": "stderr",
     "output_type": "stream",
     "text": [
      " 67%|██████▋   | 2757/4103 [00:34<01:52, 11.98it/s] "
     ]
    },
    {
     "name": "stdout",
     "output_type": "stream",
     "text": [
      "Space index: #2                    \n",
      "train|test space size: 20512.0|10255.0                    \n",
      "running loss: 711.7026643157005                    \n",
      "bal_acc --> 0.8020697126777495\n"
     ]
    },
    {
     "name": "stderr",
     "output_type": "stream",
     "text": [
      "100%|██████████| 4103/4103 [00:45<00:00, 90.90it/s] \n",
      "  0%|          | 17/4103 [00:04<13:18,  5.11it/s] "
     ]
    },
    {
     "name": "stdout",
     "output_type": "stream",
     "text": [
      "Space index: #0                    \n",
      "train|test space size: 6837.0|3418.0                    \n",
      "running loss: 0.5503241419792175                    \n",
      "bal_acc --> 0.7873590912281243\n"
     ]
    },
    {
     "name": "stderr",
     "output_type": "stream",
     "text": [
      " 34%|███▍      | 1387/4103 [00:19<03:19, 13.60it/s] "
     ]
    },
    {
     "name": "stdout",
     "output_type": "stream",
     "text": [
      "Space index: #1                    \n",
      "train|test space size: 13675.0|6837.0                    \n",
      "running loss: 664.4248627601191                    \n",
      "bal_acc --> 0.7776814272662806\n"
     ]
    },
    {
     "name": "stderr",
     "output_type": "stream",
     "text": [
      " 67%|██████▋   | 2760/4103 [00:34<01:32, 14.47it/s] "
     ]
    },
    {
     "name": "stdout",
     "output_type": "stream",
     "text": [
      "Space index: #2                    \n",
      "train|test space size: 20512.0|10255.0                    \n",
      "running loss: 675.6640369696543                    \n",
      "bal_acc --> 0.7871209732555876\n"
     ]
    },
    {
     "name": "stderr",
     "output_type": "stream",
     "text": [
      "100%|██████████| 4103/4103 [00:44<00:00, 91.28it/s] \n",
      "  0%|          | 13/4103 [00:05<19:48,  3.44it/s] "
     ]
    },
    {
     "name": "stdout",
     "output_type": "stream",
     "text": [
      "Space index: #0                    \n",
      "train|test space size: 6837.0|3418.0                    \n",
      "running loss: 0.5686624646186829                    \n",
      "bal_acc --> 0.7868047226197055\n"
     ]
    },
    {
     "name": "stderr",
     "output_type": "stream",
     "text": [
      " 34%|███▎      | 1384/4103 [00:20<03:18, 13.68it/s] "
     ]
    },
    {
     "name": "stdout",
     "output_type": "stream",
     "text": [
      "Space index: #1                    \n",
      "train|test space size: 13675.0|6837.0                    \n",
      "running loss: 642.0489202328026                    \n",
      "bal_acc --> 0.7969881252969157\n"
     ]
    },
    {
     "name": "stderr",
     "output_type": "stream",
     "text": [
      " 67%|██████▋   | 2760/4103 [00:35<01:51, 12.10it/s] "
     ]
    },
    {
     "name": "stdout",
     "output_type": "stream",
     "text": [
      "Space index: #2                    \n",
      "train|test space size: 20512.0|10255.0                    \n",
      "running loss: 632.2973182694986                    \n",
      "bal_acc --> 0.7791762133790059\n"
     ]
    },
    {
     "name": "stderr",
     "output_type": "stream",
     "text": [
      "100%|██████████| 4103/4103 [00:46<00:00, 88.64it/s] \n",
      "  0%|          | 16/4103 [00:04<14:46,  4.61it/s] "
     ]
    },
    {
     "name": "stdout",
     "output_type": "stream",
     "text": [
      "Space index: #0                    \n",
      "train|test space size: 6837.0|3418.0                    \n",
      "running loss: 0.7140321731567383                    \n",
      "bal_acc --> 0.7821835119625108\n"
     ]
    },
    {
     "name": "stderr",
     "output_type": "stream",
     "text": [
      " 34%|███▍      | 1394/4103 [00:20<03:42, 12.15it/s] "
     ]
    },
    {
     "name": "stdout",
     "output_type": "stream",
     "text": [
      "Space index: #1                    \n",
      "train|test space size: 13675.0|6837.0                    \n",
      "running loss: 609.1787254563533                    \n",
      "bal_acc --> 0.7798211217979469\n"
     ]
    },
    {
     "name": "stderr",
     "output_type": "stream",
     "text": [
      " 67%|██████▋   | 2762/4103 [00:34<01:35, 14.07it/s] "
     ]
    },
    {
     "name": "stdout",
     "output_type": "stream",
     "text": [
      "Space index: #2                    \n",
      "train|test space size: 20512.0|10255.0                    \n",
      "running loss: 623.729363059625                    \n",
      "bal_acc --> 0.723279845323019\n"
     ]
    },
    {
     "name": "stderr",
     "output_type": "stream",
     "text": [
      "100%|██████████| 4103/4103 [00:45<00:00, 90.98it/s] \n",
      "  0%|          | 16/4103 [00:05<16:21,  4.17it/s] "
     ]
    },
    {
     "name": "stdout",
     "output_type": "stream",
     "text": [
      "Space index: #0                    \n",
      "train|test space size: 6837.0|3418.0                    \n",
      "running loss: 0.2816050052642822                    \n",
      "bal_acc --> 0.7661924449369291\n"
     ]
    },
    {
     "name": "stderr",
     "output_type": "stream",
     "text": [
      " 34%|███▎      | 1380/4103 [00:20<03:58, 11.42it/s] "
     ]
    },
    {
     "name": "stdout",
     "output_type": "stream",
     "text": [
      "Space index: #1                    \n",
      "train|test space size: 13675.0|6837.0                    \n",
      "running loss: 617.2542817499489                    \n",
      "bal_acc --> 0.7452580285112267\n"
     ]
    },
    {
     "name": "stderr",
     "output_type": "stream",
     "text": [
      " 67%|██████▋   | 2764/4103 [00:36<01:40, 13.29it/s] "
     ]
    },
    {
     "name": "stdout",
     "output_type": "stream",
     "text": [
      "Space index: #2                    \n",
      "train|test space size: 20512.0|10255.0                    \n",
      "running loss: 623.7458329219371                    \n",
      "bal_acc --> 0.8049629074263205\n"
     ]
    },
    {
     "name": "stderr",
     "output_type": "stream",
     "text": [
      "100%|██████████| 4103/4103 [00:46<00:00, 89.05it/s] \n",
      "  0%|          | 15/4103 [00:04<14:39,  4.65it/s] "
     ]
    },
    {
     "name": "stdout",
     "output_type": "stream",
     "text": [
      "Space index: #0                    \n",
      "train|test space size: 6837.0|3418.0                    \n",
      "running loss: 0.3502349555492401                    \n",
      "bal_acc --> 0.7614057741165372\n"
     ]
    },
    {
     "name": "stderr",
     "output_type": "stream",
     "text": [
      " 34%|███▍      | 1386/4103 [00:19<03:31, 12.82it/s] "
     ]
    },
    {
     "name": "stdout",
     "output_type": "stream",
     "text": [
      "Space index: #1                    \n",
      "train|test space size: 13675.0|6837.0                    \n",
      "running loss: 623.5125302765518                    \n",
      "bal_acc --> 0.7165874466850772\n"
     ]
    },
    {
     "name": "stderr",
     "output_type": "stream",
     "text": [
      " 67%|██████▋   | 2753/4103 [00:34<01:43, 13.10it/s] "
     ]
    },
    {
     "name": "stdout",
     "output_type": "stream",
     "text": [
      "Space index: #2                    \n",
      "train|test space size: 20512.0|10255.0                    \n",
      "running loss: 601.8928948999383                    \n",
      "bal_acc --> 0.7879463648832472\n"
     ]
    },
    {
     "name": "stderr",
     "output_type": "stream",
     "text": [
      "100%|██████████| 4103/4103 [00:44<00:00, 91.67it/s] \n",
      "  0%|          | 15/4103 [00:05<17:26,  3.91it/s] "
     ]
    },
    {
     "name": "stdout",
     "output_type": "stream",
     "text": [
      "Space index: #0                    \n",
      "train|test space size: 6837.0|3418.0                    \n",
      "running loss: 0.22534628212451935                    \n",
      "bal_acc --> 0.7806516922983262\n"
     ]
    },
    {
     "name": "stderr",
     "output_type": "stream",
     "text": [
      " 34%|███▍      | 1398/4103 [00:19<03:11, 14.14it/s] "
     ]
    },
    {
     "name": "stdout",
     "output_type": "stream",
     "text": [
      "Space index: #1                    \n",
      "train|test space size: 13675.0|6837.0                    \n",
      "running loss: 580.1171300970018                    \n",
      "bal_acc --> 0.7951336089512235\n"
     ]
    },
    {
     "name": "stderr",
     "output_type": "stream",
     "text": [
      " 67%|██████▋   | 2752/4103 [00:35<01:49, 12.36it/s] "
     ]
    },
    {
     "name": "stdout",
     "output_type": "stream",
     "text": [
      "Space index: #2                    \n",
      "train|test space size: 20512.0|10255.0                    \n",
      "running loss: 609.1753389253281                    \n",
      "bal_acc --> 0.7725613109400715\n"
     ]
    },
    {
     "name": "stderr",
     "output_type": "stream",
     "text": [
      "100%|██████████| 4103/4103 [00:45<00:00, 90.80it/s] \n",
      "  0%|          | 16/4103 [00:04<13:49,  4.93it/s] "
     ]
    },
    {
     "name": "stdout",
     "output_type": "stream",
     "text": [
      "Space index: #0                    \n",
      "train|test space size: 6837.0|3418.0                    \n",
      "running loss: 0.16887637972831726                    \n",
      "bal_acc --> 0.7654512397228805\n"
     ]
    },
    {
     "name": "stderr",
     "output_type": "stream",
     "text": [
      " 34%|███▍      | 1392/4103 [00:21<05:00,  9.02it/s] "
     ]
    },
    {
     "name": "stdout",
     "output_type": "stream",
     "text": [
      "Space index: #1                    \n",
      "train|test space size: 13675.0|6837.0                    \n",
      "running loss: 596.6344546331093                    \n",
      "bal_acc --> 0.7530777959341919\n"
     ]
    },
    {
     "name": "stderr",
     "output_type": "stream",
     "text": [
      " 67%|██████▋   | 2754/4103 [00:35<01:30, 14.94it/s] "
     ]
    },
    {
     "name": "stdout",
     "output_type": "stream",
     "text": [
      "Space index: #2                    \n",
      "train|test space size: 20512.0|10255.0                    \n",
      "running loss: 595.6905857720412                    \n",
      "bal_acc --> 0.7424826475063351\n"
     ]
    },
    {
     "name": "stderr",
     "output_type": "stream",
     "text": [
      "100%|██████████| 4103/4103 [00:46<00:00, 89.05it/s] \n",
      "  0%|          | 11/4103 [00:05<23:38,  2.88it/s] "
     ]
    },
    {
     "name": "stdout",
     "output_type": "stream",
     "text": [
      "Space index: #0                    \n",
      "train|test space size: 6837.0|3418.0                    \n",
      "running loss: 0.4439117908477783                    \n",
      "bal_acc --> 0.7386400174531107\n"
     ]
    },
    {
     "name": "stderr",
     "output_type": "stream",
     "text": [
      " 34%|███▍      | 1387/4103 [00:19<03:08, 14.40it/s] "
     ]
    },
    {
     "name": "stdout",
     "output_type": "stream",
     "text": [
      "Space index: #1                    \n",
      "train|test space size: 13675.0|6837.0                    \n",
      "running loss: 583.5667162071913                    \n",
      "bal_acc --> 0.7714069820421073\n"
     ]
    },
    {
     "name": "stderr",
     "output_type": "stream",
     "text": [
      " 67%|██████▋   | 2760/4103 [00:34<01:43, 12.98it/s] "
     ]
    },
    {
     "name": "stdout",
     "output_type": "stream",
     "text": [
      "Space index: #2                    \n",
      "train|test space size: 20512.0|10255.0                    \n",
      "running loss: 600.7835594406351                    \n",
      "bal_acc --> 0.7612813116566377\n"
     ]
    },
    {
     "name": "stderr",
     "output_type": "stream",
     "text": [
      "100%|██████████| 4103/4103 [00:45<00:00, 91.09it/s] \n",
      "  0%|          | 16/4103 [00:04<14:11,  4.80it/s] "
     ]
    },
    {
     "name": "stdout",
     "output_type": "stream",
     "text": [
      "Space index: #0                    \n",
      "train|test space size: 6837.0|3418.0                    \n",
      "running loss: 0.16570520401000977                    \n",
      "bal_acc --> 0.7286398654504826\n"
     ]
    },
    {
     "name": "stderr",
     "output_type": "stream",
     "text": [
      " 34%|███▍      | 1387/4103 [00:20<03:39, 12.39it/s] "
     ]
    },
    {
     "name": "stdout",
     "output_type": "stream",
     "text": [
      "Space index: #1                    \n",
      "train|test space size: 13675.0|6837.0                    \n",
      "running loss: 548.4039626927115                    \n",
      "bal_acc --> 0.7618562869713316\n"
     ]
    },
    {
     "name": "stderr",
     "output_type": "stream",
     "text": [
      " 67%|██████▋   | 2757/4103 [00:35<01:38, 13.60it/s] "
     ]
    },
    {
     "name": "stdout",
     "output_type": "stream",
     "text": [
      "Space index: #2                    \n",
      "train|test space size: 20512.0|10255.0                    \n",
      "running loss: 594.8161334911129                    \n",
      "bal_acc --> 0.7815359573635965\n"
     ]
    },
    {
     "name": "stderr",
     "output_type": "stream",
     "text": [
      "100%|██████████| 4103/4103 [00:46<00:00, 88.94it/s] \n",
      "  0%|          | 13/4103 [00:05<19:08,  3.56it/s] "
     ]
    },
    {
     "name": "stdout",
     "output_type": "stream",
     "text": [
      "Space index: #0                    \n",
      "train|test space size: 6837.0|3418.0                    \n",
      "running loss: 0.1761765331029892                    \n",
      "bal_acc --> 0.7467128226476148\n"
     ]
    },
    {
     "name": "stderr",
     "output_type": "stream",
     "text": [
      " 34%|███▎      | 1381/4103 [00:19<03:24, 13.34it/s] "
     ]
    },
    {
     "name": "stdout",
     "output_type": "stream",
     "text": [
      "Space index: #1                    \n",
      "train|test space size: 13675.0|6837.0                    \n",
      "running loss: 557.0797829548828                    \n",
      "bal_acc --> 0.7450862714633043\n"
     ]
    },
    {
     "name": "stderr",
     "output_type": "stream",
     "text": [
      " 67%|██████▋   | 2761/4103 [00:34<01:29, 15.04it/s] "
     ]
    },
    {
     "name": "stdout",
     "output_type": "stream",
     "text": [
      "Space index: #2                    \n",
      "train|test space size: 20512.0|10255.0                    \n",
      "running loss: 563.3527444774518                    \n",
      "bal_acc --> 0.7370010982237891\n"
     ]
    },
    {
     "name": "stderr",
     "output_type": "stream",
     "text": [
      "100%|██████████| 4103/4103 [00:43<00:00, 94.65it/s] \n",
      "  0%|          | 14/4103 [00:04<14:45,  4.62it/s] "
     ]
    },
    {
     "name": "stdout",
     "output_type": "stream",
     "text": [
      "Space index: #0                    \n",
      "train|test space size: 6837.0|3418.0                    \n",
      "running loss: 0.04247940331697464                    \n",
      "bal_acc --> 0.728972307314091\n"
     ]
    },
    {
     "name": "stderr",
     "output_type": "stream",
     "text": [
      " 34%|███▎      | 1383/4103 [00:17<02:56, 15.41it/s] "
     ]
    },
    {
     "name": "stdout",
     "output_type": "stream",
     "text": [
      "Space index: #1                    \n",
      "train|test space size: 13675.0|6837.0                    \n",
      "running loss: 545.6789462054148                    \n",
      "bal_acc --> 0.7617095293255718\n"
     ]
    },
    {
     "name": "stderr",
     "output_type": "stream",
     "text": [
      " 67%|██████▋   | 2752/4103 [00:31<01:23, 16.27it/s] "
     ]
    },
    {
     "name": "stdout",
     "output_type": "stream",
     "text": [
      "Space index: #2                    \n",
      "train|test space size: 20512.0|10255.0                    \n",
      "running loss: 564.5443256761646                    \n",
      "bal_acc --> 0.6975986051766656\n"
     ]
    },
    {
     "name": "stderr",
     "output_type": "stream",
     "text": [
      "100%|██████████| 4103/4103 [00:41<00:00, 99.53it/s] \n",
      "  0%|          | 16/4103 [00:04<12:53,  5.28it/s] "
     ]
    },
    {
     "name": "stdout",
     "output_type": "stream",
     "text": [
      "Space index: #0                    \n",
      "train|test space size: 6837.0|3418.0                    \n",
      "running loss: 0.134211927652359                    \n",
      "bal_acc --> 0.6812255853140694\n"
     ]
    },
    {
     "name": "stderr",
     "output_type": "stream",
     "text": [
      " 34%|███▎      | 1384/4103 [00:18<03:03, 14.85it/s] "
     ]
    },
    {
     "name": "stdout",
     "output_type": "stream",
     "text": [
      "Space index: #1                    \n",
      "train|test space size: 13675.0|6837.0                    \n",
      "running loss: 538.009453650564                    \n",
      "bal_acc --> 0.7461684434609822\n"
     ]
    },
    {
     "name": "stderr",
     "output_type": "stream",
     "text": [
      " 67%|██████▋   | 2760/4103 [00:31<01:20, 16.69it/s] "
     ]
    },
    {
     "name": "stdout",
     "output_type": "stream",
     "text": [
      "Space index: #2                    \n",
      "train|test space size: 20512.0|10255.0                    \n",
      "running loss: 584.9686025497504                    \n",
      "bal_acc --> 0.7526006807355422\n"
     ]
    },
    {
     "name": "stderr",
     "output_type": "stream",
     "text": [
      "100%|██████████| 4103/4103 [00:41<00:00, 99.92it/s] \n",
      "  0%|          | 18/4103 [00:04<11:28,  5.94it/s] "
     ]
    },
    {
     "name": "stdout",
     "output_type": "stream",
     "text": [
      "Space index: #0                    \n",
      "train|test space size: 6837.0|3418.0                    \n",
      "running loss: 0.03164813295006752                    \n",
      "bal_acc --> 0.7136230013647149\n"
     ]
    },
    {
     "name": "stderr",
     "output_type": "stream",
     "text": [
      " 34%|███▍      | 1385/4103 [00:18<03:00, 15.06it/s] "
     ]
    },
    {
     "name": "stdout",
     "output_type": "stream",
     "text": [
      "Space index: #1                    \n",
      "train|test space size: 13675.0|6837.0                    \n",
      "running loss: 532.885809689993                    \n",
      "bal_acc --> 0.7157560074123679\n"
     ]
    },
    {
     "name": "stderr",
     "output_type": "stream",
     "text": [
      " 67%|██████▋   | 2762/4103 [00:32<01:25, 15.68it/s] "
     ]
    },
    {
     "name": "stdout",
     "output_type": "stream",
     "text": [
      "Space index: #2                    \n",
      "train|test space size: 20512.0|10255.0                    \n",
      "running loss: 565.7453654343262                    \n",
      "bal_acc --> 0.7484806771626471\n"
     ]
    },
    {
     "name": "stderr",
     "output_type": "stream",
     "text": [
      "100%|██████████| 4103/4103 [00:41<00:00, 98.39it/s] \n",
      "  0%|          | 14/4103 [00:04<16:09,  4.22it/s] "
     ]
    },
    {
     "name": "stdout",
     "output_type": "stream",
     "text": [
      "Space index: #0                    \n",
      "train|test space size: 6837.0|3418.0                    \n",
      "running loss: 0.321463406085968                    \n",
      "bal_acc --> 0.7355937241142393\n"
     ]
    },
    {
     "name": "stderr",
     "output_type": "stream",
     "text": [
      " 34%|███▎      | 1384/4103 [00:18<02:56, 15.38it/s] "
     ]
    },
    {
     "name": "stdout",
     "output_type": "stream",
     "text": [
      "Space index: #1                    \n",
      "train|test space size: 13675.0|6837.0                    \n",
      "running loss: 514.9619012018666                    \n",
      "bal_acc --> 0.7416323453146545\n"
     ]
    },
    {
     "name": "stderr",
     "output_type": "stream",
     "text": [
      " 67%|██████▋   | 2761/4103 [00:32<01:17, 17.37it/s] "
     ]
    },
    {
     "name": "stdout",
     "output_type": "stream",
     "text": [
      "Space index: #2                    \n",
      "train|test space size: 20512.0|10255.0                    \n",
      "running loss: 534.3837796696462                    \n",
      "bal_acc --> 0.7593496218948296\n"
     ]
    },
    {
     "name": "stderr",
     "output_type": "stream",
     "text": [
      "100%|██████████| 4103/4103 [00:41<00:00, 98.59it/s] "
     ]
    },
    {
     "name": "stdout",
     "output_type": "stream",
     "text": [
      "Finished Training\n"
     ]
    },
    {
     "name": "stderr",
     "output_type": "stream",
     "text": [
      "\n"
     ]
    }
   ],
   "source": [
    "# dataset = np.concatenate([v for k,v in nn_set.items()])\n",
    "\n",
    "space = np.linspace(0,1,4)\n",
    "results = []\n",
    "train_sizes = []\n",
    "batch_size = 5\n",
    "\n",
    "# 5-fold cross-validation\n",
    "kfold = KFold(n_splits=2, shuffle=True, random_state=42)\n",
    "\n",
    "# K-fold Cross Validation model evaluation\n",
    "for fold, (train_ids, test_ids) in enumerate(kfold.split(dataset)):\n",
    "\n",
    "    print(f'FOLD {fold}')\n",
    "    print('--------------------------------')\n",
    "\n",
    "    # Sample elements randomly from a given list of ids, no replacement.\n",
    "    train_subsampler = torch.utils.data.SubsetRandomSampler(train_ids)\n",
    "    test_subsampler = torch.utils.data.SubsetRandomSampler(test_ids)\n",
    "    # Define data loaders for training and testing data in this fold\n",
    "    trainloader = DataLoader(dataset, batch_size=batch_size, sampler=train_subsampler)\n",
    "    testloader = DataLoader(dataset, batch_size=batch_size, sampler=test_subsampler)\n",
    "\n",
    "    train_space = np.round(space * len(train_ids))\n",
    "    test_space = np.round(space * len(test_ids))\n",
    "    \n",
    "    print(f\"n training examples: {len(trainloader)}\\\n",
    "        \\ntrain_space intervals: {train_space}\\\n",
    "        \\ntest_space intervals: {test_space}\")\n",
    "\n",
    "    epoch_bal_acc = []\n",
    "\n",
    "    # for epoch in range(n_epochs):\n",
    "    for epoch in range(3):\n",
    "        count = 0\n",
    "        count_space = 0\n",
    "        running_loss = 0.0\n",
    "        bal_acc = []\n",
    "\n",
    "        for i, data in enumerate(tqdm(trainloader)):\n",
    "\n",
    "            count += 1\n",
    "            # get the inputs; data is a list of [inputs, labels]\n",
    "            inputs, labels = data\n",
    "\n",
    "            # zero the parameter gradients\n",
    "            optimizer.zero_grad()\n",
    "\n",
    "            # forward + backward + optimize\n",
    "            outputs = fs_model(inputs)\n",
    "            loss = criterion(outputs, labels)\n",
    "            loss.backward()\n",
    "            optimizer.step()\n",
    "\n",
    "            running_loss += loss.item()\n",
    "\n",
    "            # test per batch\n",
    "            if i*batch_size >= train_space[count_space]:\n",
    "                if fold == 0:\n",
    "                    train_sizes += [i*batch_size]\n",
    "                correct = 0\n",
    "                total = 0\n",
    "                y_true = []\n",
    "                y_pred = []\n",
    "                count_space += 1\n",
    "                with torch.no_grad():\n",
    "                    for _i, data in enumerate(testloader):\n",
    "                        inputs, labels = data\n",
    "                        outputs = fs_model(inputs)\n",
    "                        # the class with the highest energy is what we choose as prediction\n",
    "                        _, predicted = torch.max(outputs.data, 1)\n",
    "                        y_true += [labels]\n",
    "                        y_pred += [predicted]\n",
    "                        total += labels.size(0)\n",
    "                        correct += (predicted == labels).sum().item()\n",
    "\n",
    "                    y_true = np.concatenate(y_true)\n",
    "                    y_pred = np.concatenate(y_pred)\n",
    "                _bal_acc = balanced_accuracy_score(y_true, y_pred)\n",
    "                bal_acc += [_bal_acc]\n",
    "                print(f'Space index: #{count_space-1}\\\n",
    "                    \\ntrain|test space size: {train_space[count_space]}|{test_space[count_space]}\\\n",
    "                    \\nrunning loss: {running_loss}\\\n",
    "                    \\nbal_acc --> {_bal_acc}')\n",
    "                # print(f'#{count_space} [{i}|{test_space[count_space]}] ---> {balanced_accuracy_score(y_true, y_pred)}')\n",
    "                # print(f'[{epoch + 1}] loss: {loss.item()} | running_loss: {running_loss})')\n",
    "                running_loss = 0.0\n",
    "            epoch_bal_acc += [bal_acc]\n",
    "                \n",
    "        fold_bal_acc += [epoch_bal_acc]\n",
    "\n",
    "    print('Finished Training')"
   ]
  },
  {
   "cell_type": "code",
   "execution_count": 173,
   "metadata": {},
   "outputs": [],
   "source": [
    "# from copy import deepcopy\n",
    "# copy_fold_bal_acc = deepcopy(fold_bal_acc)"
   ]
  },
  {
   "cell_type": "code",
   "execution_count": 176,
   "metadata": {},
   "outputs": [
    {
     "name": "stdout",
     "output_type": "stream",
     "text": [
      "tensor([[     1315.,       109.,        41.,         3.,        77.],\n",
      "        [       98.,       440.,       206.,         5.,       165.],\n",
      "        [       20.,       111.,      4345.,       323.,       192.],\n",
      "        [        1.,         1.,       204.,       910.,         2.],\n",
      "        [       28.,       161.,       232.,         1.,      1265.]])\n",
      "              precision    recall  f1-score   support\n",
      "\n",
      "           0       0.90      0.85      0.87      1545\n",
      "           1       0.54      0.48      0.51       914\n",
      "           2       0.86      0.87      0.87      4991\n",
      "           3       0.73      0.81      0.77      1118\n",
      "           4       0.74      0.75      0.75      1687\n",
      "\n",
      "    accuracy                           0.81     10255\n",
      "   macro avg       0.76      0.75      0.75     10255\n",
      "weighted avg       0.81      0.81      0.81     10255\n",
      "\n"
     ]
    }
   ],
   "source": [
    "matrix, report = conf_matrix_class_report(fs_model, testloader, n_classes)\n",
    "print(matrix)\n",
    "print(report)"
   ]
  },
  {
   "cell_type": "code",
   "execution_count": 120,
   "metadata": {},
   "outputs": [
    {
     "data": {
      "text/plain": [
       "torch.return_types.max(\n",
       "values=tensor([2.2961, 4.9992, 4.9605, 6.7471]),\n",
       "indices=tensor([1, 4, 4, 2]))"
      ]
     },
     "execution_count": 120,
     "metadata": {},
     "output_type": "execute_result"
    }
   ],
   "source": [
    "outputs = fs_model(inputs)\n",
    "torch.max(outputs.data, 1)"
   ]
  },
  {
   "cell_type": "code",
   "execution_count": 37,
   "metadata": {},
   "outputs": [
    {
     "data": {
      "text/plain": [
       "tensor([[-2.6006, -2.1025, -0.4791, -4.0898, -0.2418]],\n",
       "       grad_fn=<AddmmBackward>)"
      ]
     },
     "execution_count": 37,
     "metadata": {},
     "output_type": "execute_result"
    }
   ],
   "source": [
    "example = next(iter(loader['test']))\n",
    "inputs, labels = example\n",
    "outputs = fs_model(inputs)\n",
    "outputs"
   ]
  },
  {
   "cell_type": "code",
   "execution_count": 134,
   "metadata": {},
   "outputs": [],
   "source": [
    "results = np.array(fold_bal_acc)"
   ]
  },
  {
   "cell_type": "code",
   "execution_count": 154,
   "metadata": {},
   "outputs": [
    {
     "data": {
      "text/plain": [
       "([19, 19, 19, 19, 19], 19)"
      ]
     },
     "execution_count": 154,
     "metadata": {},
     "output_type": "execute_result"
    }
   ],
   "source": [
    "[len(x) for x in results], len(train_sizes)"
   ]
  },
  {
   "cell_type": "code",
   "execution_count": 181,
   "metadata": {},
   "outputs": [
    {
     "data": {
      "text/plain": [
       "array([[0.73696631, 0.71454731, 0.73481457],\n",
       "       [0.73696631, 0.71454731, 0.73481457],\n",
       "       [0.73696631, 0.71454731, 0.73481457],\n",
       "       ...,\n",
       "       [0.67572514, 0.7183993 , 0.68217892],\n",
       "       [0.67572514, 0.7183993 , 0.68217892],\n",
       "       [0.67572514, 0.7183993 , 0.68217892]])"
      ]
     },
     "execution_count": 181,
     "metadata": {},
     "output_type": "execute_result"
    }
   ],
   "source": [
    "results[0]"
   ]
  },
  {
   "cell_type": "code",
   "execution_count": 177,
   "metadata": {},
   "outputs": [
    {
     "name": "stdout",
     "output_type": "stream",
     "text": [
      ":: plotting learning curves... "
     ]
    },
    {
     "ename": "ValueError",
     "evalue": "'y1' is not 1-dimensional",
     "output_type": "error",
     "traceback": [
      "\u001b[0;31m---------------------------------------------------------------------------\u001b[0m",
      "\u001b[0;31mValueError\u001b[0m                                Traceback (most recent call last)",
      "\u001b[0;32m<ipython-input-177-df184b34a9af>\u001b[0m in \u001b[0;36m<module>\u001b[0;34m\u001b[0m\n\u001b[1;32m      3\u001b[0m \u001b[0;34m\u001b[0m\u001b[0m\n\u001b[1;32m      4\u001b[0m \u001b[0mresults\u001b[0m \u001b[0;34m=\u001b[0m \u001b[0mnp\u001b[0m\u001b[0;34m.\u001b[0m\u001b[0marray\u001b[0m\u001b[0;34m(\u001b[0m\u001b[0mfold_bal_acc\u001b[0m\u001b[0;34m)\u001b[0m\u001b[0;34m\u001b[0m\u001b[0;34m\u001b[0m\u001b[0m\n\u001b[0;32m----> 5\u001b[0;31m \u001b[0mp\u001b[0m\u001b[0;34m.\u001b[0m\u001b[0mplot_learning_curves\u001b[0m\u001b[0;34m(\u001b[0m\u001b[0mtrain_sizes\u001b[0m\u001b[0;34m[\u001b[0m\u001b[0;36m1\u001b[0m\u001b[0;34m:\u001b[0m\u001b[0;34m]\u001b[0m\u001b[0;34m,\u001b[0m \u001b[0mtrain_sizes\u001b[0m\u001b[0;34m[\u001b[0m\u001b[0;36m1\u001b[0m\u001b[0;34m:\u001b[0m\u001b[0;34m]\u001b[0m\u001b[0;34m,\u001b[0m \u001b[0mresults\u001b[0m\u001b[0;34m.\u001b[0m\u001b[0mT\u001b[0m\u001b[0;34m,\u001b[0m \u001b[0mresults\u001b[0m\u001b[0;34m.\u001b[0m\u001b[0mT\u001b[0m\u001b[0;34m,\u001b[0m \u001b[0;34m'fs_cnn_test'\u001b[0m\u001b[0;34m)\u001b[0m\u001b[0;34m\u001b[0m\u001b[0;34m\u001b[0m\u001b[0m\n\u001b[0m",
      "\u001b[0;32m~/Documents/VU/Year_2/M.Sc._Thesis_[X_400285]/my_thesis/code/ssl_thesis/plot.py\u001b[0m in \u001b[0;36mplot_learning_curves\u001b[0;34m(self, ssl_space, raw_space, ssl_train_scores, raw_train_scores, dataset_name)\u001b[0m\n\u001b[1;32m    277\u001b[0m \u001b[0;34m\u001b[0m\u001b[0m\n\u001b[1;32m    278\u001b[0m         \u001b[0;31m# SSL\u001b[0m\u001b[0;34m\u001b[0m\u001b[0;34m\u001b[0m\u001b[0;34m\u001b[0m\u001b[0m\n\u001b[0;32m--> 279\u001b[0;31m         ax.fill_between(\n\u001b[0m\u001b[1;32m    280\u001b[0m             \u001b[0mssl_space\u001b[0m\u001b[0;34m,\u001b[0m\u001b[0;34m\u001b[0m\u001b[0;34m\u001b[0m\u001b[0m\n\u001b[1;32m    281\u001b[0m             \u001b[0mssl_train_scores_avg\u001b[0m \u001b[0;34m-\u001b[0m \u001b[0mssl_train_scores_std\u001b[0m\u001b[0;34m,\u001b[0m\u001b[0;34m\u001b[0m\u001b[0;34m\u001b[0m\u001b[0m\n",
      "\u001b[0;32m~/.local/lib/python3.8/site-packages/matplotlib/__init__.py\u001b[0m in \u001b[0;36minner\u001b[0;34m(ax, data, *args, **kwargs)\u001b[0m\n\u001b[1;32m   1410\u001b[0m     \u001b[0;32mdef\u001b[0m \u001b[0minner\u001b[0m\u001b[0;34m(\u001b[0m\u001b[0max\u001b[0m\u001b[0;34m,\u001b[0m \u001b[0;34m*\u001b[0m\u001b[0margs\u001b[0m\u001b[0;34m,\u001b[0m \u001b[0mdata\u001b[0m\u001b[0;34m=\u001b[0m\u001b[0;32mNone\u001b[0m\u001b[0;34m,\u001b[0m \u001b[0;34m**\u001b[0m\u001b[0mkwargs\u001b[0m\u001b[0;34m)\u001b[0m\u001b[0;34m:\u001b[0m\u001b[0;34m\u001b[0m\u001b[0;34m\u001b[0m\u001b[0m\n\u001b[1;32m   1411\u001b[0m         \u001b[0;32mif\u001b[0m \u001b[0mdata\u001b[0m \u001b[0;32mis\u001b[0m \u001b[0;32mNone\u001b[0m\u001b[0;34m:\u001b[0m\u001b[0;34m\u001b[0m\u001b[0;34m\u001b[0m\u001b[0m\n\u001b[0;32m-> 1412\u001b[0;31m             \u001b[0;32mreturn\u001b[0m \u001b[0mfunc\u001b[0m\u001b[0;34m(\u001b[0m\u001b[0max\u001b[0m\u001b[0;34m,\u001b[0m \u001b[0;34m*\u001b[0m\u001b[0mmap\u001b[0m\u001b[0;34m(\u001b[0m\u001b[0msanitize_sequence\u001b[0m\u001b[0;34m,\u001b[0m \u001b[0margs\u001b[0m\u001b[0;34m)\u001b[0m\u001b[0;34m,\u001b[0m \u001b[0;34m**\u001b[0m\u001b[0mkwargs\u001b[0m\u001b[0;34m)\u001b[0m\u001b[0;34m\u001b[0m\u001b[0;34m\u001b[0m\u001b[0m\n\u001b[0m\u001b[1;32m   1413\u001b[0m \u001b[0;34m\u001b[0m\u001b[0m\n\u001b[1;32m   1414\u001b[0m         \u001b[0mbound\u001b[0m \u001b[0;34m=\u001b[0m \u001b[0mnew_sig\u001b[0m\u001b[0;34m.\u001b[0m\u001b[0mbind\u001b[0m\u001b[0;34m(\u001b[0m\u001b[0max\u001b[0m\u001b[0;34m,\u001b[0m \u001b[0;34m*\u001b[0m\u001b[0margs\u001b[0m\u001b[0;34m,\u001b[0m \u001b[0;34m**\u001b[0m\u001b[0mkwargs\u001b[0m\u001b[0;34m)\u001b[0m\u001b[0;34m\u001b[0m\u001b[0;34m\u001b[0m\u001b[0m\n",
      "\u001b[0;32m~/.local/lib/python3.8/site-packages/matplotlib/axes/_axes.py\u001b[0m in \u001b[0;36mfill_between\u001b[0;34m(self, x, y1, y2, where, interpolate, step, **kwargs)\u001b[0m\n\u001b[1;32m   5204\u001b[0m     def fill_between(self, x, y1, y2=0, where=None, interpolate=False,\n\u001b[1;32m   5205\u001b[0m                      step=None, **kwargs):\n\u001b[0;32m-> 5206\u001b[0;31m         return self._fill_between_x_or_y(\n\u001b[0m\u001b[1;32m   5207\u001b[0m             \u001b[0;34m\"x\"\u001b[0m\u001b[0;34m,\u001b[0m \u001b[0mx\u001b[0m\u001b[0;34m,\u001b[0m \u001b[0my1\u001b[0m\u001b[0;34m,\u001b[0m \u001b[0my2\u001b[0m\u001b[0;34m,\u001b[0m\u001b[0;34m\u001b[0m\u001b[0;34m\u001b[0m\u001b[0m\n\u001b[1;32m   5208\u001b[0m             where=where, interpolate=interpolate, step=step, **kwargs)\n",
      "\u001b[0;32m~/.local/lib/python3.8/site-packages/matplotlib/axes/_axes.py\u001b[0m in \u001b[0;36m_fill_between_x_or_y\u001b[0;34m(self, ind_dir, ind, dep1, dep2, where, interpolate, step, **kwargs)\u001b[0m\n\u001b[1;32m   5116\u001b[0m                 (ind_dir, ind), (f\"{dep_dir}1\", dep1), (f\"{dep_dir}2\", dep2)]:\n\u001b[1;32m   5117\u001b[0m             \u001b[0;32mif\u001b[0m \u001b[0marray\u001b[0m\u001b[0;34m.\u001b[0m\u001b[0mndim\u001b[0m \u001b[0;34m>\u001b[0m \u001b[0;36m1\u001b[0m\u001b[0;34m:\u001b[0m\u001b[0;34m\u001b[0m\u001b[0;34m\u001b[0m\u001b[0m\n\u001b[0;32m-> 5118\u001b[0;31m                 \u001b[0;32mraise\u001b[0m \u001b[0mValueError\u001b[0m\u001b[0;34m(\u001b[0m\u001b[0;34mf\"{name!r} is not 1-dimensional\"\u001b[0m\u001b[0;34m)\u001b[0m\u001b[0;34m\u001b[0m\u001b[0;34m\u001b[0m\u001b[0m\n\u001b[0m\u001b[1;32m   5119\u001b[0m \u001b[0;34m\u001b[0m\u001b[0m\n\u001b[1;32m   5120\u001b[0m         \u001b[0;32mif\u001b[0m \u001b[0mwhere\u001b[0m \u001b[0;32mis\u001b[0m \u001b[0;32mNone\u001b[0m\u001b[0;34m:\u001b[0m\u001b[0;34m\u001b[0m\u001b[0;34m\u001b[0m\u001b[0m\n",
      "\u001b[0;31mValueError\u001b[0m: 'y1' is not 1-dimensional"
     ]
    }
   ],
   "source": [
    "from plot import Plot\n",
    "p = Plot('test', 'test_string', save=False, show=True)\n",
    "\n",
    "results = np.array(fold_bal_acc)\n",
    "p.plot_learning_curves(train_sizes[1:], train_sizes[1:], results.T, results.T, 'fs_cnn_test')"
   ]
  },
  {
   "cell_type": "code",
   "execution_count": 171,
   "metadata": {},
   "outputs": [
    {
     "data": {
      "text/plain": [
       "Sequential(\n",
       "  (0): Conv2d(100, 30, kernel_size=(3, 3), stride=(1, 1), padding=(1, 1))\n",
       "  (1): ReLU()\n",
       "  (2): MaxPool2d(kernel_size=2, stride=2, padding=0, dilation=1, ceil_mode=False)\n",
       "  (3): Conv2d(30, 10, kernel_size=(2, 2), stride=(1, 1), padding=(1, 1))\n",
       "  (4): ReLU()\n",
       "  (5): MaxPool2d(kernel_size=2, stride=2, padding=0, dilation=1, ceil_mode=False)\n",
       "  (6): Softmax(dim=1)\n",
       "  (7): Linear(in_features=10, out_features=5, bias=True)\n",
       ")"
      ]
     },
     "execution_count": 171,
     "metadata": {},
     "output_type": "execute_result"
    }
   ],
   "source": [
    "# Train pretrained features\n",
    "\n",
    "ssl_model = nn.Sequential(\n",
    "    nn.Conv2d(100,30,kernel_size=3,padding=1),\n",
    "    nn.ReLU(),\n",
    "    nn.MaxPool2d(2,2),\n",
    "    nn.Conv2d(30,10,kernel_size=2,stride=1,padding=1),\n",
    "    nn.ReLU(),\n",
    "    nn.MaxPool2d(2,2),\n",
    "\n",
    "    # nn.Flatten(),\n",
    "    # nn.Linear(256*4*4,1024),\n",
    "    nn.Softmax(1),\n",
    "    nn.Linear(10,n_classes)\n",
    ")\n",
    "ssl_model\n"
   ]
  },
  {
   "cell_type": "code",
   "execution_count": null,
   "metadata": {},
   "outputs": [],
   "source": [
    "train = DataLoader(X[0], 5, shuffle=True)\n"
   ]
  },
  {
   "cell_type": "code",
   "execution_count": 172,
   "metadata": {},
   "outputs": [
    {
     "ename": "TypeError",
     "evalue": "conv2d() received an invalid combination of arguments - got (numpy.ndarray, Parameter, Parameter, tuple, tuple, tuple, int), but expected one of:\n * (Tensor input, Tensor weight, Tensor bias, tuple of ints stride, tuple of ints padding, tuple of ints dilation, int groups)\n      didn't match because some of the arguments have invalid types: (!numpy.ndarray!, !Parameter!, !Parameter!, !tuple!, !tuple!, !tuple!, int)\n * (Tensor input, Tensor weight, Tensor bias, tuple of ints stride, str padding, tuple of ints dilation, int groups)\n      didn't match because some of the arguments have invalid types: (!numpy.ndarray!, !Parameter!, !Parameter!, !tuple!, !tuple!, !tuple!, int)\n",
     "output_type": "error",
     "traceback": [
      "\u001b[0;31m---------------------------------------------------------------------------\u001b[0m",
      "\u001b[0;31mTypeError\u001b[0m                                 Traceback (most recent call last)",
      "\u001b[0;32m<ipython-input-172-2b95b0a1bd14>\u001b[0m in \u001b[0;36m<module>\u001b[0;34m\u001b[0m\n\u001b[0;32m----> 1\u001b[0;31m \u001b[0mssl_model\u001b[0m\u001b[0;34m(\u001b[0m\u001b[0mX\u001b[0m\u001b[0;34m[\u001b[0m\u001b[0;36m0\u001b[0m\u001b[0;34m]\u001b[0m\u001b[0;34m)\u001b[0m\u001b[0;34m\u001b[0m\u001b[0;34m\u001b[0m\u001b[0m\n\u001b[0m",
      "\u001b[0;32m~/.local/lib/python3.8/site-packages/torch/nn/modules/module.py\u001b[0m in \u001b[0;36m_call_impl\u001b[0;34m(self, *input, **kwargs)\u001b[0m\n\u001b[1;32m   1049\u001b[0m         if not (self._backward_hooks or self._forward_hooks or self._forward_pre_hooks or _global_backward_hooks\n\u001b[1;32m   1050\u001b[0m                 or _global_forward_hooks or _global_forward_pre_hooks):\n\u001b[0;32m-> 1051\u001b[0;31m             \u001b[0;32mreturn\u001b[0m \u001b[0mforward_call\u001b[0m\u001b[0;34m(\u001b[0m\u001b[0;34m*\u001b[0m\u001b[0minput\u001b[0m\u001b[0;34m,\u001b[0m \u001b[0;34m**\u001b[0m\u001b[0mkwargs\u001b[0m\u001b[0;34m)\u001b[0m\u001b[0;34m\u001b[0m\u001b[0;34m\u001b[0m\u001b[0m\n\u001b[0m\u001b[1;32m   1052\u001b[0m         \u001b[0;31m# Do not call functions when jit is used\u001b[0m\u001b[0;34m\u001b[0m\u001b[0;34m\u001b[0m\u001b[0;34m\u001b[0m\u001b[0m\n\u001b[1;32m   1053\u001b[0m         \u001b[0mfull_backward_hooks\u001b[0m\u001b[0;34m,\u001b[0m \u001b[0mnon_full_backward_hooks\u001b[0m \u001b[0;34m=\u001b[0m \u001b[0;34m[\u001b[0m\u001b[0;34m]\u001b[0m\u001b[0;34m,\u001b[0m \u001b[0;34m[\u001b[0m\u001b[0;34m]\u001b[0m\u001b[0;34m\u001b[0m\u001b[0;34m\u001b[0m\u001b[0m\n",
      "\u001b[0;32m~/.local/lib/python3.8/site-packages/torch/nn/modules/container.py\u001b[0m in \u001b[0;36mforward\u001b[0;34m(self, input)\u001b[0m\n\u001b[1;32m    137\u001b[0m     \u001b[0;32mdef\u001b[0m \u001b[0mforward\u001b[0m\u001b[0;34m(\u001b[0m\u001b[0mself\u001b[0m\u001b[0;34m,\u001b[0m \u001b[0minput\u001b[0m\u001b[0;34m)\u001b[0m\u001b[0;34m:\u001b[0m\u001b[0;34m\u001b[0m\u001b[0;34m\u001b[0m\u001b[0m\n\u001b[1;32m    138\u001b[0m         \u001b[0;32mfor\u001b[0m \u001b[0mmodule\u001b[0m \u001b[0;32min\u001b[0m \u001b[0mself\u001b[0m\u001b[0;34m:\u001b[0m\u001b[0;34m\u001b[0m\u001b[0;34m\u001b[0m\u001b[0m\n\u001b[0;32m--> 139\u001b[0;31m             \u001b[0minput\u001b[0m \u001b[0;34m=\u001b[0m \u001b[0mmodule\u001b[0m\u001b[0;34m(\u001b[0m\u001b[0minput\u001b[0m\u001b[0;34m)\u001b[0m\u001b[0;34m\u001b[0m\u001b[0;34m\u001b[0m\u001b[0m\n\u001b[0m\u001b[1;32m    140\u001b[0m         \u001b[0;32mreturn\u001b[0m \u001b[0minput\u001b[0m\u001b[0;34m\u001b[0m\u001b[0;34m\u001b[0m\u001b[0m\n\u001b[1;32m    141\u001b[0m \u001b[0;34m\u001b[0m\u001b[0m\n",
      "\u001b[0;32m~/.local/lib/python3.8/site-packages/torch/nn/modules/module.py\u001b[0m in \u001b[0;36m_call_impl\u001b[0;34m(self, *input, **kwargs)\u001b[0m\n\u001b[1;32m   1049\u001b[0m         if not (self._backward_hooks or self._forward_hooks or self._forward_pre_hooks or _global_backward_hooks\n\u001b[1;32m   1050\u001b[0m                 or _global_forward_hooks or _global_forward_pre_hooks):\n\u001b[0;32m-> 1051\u001b[0;31m             \u001b[0;32mreturn\u001b[0m \u001b[0mforward_call\u001b[0m\u001b[0;34m(\u001b[0m\u001b[0;34m*\u001b[0m\u001b[0minput\u001b[0m\u001b[0;34m,\u001b[0m \u001b[0;34m**\u001b[0m\u001b[0mkwargs\u001b[0m\u001b[0;34m)\u001b[0m\u001b[0;34m\u001b[0m\u001b[0;34m\u001b[0m\u001b[0m\n\u001b[0m\u001b[1;32m   1052\u001b[0m         \u001b[0;31m# Do not call functions when jit is used\u001b[0m\u001b[0;34m\u001b[0m\u001b[0;34m\u001b[0m\u001b[0;34m\u001b[0m\u001b[0m\n\u001b[1;32m   1053\u001b[0m         \u001b[0mfull_backward_hooks\u001b[0m\u001b[0;34m,\u001b[0m \u001b[0mnon_full_backward_hooks\u001b[0m \u001b[0;34m=\u001b[0m \u001b[0;34m[\u001b[0m\u001b[0;34m]\u001b[0m\u001b[0;34m,\u001b[0m \u001b[0;34m[\u001b[0m\u001b[0;34m]\u001b[0m\u001b[0;34m\u001b[0m\u001b[0;34m\u001b[0m\u001b[0m\n",
      "\u001b[0;32m~/.local/lib/python3.8/site-packages/torch/nn/modules/conv.py\u001b[0m in \u001b[0;36mforward\u001b[0;34m(self, input)\u001b[0m\n\u001b[1;32m    441\u001b[0m \u001b[0;34m\u001b[0m\u001b[0m\n\u001b[1;32m    442\u001b[0m     \u001b[0;32mdef\u001b[0m \u001b[0mforward\u001b[0m\u001b[0;34m(\u001b[0m\u001b[0mself\u001b[0m\u001b[0;34m,\u001b[0m \u001b[0minput\u001b[0m\u001b[0;34m:\u001b[0m \u001b[0mTensor\u001b[0m\u001b[0;34m)\u001b[0m \u001b[0;34m->\u001b[0m \u001b[0mTensor\u001b[0m\u001b[0;34m:\u001b[0m\u001b[0;34m\u001b[0m\u001b[0;34m\u001b[0m\u001b[0m\n\u001b[0;32m--> 443\u001b[0;31m         \u001b[0;32mreturn\u001b[0m \u001b[0mself\u001b[0m\u001b[0;34m.\u001b[0m\u001b[0m_conv_forward\u001b[0m\u001b[0;34m(\u001b[0m\u001b[0minput\u001b[0m\u001b[0;34m,\u001b[0m \u001b[0mself\u001b[0m\u001b[0;34m.\u001b[0m\u001b[0mweight\u001b[0m\u001b[0;34m,\u001b[0m \u001b[0mself\u001b[0m\u001b[0;34m.\u001b[0m\u001b[0mbias\u001b[0m\u001b[0;34m)\u001b[0m\u001b[0;34m\u001b[0m\u001b[0;34m\u001b[0m\u001b[0m\n\u001b[0m\u001b[1;32m    444\u001b[0m \u001b[0;34m\u001b[0m\u001b[0m\n\u001b[1;32m    445\u001b[0m \u001b[0;32mclass\u001b[0m \u001b[0mConv3d\u001b[0m\u001b[0;34m(\u001b[0m\u001b[0m_ConvNd\u001b[0m\u001b[0;34m)\u001b[0m\u001b[0;34m:\u001b[0m\u001b[0;34m\u001b[0m\u001b[0;34m\u001b[0m\u001b[0m\n",
      "\u001b[0;32m~/.local/lib/python3.8/site-packages/torch/nn/modules/conv.py\u001b[0m in \u001b[0;36m_conv_forward\u001b[0;34m(self, input, weight, bias)\u001b[0m\n\u001b[1;32m    437\u001b[0m                             \u001b[0mweight\u001b[0m\u001b[0;34m,\u001b[0m \u001b[0mbias\u001b[0m\u001b[0;34m,\u001b[0m \u001b[0mself\u001b[0m\u001b[0;34m.\u001b[0m\u001b[0mstride\u001b[0m\u001b[0;34m,\u001b[0m\u001b[0;34m\u001b[0m\u001b[0;34m\u001b[0m\u001b[0m\n\u001b[1;32m    438\u001b[0m                             _pair(0), self.dilation, self.groups)\n\u001b[0;32m--> 439\u001b[0;31m         return F.conv2d(input, weight, bias, self.stride,\n\u001b[0m\u001b[1;32m    440\u001b[0m                         self.padding, self.dilation, self.groups)\n\u001b[1;32m    441\u001b[0m \u001b[0;34m\u001b[0m\u001b[0m\n",
      "\u001b[0;31mTypeError\u001b[0m: conv2d() received an invalid combination of arguments - got (numpy.ndarray, Parameter, Parameter, tuple, tuple, tuple, int), but expected one of:\n * (Tensor input, Tensor weight, Tensor bias, tuple of ints stride, tuple of ints padding, tuple of ints dilation, int groups)\n      didn't match because some of the arguments have invalid types: (!numpy.ndarray!, !Parameter!, !Parameter!, !tuple!, !tuple!, !tuple!, int)\n * (Tensor input, Tensor weight, Tensor bias, tuple of ints stride, str padding, tuple of ints dilation, int groups)\n      didn't match because some of the arguments have invalid types: (!numpy.ndarray!, !Parameter!, !Parameter!, !tuple!, !tuple!, !tuple!, int)\n"
     ]
    }
   ],
   "source": [
    "ssl_model(X[0])"
   ]
  },
  {
   "cell_type": "markdown",
   "metadata": {},
   "source": [
    "### TESTING"
   ]
  },
  {
   "cell_type": "code",
   "execution_count": 180,
   "metadata": {},
   "outputs": [
    {
     "name": "stdout",
     "output_type": "stream",
     "text": [
      "Accuracy of the network on the 5017 test data: 13 %\n"
     ]
    }
   ],
   "source": [
    "correct = 0\n",
    "total = 0\n",
    "y_true = []\n",
    "y_pred = []\n",
    "# since we're not training, we don't need to calculate the gradients for our outputs\n",
    "with torch.no_grad():\n",
    "    for i, data in enumerate(loader['test']):\n",
    "        inputs, labels = data\n",
    "        outputs = model(inputs)\n",
    "        # the class with the highest energy is what we choose as prediction\n",
    "        _, predicted = torch.max(outputs.data, 1)\n",
    "        y_true += [labels]\n",
    "        y_pred += [predicted]\n",
    "        total += labels.size(0)\n",
    "        correct += (predicted == labels).sum().item()\n",
    "\n",
    "y_true = np.concatenate(y_true)\n",
    "y_pred = np.concatenate(y_pred)\n",
    "\n",
    "# print(f'#\\t pred\\t true')\n",
    "# for i in range(len(y_pred)):\n",
    "#     print(f\"{i}\\t {y_pred[i]}\\t {labels[i]}\")\n",
    "\n",
    "print(f\"Accuracy of the network on the {len(nn_set['test'])} test data: {100 * correct // total} %\")"
   ]
  },
  {
   "cell_type": "code",
   "execution_count": 147,
   "metadata": {},
   "outputs": [],
   "source": [
    "# save model\n",
    "PATH = './sleep-fs.model'\n",
    "torch.save(fs_model.state_dict(), PATH)"
   ]
  },
  {
   "cell_type": "code",
   "execution_count": 11,
   "metadata": {},
   "outputs": [
    {
     "data": {
      "image/png": "[encoded data removed]",
      "text/plain": [
       "<Figure size 1200x1000 with 2 Axes>"
      ]
     },
     "metadata": {},
     "output_type": "display_data"
    }
   ],
   "source": [
    "# Extract loss and balanced accuracy values for plotting from history object\n",
    "df = pd.DataFrame(clf.history.to_list())\n",
    "\n",
    "df['train_acc'] *= 100\n",
    "df['valid_acc'] *= 100\n",
    "\n",
    "ys1 = ['train_loss', 'valid_loss']\n",
    "ys2 = ['train_acc', 'valid_acc']\n",
    "styles = ['-', ':']\n",
    "markers = ['.', '.']\n",
    "\n",
    "\n",
    "fig, ax = plt.subplots(2, 1, figsize=(12, 10), sharex=True)\n",
    "\n",
    "for y1, y2, style, marker in zip(ys1, ys2, styles, markers):\n",
    "    ax[0].plot(df['epoch'], df[y1], ls=style, marker=marker, ms=7,\n",
    "             c='tab:blue', label=y1)\n",
    "    lines1, labels1 = ax[0].get_legend_handles_labels()\n",
    "\n",
    "    ax[0].tick_params(axis='y', labelcolor='tab:blue')\n",
    "    ax[0].set_ylabel('Loss', color='tab:blue')\n",
    "    ax[0].legend(lines1, labels1)\n",
    "\n",
    "for y1, y2, style, marker in zip(ys1, ys2, styles, markers):\n",
    "    ax[1].grid()\n",
    "    ax[1].plot(df['epoch'], df[y2], ls=style, marker=marker, ms=7,\n",
    "             c='tab:orange', label=y2)\n",
    "\n",
    "    lines2, labels2 = ax[1].get_legend_handles_labels()\n",
    "\n",
    "    ax[1].tick_params(axis='y', labelcolor='tab:orange')\n",
    "    ax[1].set_ylabel('Accuracy [%]', color='tab:orange')\n",
    "    ax[1].set_xlabel('Epoch')\n",
    "    ax[1].legend(lines2, labels2)\n",
    "\n",
    "\n",
    "plt.suptitle('Pretext task performance for pretrained sleep staging model')\n",
    "plt.tight_layout()\n",
    "plt.style.use('seaborn-talk')\n",
    "plt.rc('font', size=16)\n",
    "plt.rc('xtick', labelsize=16) \n",
    "plt.rc('ytick', labelsize=16)\n",
    "plt.rc('axes', labelsize=16)\n",
    "\n",
    "plt.savefig('sample_pretrain.pdf', format='pdf')\n",
    "plt.show()\n"
   ]
  }
 ],
 "metadata": {
  "interpreter": {
   "hash": "31f2aee4e71d21fbe5cf8b01ff0e069b9275f58929596ceb00d14d90e3e16cd6"
  },
  "kernelspec": {
   "display_name": "Python 3",
   "language": "python",
   "name": "python3"
  },
  "language_info": {
   "codemirror_mode": {
    "name": "ipython",
    "version": 3
   },
   "file_extension": ".py",
   "mimetype": "text/x-python",
   "name": "python",
   "nbconvert_exporter": "python",
   "pygments_lexer": "ipython3",
   "version": "3.8.10"
  }
 },
 "nbformat": 4,
 "nbformat_minor": 1
}
