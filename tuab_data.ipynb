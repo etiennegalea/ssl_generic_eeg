{
 "cells": [
  {
   "cell_type": "markdown",
   "metadata": {},
   "source": [
    "TUAR data loading, referencing, mapping and annotating"
   ]
  },
  {
   "cell_type": "code",
   "execution_count": 1,
   "metadata": {},
   "outputs": [],
   "source": [
    "import mne\n",
    "import sys\n",
    "import os\n",
    "import importlib\n",
    "import pandas as pd\n",
    "import numpy as np\n",
    "\n",
    "from braindecode.preprocessing.preprocess import preprocess, Preprocessor, zscore\n",
    "from braindecode.datasets import (create_from_mne_raw, create_from_mne_epochs)\n",
    "from braindecode.preprocessing.windowers import create_windows_from_events\n",
    "from braindecode.datasets.sleep_physionet import SleepPhysionet\n",
    "from braindecode.datasets import BaseDataset, BaseConcatDataset, WindowsDataset\n",
    "from mne_extras import write_edf\n",
    "\n",
    "from plot import Plot\n",
    "from segment import Segmenter\n",
    "from helper_funcs import HelperFuncs as hf\n",
    "\n",
    "import matplotlib.pyplot as plt\n",
    "\n",
    "from mat73 import loadmat\n",
    "from tqdm import tqdm\n",
    "\n",
    "import pprint\n",
    "\n",
    "pp = pprint.PrettyPrinter(indent=2)\n"
   ]
  },
  {
   "cell_type": "code",
   "execution_count": 2,
   "metadata": {},
   "outputs": [],
   "source": [
    "\n",
    "# EEG channel montage map for TUAR\n",
    "MONTAGE_MAP = {\n",
    "    0: 'Fp1-Cz', # EEG FP1-REF -- EEG F7-REF\n",
    "    # 1: 'F7-T3', # EEG F7-REF -- EEG T3-REF\n",
    "    # 2: 'T3-T5', # EEG T3-REF -- EEG T5-REF\n",
    "    # 3: 'T5-O1', # EEG T5-REF -- EEG O1-REF\n",
    "    # 4: 'Fp2-F8', # EEG FP2-REF -- EEG F8-REF\n",
    "    # 5: 'F8-T4', # EEG F8-REF -- EEG T4-REF\n",
    "    # 6: 'T4-T6', # EEG T4-REF -- EEG T6-REF\n",
    "    # 7: 'T6-O2', # EEG T6-REF -- EEG O2-REF\n",
    "    # # 8: 'A1-T3', # EEG A1-REF -- EEG T3-REF\n",
    "    # 9: 'T3-C3', # EEG T3-REF -- EEG C3-REF\n",
    "    # 10: 'C3-Cz', # EEG C3-REF -- EEG CZ-REF\n",
    "    # 11: 'Cz-C4', # EEG CZ-REF -- EEG C4-REF\n",
    "    # 12: 'C4-T4', # EEG C4-REF -- EEG T4-REF\n",
    "    # # 13: 'T4-A2', # EEG T4-REF -- EEG A2-REF\n",
    "    # 14: 'Fp1-F3', # EEG FP1-REF -- EEG F3-REF\n",
    "    # 15: 'F3-C3', # EEG F3-REF -- EEG C3-REF\n",
    "    # 16: 'C3-P3', # EEG C3-REF -- EEG P3-REF\n",
    "    # 17: 'P3-O1', # EEG P3-REF -- EEG O1-REF\n",
    "    # 18: 'Fp2-F4', # EEG FP2-REF -- EEG F4-REF\n",
    "    # 19: 'F4-C4', # EEG F4-REF -- EEG C4-REF\n",
    "    # 20: 'C4-P4', # EEG C4-REF -- EEG P4-REF\n",
    "    21: 'Pz-O2', # EEG P4-REF -- EEG O2-REF\n",
    "}\n",
    "\n",
    "TUAR_EXCLUDE_LIST = ['EEG T3-REF', 'EEG T5-REF', 'EEG F3-REF', 'EEG C3-REF', 'EEG P3-REF',\n",
    "                'EEG O1-REF', 'EEG FP2-REF', 'EEG F8-REF', 'EEG T4-REF', 'EEG T6-REF', 'EEG F4-REF',\n",
    "                'EEG C4-REF', 'EEG FZ-REF', 'EEG CZ-REF', 'EEG PZ-REF',\n",
    "                'EEG ROC-REF', 'EEG LOC-REF', 'EEG EKG1-REF', 'EEG T1-REF', 'EEG T2-REF', 'PHOTIC-REF',\n",
    "                'IBI', 'BURSTS', 'SUPPR']\n",
    "\n",
    "# Standard 10-20 alphabetic channel names\n",
    "STANDARD_10_20 = ['Fp1', 'F7', 'T3', 'T5', 'F3', 'C3', 'P3', 'O1', 'Fp2', 'F8', 'T4', 'T6', 'F4', 'C4',\n",
    "                 'P4', 'O2', 'Fz', 'Cz', 'Pz']\n",
    "# TUAR 10-20 channel names\n",
    "TUAR_CHANNELS = ['EEG FP1-REF', 'EEG F7-REF', 'EEG T3-REF', 'EEG T5-REF', 'EEG F3-REF', 'EEG C3-REF', 'EEG P3-REF',\n",
    "                 'EEG O1-REF', 'EEG FP2-REF', 'EEG F8-REF', 'EEG T4-REF', 'EEG T6-REF', 'EEG F4-REF',\n",
    "                 'EEG C4-REF', 'EEG P4-REF', 'EEG O2-REF', 'EEG FZ-REF', 'EEG CZ-REF', 'EEG PZ-REF']\n",
    "# Non-EEG channels to exclude\n",
    "exclude_channels = ['EEG ROC-REF', 'EEG LOC-REF', 'EEG EKG1-REF', 'EEG T1-REF', 'EEG T2-REF', 'PHOTIC-REF',\n",
    "                    'IBI', 'BURSTS', 'SUPPR']\n",
    "# Mapping of TUAR channels to standard 10-20 channels\n",
    "MAPPING_TUAR_STANDARD_10_20 = dict(zip(TUAR_CHANNELS, STANDARD_10_20))"
   ]
  },
  {
   "cell_type": "code",
   "execution_count": 4,
   "metadata": {},
   "outputs": [],
   "source": [
    "def get_file_list(x):\n",
    "    return [os.path.join(x, fname) for fname in os.listdir(x)]\n",
    "\n",
    "def get_id(x):\n",
    "    return x.split('/')[-1]\n",
    "\n",
    "# get TUAR annotations from txt (.rec) file\n",
    "# def get_tuar_annotations(txt):\n",
    "#     with open(txt, \"r\") as f:\n",
    "#         annotations = []\n",
    "#         for l in f.readlines():\n",
    "#             annot = l.rstrip().split(',')\n",
    "#             # select only first and last EEG channels (Fp1-F7, P4-O2)\n",
    "#             if int(annot[0]) in MONTAGE_MAP.keys():\n",
    "#                 annot[0] = MONTAGE_MAP[int(annot[0])]\n",
    "#                 annot[-1] = REC_MAP[int(annot[-1])]\n",
    "#                 annotations.append(annot)\n",
    "#     # pp.pprint(annotations)\n",
    "#     return annotations\n",
    "\n",
    "# Rename channels according to standard montage and map\n",
    "def create_eeg_montage(raw):\n",
    "    # Exclude non-EEG channels\n",
    "    channels = [ch for ch in raw.ch_names if ch not in exclude_channels]\n",
    "    raw.pick_channels(channels)\n",
    "\n",
    "    raw.pick_channels(TUAR_CHANNELS, ordered=True)\n",
    "    # Rename channels to standard 10-20 alphabetic\n",
    "    print('Renaming to standard 10-20 alphabetic channels ...')\n",
    "    # print(STANDARD_10_20)\n",
    "    mne.rename_channels(raw.info, MAPPING_TUAR_STANDARD_10_20)\n",
    "    # Make standard montage\n",
    "    montage = mne.channels.make_standard_montage('standard_alphabetic')\n",
    "    raw.set_montage(montage)\n",
    "\n",
    "    return raw\n",
    "\n",
    "# rereference channels according to TUAR montage\n",
    "def rereference_channels(raw):\n",
    "    data = []\n",
    "    for k, v in MONTAGE_MAP.items():\n",
    "        ch1, ch2 = v.split('-')\n",
    "        x = raw[ch1][0] - raw[ch2][0]\n",
    "        data.append(x[0])\n",
    "    return np.array(data)"
   ]
  },
  {
   "cell_type": "code",
   "execution_count": 25,
   "metadata": {},
   "outputs": [
    {
     "name": "stdout",
     "output_type": "stream",
     "text": [
      "/media/maligan/My Passport/msc_thesis/data/tuh_abnormal_data/eval/abnormal/072/00007221/s001_2010_10_27/00007221_s001_t001.edf\n",
      "/media/maligan/My Passport/msc_thesis/data/tuh_abnormal_data/eval/abnormal/007/00000768/s003_2012_04_06/00000768_s003_t000.edf\n",
      "/media/maligan/My Passport/msc_thesis/data/tuh_abnormal_data/eval/abnormal/011/00001154/s007_2012_07_25/00001154_s007_t000.edf\n",
      "/media/maligan/My Passport/msc_thesis/data/tuh_abnormal_data/eval/abnormal/012/00001217/s002_2012_09_17/00001217_s002_t000.edf\n",
      "/media/maligan/My Passport/msc_thesis/data/tuh_abnormal_data/eval/abnormal/021/00002118/s006_2013_08_16/00002118_s006_t000.edf\n",
      "/media/maligan/My Passport/msc_thesis/data/tuh_abnormal_data/eval/abnormal/021/00002152/s002_2013_01_14/00002152_s002_t000.edf\n",
      "/media/maligan/My Passport/msc_thesis/data/tuh_abnormal_data/eval/abnormal/022/00002289/s002_2012_03_12/00002289_s002_t000.edf\n",
      "/media/maligan/My Passport/msc_thesis/data/tuh_abnormal_data/eval/abnormal/033/00003367/s003_2010_05_11/00003367_s003_t001.edf\n",
      "/media/maligan/My Passport/msc_thesis/data/tuh_abnormal_data/eval/abnormal/035/00003573/s003_2013_05_18/00003573_s003_t000.edf\n",
      "/media/maligan/My Passport/msc_thesis/data/tuh_abnormal_data/eval/abnormal/045/00004526/s003_2009_09_15/00004526_s003_t001.edf\n",
      "/media/maligan/My Passport/msc_thesis/data/tuh_abnormal_data/eval/abnormal/046/00004625/s002_2011_09_28/00004625_s002_t000.edf\n",
      "/media/maligan/My Passport/msc_thesis/data/tuh_abnormal_data/eval/abnormal/046/00004697/s002_2012_09_04/00004697_s002_t000.edf\n",
      "/media/maligan/My Passport/msc_thesis/data/tuh_abnormal_data/eval/abnormal/049/00004944/s005_2010_12_28/00004944_s005_t001.edf\n",
      "/media/maligan/My Passport/msc_thesis/data/tuh_abnormal_data/eval/abnormal/052/00005230/s002_2010_09_07/00005230_s002_t000.edf\n",
      "/media/maligan/My Passport/msc_thesis/data/tuh_abnormal_data/eval/abnormal/052/00005276/s002_2011_03_04/00005276_s002_t000.edf\n",
      "/media/maligan/My Passport/msc_thesis/data/tuh_abnormal_data/eval/abnormal/056/00005649/s002_2010_06_03/00005649_s002_t000.edf\n",
      "/media/maligan/My Passport/msc_thesis/data/tuh_abnormal_data/eval/abnormal/059/00005932/s004_2013_03_14/00005932_s004_t000.edf\n",
      "/media/maligan/My Passport/msc_thesis/data/tuh_abnormal_data/eval/abnormal/060/00006091/s002_2010_05_05/00006091_s002_t001.edf\n",
      "/media/maligan/My Passport/msc_thesis/data/tuh_abnormal_data/eval/abnormal/060/00006096/s001_2009_10_28/00006096_s001_t000.edf\n",
      "/media/maligan/My Passport/msc_thesis/data/tuh_abnormal_data/eval/abnormal/064/00006462/s002_2010_06_11/00006462_s002_t001.edf\n",
      "/media/maligan/My Passport/msc_thesis/data/tuh_abnormal_data/eval/abnormal/065/00006507/s004_2010_02_23/00006507_s004_t000.edf\n",
      "/media/maligan/My Passport/msc_thesis/data/tuh_abnormal_data/eval/abnormal/065/00006510/s003_2010_11_04/00006510_s003_t001.edf\n",
      "/media/maligan/My Passport/msc_thesis/data/tuh_abnormal_data/eval/abnormal/065/00006531/s001_2010_09_05/00006531_s001_t000.edf\n",
      "/media/maligan/My Passport/msc_thesis/data/tuh_abnormal_data/eval/abnormal/065/00006566/s001_2010_04_15/00006566_s001_t000.edf\n",
      "/media/maligan/My Passport/msc_thesis/data/tuh_abnormal_data/eval/abnormal/066/00006611/s001_2010_03_02/00006611_s001_t000.edf\n",
      "/media/maligan/My Passport/msc_thesis/data/tuh_abnormal_data/eval/abnormal/068/00006822/s001_2010_07_29/00006822_s001_t001.edf\n",
      "/media/maligan/My Passport/msc_thesis/data/tuh_abnormal_data/eval/abnormal/068/00006835/s001_2010_08_02/00006835_s001_t001.edf\n",
      "/media/maligan/My Passport/msc_thesis/data/tuh_abnormal_data/eval/abnormal/068/00006836/s005_2012_12_13/00006836_s005_t001.edf\n",
      "/media/maligan/My Passport/msc_thesis/data/tuh_abnormal_data/eval/abnormal/068/00006847/s001_2010_08_06/00006847_s001_t000.edf\n",
      "/media/maligan/My Passport/msc_thesis/data/tuh_abnormal_data/eval/abnormal/068/00006852/s001_2010_08_06/00006852_s001_t000.edf\n",
      "/media/maligan/My Passport/msc_thesis/data/tuh_abnormal_data/eval/abnormal/068/00006880/s001_2010_09_14/00006880_s001_t000.edf\n",
      "/media/maligan/My Passport/msc_thesis/data/tuh_abnormal_data/eval/abnormal/068/00006885/s001_2010_09_18/00006885_s001_t001.edf\n",
      "/media/maligan/My Passport/msc_thesis/data/tuh_abnormal_data/eval/abnormal/069/00006936/s001_2010_01_03/00006936_s001_t000.edf\n",
      "/media/maligan/My Passport/msc_thesis/data/tuh_abnormal_data/eval/abnormal/070/00007004/s002_2010_11_17/00007004_s002_t002.edf\n",
      "/media/maligan/My Passport/msc_thesis/data/tuh_abnormal_data/eval/abnormal/070/00007078/s003_2010_01_29/00007078_s003_t001.edf\n",
      "/media/maligan/My Passport/msc_thesis/data/tuh_abnormal_data/eval/abnormal/070/00007079/s001_2010_01_27/00007079_s001_t000.edf\n",
      "/media/maligan/My Passport/msc_thesis/data/tuh_abnormal_data/eval/abnormal/071/00007117/s001_2010_01_29/00007117_s001_t000.edf\n",
      "/media/maligan/My Passport/msc_thesis/data/tuh_abnormal_data/eval/abnormal/071/00007138/s001_2010_10_25/00007138_s001_t001.edf\n",
      "/media/maligan/My Passport/msc_thesis/data/tuh_abnormal_data/eval/abnormal/073/00007383/s001_2010_02_25/00007383_s001_t001.edf\n",
      "/media/maligan/My Passport/msc_thesis/data/tuh_abnormal_data/eval/abnormal/074/00007456/s001_2010_12_02/00007456_s001_t000.edf\n",
      "/media/maligan/My Passport/msc_thesis/data/tuh_abnormal_data/eval/abnormal/074/00007469/s001_2010_12_06/00007469_s001_t000.edf\n",
      "/media/maligan/My Passport/msc_thesis/data/tuh_abnormal_data/eval/abnormal/074/00007487/s006_2013_07_09/00007487_s006_t000.edf\n",
      "/media/maligan/My Passport/msc_thesis/data/tuh_abnormal_data/eval/abnormal/076/00007675/s001_2011_03_18/00007675_s001_t000.edf\n",
      "/media/maligan/My Passport/msc_thesis/data/tuh_abnormal_data/eval/abnormal/077/00007726/s002_2011_06_02/00007726_s002_t000.edf\n",
      "/media/maligan/My Passport/msc_thesis/data/tuh_abnormal_data/eval/abnormal/078/00007869/s001_2011_06_12/00007869_s001_t001.edf\n",
      "/media/maligan/My Passport/msc_thesis/data/tuh_abnormal_data/eval/abnormal/078/00007880/s002_2012_02_27/00007880_s002_t000.edf\n",
      "/media/maligan/My Passport/msc_thesis/data/tuh_abnormal_data/eval/abnormal/079/00007927/s001_2011_04_14/00007927_s001_t000.edf\n",
      "/media/maligan/My Passport/msc_thesis/data/tuh_abnormal_data/eval/abnormal/080/00008007/s001_2011_04_14/00008007_s001_t000.edf\n",
      "/media/maligan/My Passport/msc_thesis/data/tuh_abnormal_data/eval/abnormal/080/00008077/s001_2011_04_27/00008077_s001_t000.edf\n",
      "/media/maligan/My Passport/msc_thesis/data/tuh_abnormal_data/eval/abnormal/080/00008096/s002_2011_12_20/00008096_s002_t001.edf\n",
      "/media/maligan/My Passport/msc_thesis/data/tuh_abnormal_data/eval/abnormal/081/00008165/s001_2011_09_06/00008165_s001_t001.edf\n",
      "/media/maligan/My Passport/msc_thesis/data/tuh_abnormal_data/eval/abnormal/082/00008261/s001_2011_11_25/00008261_s001_t001.edf\n",
      "/media/maligan/My Passport/msc_thesis/data/tuh_abnormal_data/eval/abnormal/083/00008302/s001_2011_11_28/00008302_s001_t000.edf\n",
      "/media/maligan/My Passport/msc_thesis/data/tuh_abnormal_data/eval/abnormal/083/00008304/s001_2011_11_28/00008304_s001_t000.edf\n",
      "/media/maligan/My Passport/msc_thesis/data/tuh_abnormal_data/eval/abnormal/083/00008348/s001_2011_11_15/00008348_s001_t001.edf\n",
      "/media/maligan/My Passport/msc_thesis/data/tuh_abnormal_data/eval/abnormal/085/00008527/s001_2011_12_31/00008527_s001_t000.edf\n",
      "/media/maligan/My Passport/msc_thesis/data/tuh_abnormal_data/eval/abnormal/085/00008582/s001_2012_02_09/00008582_s001_t000.edf\n",
      "/media/maligan/My Passport/msc_thesis/data/tuh_abnormal_data/eval/abnormal/087/00008723/s001_2012_04_16/00008723_s001_t000.edf\n",
      "/media/maligan/My Passport/msc_thesis/data/tuh_abnormal_data/eval/abnormal/087/00008740/s001_2012_04_18/00008740_s001_t000.edf\n",
      "/media/maligan/My Passport/msc_thesis/data/tuh_abnormal_data/eval/abnormal/087/00008770/s001_2012_05_23/00008770_s001_t001.edf\n",
      "/media/maligan/My Passport/msc_thesis/data/tuh_abnormal_data/eval/abnormal/089/00008971/s001_2012_07_17/00008971_s001_t003.edf\n",
      "/media/maligan/My Passport/msc_thesis/data/tuh_abnormal_data/eval/abnormal/090/00009053/s001_2012_06_25/00009053_s001_t000.edf\n",
      "/media/maligan/My Passport/msc_thesis/data/tuh_abnormal_data/eval/abnormal/091/00009102/s001_2012_07_11/00009102_s001_t000.edf\n",
      "/media/maligan/My Passport/msc_thesis/data/tuh_abnormal_data/eval/abnormal/091/00009177/s001_2012_05_02/00009177_s001_t000.edf\n",
      "/media/maligan/My Passport/msc_thesis/data/tuh_abnormal_data/eval/abnormal/091/00009195/s001_2012_06_04/00009195_s001_t002.edf\n",
      "/media/maligan/My Passport/msc_thesis/data/tuh_abnormal_data/eval/abnormal/093/00009362/s001_2012_08_24/00009362_s001_t001.edf\n",
      "/media/maligan/My Passport/msc_thesis/data/tuh_abnormal_data/eval/abnormal/093/00009397/s001_2012_09_10/00009397_s001_t000.edf\n",
      "/media/maligan/My Passport/msc_thesis/data/tuh_abnormal_data/eval/abnormal/094/00009431/s002_2012_06_15/00009431_s002_t000.edf\n",
      "/media/maligan/My Passport/msc_thesis/data/tuh_abnormal_data/eval/abnormal/094/00009434/s001_2012_08_28/00009434_s001_t000.edf\n",
      "/media/maligan/My Passport/msc_thesis/data/tuh_abnormal_data/eval/abnormal/094/00009445/s001_2012_09_18/00009445_s001_t000.edf\n",
      "/media/maligan/My Passport/msc_thesis/data/tuh_abnormal_data/eval/abnormal/094/00009458/s001_2012_10_17/00009458_s001_t003.edf\n",
      "/media/maligan/My Passport/msc_thesis/data/tuh_abnormal_data/eval/abnormal/094/00009498/s001_2012_12_04/00009498_s001_t000.edf\n",
      "/media/maligan/My Passport/msc_thesis/data/tuh_abnormal_data/eval/abnormal/095/00009542/s001_2012_11_08/00009542_s001_t000.edf\n",
      "/media/maligan/My Passport/msc_thesis/data/tuh_abnormal_data/eval/abnormal/096/00009647/s001_2012_11_24/00009647_s001_t000.edf\n",
      "/media/maligan/My Passport/msc_thesis/data/tuh_abnormal_data/eval/abnormal/096/00009663/s002_2012_11_15/00009663_s002_t001.edf\n",
      "/media/maligan/My Passport/msc_thesis/data/tuh_abnormal_data/eval/abnormal/096/00009688/s001_2011_12_14/00009688_s001_t000.edf\n",
      "/media/maligan/My Passport/msc_thesis/data/tuh_abnormal_data/eval/abnormal/096/00009693/s001_2011_12_14/00009693_s001_t000.edf\n",
      "/media/maligan/My Passport/msc_thesis/data/tuh_abnormal_data/eval/abnormal/098/00009800/s001_2012_03_19/00009800_s001_t000.edf\n",
      "/media/maligan/My Passport/msc_thesis/data/tuh_abnormal_data/eval/abnormal/098/00009820/s002_2013_04_11/00009820_s002_t002.edf\n",
      "/media/maligan/My Passport/msc_thesis/data/tuh_abnormal_data/eval/abnormal/099/00009906/s002_2013_04_18/00009906_s002_t000.edf\n",
      "/media/maligan/My Passport/msc_thesis/data/tuh_abnormal_data/eval/abnormal/099/00009909/s001_2013_04_18/00009909_s001_t000.edf\n",
      "/media/maligan/My Passport/msc_thesis/data/tuh_abnormal_data/eval/abnormal/099/00009939/s001_2013_03_01/00009939_s001_t000.edf\n",
      "/media/maligan/My Passport/msc_thesis/data/tuh_abnormal_data/eval/abnormal/100/00010003/s001_2013_02_18/00010003_s001_t000.edf\n",
      "/media/maligan/My Passport/msc_thesis/data/tuh_abnormal_data/eval/abnormal/100/00010021/s001_2013_03_30/00010021_s001_t000.edf\n",
      "/media/maligan/My Passport/msc_thesis/data/tuh_abnormal_data/eval/abnormal/100/00010024/s001_2013_02_18/00010024_s001_t000.edf\n",
      "/media/maligan/My Passport/msc_thesis/data/tuh_abnormal_data/eval/abnormal/101/00010157/s001_2013_02_12/00010157_s001_t000.edf\n",
      "/media/maligan/My Passport/msc_thesis/data/tuh_abnormal_data/eval/abnormal/103/00010340/s001_2013_05_23/00010340_s001_t000.edf\n",
      "/media/maligan/My Passport/msc_thesis/data/tuh_abnormal_data/eval/abnormal/104/00010423/s001_2013_06_17/00010423_s001_t001.edf\n",
      "/media/maligan/My Passport/msc_thesis/data/tuh_abnormal_data/eval/abnormal/104/00010450/s001_2013_06_19/00010450_s001_t001.edf\n",
      "/media/maligan/My Passport/msc_thesis/data/tuh_abnormal_data/eval/abnormal/104/00010453/s002_2013_07_24/00010453_s002_t001.edf\n",
      "/media/maligan/My Passport/msc_thesis/data/tuh_abnormal_data/eval/abnormal/104/00010467/s001_2013_06_27/00010467_s001_t000.edf\n",
      "/media/maligan/My Passport/msc_thesis/data/tuh_abnormal_data/eval/abnormal/104/00010495/s001_2013_07_12/00010495_s001_t000.edf\n",
      "/media/maligan/My Passport/msc_thesis/data/tuh_abnormal_data/eval/abnormal/105/00010506/s001_2013_07_01/00010506_s001_t000.edf\n",
      "/media/maligan/My Passport/msc_thesis/data/tuh_abnormal_data/eval/abnormal/105/00010559/s001_2013_07_27/00010559_s001_t000.edf\n",
      "/media/maligan/My Passport/msc_thesis/data/tuh_abnormal_data/eval/abnormal/106/00010634/s001_2013_08_16/00010634_s001_t000.edf\n",
      "/media/maligan/My Passport/msc_thesis/data/tuh_abnormal_data/eval/abnormal/106/00010641/s001_2013_08_23/00010641_s001_t000.edf\n",
      "/media/maligan/My Passport/msc_thesis/data/tuh_abnormal_data/eval/abnormal/107/00010708/s001_2013_08_31/00010708_s001_t001.edf\n",
      "/media/maligan/My Passport/msc_thesis/data/tuh_abnormal_data/eval/abnormal/107/00010710/s001_2013_09_09/00010710_s001_t000.edf\n",
      "/media/maligan/My Passport/msc_thesis/data/tuh_abnormal_data/eval/abnormal/107/00010726/s001_2013_09_12/00010726_s001_t001.edf\n",
      "/media/maligan/My Passport/msc_thesis/data/tuh_abnormal_data/eval/abnormal/107/00010782/s001_2013_10_04/00010782_s001_t001.edf\n",
      "/media/maligan/My Passport/msc_thesis/data/tuh_abnormal_data/eval/normal/066/00006617/s001_2010_03_29/00006617_s001_t000.edf\n",
      "/media/maligan/My Passport/msc_thesis/data/tuh_abnormal_data/eval/normal/066/00006637/s001_2010_04_02/00006637_s001_t001.edf\n",
      "/media/maligan/My Passport/msc_thesis/data/tuh_abnormal_data/eval/normal/066/00006697/s001_2010_06_09/00006697_s001_t000.edf\n",
      "/media/maligan/My Passport/msc_thesis/data/tuh_abnormal_data/eval/normal/006/00000647/s002_2009_09_21/00000647_s002_t000.edf\n",
      "/media/maligan/My Passport/msc_thesis/data/tuh_abnormal_data/eval/normal/013/00001355/s003_2009_12_08/00001355_s003_t000.edf\n",
      "/media/maligan/My Passport/msc_thesis/data/tuh_abnormal_data/eval/normal/014/00001402/s004_2009_12_01/00001402_s004_t000.edf\n",
      "/media/maligan/My Passport/msc_thesis/data/tuh_abnormal_data/eval/normal/022/00002272/s002_2009_10_12/00002272_s002_t000.edf\n",
      "/media/maligan/My Passport/msc_thesis/data/tuh_abnormal_data/eval/normal/025/00002508/s002_2009_11_13/00002508_s002_t001.edf\n",
      "/media/maligan/My Passport/msc_thesis/data/tuh_abnormal_data/eval/normal/027/00002705/s003_2009_12_04/00002705_s003_t000.edf\n",
      "/media/maligan/My Passport/msc_thesis/data/tuh_abnormal_data/eval/normal/029/00002940/s003_2009_10_22/00002940_s003_t001.edf\n",
      "/media/maligan/My Passport/msc_thesis/data/tuh_abnormal_data/eval/normal/041/00004196/s003_2009_09_03/00004196_s003_t000.edf\n",
      "/media/maligan/My Passport/msc_thesis/data/tuh_abnormal_data/eval/normal/045/00004586/s002_2009_10_07/00004586_s002_t001.edf\n",
      "/media/maligan/My Passport/msc_thesis/data/tuh_abnormal_data/eval/normal/052/00005221/s002_2009_12_01/00005221_s002_t000.edf\n",
      "/media/maligan/My Passport/msc_thesis/data/tuh_abnormal_data/eval/normal/053/00005390/s001_2009_11_24/00005390_s001_t000.edf\n",
      "/media/maligan/My Passport/msc_thesis/data/tuh_abnormal_data/eval/normal/053/00005394/s001_2009_11_09/00005394_s001_t001.edf\n",
      "/media/maligan/My Passport/msc_thesis/data/tuh_abnormal_data/eval/normal/053/00005398/s001_2009_12_04/00005398_s001_t000.edf\n",
      "/media/maligan/My Passport/msc_thesis/data/tuh_abnormal_data/eval/normal/054/00005400/s001_2009_11_13/00005400_s001_t001.edf\n",
      "/media/maligan/My Passport/msc_thesis/data/tuh_abnormal_data/eval/normal/054/00005412/s001_2009_10_29/00005412_s001_t000.edf\n",
      "/media/maligan/My Passport/msc_thesis/data/tuh_abnormal_data/eval/normal/054/00005457/s001_2011_12_05/00005457_s001_t000.edf\n",
      "/media/maligan/My Passport/msc_thesis/data/tuh_abnormal_data/eval/normal/054/00005458/s001_2011_12_05/00005458_s001_t000.edf\n",
      "/media/maligan/My Passport/msc_thesis/data/tuh_abnormal_data/eval/normal/054/00005468/s001_2011_12_01/00005468_s001_t000.edf\n",
      "/media/maligan/My Passport/msc_thesis/data/tuh_abnormal_data/eval/normal/054/00005473/s001_2011_12_05/00005473_s001_t000.edf\n",
      "/media/maligan/My Passport/msc_thesis/data/tuh_abnormal_data/eval/normal/056/00005655/s001_2009_11_05/00005655_s001_t001.edf\n",
      "/media/maligan/My Passport/msc_thesis/data/tuh_abnormal_data/eval/normal/058/00005851/s001_2009_09_04/00005851_s001_t001.edf\n",
      "/media/maligan/My Passport/msc_thesis/data/tuh_abnormal_data/eval/normal/058/00005864/s001_2009_09_03/00005864_s001_t000.edf\n",
      "/media/maligan/My Passport/msc_thesis/data/tuh_abnormal_data/eval/normal/059/00005921/s001_2009_09_15/00005921_s001_t000.edf\n",
      "/media/maligan/My Passport/msc_thesis/data/tuh_abnormal_data/eval/normal/059/00005942/s002_2009_09_25/00005942_s002_t000.edf\n",
      "/media/maligan/My Passport/msc_thesis/data/tuh_abnormal_data/eval/normal/060/00006005/s001_2009_10_13/00006005_s001_t001.edf\n",
      "/media/maligan/My Passport/msc_thesis/data/tuh_abnormal_data/eval/normal/060/00006056/s001_2009_10_27/00006056_s001_t001.edf\n",
      "/media/maligan/My Passport/msc_thesis/data/tuh_abnormal_data/eval/normal/060/00006061/s001_2009_10_09/00006061_s001_t001.edf\n",
      "/media/maligan/My Passport/msc_thesis/data/tuh_abnormal_data/eval/normal/060/00006076/s001_2009_10_22/00006076_s001_t000.edf\n",
      "/media/maligan/My Passport/msc_thesis/data/tuh_abnormal_data/eval/normal/060/00006088/s001_2009_10_22/00006088_s001_t001.edf\n",
      "/media/maligan/My Passport/msc_thesis/data/tuh_abnormal_data/eval/normal/060/00006095/s001_2009_11_04/00006095_s001_t001.edf\n",
      "/media/maligan/My Passport/msc_thesis/data/tuh_abnormal_data/eval/normal/061/00006101/s001_2009_10_23/00006101_s001_t001.edf\n",
      "/media/maligan/My Passport/msc_thesis/data/tuh_abnormal_data/eval/normal/061/00006111/s001_2009_10_15/00006111_s001_t000.edf\n",
      "/media/maligan/My Passport/msc_thesis/data/tuh_abnormal_data/eval/normal/061/00006117/s002_2009_11_06/00006117_s002_t000.edf\n",
      "/media/maligan/My Passport/msc_thesis/data/tuh_abnormal_data/eval/normal/061/00006140/s001_2009_09_22/00006140_s001_t000.edf\n",
      "/media/maligan/My Passport/msc_thesis/data/tuh_abnormal_data/eval/normal/061/00006144/s001_2009_09_17/00006144_s001_t000.edf\n",
      "/media/maligan/My Passport/msc_thesis/data/tuh_abnormal_data/eval/normal/061/00006146/s001_2009_09_22/00006146_s001_t000.edf\n",
      "/media/maligan/My Passport/msc_thesis/data/tuh_abnormal_data/eval/normal/061/00006155/s001_2009_10_05/00006155_s001_t000.edf\n",
      "/media/maligan/My Passport/msc_thesis/data/tuh_abnormal_data/eval/normal/061/00006156/s001_2009_09_23/00006156_s001_t000.edf\n",
      "/media/maligan/My Passport/msc_thesis/data/tuh_abnormal_data/eval/normal/061/00006162/s001_2009_09_18/00006162_s001_t000.edf\n",
      "/media/maligan/My Passport/msc_thesis/data/tuh_abnormal_data/eval/normal/061/00006163/s001_2009_10_13/00006163_s001_t000.edf\n",
      "/media/maligan/My Passport/msc_thesis/data/tuh_abnormal_data/eval/normal/061/00006183/s001_2009_09_21/00006183_s001_t000.edf\n",
      "/media/maligan/My Passport/msc_thesis/data/tuh_abnormal_data/eval/normal/061/00006186/s001_2009_10_13/00006186_s001_t000.edf\n",
      "/media/maligan/My Passport/msc_thesis/data/tuh_abnormal_data/eval/normal/061/00006187/s001_2009_09_24/00006187_s001_t000.edf\n",
      "/media/maligan/My Passport/msc_thesis/data/tuh_abnormal_data/eval/normal/061/00006188/s001_2009_09_29/00006188_s001_t000.edf\n",
      "/media/maligan/My Passport/msc_thesis/data/tuh_abnormal_data/eval/normal/062/00006201/s001_2009_09_10/00006201_s001_t000.edf\n",
      "/media/maligan/My Passport/msc_thesis/data/tuh_abnormal_data/eval/normal/062/00006212/s001_2009_12_22/00006212_s001_t000.edf\n",
      "/media/maligan/My Passport/msc_thesis/data/tuh_abnormal_data/eval/normal/062/00006215/s001_2009_12_11/00006215_s001_t000.edf\n",
      "/media/maligan/My Passport/msc_thesis/data/tuh_abnormal_data/eval/normal/062/00006218/s001_2009_12_16/00006218_s001_t000.edf\n",
      "/media/maligan/My Passport/msc_thesis/data/tuh_abnormal_data/eval/normal/062/00006219/s001_2009_12_22/00006219_s001_t000.edf\n",
      "/media/maligan/My Passport/msc_thesis/data/tuh_abnormal_data/eval/normal/062/00006222/s001_2009_12_07/00006222_s001_t001.edf\n",
      "/media/maligan/My Passport/msc_thesis/data/tuh_abnormal_data/eval/normal/062/00006227/s001_2009_12_15/00006227_s001_t001.edf\n",
      "/media/maligan/My Passport/msc_thesis/data/tuh_abnormal_data/eval/normal/062/00006238/s001_2009_12_22/00006238_s001_t000.edf\n",
      "/media/maligan/My Passport/msc_thesis/data/tuh_abnormal_data/eval/normal/062/00006290/s001_2009_11_16/00006290_s001_t000.edf\n",
      "/media/maligan/My Passport/msc_thesis/data/tuh_abnormal_data/eval/normal/063/00006311/s001_2009_11_13/00006311_s001_t001.edf\n",
      "/media/maligan/My Passport/msc_thesis/data/tuh_abnormal_data/eval/normal/063/00006312/s001_2009_11_19/00006312_s001_t000.edf\n",
      "/media/maligan/My Passport/msc_thesis/data/tuh_abnormal_data/eval/normal/063/00006316/s001_2009_12_02/00006316_s001_t001.edf\n",
      "/media/maligan/My Passport/msc_thesis/data/tuh_abnormal_data/eval/normal/063/00006317/s001_2009_11_20/00006317_s001_t000.edf\n",
      "/media/maligan/My Passport/msc_thesis/data/tuh_abnormal_data/eval/normal/063/00006319/s001_2009_11_20/00006319_s001_t001.edf\n",
      "/media/maligan/My Passport/msc_thesis/data/tuh_abnormal_data/eval/normal/063/00006322/s001_2009_11_20/00006322_s001_t000.edf\n",
      "/media/maligan/My Passport/msc_thesis/data/tuh_abnormal_data/eval/normal/063/00006328/s001_2009_11_11/00006328_s001_t000.edf\n",
      "/media/maligan/My Passport/msc_thesis/data/tuh_abnormal_data/eval/normal/064/00006422/s001_2009_09_10/00006422_s001_t000.edf\n",
      "/media/maligan/My Passport/msc_thesis/data/tuh_abnormal_data/eval/normal/064/00006442/s001_2010_05_18/00006442_s001_t000.edf\n",
      "/media/maligan/My Passport/msc_thesis/data/tuh_abnormal_data/eval/normal/064/00006461/s001_2010_05_12/00006461_s001_t000.edf\n",
      "/media/maligan/My Passport/msc_thesis/data/tuh_abnormal_data/eval/normal/064/00006480/s001_2010_07_19/00006480_s001_t001.edf\n",
      "/media/maligan/My Passport/msc_thesis/data/tuh_abnormal_data/eval/normal/065/00006584/s001_2010_04_16/00006584_s001_t000.edf\n",
      "/media/maligan/My Passport/msc_thesis/data/tuh_abnormal_data/eval/normal/065/00006598/s001_2010_03_22/00006598_s001_t000.edf\n",
      "/media/maligan/My Passport/msc_thesis/data/tuh_abnormal_data/eval/normal/069/00006909/s001_2010_08_25/00006909_s001_t000.edf\n",
      "/media/maligan/My Passport/msc_thesis/data/tuh_abnormal_data/eval/normal/069/00006931/s001_2010_01_19/00006931_s001_t001.edf\n",
      "/media/maligan/My Passport/msc_thesis/data/tuh_abnormal_data/eval/normal/070/00007020/s001_2010_01_18/00007020_s001_t001.edf\n",
      "/media/maligan/My Passport/msc_thesis/data/tuh_abnormal_data/eval/normal/071/00007182/s001_2010_10_18/00007182_s001_t001.edf\n",
      "/media/maligan/My Passport/msc_thesis/data/tuh_abnormal_data/eval/normal/071/00007193/s001_2010_10_21/00007193_s001_t000.edf\n",
      "/media/maligan/My Passport/msc_thesis/data/tuh_abnormal_data/eval/normal/072/00007229/s001_2010_11_02/00007229_s001_t000.edf\n",
      "/media/maligan/My Passport/msc_thesis/data/tuh_abnormal_data/eval/normal/072/00007248/s001_2010_05_05/00007248_s001_t001.edf\n",
      "/media/maligan/My Passport/msc_thesis/data/tuh_abnormal_data/eval/normal/074/00007441/s001_2010_10_08/00007441_s001_t000.edf\n",
      "/media/maligan/My Passport/msc_thesis/data/tuh_abnormal_data/eval/normal/074/00007481/s001_2010_12_03/00007481_s001_t001.edf\n",
      "/media/maligan/My Passport/msc_thesis/data/tuh_abnormal_data/eval/normal/076/00007647/s001_2011_02_07/00007647_s001_t001.edf\n",
      "/media/maligan/My Passport/msc_thesis/data/tuh_abnormal_data/eval/normal/076/00007679/s001_2011_01_12/00007679_s001_t000.edf\n",
      "/media/maligan/My Passport/msc_thesis/data/tuh_abnormal_data/eval/normal/077/00007724/s001_2011_03_22/00007724_s001_t001.edf\n",
      "/media/maligan/My Passport/msc_thesis/data/tuh_abnormal_data/eval/normal/078/00007823/s001_2011_05_26/00007823_s001_t001.edf\n",
      "/media/maligan/My Passport/msc_thesis/data/tuh_abnormal_data/eval/normal/078/00007847/s001_2011_06_14/00007847_s001_t000.edf\n",
      "/media/maligan/My Passport/msc_thesis/data/tuh_abnormal_data/eval/normal/078/00007852/s001_2011_06_02/00007852_s001_t000.edf\n",
      "/media/maligan/My Passport/msc_thesis/data/tuh_abnormal_data/eval/normal/078/00007870/s001_2011_07_05/00007870_s001_t001.edf\n",
      "/media/maligan/My Passport/msc_thesis/data/tuh_abnormal_data/eval/normal/078/00007875/s001_2011_06_21/00007875_s001_t000.edf\n",
      "/media/maligan/My Passport/msc_thesis/data/tuh_abnormal_data/eval/normal/079/00007920/s001_2011_06_22/00007920_s001_t000.edf\n",
      "/media/maligan/My Passport/msc_thesis/data/tuh_abnormal_data/eval/normal/079/00007981/s001_2010_11_29/00007981_s001_t001.edf\n",
      "/media/maligan/My Passport/msc_thesis/data/tuh_abnormal_data/eval/normal/080/00008004/s001_2011_04_29/00008004_s001_t000.edf\n",
      "/media/maligan/My Passport/msc_thesis/data/tuh_abnormal_data/eval/normal/080/00008044/s001_2011_03_23/00008044_s001_t000.edf\n",
      "/media/maligan/My Passport/msc_thesis/data/tuh_abnormal_data/eval/normal/082/00008246/s001_2011_10_04/00008246_s001_t001.edf\n",
      "/media/maligan/My Passport/msc_thesis/data/tuh_abnormal_data/eval/normal/082/00008262/s001_2011_11_23/00008262_s001_t000.edf\n",
      "/media/maligan/My Passport/msc_thesis/data/tuh_abnormal_data/eval/normal/084/00008489/s001_2012_01_04/00008489_s001_t000.edf\n",
      "/media/maligan/My Passport/msc_thesis/data/tuh_abnormal_data/eval/normal/085/00008563/s001_2012_01_16/00008563_s001_t000.edf\n",
      "/media/maligan/My Passport/msc_thesis/data/tuh_abnormal_data/eval/normal/086/00008607/s001_2012_02_29/00008607_s001_t000.edf\n",
      "/media/maligan/My Passport/msc_thesis/data/tuh_abnormal_data/eval/normal/086/00008634/s001_2012_02_29/00008634_s001_t000.edf\n",
      "/media/maligan/My Passport/msc_thesis/data/tuh_abnormal_data/eval/normal/087/00008737/s001_2012_03_26/00008737_s001_t001.edf\n",
      "/media/maligan/My Passport/msc_thesis/data/tuh_abnormal_data/eval/normal/087/00008773/s001_2012_05_21/00008773_s001_t000.edf\n",
      "/media/maligan/My Passport/msc_thesis/data/tuh_abnormal_data/eval/normal/087/00008785/s001_2012_05_08/00008785_s001_t000.edf\n",
      "/media/maligan/My Passport/msc_thesis/data/tuh_abnormal_data/eval/normal/088/00008830/s001_2012_05_22/00008830_s001_t000.edf\n",
      "/media/maligan/My Passport/msc_thesis/data/tuh_abnormal_data/eval/normal/089/00008902/s001_2012_06_13/00008902_s001_t000.edf\n",
      "/media/maligan/My Passport/msc_thesis/data/tuh_abnormal_data/eval/normal/089/00008959/s001_2012_07_12/00008959_s001_t000.edf\n",
      "/media/maligan/My Passport/msc_thesis/data/tuh_abnormal_data/eval/normal/090/00009089/s001_2012_08_24/00009089_s001_t000.edf\n",
      "/media/maligan/My Passport/msc_thesis/data/tuh_abnormal_data/eval/normal/091/00009167/s001_2012_03_15/00009167_s001_t000.edf\n",
      "/media/maligan/My Passport/msc_thesis/data/tuh_abnormal_data/eval/normal/092/00009208/s001_2012_09_06/00009208_s001_t000.edf\n",
      "/media/maligan/My Passport/msc_thesis/data/tuh_abnormal_data/eval/normal/093/00009320/s001_2012_08_01/00009320_s001_t000.edf\n",
      "/media/maligan/My Passport/msc_thesis/data/tuh_abnormal_data/eval/normal/093/00009335/s002_2013_03_05/00009335_s002_t000.edf\n",
      "/media/maligan/My Passport/msc_thesis/data/tuh_abnormal_data/eval/normal/093/00009340/s001_2012_10_04/00009340_s001_t002.edf\n",
      "/media/maligan/My Passport/msc_thesis/data/tuh_abnormal_data/eval/normal/093/00009356/s001_2012_06_01/00009356_s001_t000.edf\n",
      "/media/maligan/My Passport/msc_thesis/data/tuh_abnormal_data/eval/normal/094/00009413/s001_2012_10_03/00009413_s001_t001.edf\n",
      "/media/maligan/My Passport/msc_thesis/data/tuh_abnormal_data/eval/normal/094/00009485/s001_2012_10_19/00009485_s001_t000.edf\n",
      "/media/maligan/My Passport/msc_thesis/data/tuh_abnormal_data/eval/normal/095/00009501/s001_2012_11_26/00009501_s001_t000.edf\n",
      "/media/maligan/My Passport/msc_thesis/data/tuh_abnormal_data/eval/normal/095/00009514/s001_2012_12_04/00009514_s001_t000.edf\n",
      "/media/maligan/My Passport/msc_thesis/data/tuh_abnormal_data/eval/normal/095/00009574/s001_2012_10_18/00009574_s001_t000.edf\n",
      "/media/maligan/My Passport/msc_thesis/data/tuh_abnormal_data/eval/normal/096/00009603/s001_2012_11_21/00009603_s001_t000.edf\n",
      "/media/maligan/My Passport/msc_thesis/data/tuh_abnormal_data/eval/normal/096/00009611/s001_2012_11_14/00009611_s001_t000.edf\n",
      "/media/maligan/My Passport/msc_thesis/data/tuh_abnormal_data/eval/normal/096/00009619/s001_2012_10_24/00009619_s001_t000.edf\n",
      "/media/maligan/My Passport/msc_thesis/data/tuh_abnormal_data/eval/normal/097/00009701/s001_2012_09_25/00009701_s001_t002.edf\n",
      "/media/maligan/My Passport/msc_thesis/data/tuh_abnormal_data/eval/normal/097/00009730/s001_2012_01_17/00009730_s001_t000.edf\n",
      "/media/maligan/My Passport/msc_thesis/data/tuh_abnormal_data/eval/normal/097/00009774/s001_2012_09_28/00009774_s001_t000.edf\n",
      "/media/maligan/My Passport/msc_thesis/data/tuh_abnormal_data/eval/normal/097/00009780/s001_2012_10_02/00009780_s001_t000.edf\n",
      "/media/maligan/My Passport/msc_thesis/data/tuh_abnormal_data/eval/normal/097/00009799/s001_2012_03_14/00009799_s001_t000.edf\n",
      "/media/maligan/My Passport/msc_thesis/data/tuh_abnormal_data/eval/normal/098/00009803/s001_2012_07_16/00009803_s001_t000.edf\n",
      "/media/maligan/My Passport/msc_thesis/data/tuh_abnormal_data/eval/normal/098/00009857/s001_2013_04_13/00009857_s001_t000.edf\n",
      "/media/maligan/My Passport/msc_thesis/data/tuh_abnormal_data/eval/normal/098/00009868/s001_2013_03_26/00009868_s001_t000.edf\n",
      "/media/maligan/My Passport/msc_thesis/data/tuh_abnormal_data/eval/normal/099/00009954/s001_2013_03_06/00009954_s001_t000.edf\n",
      "/media/maligan/My Passport/msc_thesis/data/tuh_abnormal_data/eval/normal/099/00009962/s001_2013_03_05/00009962_s001_t000.edf\n",
      "/media/maligan/My Passport/msc_thesis/data/tuh_abnormal_data/eval/normal/100/00010037/s001_2013_03_27/00010037_s001_t000.edf\n",
      "/media/maligan/My Passport/msc_thesis/data/tuh_abnormal_data/eval/normal/100/00010067/s001_2013_02_13/00010067_s001_t000.edf\n",
      "/media/maligan/My Passport/msc_thesis/data/tuh_abnormal_data/eval/normal/101/00010119/s001_2013_02_15/00010119_s001_t001.edf\n",
      "/media/maligan/My Passport/msc_thesis/data/tuh_abnormal_data/eval/normal/101/00010146/s001_2013_02_28/00010146_s001_t000.edf\n",
      "/media/maligan/My Passport/msc_thesis/data/tuh_abnormal_data/eval/normal/101/00010193/s001_2013_01_02/00010193_s001_t000.edf\n",
      "/media/maligan/My Passport/msc_thesis/data/tuh_abnormal_data/eval/normal/102/00010216/s001_2013_01_29/00010216_s001_t002.edf\n",
      "/media/maligan/My Passport/msc_thesis/data/tuh_abnormal_data/eval/normal/102/00010224/s001_2013_01_15/00010224_s001_t000.edf\n",
      "/media/maligan/My Passport/msc_thesis/data/tuh_abnormal_data/eval/normal/103/00010344/s001_2013_05_17/00010344_s001_t000.edf\n",
      "/media/maligan/My Passport/msc_thesis/data/tuh_abnormal_data/eval/normal/103/00010357/s001_2013_05_28/00010357_s001_t000.edf\n",
      "/media/maligan/My Passport/msc_thesis/data/tuh_abnormal_data/eval/normal/103/00010376/s001_2013_06_04/00010376_s001_t001.edf\n",
      "/media/maligan/My Passport/msc_thesis/data/tuh_abnormal_data/eval/normal/104/00010400/s001_2013_06_04/00010400_s001_t000.edf\n",
      "/media/maligan/My Passport/msc_thesis/data/tuh_abnormal_data/eval/normal/105/00010509/s001_2013_07_03/00010509_s001_t000.edf\n",
      "/media/maligan/My Passport/msc_thesis/data/tuh_abnormal_data/eval/normal/105/00010518/s001_2013_07_10/00010518_s001_t000.edf\n",
      "/media/maligan/My Passport/msc_thesis/data/tuh_abnormal_data/eval/normal/105/00010520/s001_2013_07_10/00010520_s001_t000.edf\n",
      "/media/maligan/My Passport/msc_thesis/data/tuh_abnormal_data/eval/normal/105/00010531/s001_2013_07_16/00010531_s001_t000.edf\n",
      "/media/maligan/My Passport/msc_thesis/data/tuh_abnormal_data/eval/normal/105/00010577/s001_2013_07_24/00010577_s001_t000.edf\n",
      "/media/maligan/My Passport/msc_thesis/data/tuh_abnormal_data/eval/normal/106/00010660/s001_2013_08_19/00010660_s001_t001.edf\n",
      "/media/maligan/My Passport/msc_thesis/data/tuh_abnormal_data/eval/normal/106/00010680/s001_2013_08_22/00010680_s001_t000.edf\n",
      "/media/maligan/My Passport/msc_thesis/data/tuh_abnormal_data/eval/normal/107/00010725/s001_2013_09_10/00010725_s001_t001.edf\n",
      "/media/maligan/My Passport/msc_thesis/data/tuh_abnormal_data/eval/normal/107/00010750/s001_2013_09_22/00010750_s001_t001.edf\n"
     ]
    }
   ],
   "source": [
    "\n",
    "data_dir = '/media/maligan/My Passport/msc_thesis/data/tuh_abnormal_data/eval/'\n",
    "\n",
    "files = []\n",
    "descriptions = []\n",
    "error = []\n",
    "\n",
    "annotations = {}\n",
    "for annotation in hf.get_file_list(data_dir):\n",
    "    subjects = {}\n",
    "    for subject in hf.get_file_list(annotation):\n",
    "        recordings = {}\n",
    "        for recording in hf.get_file_list(subject):\n",
    "            dates = {}\n",
    "            for date in hf.get_file_list(recording):\n",
    "                for raw_path in hf.get_file_list(date):\n",
    "                    # print(date)\n",
    "                    _path = hf.get_id(raw_path)\n",
    "                    if '.edf' in _path and not '.fif' in _path:\n",
    "                        # print(hf.get_id(raw_path))\n",
    "                        annotations = []\n",
    "                        print(f'{date}/{_path}')\n",
    "                break"
   ]
  },
  {
   "cell_type": "code",
   "execution_count": 26,
   "metadata": {},
   "outputs": [
    {
     "name": "stdout",
     "output_type": "stream",
     "text": [
      "Extracting EDF parameters from /media/maligan/My Passport/msc_thesis/data/tuh_abnormal_data/eval/abnormal/072/00007221/s001_2010_10_27/00007221_s001_t001.edf...\n",
      "EDF file detected\n",
      "Setting channel info structure...\n",
      "Creating raw.info structure...\n",
      "Renaming to standard 10-20 alphabetic channels ...\n",
      "Creating RawArray with float64 data, n_channels=2, n_times=297500\n",
      "    Range : 0 ... 297499 =      0.000 ...  1189.996 secs\n",
      "Ready.\n",
      "Writing /media/maligan/My Passport/msc_thesis/data/tuh_abnormal_data/eval/abnormal/072/00007221/s001_2010_10_27/00007221_s001_t001_2_channels_reref.fif\n"
     ]
    },
    {
     "name": "stderr",
     "output_type": "stream",
     "text": [
      "<ipython-input-26-4527fc4b8426>:47: RuntimeWarning: This filename (/media/maligan/My Passport/msc_thesis/data/tuh_abnormal_data/eval/abnormal/072/00007221/s001_2010_10_27/00007221_s001_t001_2_channels_reref.fif) does not conform to MNE naming conventions. All raw files should end with raw.fif, raw_sss.fif, raw_tsss.fif, _meg.fif, _eeg.fif, _ieeg.fif, raw.fif.gz, raw_sss.fif.gz, raw_tsss.fif.gz, _meg.fif.gz, _eeg.fif.gz or _ieeg.fif.gz\n",
      "  raw.save(f\"{date}/{to_export}_2_channels_reref.fif\", picks=['Fp1-Cz', 'Pz-O2'])\n"
     ]
    },
    {
     "name": "stdout",
     "output_type": "stream",
     "text": [
      "Closing /media/maligan/My Passport/msc_thesis/data/tuh_abnormal_data/eval/abnormal/072/00007221/s001_2010_10_27/00007221_s001_t001_2_channels_reref.fif\n",
      "[done]\n",
      "[]\n",
      "Extracting EDF parameters from /media/maligan/My Passport/msc_thesis/data/tuh_abnormal_data/eval/abnormal/072/00007221/s002_2010_11_01/00007221_s002_t001.edf...\n",
      "EDF file detected\n",
      "Setting channel info structure...\n",
      "Creating raw.info structure...\n",
      "Renaming to standard 10-20 alphabetic channels ...\n",
      "Creating RawArray with float64 data, n_channels=2, n_times=295000\n",
      "    Range : 0 ... 294999 =      0.000 ...  1179.996 secs\n",
      "Ready.\n",
      "Writing /media/maligan/My Passport/msc_thesis/data/tuh_abnormal_data/eval/abnormal/072/00007221/s002_2010_11_01/00007221_s002_t001_2_channels_reref.fif\n"
     ]
    },
    {
     "name": "stderr",
     "output_type": "stream",
     "text": [
      "<ipython-input-26-4527fc4b8426>:47: RuntimeWarning: This filename (/media/maligan/My Passport/msc_thesis/data/tuh_abnormal_data/eval/abnormal/072/00007221/s002_2010_11_01/00007221_s002_t001_2_channels_reref.fif) does not conform to MNE naming conventions. All raw files should end with raw.fif, raw_sss.fif, raw_tsss.fif, _meg.fif, _eeg.fif, _ieeg.fif, raw.fif.gz, raw_sss.fif.gz, raw_tsss.fif.gz, _meg.fif.gz, _eeg.fif.gz or _ieeg.fif.gz\n",
      "  raw.save(f\"{date}/{to_export}_2_channels_reref.fif\", picks=['Fp1-Cz', 'Pz-O2'])\n"
     ]
    },
    {
     "name": "stdout",
     "output_type": "stream",
     "text": [
      "Closing /media/maligan/My Passport/msc_thesis/data/tuh_abnormal_data/eval/abnormal/072/00007221/s002_2010_11_01/00007221_s002_t001_2_channels_reref.fif\n",
      "[done]\n",
      "[]\n",
      "Extracting EDF parameters from /media/maligan/My Passport/msc_thesis/data/tuh_abnormal_data/eval/abnormal/007/00000768/s003_2012_04_06/00000768_s003_t000.edf...\n",
      "EDF file detected\n",
      "Setting channel info structure...\n",
      "Creating raw.info structure...\n",
      "Renaming to standard 10-20 alphabetic channels ...\n",
      "Creating RawArray with float64 data, n_channels=2, n_times=304250\n",
      "    Range : 0 ... 304249 =      0.000 ...  1216.996 secs\n",
      "Ready.\n",
      "Writing /media/maligan/My Passport/msc_thesis/data/tuh_abnormal_data/eval/abnormal/007/00000768/s003_2012_04_06/00000768_s003_t000_2_channels_reref.fif\n"
     ]
    },
    {
     "name": "stderr",
     "output_type": "stream",
     "text": [
      "<ipython-input-26-4527fc4b8426>:47: RuntimeWarning: This filename (/media/maligan/My Passport/msc_thesis/data/tuh_abnormal_data/eval/abnormal/007/00000768/s003_2012_04_06/00000768_s003_t000_2_channels_reref.fif) does not conform to MNE naming conventions. All raw files should end with raw.fif, raw_sss.fif, raw_tsss.fif, _meg.fif, _eeg.fif, _ieeg.fif, raw.fif.gz, raw_sss.fif.gz, raw_tsss.fif.gz, _meg.fif.gz, _eeg.fif.gz or _ieeg.fif.gz\n",
      "  raw.save(f\"{date}/{to_export}_2_channels_reref.fif\", picks=['Fp1-Cz', 'Pz-O2'])\n"
     ]
    },
    {
     "name": "stdout",
     "output_type": "stream",
     "text": [
      "Closing /media/maligan/My Passport/msc_thesis/data/tuh_abnormal_data/eval/abnormal/007/00000768/s003_2012_04_06/00000768_s003_t000_2_channels_reref.fif\n",
      "[done]\n",
      "[]\n",
      "Extracting EDF parameters from /media/maligan/My Passport/msc_thesis/data/tuh_abnormal_data/eval/abnormal/011/00001154/s007_2012_07_25/00001154_s007_t000.edf...\n",
      "EDF file detected\n",
      "Setting channel info structure...\n",
      "Creating raw.info structure...\n",
      "Renaming to standard 10-20 alphabetic channels ...\n",
      "Creating RawArray with float64 data, n_channels=2, n_times=357250\n",
      "    Range : 0 ... 357249 =      0.000 ...  1428.996 secs\n",
      "Ready.\n",
      "Writing /media/maligan/My Passport/msc_thesis/data/tuh_abnormal_data/eval/abnormal/011/00001154/s007_2012_07_25/00001154_s007_t000_2_channels_reref.fif\n"
     ]
    },
    {
     "name": "stderr",
     "output_type": "stream",
     "text": [
      "<ipython-input-26-4527fc4b8426>:47: RuntimeWarning: This filename (/media/maligan/My Passport/msc_thesis/data/tuh_abnormal_data/eval/abnormal/011/00001154/s007_2012_07_25/00001154_s007_t000_2_channels_reref.fif) does not conform to MNE naming conventions. All raw files should end with raw.fif, raw_sss.fif, raw_tsss.fif, _meg.fif, _eeg.fif, _ieeg.fif, raw.fif.gz, raw_sss.fif.gz, raw_tsss.fif.gz, _meg.fif.gz, _eeg.fif.gz or _ieeg.fif.gz\n",
      "  raw.save(f\"{date}/{to_export}_2_channels_reref.fif\", picks=['Fp1-Cz', 'Pz-O2'])\n"
     ]
    },
    {
     "name": "stdout",
     "output_type": "stream",
     "text": [
      "Closing /media/maligan/My Passport/msc_thesis/data/tuh_abnormal_data/eval/abnormal/011/00001154/s007_2012_07_25/00001154_s007_t000_2_channels_reref.fif\n",
      "[done]\n",
      "[]\n",
      "Extracting EDF parameters from /media/maligan/My Passport/msc_thesis/data/tuh_abnormal_data/eval/abnormal/012/00001217/s002_2012_09_17/00001217_s002_t000.edf...\n",
      "EDF file detected\n",
      "Setting channel info structure...\n",
      "Creating raw.info structure...\n",
      "Renaming to standard 10-20 alphabetic channels ...\n",
      "Creating RawArray with float64 data, n_channels=2, n_times=346250\n",
      "    Range : 0 ... 346249 =      0.000 ...  1384.996 secs\n",
      "Ready.\n",
      "Writing /media/maligan/My Passport/msc_thesis/data/tuh_abnormal_data/eval/abnormal/012/00001217/s002_2012_09_17/00001217_s002_t000_2_channels_reref.fif\n"
     ]
    },
    {
     "name": "stderr",
     "output_type": "stream",
     "text": [
      "<ipython-input-26-4527fc4b8426>:47: RuntimeWarning: This filename (/media/maligan/My Passport/msc_thesis/data/tuh_abnormal_data/eval/abnormal/012/00001217/s002_2012_09_17/00001217_s002_t000_2_channels_reref.fif) does not conform to MNE naming conventions. All raw files should end with raw.fif, raw_sss.fif, raw_tsss.fif, _meg.fif, _eeg.fif, _ieeg.fif, raw.fif.gz, raw_sss.fif.gz, raw_tsss.fif.gz, _meg.fif.gz, _eeg.fif.gz or _ieeg.fif.gz\n",
      "  raw.save(f\"{date}/{to_export}_2_channels_reref.fif\", picks=['Fp1-Cz', 'Pz-O2'])\n"
     ]
    },
    {
     "name": "stdout",
     "output_type": "stream",
     "text": [
      "Closing /media/maligan/My Passport/msc_thesis/data/tuh_abnormal_data/eval/abnormal/012/00001217/s002_2012_09_17/00001217_s002_t000_2_channels_reref.fif\n",
      "[done]\n",
      "[]\n",
      "Extracting EDF parameters from /media/maligan/My Passport/msc_thesis/data/tuh_abnormal_data/eval/abnormal/021/00002118/s006_2013_08_16/00002118_s006_t000.edf...\n",
      "EDF file detected\n",
      "Setting channel info structure...\n",
      "Creating raw.info structure...\n",
      "Renaming to standard 10-20 alphabetic channels ...\n",
      "Creating RawArray with float64 data, n_channels=2, n_times=313750\n",
      "    Range : 0 ... 313749 =      0.000 ...  1254.996 secs\n",
      "Ready.\n",
      "Writing /media/maligan/My Passport/msc_thesis/data/tuh_abnormal_data/eval/abnormal/021/00002118/s006_2013_08_16/00002118_s006_t000_2_channels_reref.fif\n"
     ]
    },
    {
     "name": "stderr",
     "output_type": "stream",
     "text": [
      "<ipython-input-26-4527fc4b8426>:47: RuntimeWarning: This filename (/media/maligan/My Passport/msc_thesis/data/tuh_abnormal_data/eval/abnormal/021/00002118/s006_2013_08_16/00002118_s006_t000_2_channels_reref.fif) does not conform to MNE naming conventions. All raw files should end with raw.fif, raw_sss.fif, raw_tsss.fif, _meg.fif, _eeg.fif, _ieeg.fif, raw.fif.gz, raw_sss.fif.gz, raw_tsss.fif.gz, _meg.fif.gz, _eeg.fif.gz or _ieeg.fif.gz\n",
      "  raw.save(f\"{date}/{to_export}_2_channels_reref.fif\", picks=['Fp1-Cz', 'Pz-O2'])\n"
     ]
    },
    {
     "name": "stdout",
     "output_type": "stream",
     "text": [
      "Closing /media/maligan/My Passport/msc_thesis/data/tuh_abnormal_data/eval/abnormal/021/00002118/s006_2013_08_16/00002118_s006_t000_2_channels_reref.fif\n",
      "[done]\n",
      "[]\n",
      "Extracting EDF parameters from /media/maligan/My Passport/msc_thesis/data/tuh_abnormal_data/eval/abnormal/021/00002152/s002_2013_01_14/00002152_s002_t000.edf...\n",
      "EDF file detected\n",
      "Setting channel info structure...\n",
      "Creating raw.info structure...\n",
      "Renaming to standard 10-20 alphabetic channels ...\n",
      "Creating RawArray with float64 data, n_channels=2, n_times=342250\n",
      "    Range : 0 ... 342249 =      0.000 ...  1368.996 secs\n",
      "Ready.\n",
      "Writing /media/maligan/My Passport/msc_thesis/data/tuh_abnormal_data/eval/abnormal/021/00002152/s002_2013_01_14/00002152_s002_t000_2_channels_reref.fif\n"
     ]
    },
    {
     "name": "stderr",
     "output_type": "stream",
     "text": [
      "<ipython-input-26-4527fc4b8426>:47: RuntimeWarning: This filename (/media/maligan/My Passport/msc_thesis/data/tuh_abnormal_data/eval/abnormal/021/00002152/s002_2013_01_14/00002152_s002_t000_2_channels_reref.fif) does not conform to MNE naming conventions. All raw files should end with raw.fif, raw_sss.fif, raw_tsss.fif, _meg.fif, _eeg.fif, _ieeg.fif, raw.fif.gz, raw_sss.fif.gz, raw_tsss.fif.gz, _meg.fif.gz, _eeg.fif.gz or _ieeg.fif.gz\n",
      "  raw.save(f\"{date}/{to_export}_2_channels_reref.fif\", picks=['Fp1-Cz', 'Pz-O2'])\n"
     ]
    },
    {
     "name": "stdout",
     "output_type": "stream",
     "text": [
      "Closing /media/maligan/My Passport/msc_thesis/data/tuh_abnormal_data/eval/abnormal/021/00002152/s002_2013_01_14/00002152_s002_t000_2_channels_reref.fif\n",
      "[done]\n",
      "[]\n",
      "Extracting EDF parameters from /media/maligan/My Passport/msc_thesis/data/tuh_abnormal_data/eval/abnormal/022/00002289/s002_2012_03_12/00002289_s002_t000.edf...\n",
      "EDF file detected\n",
      "Setting channel info structure...\n",
      "Creating raw.info structure...\n",
      "Renaming to standard 10-20 alphabetic channels ...\n",
      "Creating RawArray with float64 data, n_channels=2, n_times=331750\n",
      "    Range : 0 ... 331749 =      0.000 ...  1326.996 secs\n",
      "Ready.\n",
      "Writing /media/maligan/My Passport/msc_thesis/data/tuh_abnormal_data/eval/abnormal/022/00002289/s002_2012_03_12/00002289_s002_t000_2_channels_reref.fif\n"
     ]
    },
    {
     "name": "stderr",
     "output_type": "stream",
     "text": [
      "<ipython-input-26-4527fc4b8426>:47: RuntimeWarning: This filename (/media/maligan/My Passport/msc_thesis/data/tuh_abnormal_data/eval/abnormal/022/00002289/s002_2012_03_12/00002289_s002_t000_2_channels_reref.fif) does not conform to MNE naming conventions. All raw files should end with raw.fif, raw_sss.fif, raw_tsss.fif, _meg.fif, _eeg.fif, _ieeg.fif, raw.fif.gz, raw_sss.fif.gz, raw_tsss.fif.gz, _meg.fif.gz, _eeg.fif.gz or _ieeg.fif.gz\n",
      "  raw.save(f\"{date}/{to_export}_2_channels_reref.fif\", picks=['Fp1-Cz', 'Pz-O2'])\n"
     ]
    },
    {
     "name": "stdout",
     "output_type": "stream",
     "text": [
      "Closing /media/maligan/My Passport/msc_thesis/data/tuh_abnormal_data/eval/abnormal/022/00002289/s002_2012_03_12/00002289_s002_t000_2_channels_reref.fif\n",
      "[done]\n",
      "[]\n",
      "Extracting EDF parameters from /media/maligan/My Passport/msc_thesis/data/tuh_abnormal_data/eval/abnormal/033/00003367/s003_2010_05_11/00003367_s003_t001.edf...\n",
      "EDF file detected\n",
      "Setting channel info structure...\n",
      "Creating raw.info structure...\n",
      "Renaming to standard 10-20 alphabetic channels ...\n",
      "Creating RawArray with float64 data, n_channels=2, n_times=300250\n",
      "    Range : 0 ... 300249 =      0.000 ...  1200.996 secs\n",
      "Ready.\n",
      "Writing /media/maligan/My Passport/msc_thesis/data/tuh_abnormal_data/eval/abnormal/033/00003367/s003_2010_05_11/00003367_s003_t001_2_channels_reref.fif\n"
     ]
    },
    {
     "name": "stderr",
     "output_type": "stream",
     "text": [
      "<ipython-input-26-4527fc4b8426>:47: RuntimeWarning: This filename (/media/maligan/My Passport/msc_thesis/data/tuh_abnormal_data/eval/abnormal/033/00003367/s003_2010_05_11/00003367_s003_t001_2_channels_reref.fif) does not conform to MNE naming conventions. All raw files should end with raw.fif, raw_sss.fif, raw_tsss.fif, _meg.fif, _eeg.fif, _ieeg.fif, raw.fif.gz, raw_sss.fif.gz, raw_tsss.fif.gz, _meg.fif.gz, _eeg.fif.gz or _ieeg.fif.gz\n",
      "  raw.save(f\"{date}/{to_export}_2_channels_reref.fif\", picks=['Fp1-Cz', 'Pz-O2'])\n"
     ]
    },
    {
     "name": "stdout",
     "output_type": "stream",
     "text": [
      "Closing /media/maligan/My Passport/msc_thesis/data/tuh_abnormal_data/eval/abnormal/033/00003367/s003_2010_05_11/00003367_s003_t001_2_channels_reref.fif\n",
      "[done]\n",
      "[]\n",
      "Extracting EDF parameters from /media/maligan/My Passport/msc_thesis/data/tuh_abnormal_data/eval/abnormal/035/00003573/s003_2013_05_18/00003573_s003_t000.edf...\n",
      "EDF file detected\n",
      "Setting channel info structure...\n",
      "Creating raw.info structure...\n",
      "Renaming to standard 10-20 alphabetic channels ...\n",
      "Creating RawArray with float64 data, n_channels=2, n_times=338500\n",
      "    Range : 0 ... 338499 =      0.000 ...  1353.996 secs\n",
      "Ready.\n",
      "Writing /media/maligan/My Passport/msc_thesis/data/tuh_abnormal_data/eval/abnormal/035/00003573/s003_2013_05_18/00003573_s003_t000_2_channels_reref.fif\n"
     ]
    },
    {
     "name": "stderr",
     "output_type": "stream",
     "text": [
      "<ipython-input-26-4527fc4b8426>:47: RuntimeWarning: This filename (/media/maligan/My Passport/msc_thesis/data/tuh_abnormal_data/eval/abnormal/035/00003573/s003_2013_05_18/00003573_s003_t000_2_channels_reref.fif) does not conform to MNE naming conventions. All raw files should end with raw.fif, raw_sss.fif, raw_tsss.fif, _meg.fif, _eeg.fif, _ieeg.fif, raw.fif.gz, raw_sss.fif.gz, raw_tsss.fif.gz, _meg.fif.gz, _eeg.fif.gz or _ieeg.fif.gz\n",
      "  raw.save(f\"{date}/{to_export}_2_channels_reref.fif\", picks=['Fp1-Cz', 'Pz-O2'])\n"
     ]
    },
    {
     "name": "stdout",
     "output_type": "stream",
     "text": [
      "Closing /media/maligan/My Passport/msc_thesis/data/tuh_abnormal_data/eval/abnormal/035/00003573/s003_2013_05_18/00003573_s003_t000_2_channels_reref.fif\n",
      "[done]\n",
      "[]\n",
      "Extracting EDF parameters from /media/maligan/My Passport/msc_thesis/data/tuh_abnormal_data/eval/abnormal/045/00004526/s003_2009_09_15/00004526_s003_t001.edf...\n",
      "EDF file detected\n",
      "Setting channel info structure...\n",
      "Creating raw.info structure...\n",
      "Renaming to standard 10-20 alphabetic channels ...\n",
      "Creating RawArray with float64 data, n_channels=2, n_times=321750\n",
      "    Range : 0 ... 321749 =      0.000 ...  1286.996 secs\n",
      "Ready.\n",
      "Writing /media/maligan/My Passport/msc_thesis/data/tuh_abnormal_data/eval/abnormal/045/00004526/s003_2009_09_15/00004526_s003_t001_2_channels_reref.fif\n"
     ]
    },
    {
     "name": "stderr",
     "output_type": "stream",
     "text": [
      "<ipython-input-26-4527fc4b8426>:47: RuntimeWarning: This filename (/media/maligan/My Passport/msc_thesis/data/tuh_abnormal_data/eval/abnormal/045/00004526/s003_2009_09_15/00004526_s003_t001_2_channels_reref.fif) does not conform to MNE naming conventions. All raw files should end with raw.fif, raw_sss.fif, raw_tsss.fif, _meg.fif, _eeg.fif, _ieeg.fif, raw.fif.gz, raw_sss.fif.gz, raw_tsss.fif.gz, _meg.fif.gz, _eeg.fif.gz or _ieeg.fif.gz\n",
      "  raw.save(f\"{date}/{to_export}_2_channels_reref.fif\", picks=['Fp1-Cz', 'Pz-O2'])\n"
     ]
    },
    {
     "name": "stdout",
     "output_type": "stream",
     "text": [
      "Closing /media/maligan/My Passport/msc_thesis/data/tuh_abnormal_data/eval/abnormal/045/00004526/s003_2009_09_15/00004526_s003_t001_2_channels_reref.fif\n",
      "[done]\n",
      "[]\n",
      "Extracting EDF parameters from /media/maligan/My Passport/msc_thesis/data/tuh_abnormal_data/eval/abnormal/045/00004526/s006_2010_07_27/00004526_s006_t001.edf...\n",
      "EDF file detected\n",
      "Setting channel info structure...\n",
      "Creating raw.info structure...\n",
      "Renaming to standard 10-20 alphabetic channels ...\n",
      "Creating RawArray with float64 data, n_channels=2, n_times=296750\n",
      "    Range : 0 ... 296749 =      0.000 ...  1186.996 secs\n",
      "Ready.\n",
      "Writing /media/maligan/My Passport/msc_thesis/data/tuh_abnormal_data/eval/abnormal/045/00004526/s006_2010_07_27/00004526_s006_t001_2_channels_reref.fif\n"
     ]
    },
    {
     "name": "stderr",
     "output_type": "stream",
     "text": [
      "<ipython-input-26-4527fc4b8426>:47: RuntimeWarning: This filename (/media/maligan/My Passport/msc_thesis/data/tuh_abnormal_data/eval/abnormal/045/00004526/s006_2010_07_27/00004526_s006_t001_2_channels_reref.fif) does not conform to MNE naming conventions. All raw files should end with raw.fif, raw_sss.fif, raw_tsss.fif, _meg.fif, _eeg.fif, _ieeg.fif, raw.fif.gz, raw_sss.fif.gz, raw_tsss.fif.gz, _meg.fif.gz, _eeg.fif.gz or _ieeg.fif.gz\n",
      "  raw.save(f\"{date}/{to_export}_2_channels_reref.fif\", picks=['Fp1-Cz', 'Pz-O2'])\n"
     ]
    },
    {
     "name": "stdout",
     "output_type": "stream",
     "text": [
      "Closing /media/maligan/My Passport/msc_thesis/data/tuh_abnormal_data/eval/abnormal/045/00004526/s006_2010_07_27/00004526_s006_t001_2_channels_reref.fif\n",
      "[done]\n",
      "[]\n",
      "Extracting EDF parameters from /media/maligan/My Passport/msc_thesis/data/tuh_abnormal_data/eval/abnormal/046/00004625/s002_2011_09_28/00004625_s002_t000.edf...\n",
      "EDF file detected\n",
      "Setting channel info structure...\n",
      "Creating raw.info structure...\n",
      "Renaming to standard 10-20 alphabetic channels ...\n",
      "Creating RawArray with float64 data, n_channels=2, n_times=304750\n",
      "    Range : 0 ... 304749 =      0.000 ...  1218.996 secs\n",
      "Ready.\n",
      "Writing /media/maligan/My Passport/msc_thesis/data/tuh_abnormal_data/eval/abnormal/046/00004625/s002_2011_09_28/00004625_s002_t000_2_channels_reref.fif\n"
     ]
    },
    {
     "name": "stderr",
     "output_type": "stream",
     "text": [
      "<ipython-input-26-4527fc4b8426>:47: RuntimeWarning: This filename (/media/maligan/My Passport/msc_thesis/data/tuh_abnormal_data/eval/abnormal/046/00004625/s002_2011_09_28/00004625_s002_t000_2_channels_reref.fif) does not conform to MNE naming conventions. All raw files should end with raw.fif, raw_sss.fif, raw_tsss.fif, _meg.fif, _eeg.fif, _ieeg.fif, raw.fif.gz, raw_sss.fif.gz, raw_tsss.fif.gz, _meg.fif.gz, _eeg.fif.gz or _ieeg.fif.gz\n",
      "  raw.save(f\"{date}/{to_export}_2_channels_reref.fif\", picks=['Fp1-Cz', 'Pz-O2'])\n"
     ]
    },
    {
     "name": "stdout",
     "output_type": "stream",
     "text": [
      "Closing /media/maligan/My Passport/msc_thesis/data/tuh_abnormal_data/eval/abnormal/046/00004625/s002_2011_09_28/00004625_s002_t000_2_channels_reref.fif\n",
      "[done]\n",
      "[]\n",
      "Extracting EDF parameters from /media/maligan/My Passport/msc_thesis/data/tuh_abnormal_data/eval/abnormal/046/00004625/s003_2013_02_25/00004625_s003_t001.edf...\n",
      "EDF file detected\n",
      "Setting channel info structure...\n",
      "Creating raw.info structure...\n",
      "Renaming to standard 10-20 alphabetic channels ...\n",
      "Creating RawArray with float64 data, n_channels=2, n_times=372750\n",
      "    Range : 0 ... 372749 =      0.000 ...  1490.996 secs\n",
      "Ready.\n",
      "Writing /media/maligan/My Passport/msc_thesis/data/tuh_abnormal_data/eval/abnormal/046/00004625/s003_2013_02_25/00004625_s003_t001_2_channels_reref.fif\n"
     ]
    },
    {
     "name": "stderr",
     "output_type": "stream",
     "text": [
      "<ipython-input-26-4527fc4b8426>:47: RuntimeWarning: This filename (/media/maligan/My Passport/msc_thesis/data/tuh_abnormal_data/eval/abnormal/046/00004625/s003_2013_02_25/00004625_s003_t001_2_channels_reref.fif) does not conform to MNE naming conventions. All raw files should end with raw.fif, raw_sss.fif, raw_tsss.fif, _meg.fif, _eeg.fif, _ieeg.fif, raw.fif.gz, raw_sss.fif.gz, raw_tsss.fif.gz, _meg.fif.gz, _eeg.fif.gz or _ieeg.fif.gz\n",
      "  raw.save(f\"{date}/{to_export}_2_channels_reref.fif\", picks=['Fp1-Cz', 'Pz-O2'])\n"
     ]
    },
    {
     "name": "stdout",
     "output_type": "stream",
     "text": [
      "Closing /media/maligan/My Passport/msc_thesis/data/tuh_abnormal_data/eval/abnormal/046/00004625/s003_2013_02_25/00004625_s003_t001_2_channels_reref.fif\n",
      "[done]\n",
      "[]\n",
      "Extracting EDF parameters from /media/maligan/My Passport/msc_thesis/data/tuh_abnormal_data/eval/abnormal/046/00004697/s002_2012_09_04/00004697_s002_t000.edf...\n",
      "EDF file detected\n",
      "Setting channel info structure...\n",
      "Creating raw.info structure...\n",
      "Renaming to standard 10-20 alphabetic channels ...\n",
      "Creating RawArray with float64 data, n_channels=2, n_times=334750\n",
      "    Range : 0 ... 334749 =      0.000 ...  1338.996 secs\n",
      "Ready.\n",
      "Writing /media/maligan/My Passport/msc_thesis/data/tuh_abnormal_data/eval/abnormal/046/00004697/s002_2012_09_04/00004697_s002_t000_2_channels_reref.fif\n"
     ]
    },
    {
     "name": "stderr",
     "output_type": "stream",
     "text": [
      "<ipython-input-26-4527fc4b8426>:47: RuntimeWarning: This filename (/media/maligan/My Passport/msc_thesis/data/tuh_abnormal_data/eval/abnormal/046/00004697/s002_2012_09_04/00004697_s002_t000_2_channels_reref.fif) does not conform to MNE naming conventions. All raw files should end with raw.fif, raw_sss.fif, raw_tsss.fif, _meg.fif, _eeg.fif, _ieeg.fif, raw.fif.gz, raw_sss.fif.gz, raw_tsss.fif.gz, _meg.fif.gz, _eeg.fif.gz or _ieeg.fif.gz\n",
      "  raw.save(f\"{date}/{to_export}_2_channels_reref.fif\", picks=['Fp1-Cz', 'Pz-O2'])\n"
     ]
    },
    {
     "name": "stdout",
     "output_type": "stream",
     "text": [
      "Closing /media/maligan/My Passport/msc_thesis/data/tuh_abnormal_data/eval/abnormal/046/00004697/s002_2012_09_04/00004697_s002_t000_2_channels_reref.fif\n",
      "[done]\n",
      "[]\n",
      "Extracting EDF parameters from /media/maligan/My Passport/msc_thesis/data/tuh_abnormal_data/eval/abnormal/049/00004944/s005_2010_12_28/00004944_s005_t001.edf...\n",
      "EDF file detected\n",
      "Setting channel info structure...\n",
      "Creating raw.info structure...\n",
      "Renaming to standard 10-20 alphabetic channels ...\n",
      "Creating RawArray with float64 data, n_channels=2, n_times=293750\n",
      "    Range : 0 ... 293749 =      0.000 ...  1174.996 secs\n",
      "Ready.\n",
      "Writing /media/maligan/My Passport/msc_thesis/data/tuh_abnormal_data/eval/abnormal/049/00004944/s005_2010_12_28/00004944_s005_t001_2_channels_reref.fif\n"
     ]
    },
    {
     "name": "stderr",
     "output_type": "stream",
     "text": [
      "<ipython-input-26-4527fc4b8426>:47: RuntimeWarning: This filename (/media/maligan/My Passport/msc_thesis/data/tuh_abnormal_data/eval/abnormal/049/00004944/s005_2010_12_28/00004944_s005_t001_2_channels_reref.fif) does not conform to MNE naming conventions. All raw files should end with raw.fif, raw_sss.fif, raw_tsss.fif, _meg.fif, _eeg.fif, _ieeg.fif, raw.fif.gz, raw_sss.fif.gz, raw_tsss.fif.gz, _meg.fif.gz, _eeg.fif.gz or _ieeg.fif.gz\n",
      "  raw.save(f\"{date}/{to_export}_2_channels_reref.fif\", picks=['Fp1-Cz', 'Pz-O2'])\n"
     ]
    },
    {
     "name": "stdout",
     "output_type": "stream",
     "text": [
      "Closing /media/maligan/My Passport/msc_thesis/data/tuh_abnormal_data/eval/abnormal/049/00004944/s005_2010_12_28/00004944_s005_t001_2_channels_reref.fif\n",
      "[done]\n",
      "[]\n",
      "Extracting EDF parameters from /media/maligan/My Passport/msc_thesis/data/tuh_abnormal_data/eval/abnormal/052/00005230/s002_2010_09_07/00005230_s002_t000.edf...\n",
      "EDF file detected\n",
      "Setting channel info structure...\n",
      "Creating raw.info structure...\n",
      "Renaming to standard 10-20 alphabetic channels ...\n",
      "Creating RawArray with float64 data, n_channels=2, n_times=304000\n",
      "    Range : 0 ... 303999 =      0.000 ...  1215.996 secs\n",
      "Ready.\n",
      "Writing /media/maligan/My Passport/msc_thesis/data/tuh_abnormal_data/eval/abnormal/052/00005230/s002_2010_09_07/00005230_s002_t000_2_channels_reref.fif\n"
     ]
    },
    {
     "name": "stderr",
     "output_type": "stream",
     "text": [
      "<ipython-input-26-4527fc4b8426>:47: RuntimeWarning: This filename (/media/maligan/My Passport/msc_thesis/data/tuh_abnormal_data/eval/abnormal/052/00005230/s002_2010_09_07/00005230_s002_t000_2_channels_reref.fif) does not conform to MNE naming conventions. All raw files should end with raw.fif, raw_sss.fif, raw_tsss.fif, _meg.fif, _eeg.fif, _ieeg.fif, raw.fif.gz, raw_sss.fif.gz, raw_tsss.fif.gz, _meg.fif.gz, _eeg.fif.gz or _ieeg.fif.gz\n",
      "  raw.save(f\"{date}/{to_export}_2_channels_reref.fif\", picks=['Fp1-Cz', 'Pz-O2'])\n"
     ]
    },
    {
     "name": "stdout",
     "output_type": "stream",
     "text": [
      "Closing /media/maligan/My Passport/msc_thesis/data/tuh_abnormal_data/eval/abnormal/052/00005230/s002_2010_09_07/00005230_s002_t000_2_channels_reref.fif\n",
      "[done]\n",
      "[]\n",
      "Extracting EDF parameters from /media/maligan/My Passport/msc_thesis/data/tuh_abnormal_data/eval/abnormal/052/00005230/s003_2012_02_28/00005230_s003_t000.edf...\n",
      "EDF file detected\n",
      "Setting channel info structure...\n",
      "Creating raw.info structure...\n",
      "Renaming to standard 10-20 alphabetic channels ...\n",
      "Creating RawArray with float64 data, n_channels=2, n_times=364000\n",
      "    Range : 0 ... 363999 =      0.000 ...  1455.996 secs\n",
      "Ready.\n",
      "Writing /media/maligan/My Passport/msc_thesis/data/tuh_abnormal_data/eval/abnormal/052/00005230/s003_2012_02_28/00005230_s003_t000_2_channels_reref.fif\n"
     ]
    },
    {
     "name": "stderr",
     "output_type": "stream",
     "text": [
      "<ipython-input-26-4527fc4b8426>:47: RuntimeWarning: This filename (/media/maligan/My Passport/msc_thesis/data/tuh_abnormal_data/eval/abnormal/052/00005230/s003_2012_02_28/00005230_s003_t000_2_channels_reref.fif) does not conform to MNE naming conventions. All raw files should end with raw.fif, raw_sss.fif, raw_tsss.fif, _meg.fif, _eeg.fif, _ieeg.fif, raw.fif.gz, raw_sss.fif.gz, raw_tsss.fif.gz, _meg.fif.gz, _eeg.fif.gz or _ieeg.fif.gz\n",
      "  raw.save(f\"{date}/{to_export}_2_channels_reref.fif\", picks=['Fp1-Cz', 'Pz-O2'])\n"
     ]
    },
    {
     "name": "stdout",
     "output_type": "stream",
     "text": [
      "Closing /media/maligan/My Passport/msc_thesis/data/tuh_abnormal_data/eval/abnormal/052/00005230/s003_2012_02_28/00005230_s003_t000_2_channels_reref.fif\n",
      "[done]\n",
      "[]\n",
      "Extracting EDF parameters from /media/maligan/My Passport/msc_thesis/data/tuh_abnormal_data/eval/abnormal/052/00005276/s002_2011_03_04/00005276_s002_t000.edf...\n",
      "EDF file detected\n",
      "Setting channel info structure...\n",
      "Creating raw.info structure...\n",
      "Renaming to standard 10-20 alphabetic channels ...\n",
      "Creating RawArray with float64 data, n_channels=2, n_times=300750\n",
      "    Range : 0 ... 300749 =      0.000 ...  1202.996 secs\n",
      "Ready.\n",
      "Writing /media/maligan/My Passport/msc_thesis/data/tuh_abnormal_data/eval/abnormal/052/00005276/s002_2011_03_04/00005276_s002_t000_2_channels_reref.fif\n"
     ]
    },
    {
     "name": "stderr",
     "output_type": "stream",
     "text": [
      "<ipython-input-26-4527fc4b8426>:47: RuntimeWarning: This filename (/media/maligan/My Passport/msc_thesis/data/tuh_abnormal_data/eval/abnormal/052/00005276/s002_2011_03_04/00005276_s002_t000_2_channels_reref.fif) does not conform to MNE naming conventions. All raw files should end with raw.fif, raw_sss.fif, raw_tsss.fif, _meg.fif, _eeg.fif, _ieeg.fif, raw.fif.gz, raw_sss.fif.gz, raw_tsss.fif.gz, _meg.fif.gz, _eeg.fif.gz or _ieeg.fif.gz\n",
      "  raw.save(f\"{date}/{to_export}_2_channels_reref.fif\", picks=['Fp1-Cz', 'Pz-O2'])\n"
     ]
    },
    {
     "name": "stdout",
     "output_type": "stream",
     "text": [
      "Closing /media/maligan/My Passport/msc_thesis/data/tuh_abnormal_data/eval/abnormal/052/00005276/s002_2011_03_04/00005276_s002_t000_2_channels_reref.fif\n",
      "[done]\n",
      "[]\n",
      "Extracting EDF parameters from /media/maligan/My Passport/msc_thesis/data/tuh_abnormal_data/eval/abnormal/056/00005649/s002_2010_06_03/00005649_s002_t000.edf...\n",
      "EDF file detected\n",
      "Setting channel info structure...\n",
      "Creating raw.info structure...\n",
      "Renaming to standard 10-20 alphabetic channels ...\n",
      "Creating RawArray with float64 data, n_channels=2, n_times=686500\n",
      "    Range : 0 ... 686499 =      0.000 ...  2745.996 secs\n",
      "Ready.\n",
      "Writing /media/maligan/My Passport/msc_thesis/data/tuh_abnormal_data/eval/abnormal/056/00005649/s002_2010_06_03/00005649_s002_t000_2_channels_reref.fif\n"
     ]
    },
    {
     "name": "stderr",
     "output_type": "stream",
     "text": [
      "<ipython-input-26-4527fc4b8426>:47: RuntimeWarning: This filename (/media/maligan/My Passport/msc_thesis/data/tuh_abnormal_data/eval/abnormal/056/00005649/s002_2010_06_03/00005649_s002_t000_2_channels_reref.fif) does not conform to MNE naming conventions. All raw files should end with raw.fif, raw_sss.fif, raw_tsss.fif, _meg.fif, _eeg.fif, _ieeg.fif, raw.fif.gz, raw_sss.fif.gz, raw_tsss.fif.gz, _meg.fif.gz, _eeg.fif.gz or _ieeg.fif.gz\n",
      "  raw.save(f\"{date}/{to_export}_2_channels_reref.fif\", picks=['Fp1-Cz', 'Pz-O2'])\n"
     ]
    },
    {
     "name": "stdout",
     "output_type": "stream",
     "text": [
      "Closing /media/maligan/My Passport/msc_thesis/data/tuh_abnormal_data/eval/abnormal/056/00005649/s002_2010_06_03/00005649_s002_t000_2_channels_reref.fif\n",
      "[done]\n",
      "[]\n",
      "Extracting EDF parameters from /media/maligan/My Passport/msc_thesis/data/tuh_abnormal_data/eval/abnormal/059/00005932/s004_2013_03_14/00005932_s004_t000.edf...\n",
      "EDF file detected\n",
      "Setting channel info structure...\n",
      "Creating raw.info structure...\n",
      "Renaming to standard 10-20 alphabetic channels ...\n",
      "Creating RawArray with float64 data, n_channels=2, n_times=412250\n",
      "    Range : 0 ... 412249 =      0.000 ...  1648.996 secs\n",
      "Ready.\n",
      "Writing /media/maligan/My Passport/msc_thesis/data/tuh_abnormal_data/eval/abnormal/059/00005932/s004_2013_03_14/00005932_s004_t000_2_channels_reref.fif\n"
     ]
    },
    {
     "name": "stderr",
     "output_type": "stream",
     "text": [
      "<ipython-input-26-4527fc4b8426>:47: RuntimeWarning: This filename (/media/maligan/My Passport/msc_thesis/data/tuh_abnormal_data/eval/abnormal/059/00005932/s004_2013_03_14/00005932_s004_t000_2_channels_reref.fif) does not conform to MNE naming conventions. All raw files should end with raw.fif, raw_sss.fif, raw_tsss.fif, _meg.fif, _eeg.fif, _ieeg.fif, raw.fif.gz, raw_sss.fif.gz, raw_tsss.fif.gz, _meg.fif.gz, _eeg.fif.gz or _ieeg.fif.gz\n",
      "  raw.save(f\"{date}/{to_export}_2_channels_reref.fif\", picks=['Fp1-Cz', 'Pz-O2'])\n"
     ]
    },
    {
     "name": "stdout",
     "output_type": "stream",
     "text": [
      "Closing /media/maligan/My Passport/msc_thesis/data/tuh_abnormal_data/eval/abnormal/059/00005932/s004_2013_03_14/00005932_s004_t000_2_channels_reref.fif\n",
      "[done]\n",
      "[]\n",
      "Extracting EDF parameters from /media/maligan/My Passport/msc_thesis/data/tuh_abnormal_data/eval/abnormal/060/00006091/s002_2010_05_05/00006091_s002_t001.edf...\n",
      "EDF file detected\n",
      "Setting channel info structure...\n",
      "Creating raw.info structure...\n",
      "Renaming to standard 10-20 alphabetic channels ...\n",
      "Creating RawArray with float64 data, n_channels=2, n_times=898750\n",
      "    Range : 0 ... 898749 =      0.000 ...  3594.996 secs\n",
      "Ready.\n",
      "Writing /media/maligan/My Passport/msc_thesis/data/tuh_abnormal_data/eval/abnormal/060/00006091/s002_2010_05_05/00006091_s002_t001_2_channels_reref.fif\n"
     ]
    },
    {
     "name": "stderr",
     "output_type": "stream",
     "text": [
      "<ipython-input-26-4527fc4b8426>:47: RuntimeWarning: This filename (/media/maligan/My Passport/msc_thesis/data/tuh_abnormal_data/eval/abnormal/060/00006091/s002_2010_05_05/00006091_s002_t001_2_channels_reref.fif) does not conform to MNE naming conventions. All raw files should end with raw.fif, raw_sss.fif, raw_tsss.fif, _meg.fif, _eeg.fif, _ieeg.fif, raw.fif.gz, raw_sss.fif.gz, raw_tsss.fif.gz, _meg.fif.gz, _eeg.fif.gz or _ieeg.fif.gz\n",
      "  raw.save(f\"{date}/{to_export}_2_channels_reref.fif\", picks=['Fp1-Cz', 'Pz-O2'])\n"
     ]
    },
    {
     "name": "stdout",
     "output_type": "stream",
     "text": [
      "Closing /media/maligan/My Passport/msc_thesis/data/tuh_abnormal_data/eval/abnormal/060/00006091/s002_2010_05_05/00006091_s002_t001_2_channels_reref.fif\n",
      "[done]\n",
      "[]\n",
      "Extracting EDF parameters from /media/maligan/My Passport/msc_thesis/data/tuh_abnormal_data/eval/abnormal/060/00006091/s004_2013_10_07/00006091_s004_t000.edf...\n",
      "EDF file detected\n",
      "Setting channel info structure...\n",
      "Creating raw.info structure...\n",
      "Renaming to standard 10-20 alphabetic channels ...\n",
      "Creating RawArray with float64 data, n_channels=2, n_times=391750\n",
      "    Range : 0 ... 391749 =      0.000 ...  1566.996 secs\n",
      "Ready.\n",
      "Writing /media/maligan/My Passport/msc_thesis/data/tuh_abnormal_data/eval/abnormal/060/00006091/s004_2013_10_07/00006091_s004_t000_2_channels_reref.fif\n"
     ]
    },
    {
     "name": "stderr",
     "output_type": "stream",
     "text": [
      "<ipython-input-26-4527fc4b8426>:47: RuntimeWarning: This filename (/media/maligan/My Passport/msc_thesis/data/tuh_abnormal_data/eval/abnormal/060/00006091/s004_2013_10_07/00006091_s004_t000_2_channels_reref.fif) does not conform to MNE naming conventions. All raw files should end with raw.fif, raw_sss.fif, raw_tsss.fif, _meg.fif, _eeg.fif, _ieeg.fif, raw.fif.gz, raw_sss.fif.gz, raw_tsss.fif.gz, _meg.fif.gz, _eeg.fif.gz or _ieeg.fif.gz\n",
      "  raw.save(f\"{date}/{to_export}_2_channels_reref.fif\", picks=['Fp1-Cz', 'Pz-O2'])\n"
     ]
    },
    {
     "name": "stdout",
     "output_type": "stream",
     "text": [
      "Closing /media/maligan/My Passport/msc_thesis/data/tuh_abnormal_data/eval/abnormal/060/00006091/s004_2013_10_07/00006091_s004_t000_2_channels_reref.fif\n",
      "[done]\n",
      "[]\n",
      "Extracting EDF parameters from /media/maligan/My Passport/msc_thesis/data/tuh_abnormal_data/eval/abnormal/060/00006096/s001_2009_10_28/00006096_s001_t000.edf...\n",
      "EDF file detected\n",
      "Setting channel info structure...\n",
      "Creating raw.info structure...\n",
      "Renaming to standard 10-20 alphabetic channels ...\n",
      "Creating RawArray with float64 data, n_channels=2, n_times=307750\n",
      "    Range : 0 ... 307749 =      0.000 ...  1230.996 secs\n",
      "Ready.\n",
      "Writing /media/maligan/My Passport/msc_thesis/data/tuh_abnormal_data/eval/abnormal/060/00006096/s001_2009_10_28/00006096_s001_t000_2_channels_reref.fif\n"
     ]
    },
    {
     "name": "stderr",
     "output_type": "stream",
     "text": [
      "<ipython-input-26-4527fc4b8426>:47: RuntimeWarning: This filename (/media/maligan/My Passport/msc_thesis/data/tuh_abnormal_data/eval/abnormal/060/00006096/s001_2009_10_28/00006096_s001_t000_2_channels_reref.fif) does not conform to MNE naming conventions. All raw files should end with raw.fif, raw_sss.fif, raw_tsss.fif, _meg.fif, _eeg.fif, _ieeg.fif, raw.fif.gz, raw_sss.fif.gz, raw_tsss.fif.gz, _meg.fif.gz, _eeg.fif.gz or _ieeg.fif.gz\n",
      "  raw.save(f\"{date}/{to_export}_2_channels_reref.fif\", picks=['Fp1-Cz', 'Pz-O2'])\n"
     ]
    },
    {
     "name": "stdout",
     "output_type": "stream",
     "text": [
      "Closing /media/maligan/My Passport/msc_thesis/data/tuh_abnormal_data/eval/abnormal/060/00006096/s001_2009_10_28/00006096_s001_t000_2_channels_reref.fif\n",
      "[done]\n",
      "[]\n",
      "Extracting EDF parameters from /media/maligan/My Passport/msc_thesis/data/tuh_abnormal_data/eval/abnormal/064/00006462/s002_2010_06_11/00006462_s002_t001.edf...\n",
      "EDF file detected\n",
      "Setting channel info structure...\n",
      "Creating raw.info structure...\n",
      "Renaming to standard 10-20 alphabetic channels ...\n",
      "Creating RawArray with float64 data, n_channels=2, n_times=301000\n",
      "    Range : 0 ... 300999 =      0.000 ...  1203.996 secs\n",
      "Ready.\n",
      "Writing /media/maligan/My Passport/msc_thesis/data/tuh_abnormal_data/eval/abnormal/064/00006462/s002_2010_06_11/00006462_s002_t001_2_channels_reref.fif\n"
     ]
    },
    {
     "name": "stderr",
     "output_type": "stream",
     "text": [
      "<ipython-input-26-4527fc4b8426>:47: RuntimeWarning: This filename (/media/maligan/My Passport/msc_thesis/data/tuh_abnormal_data/eval/abnormal/064/00006462/s002_2010_06_11/00006462_s002_t001_2_channels_reref.fif) does not conform to MNE naming conventions. All raw files should end with raw.fif, raw_sss.fif, raw_tsss.fif, _meg.fif, _eeg.fif, _ieeg.fif, raw.fif.gz, raw_sss.fif.gz, raw_tsss.fif.gz, _meg.fif.gz, _eeg.fif.gz or _ieeg.fif.gz\n",
      "  raw.save(f\"{date}/{to_export}_2_channels_reref.fif\", picks=['Fp1-Cz', 'Pz-O2'])\n"
     ]
    },
    {
     "name": "stdout",
     "output_type": "stream",
     "text": [
      "Closing /media/maligan/My Passport/msc_thesis/data/tuh_abnormal_data/eval/abnormal/064/00006462/s002_2010_06_11/00006462_s002_t001_2_channels_reref.fif\n",
      "[done]\n",
      "[]\n",
      "Extracting EDF parameters from /media/maligan/My Passport/msc_thesis/data/tuh_abnormal_data/eval/abnormal/065/00006507/s004_2010_02_23/00006507_s004_t000.edf...\n",
      "EDF file detected\n",
      "Setting channel info structure...\n",
      "Creating raw.info structure...\n",
      "Renaming to standard 10-20 alphabetic channels ...\n",
      "Creating RawArray with float64 data, n_channels=2, n_times=301500\n",
      "    Range : 0 ... 301499 =      0.000 ...  1205.996 secs\n",
      "Ready.\n",
      "Writing /media/maligan/My Passport/msc_thesis/data/tuh_abnormal_data/eval/abnormal/065/00006507/s004_2010_02_23/00006507_s004_t000_2_channels_reref.fif\n"
     ]
    },
    {
     "name": "stderr",
     "output_type": "stream",
     "text": [
      "<ipython-input-26-4527fc4b8426>:47: RuntimeWarning: This filename (/media/maligan/My Passport/msc_thesis/data/tuh_abnormal_data/eval/abnormal/065/00006507/s004_2010_02_23/00006507_s004_t000_2_channels_reref.fif) does not conform to MNE naming conventions. All raw files should end with raw.fif, raw_sss.fif, raw_tsss.fif, _meg.fif, _eeg.fif, _ieeg.fif, raw.fif.gz, raw_sss.fif.gz, raw_tsss.fif.gz, _meg.fif.gz, _eeg.fif.gz or _ieeg.fif.gz\n",
      "  raw.save(f\"{date}/{to_export}_2_channels_reref.fif\", picks=['Fp1-Cz', 'Pz-O2'])\n"
     ]
    },
    {
     "name": "stdout",
     "output_type": "stream",
     "text": [
      "Closing /media/maligan/My Passport/msc_thesis/data/tuh_abnormal_data/eval/abnormal/065/00006507/s004_2010_02_23/00006507_s004_t000_2_channels_reref.fif\n",
      "[done]\n",
      "[]\n",
      "Extracting EDF parameters from /media/maligan/My Passport/msc_thesis/data/tuh_abnormal_data/eval/abnormal/065/00006510/s003_2010_11_04/00006510_s003_t001.edf...\n",
      "EDF file detected\n",
      "Setting channel info structure...\n",
      "Creating raw.info structure...\n",
      "Renaming to standard 10-20 alphabetic channels ...\n",
      "Creating RawArray with float64 data, n_channels=2, n_times=295500\n",
      "    Range : 0 ... 295499 =      0.000 ...  1181.996 secs\n",
      "Ready.\n",
      "Writing /media/maligan/My Passport/msc_thesis/data/tuh_abnormal_data/eval/abnormal/065/00006510/s003_2010_11_04/00006510_s003_t001_2_channels_reref.fif\n"
     ]
    },
    {
     "name": "stderr",
     "output_type": "stream",
     "text": [
      "<ipython-input-26-4527fc4b8426>:47: RuntimeWarning: This filename (/media/maligan/My Passport/msc_thesis/data/tuh_abnormal_data/eval/abnormal/065/00006510/s003_2010_11_04/00006510_s003_t001_2_channels_reref.fif) does not conform to MNE naming conventions. All raw files should end with raw.fif, raw_sss.fif, raw_tsss.fif, _meg.fif, _eeg.fif, _ieeg.fif, raw.fif.gz, raw_sss.fif.gz, raw_tsss.fif.gz, _meg.fif.gz, _eeg.fif.gz or _ieeg.fif.gz\n",
      "  raw.save(f\"{date}/{to_export}_2_channels_reref.fif\", picks=['Fp1-Cz', 'Pz-O2'])\n"
     ]
    },
    {
     "name": "stdout",
     "output_type": "stream",
     "text": [
      "Closing /media/maligan/My Passport/msc_thesis/data/tuh_abnormal_data/eval/abnormal/065/00006510/s003_2010_11_04/00006510_s003_t001_2_channels_reref.fif\n",
      "[done]\n",
      "[]\n",
      "Extracting EDF parameters from /media/maligan/My Passport/msc_thesis/data/tuh_abnormal_data/eval/abnormal/065/00006531/s001_2010_09_05/00006531_s001_t000.edf...\n",
      "EDF file detected\n",
      "Setting channel info structure...\n",
      "Creating raw.info structure...\n",
      "Renaming to standard 10-20 alphabetic channels ...\n",
      "Creating RawArray with float64 data, n_channels=2, n_times=302750\n",
      "    Range : 0 ... 302749 =      0.000 ...  1210.996 secs\n",
      "Ready.\n",
      "Writing /media/maligan/My Passport/msc_thesis/data/tuh_abnormal_data/eval/abnormal/065/00006531/s001_2010_09_05/00006531_s001_t000_2_channels_reref.fif\n"
     ]
    },
    {
     "name": "stderr",
     "output_type": "stream",
     "text": [
      "<ipython-input-26-4527fc4b8426>:47: RuntimeWarning: This filename (/media/maligan/My Passport/msc_thesis/data/tuh_abnormal_data/eval/abnormal/065/00006531/s001_2010_09_05/00006531_s001_t000_2_channels_reref.fif) does not conform to MNE naming conventions. All raw files should end with raw.fif, raw_sss.fif, raw_tsss.fif, _meg.fif, _eeg.fif, _ieeg.fif, raw.fif.gz, raw_sss.fif.gz, raw_tsss.fif.gz, _meg.fif.gz, _eeg.fif.gz or _ieeg.fif.gz\n",
      "  raw.save(f\"{date}/{to_export}_2_channels_reref.fif\", picks=['Fp1-Cz', 'Pz-O2'])\n"
     ]
    },
    {
     "name": "stdout",
     "output_type": "stream",
     "text": [
      "Closing /media/maligan/My Passport/msc_thesis/data/tuh_abnormal_data/eval/abnormal/065/00006531/s001_2010_09_05/00006531_s001_t000_2_channels_reref.fif\n",
      "[done]\n",
      "[]\n",
      "Extracting EDF parameters from /media/maligan/My Passport/msc_thesis/data/tuh_abnormal_data/eval/abnormal/065/00006531/s002_2010_09_09/00006531_s002_t000.edf...\n",
      "EDF file detected\n",
      "Setting channel info structure...\n",
      "Creating raw.info structure...\n",
      "Renaming to standard 10-20 alphabetic channels ...\n",
      "Creating RawArray with float64 data, n_channels=2, n_times=308000\n",
      "    Range : 0 ... 307999 =      0.000 ...  1231.996 secs\n",
      "Ready.\n",
      "Writing /media/maligan/My Passport/msc_thesis/data/tuh_abnormal_data/eval/abnormal/065/00006531/s002_2010_09_09/00006531_s002_t000_2_channels_reref.fif\n"
     ]
    },
    {
     "name": "stderr",
     "output_type": "stream",
     "text": [
      "<ipython-input-26-4527fc4b8426>:47: RuntimeWarning: This filename (/media/maligan/My Passport/msc_thesis/data/tuh_abnormal_data/eval/abnormal/065/00006531/s002_2010_09_09/00006531_s002_t000_2_channels_reref.fif) does not conform to MNE naming conventions. All raw files should end with raw.fif, raw_sss.fif, raw_tsss.fif, _meg.fif, _eeg.fif, _ieeg.fif, raw.fif.gz, raw_sss.fif.gz, raw_tsss.fif.gz, _meg.fif.gz, _eeg.fif.gz or _ieeg.fif.gz\n",
      "  raw.save(f\"{date}/{to_export}_2_channels_reref.fif\", picks=['Fp1-Cz', 'Pz-O2'])\n"
     ]
    },
    {
     "name": "stdout",
     "output_type": "stream",
     "text": [
      "Closing /media/maligan/My Passport/msc_thesis/data/tuh_abnormal_data/eval/abnormal/065/00006531/s002_2010_09_09/00006531_s002_t000_2_channels_reref.fif\n",
      "[done]\n",
      "[]\n",
      "Extracting EDF parameters from /media/maligan/My Passport/msc_thesis/data/tuh_abnormal_data/eval/abnormal/065/00006531/s003_2010_09_20/00006531_s003_t002.edf...\n",
      "EDF file detected\n",
      "Setting channel info structure...\n",
      "Creating raw.info structure...\n",
      "Renaming to standard 10-20 alphabetic channels ...\n",
      "Creating RawArray with float64 data, n_channels=2, n_times=302250\n",
      "    Range : 0 ... 302249 =      0.000 ...  1208.996 secs\n",
      "Ready.\n",
      "Writing /media/maligan/My Passport/msc_thesis/data/tuh_abnormal_data/eval/abnormal/065/00006531/s003_2010_09_20/00006531_s003_t002_2_channels_reref.fif\n"
     ]
    },
    {
     "name": "stderr",
     "output_type": "stream",
     "text": [
      "<ipython-input-26-4527fc4b8426>:47: RuntimeWarning: This filename (/media/maligan/My Passport/msc_thesis/data/tuh_abnormal_data/eval/abnormal/065/00006531/s003_2010_09_20/00006531_s003_t002_2_channels_reref.fif) does not conform to MNE naming conventions. All raw files should end with raw.fif, raw_sss.fif, raw_tsss.fif, _meg.fif, _eeg.fif, _ieeg.fif, raw.fif.gz, raw_sss.fif.gz, raw_tsss.fif.gz, _meg.fif.gz, _eeg.fif.gz or _ieeg.fif.gz\n",
      "  raw.save(f\"{date}/{to_export}_2_channels_reref.fif\", picks=['Fp1-Cz', 'Pz-O2'])\n"
     ]
    },
    {
     "name": "stdout",
     "output_type": "stream",
     "text": [
      "Closing /media/maligan/My Passport/msc_thesis/data/tuh_abnormal_data/eval/abnormal/065/00006531/s003_2010_09_20/00006531_s003_t002_2_channels_reref.fif\n",
      "[done]\n",
      "[]\n",
      "Extracting EDF parameters from /media/maligan/My Passport/msc_thesis/data/tuh_abnormal_data/eval/abnormal/065/00006531/s004_2011_11_15/00006531_s004_t000.edf...\n",
      "EDF file detected\n",
      "Setting channel info structure...\n",
      "Creating raw.info structure...\n",
      "Renaming to standard 10-20 alphabetic channels ...\n",
      "Creating RawArray with float64 data, n_channels=2, n_times=304750\n",
      "    Range : 0 ... 304749 =      0.000 ...  1218.996 secs\n",
      "Ready.\n",
      "Writing /media/maligan/My Passport/msc_thesis/data/tuh_abnormal_data/eval/abnormal/065/00006531/s004_2011_11_15/00006531_s004_t000_2_channels_reref.fif\n"
     ]
    },
    {
     "name": "stderr",
     "output_type": "stream",
     "text": [
      "<ipython-input-26-4527fc4b8426>:47: RuntimeWarning: This filename (/media/maligan/My Passport/msc_thesis/data/tuh_abnormal_data/eval/abnormal/065/00006531/s004_2011_11_15/00006531_s004_t000_2_channels_reref.fif) does not conform to MNE naming conventions. All raw files should end with raw.fif, raw_sss.fif, raw_tsss.fif, _meg.fif, _eeg.fif, _ieeg.fif, raw.fif.gz, raw_sss.fif.gz, raw_tsss.fif.gz, _meg.fif.gz, _eeg.fif.gz or _ieeg.fif.gz\n",
      "  raw.save(f\"{date}/{to_export}_2_channels_reref.fif\", picks=['Fp1-Cz', 'Pz-O2'])\n"
     ]
    },
    {
     "name": "stdout",
     "output_type": "stream",
     "text": [
      "Closing /media/maligan/My Passport/msc_thesis/data/tuh_abnormal_data/eval/abnormal/065/00006531/s004_2011_11_15/00006531_s004_t000_2_channels_reref.fif\n",
      "[done]\n",
      "[]\n",
      "Extracting EDF parameters from /media/maligan/My Passport/msc_thesis/data/tuh_abnormal_data/eval/abnormal/065/00006566/s001_2010_04_15/00006566_s001_t000.edf...\n",
      "EDF file detected\n",
      "Setting channel info structure...\n",
      "Creating raw.info structure...\n",
      "Renaming to standard 10-20 alphabetic channels ...\n",
      "Creating RawArray with float64 data, n_channels=2, n_times=313750\n",
      "    Range : 0 ... 313749 =      0.000 ...  1254.996 secs\n",
      "Ready.\n",
      "Writing /media/maligan/My Passport/msc_thesis/data/tuh_abnormal_data/eval/abnormal/065/00006566/s001_2010_04_15/00006566_s001_t000_2_channels_reref.fif\n"
     ]
    },
    {
     "name": "stderr",
     "output_type": "stream",
     "text": [
      "<ipython-input-26-4527fc4b8426>:47: RuntimeWarning: This filename (/media/maligan/My Passport/msc_thesis/data/tuh_abnormal_data/eval/abnormal/065/00006566/s001_2010_04_15/00006566_s001_t000_2_channels_reref.fif) does not conform to MNE naming conventions. All raw files should end with raw.fif, raw_sss.fif, raw_tsss.fif, _meg.fif, _eeg.fif, _ieeg.fif, raw.fif.gz, raw_sss.fif.gz, raw_tsss.fif.gz, _meg.fif.gz, _eeg.fif.gz or _ieeg.fif.gz\n",
      "  raw.save(f\"{date}/{to_export}_2_channels_reref.fif\", picks=['Fp1-Cz', 'Pz-O2'])\n"
     ]
    },
    {
     "name": "stdout",
     "output_type": "stream",
     "text": [
      "Closing /media/maligan/My Passport/msc_thesis/data/tuh_abnormal_data/eval/abnormal/065/00006566/s001_2010_04_15/00006566_s001_t000_2_channels_reref.fif\n",
      "[done]\n",
      "[]\n",
      "Extracting EDF parameters from /media/maligan/My Passport/msc_thesis/data/tuh_abnormal_data/eval/abnormal/066/00006611/s001_2010_03_02/00006611_s001_t000.edf...\n",
      "EDF file detected\n",
      "Setting channel info structure...\n",
      "Creating raw.info structure...\n",
      "Renaming to standard 10-20 alphabetic channels ...\n",
      "Creating RawArray with float64 data, n_channels=2, n_times=301000\n",
      "    Range : 0 ... 300999 =      0.000 ...  1203.996 secs\n",
      "Ready.\n",
      "Writing /media/maligan/My Passport/msc_thesis/data/tuh_abnormal_data/eval/abnormal/066/00006611/s001_2010_03_02/00006611_s001_t000_2_channels_reref.fif\n"
     ]
    },
    {
     "name": "stderr",
     "output_type": "stream",
     "text": [
      "<ipython-input-26-4527fc4b8426>:47: RuntimeWarning: This filename (/media/maligan/My Passport/msc_thesis/data/tuh_abnormal_data/eval/abnormal/066/00006611/s001_2010_03_02/00006611_s001_t000_2_channels_reref.fif) does not conform to MNE naming conventions. All raw files should end with raw.fif, raw_sss.fif, raw_tsss.fif, _meg.fif, _eeg.fif, _ieeg.fif, raw.fif.gz, raw_sss.fif.gz, raw_tsss.fif.gz, _meg.fif.gz, _eeg.fif.gz or _ieeg.fif.gz\n",
      "  raw.save(f\"{date}/{to_export}_2_channels_reref.fif\", picks=['Fp1-Cz', 'Pz-O2'])\n"
     ]
    },
    {
     "name": "stdout",
     "output_type": "stream",
     "text": [
      "Closing /media/maligan/My Passport/msc_thesis/data/tuh_abnormal_data/eval/abnormal/066/00006611/s001_2010_03_02/00006611_s001_t000_2_channels_reref.fif\n",
      "[done]\n",
      "[]\n",
      "Extracting EDF parameters from /media/maligan/My Passport/msc_thesis/data/tuh_abnormal_data/eval/abnormal/068/00006822/s001_2010_07_29/00006822_s001_t001.edf...\n",
      "EDF file detected\n",
      "Setting channel info structure...\n",
      "Creating raw.info structure...\n",
      "Renaming to standard 10-20 alphabetic channels ...\n",
      "Creating RawArray with float64 data, n_channels=2, n_times=296500\n",
      "    Range : 0 ... 296499 =      0.000 ...  1185.996 secs\n",
      "Ready.\n",
      "Writing /media/maligan/My Passport/msc_thesis/data/tuh_abnormal_data/eval/abnormal/068/00006822/s001_2010_07_29/00006822_s001_t001_2_channels_reref.fif\n"
     ]
    },
    {
     "name": "stderr",
     "output_type": "stream",
     "text": [
      "<ipython-input-26-4527fc4b8426>:47: RuntimeWarning: This filename (/media/maligan/My Passport/msc_thesis/data/tuh_abnormal_data/eval/abnormal/068/00006822/s001_2010_07_29/00006822_s001_t001_2_channels_reref.fif) does not conform to MNE naming conventions. All raw files should end with raw.fif, raw_sss.fif, raw_tsss.fif, _meg.fif, _eeg.fif, _ieeg.fif, raw.fif.gz, raw_sss.fif.gz, raw_tsss.fif.gz, _meg.fif.gz, _eeg.fif.gz or _ieeg.fif.gz\n",
      "  raw.save(f\"{date}/{to_export}_2_channels_reref.fif\", picks=['Fp1-Cz', 'Pz-O2'])\n"
     ]
    },
    {
     "name": "stdout",
     "output_type": "stream",
     "text": [
      "Closing /media/maligan/My Passport/msc_thesis/data/tuh_abnormal_data/eval/abnormal/068/00006822/s001_2010_07_29/00006822_s001_t001_2_channels_reref.fif\n",
      "[done]\n",
      "[]\n",
      "Extracting EDF parameters from /media/maligan/My Passport/msc_thesis/data/tuh_abnormal_data/eval/abnormal/068/00006835/s001_2010_08_02/00006835_s001_t001.edf...\n",
      "EDF file detected\n",
      "Setting channel info structure...\n",
      "Creating raw.info structure...\n",
      "Renaming to standard 10-20 alphabetic channels ...\n",
      "Creating RawArray with float64 data, n_channels=2, n_times=294500\n",
      "    Range : 0 ... 294499 =      0.000 ...  1177.996 secs\n",
      "Ready.\n",
      "Writing /media/maligan/My Passport/msc_thesis/data/tuh_abnormal_data/eval/abnormal/068/00006835/s001_2010_08_02/00006835_s001_t001_2_channels_reref.fif\n"
     ]
    },
    {
     "name": "stderr",
     "output_type": "stream",
     "text": [
      "<ipython-input-26-4527fc4b8426>:47: RuntimeWarning: This filename (/media/maligan/My Passport/msc_thesis/data/tuh_abnormal_data/eval/abnormal/068/00006835/s001_2010_08_02/00006835_s001_t001_2_channels_reref.fif) does not conform to MNE naming conventions. All raw files should end with raw.fif, raw_sss.fif, raw_tsss.fif, _meg.fif, _eeg.fif, _ieeg.fif, raw.fif.gz, raw_sss.fif.gz, raw_tsss.fif.gz, _meg.fif.gz, _eeg.fif.gz or _ieeg.fif.gz\n",
      "  raw.save(f\"{date}/{to_export}_2_channels_reref.fif\", picks=['Fp1-Cz', 'Pz-O2'])\n"
     ]
    },
    {
     "name": "stdout",
     "output_type": "stream",
     "text": [
      "Closing /media/maligan/My Passport/msc_thesis/data/tuh_abnormal_data/eval/abnormal/068/00006835/s001_2010_08_02/00006835_s001_t001_2_channels_reref.fif\n",
      "[done]\n",
      "[]\n",
      "Extracting EDF parameters from /media/maligan/My Passport/msc_thesis/data/tuh_abnormal_data/eval/abnormal/068/00006836/s005_2012_12_13/00006836_s005_t001.edf...\n",
      "EDF file detected\n",
      "Setting channel info structure...\n",
      "Creating raw.info structure...\n",
      "Renaming to standard 10-20 alphabetic channels ...\n",
      "Creating RawArray with float64 data, n_channels=2, n_times=326750\n",
      "    Range : 0 ... 326749 =      0.000 ...  1306.996 secs\n",
      "Ready.\n",
      "Writing /media/maligan/My Passport/msc_thesis/data/tuh_abnormal_data/eval/abnormal/068/00006836/s005_2012_12_13/00006836_s005_t001_2_channels_reref.fif\n"
     ]
    },
    {
     "name": "stderr",
     "output_type": "stream",
     "text": [
      "<ipython-input-26-4527fc4b8426>:47: RuntimeWarning: This filename (/media/maligan/My Passport/msc_thesis/data/tuh_abnormal_data/eval/abnormal/068/00006836/s005_2012_12_13/00006836_s005_t001_2_channels_reref.fif) does not conform to MNE naming conventions. All raw files should end with raw.fif, raw_sss.fif, raw_tsss.fif, _meg.fif, _eeg.fif, _ieeg.fif, raw.fif.gz, raw_sss.fif.gz, raw_tsss.fif.gz, _meg.fif.gz, _eeg.fif.gz or _ieeg.fif.gz\n",
      "  raw.save(f\"{date}/{to_export}_2_channels_reref.fif\", picks=['Fp1-Cz', 'Pz-O2'])\n"
     ]
    },
    {
     "name": "stdout",
     "output_type": "stream",
     "text": [
      "Closing /media/maligan/My Passport/msc_thesis/data/tuh_abnormal_data/eval/abnormal/068/00006836/s005_2012_12_13/00006836_s005_t001_2_channels_reref.fif\n",
      "[done]\n",
      "[]\n",
      "Extracting EDF parameters from /media/maligan/My Passport/msc_thesis/data/tuh_abnormal_data/eval/abnormal/068/00006847/s001_2010_08_06/00006847_s001_t000.edf...\n",
      "EDF file detected\n",
      "Setting channel info structure...\n",
      "Creating raw.info structure...\n",
      "Renaming to standard 10-20 alphabetic channels ...\n",
      "Creating RawArray with float64 data, n_channels=2, n_times=303750\n",
      "    Range : 0 ... 303749 =      0.000 ...  1214.996 secs\n",
      "Ready.\n",
      "Writing /media/maligan/My Passport/msc_thesis/data/tuh_abnormal_data/eval/abnormal/068/00006847/s001_2010_08_06/00006847_s001_t000_2_channels_reref.fif\n"
     ]
    },
    {
     "name": "stderr",
     "output_type": "stream",
     "text": [
      "<ipython-input-26-4527fc4b8426>:47: RuntimeWarning: This filename (/media/maligan/My Passport/msc_thesis/data/tuh_abnormal_data/eval/abnormal/068/00006847/s001_2010_08_06/00006847_s001_t000_2_channels_reref.fif) does not conform to MNE naming conventions. All raw files should end with raw.fif, raw_sss.fif, raw_tsss.fif, _meg.fif, _eeg.fif, _ieeg.fif, raw.fif.gz, raw_sss.fif.gz, raw_tsss.fif.gz, _meg.fif.gz, _eeg.fif.gz or _ieeg.fif.gz\n",
      "  raw.save(f\"{date}/{to_export}_2_channels_reref.fif\", picks=['Fp1-Cz', 'Pz-O2'])\n"
     ]
    },
    {
     "name": "stdout",
     "output_type": "stream",
     "text": [
      "Closing /media/maligan/My Passport/msc_thesis/data/tuh_abnormal_data/eval/abnormal/068/00006847/s001_2010_08_06/00006847_s001_t000_2_channels_reref.fif\n",
      "[done]\n",
      "[]\n",
      "Extracting EDF parameters from /media/maligan/My Passport/msc_thesis/data/tuh_abnormal_data/eval/abnormal/068/00006852/s001_2010_08_06/00006852_s001_t000.edf...\n",
      "EDF file detected\n",
      "Setting channel info structure...\n",
      "Creating raw.info structure...\n",
      "Renaming to standard 10-20 alphabetic channels ...\n",
      "Creating RawArray with float64 data, n_channels=2, n_times=301000\n",
      "    Range : 0 ... 300999 =      0.000 ...  1203.996 secs\n",
      "Ready.\n",
      "Writing /media/maligan/My Passport/msc_thesis/data/tuh_abnormal_data/eval/abnormal/068/00006852/s001_2010_08_06/00006852_s001_t000_2_channels_reref.fif\n"
     ]
    },
    {
     "name": "stderr",
     "output_type": "stream",
     "text": [
      "<ipython-input-26-4527fc4b8426>:47: RuntimeWarning: This filename (/media/maligan/My Passport/msc_thesis/data/tuh_abnormal_data/eval/abnormal/068/00006852/s001_2010_08_06/00006852_s001_t000_2_channels_reref.fif) does not conform to MNE naming conventions. All raw files should end with raw.fif, raw_sss.fif, raw_tsss.fif, _meg.fif, _eeg.fif, _ieeg.fif, raw.fif.gz, raw_sss.fif.gz, raw_tsss.fif.gz, _meg.fif.gz, _eeg.fif.gz or _ieeg.fif.gz\n",
      "  raw.save(f\"{date}/{to_export}_2_channels_reref.fif\", picks=['Fp1-Cz', 'Pz-O2'])\n"
     ]
    },
    {
     "name": "stdout",
     "output_type": "stream",
     "text": [
      "Closing /media/maligan/My Passport/msc_thesis/data/tuh_abnormal_data/eval/abnormal/068/00006852/s001_2010_08_06/00006852_s001_t000_2_channels_reref.fif\n",
      "[done]\n",
      "[]\n",
      "Extracting EDF parameters from /media/maligan/My Passport/msc_thesis/data/tuh_abnormal_data/eval/abnormal/068/00006880/s001_2010_09_14/00006880_s001_t000.edf...\n",
      "EDF file detected\n",
      "Setting channel info structure...\n",
      "Creating raw.info structure...\n",
      "Renaming to standard 10-20 alphabetic channels ...\n",
      "Creating RawArray with float64 data, n_channels=2, n_times=303750\n",
      "    Range : 0 ... 303749 =      0.000 ...  1214.996 secs\n",
      "Ready.\n",
      "Writing /media/maligan/My Passport/msc_thesis/data/tuh_abnormal_data/eval/abnormal/068/00006880/s001_2010_09_14/00006880_s001_t000_2_channels_reref.fif\n"
     ]
    },
    {
     "name": "stderr",
     "output_type": "stream",
     "text": [
      "<ipython-input-26-4527fc4b8426>:47: RuntimeWarning: This filename (/media/maligan/My Passport/msc_thesis/data/tuh_abnormal_data/eval/abnormal/068/00006880/s001_2010_09_14/00006880_s001_t000_2_channels_reref.fif) does not conform to MNE naming conventions. All raw files should end with raw.fif, raw_sss.fif, raw_tsss.fif, _meg.fif, _eeg.fif, _ieeg.fif, raw.fif.gz, raw_sss.fif.gz, raw_tsss.fif.gz, _meg.fif.gz, _eeg.fif.gz or _ieeg.fif.gz\n",
      "  raw.save(f\"{date}/{to_export}_2_channels_reref.fif\", picks=['Fp1-Cz', 'Pz-O2'])\n"
     ]
    },
    {
     "name": "stdout",
     "output_type": "stream",
     "text": [
      "Closing /media/maligan/My Passport/msc_thesis/data/tuh_abnormal_data/eval/abnormal/068/00006880/s001_2010_09_14/00006880_s001_t000_2_channels_reref.fif\n",
      "[done]\n",
      "[]\n",
      "Extracting EDF parameters from /media/maligan/My Passport/msc_thesis/data/tuh_abnormal_data/eval/abnormal/068/00006880/s002_2012_08_02/00006880_s002_t000.edf...\n",
      "EDF file detected\n",
      "Setting channel info structure...\n",
      "Creating raw.info structure...\n",
      "Renaming to standard 10-20 alphabetic channels ...\n",
      "Creating RawArray with float64 data, n_channels=2, n_times=313500\n",
      "    Range : 0 ... 313499 =      0.000 ...  1253.996 secs\n",
      "Ready.\n",
      "Writing /media/maligan/My Passport/msc_thesis/data/tuh_abnormal_data/eval/abnormal/068/00006880/s002_2012_08_02/00006880_s002_t000_2_channels_reref.fif\n"
     ]
    },
    {
     "name": "stderr",
     "output_type": "stream",
     "text": [
      "<ipython-input-26-4527fc4b8426>:47: RuntimeWarning: This filename (/media/maligan/My Passport/msc_thesis/data/tuh_abnormal_data/eval/abnormal/068/00006880/s002_2012_08_02/00006880_s002_t000_2_channels_reref.fif) does not conform to MNE naming conventions. All raw files should end with raw.fif, raw_sss.fif, raw_tsss.fif, _meg.fif, _eeg.fif, _ieeg.fif, raw.fif.gz, raw_sss.fif.gz, raw_tsss.fif.gz, _meg.fif.gz, _eeg.fif.gz or _ieeg.fif.gz\n",
      "  raw.save(f\"{date}/{to_export}_2_channels_reref.fif\", picks=['Fp1-Cz', 'Pz-O2'])\n"
     ]
    },
    {
     "name": "stdout",
     "output_type": "stream",
     "text": [
      "Closing /media/maligan/My Passport/msc_thesis/data/tuh_abnormal_data/eval/abnormal/068/00006880/s002_2012_08_02/00006880_s002_t000_2_channels_reref.fif\n",
      "[done]\n",
      "[]\n",
      "Extracting EDF parameters from /media/maligan/My Passport/msc_thesis/data/tuh_abnormal_data/eval/abnormal/068/00006880/s003_2012_09_04/00006880_s003_t000.edf...\n",
      "EDF file detected\n",
      "Setting channel info structure...\n",
      "Creating raw.info structure...\n",
      "Renaming to standard 10-20 alphabetic channels ...\n",
      "Creating RawArray with float64 data, n_channels=2, n_times=340250\n",
      "    Range : 0 ... 340249 =      0.000 ...  1360.996 secs\n",
      "Ready.\n",
      "Writing /media/maligan/My Passport/msc_thesis/data/tuh_abnormal_data/eval/abnormal/068/00006880/s003_2012_09_04/00006880_s003_t000_2_channels_reref.fif\n"
     ]
    },
    {
     "name": "stderr",
     "output_type": "stream",
     "text": [
      "<ipython-input-26-4527fc4b8426>:47: RuntimeWarning: This filename (/media/maligan/My Passport/msc_thesis/data/tuh_abnormal_data/eval/abnormal/068/00006880/s003_2012_09_04/00006880_s003_t000_2_channels_reref.fif) does not conform to MNE naming conventions. All raw files should end with raw.fif, raw_sss.fif, raw_tsss.fif, _meg.fif, _eeg.fif, _ieeg.fif, raw.fif.gz, raw_sss.fif.gz, raw_tsss.fif.gz, _meg.fif.gz, _eeg.fif.gz or _ieeg.fif.gz\n",
      "  raw.save(f\"{date}/{to_export}_2_channels_reref.fif\", picks=['Fp1-Cz', 'Pz-O2'])\n"
     ]
    },
    {
     "name": "stdout",
     "output_type": "stream",
     "text": [
      "Closing /media/maligan/My Passport/msc_thesis/data/tuh_abnormal_data/eval/abnormal/068/00006880/s003_2012_09_04/00006880_s003_t000_2_channels_reref.fif\n",
      "[done]\n",
      "[]\n",
      "Extracting EDF parameters from /media/maligan/My Passport/msc_thesis/data/tuh_abnormal_data/eval/abnormal/068/00006885/s001_2010_09_18/00006885_s001_t001.edf...\n",
      "EDF file detected\n",
      "Setting channel info structure...\n",
      "Creating raw.info structure...\n",
      "Renaming to standard 10-20 alphabetic channels ...\n",
      "Creating RawArray with float64 data, n_channels=2, n_times=297000\n",
      "    Range : 0 ... 296999 =      0.000 ...  1187.996 secs\n",
      "Ready.\n",
      "Writing /media/maligan/My Passport/msc_thesis/data/tuh_abnormal_data/eval/abnormal/068/00006885/s001_2010_09_18/00006885_s001_t001_2_channels_reref.fif\n"
     ]
    },
    {
     "name": "stderr",
     "output_type": "stream",
     "text": [
      "<ipython-input-26-4527fc4b8426>:47: RuntimeWarning: This filename (/media/maligan/My Passport/msc_thesis/data/tuh_abnormal_data/eval/abnormal/068/00006885/s001_2010_09_18/00006885_s001_t001_2_channels_reref.fif) does not conform to MNE naming conventions. All raw files should end with raw.fif, raw_sss.fif, raw_tsss.fif, _meg.fif, _eeg.fif, _ieeg.fif, raw.fif.gz, raw_sss.fif.gz, raw_tsss.fif.gz, _meg.fif.gz, _eeg.fif.gz or _ieeg.fif.gz\n",
      "  raw.save(f\"{date}/{to_export}_2_channels_reref.fif\", picks=['Fp1-Cz', 'Pz-O2'])\n"
     ]
    },
    {
     "name": "stdout",
     "output_type": "stream",
     "text": [
      "Closing /media/maligan/My Passport/msc_thesis/data/tuh_abnormal_data/eval/abnormal/068/00006885/s001_2010_09_18/00006885_s001_t001_2_channels_reref.fif\n",
      "[done]\n",
      "[]\n",
      "Extracting EDF parameters from /media/maligan/My Passport/msc_thesis/data/tuh_abnormal_data/eval/abnormal/068/00006885/s002_2010_09_21/00006885_s002_t000.edf...\n",
      "EDF file detected\n",
      "Setting channel info structure...\n",
      "Creating raw.info structure...\n",
      "Renaming to standard 10-20 alphabetic channels ...\n",
      "Creating RawArray with float64 data, n_channels=2, n_times=303250\n",
      "    Range : 0 ... 303249 =      0.000 ...  1212.996 secs\n",
      "Ready.\n",
      "Writing /media/maligan/My Passport/msc_thesis/data/tuh_abnormal_data/eval/abnormal/068/00006885/s002_2010_09_21/00006885_s002_t000_2_channels_reref.fif\n"
     ]
    },
    {
     "name": "stderr",
     "output_type": "stream",
     "text": [
      "<ipython-input-26-4527fc4b8426>:47: RuntimeWarning: This filename (/media/maligan/My Passport/msc_thesis/data/tuh_abnormal_data/eval/abnormal/068/00006885/s002_2010_09_21/00006885_s002_t000_2_channels_reref.fif) does not conform to MNE naming conventions. All raw files should end with raw.fif, raw_sss.fif, raw_tsss.fif, _meg.fif, _eeg.fif, _ieeg.fif, raw.fif.gz, raw_sss.fif.gz, raw_tsss.fif.gz, _meg.fif.gz, _eeg.fif.gz or _ieeg.fif.gz\n",
      "  raw.save(f\"{date}/{to_export}_2_channels_reref.fif\", picks=['Fp1-Cz', 'Pz-O2'])\n"
     ]
    },
    {
     "name": "stdout",
     "output_type": "stream",
     "text": [
      "Closing /media/maligan/My Passport/msc_thesis/data/tuh_abnormal_data/eval/abnormal/068/00006885/s002_2010_09_21/00006885_s002_t000_2_channels_reref.fif\n",
      "[done]\n",
      "[]\n",
      "Extracting EDF parameters from /media/maligan/My Passport/msc_thesis/data/tuh_abnormal_data/eval/abnormal/069/00006936/s001_2010_01_03/00006936_s001_t000.edf...\n",
      "EDF file detected\n",
      "Setting channel info structure...\n",
      "Creating raw.info structure...\n",
      "Renaming to standard 10-20 alphabetic channels ...\n",
      "Creating RawArray with float64 data, n_channels=2, n_times=301500\n",
      "    Range : 0 ... 301499 =      0.000 ...  1205.996 secs\n",
      "Ready.\n",
      "Writing /media/maligan/My Passport/msc_thesis/data/tuh_abnormal_data/eval/abnormal/069/00006936/s001_2010_01_03/00006936_s001_t000_2_channels_reref.fif\n"
     ]
    },
    {
     "name": "stderr",
     "output_type": "stream",
     "text": [
      "<ipython-input-26-4527fc4b8426>:47: RuntimeWarning: This filename (/media/maligan/My Passport/msc_thesis/data/tuh_abnormal_data/eval/abnormal/069/00006936/s001_2010_01_03/00006936_s001_t000_2_channels_reref.fif) does not conform to MNE naming conventions. All raw files should end with raw.fif, raw_sss.fif, raw_tsss.fif, _meg.fif, _eeg.fif, _ieeg.fif, raw.fif.gz, raw_sss.fif.gz, raw_tsss.fif.gz, _meg.fif.gz, _eeg.fif.gz or _ieeg.fif.gz\n",
      "  raw.save(f\"{date}/{to_export}_2_channels_reref.fif\", picks=['Fp1-Cz', 'Pz-O2'])\n"
     ]
    },
    {
     "name": "stdout",
     "output_type": "stream",
     "text": [
      "Closing /media/maligan/My Passport/msc_thesis/data/tuh_abnormal_data/eval/abnormal/069/00006936/s001_2010_01_03/00006936_s001_t000_2_channels_reref.fif\n",
      "[done]\n",
      "[]\n",
      "Extracting EDF parameters from /media/maligan/My Passport/msc_thesis/data/tuh_abnormal_data/eval/abnormal/070/00007004/s002_2010_11_17/00007004_s002_t002.edf...\n",
      "EDF file detected\n",
      "Setting channel info structure...\n",
      "Creating raw.info structure...\n",
      "Renaming to standard 10-20 alphabetic channels ...\n",
      "Creating RawArray with float64 data, n_channels=2, n_times=301000\n",
      "    Range : 0 ... 300999 =      0.000 ...  1203.996 secs\n",
      "Ready.\n",
      "Writing /media/maligan/My Passport/msc_thesis/data/tuh_abnormal_data/eval/abnormal/070/00007004/s002_2010_11_17/00007004_s002_t002_2_channels_reref.fif\n"
     ]
    },
    {
     "name": "stderr",
     "output_type": "stream",
     "text": [
      "<ipython-input-26-4527fc4b8426>:47: RuntimeWarning: This filename (/media/maligan/My Passport/msc_thesis/data/tuh_abnormal_data/eval/abnormal/070/00007004/s002_2010_11_17/00007004_s002_t002_2_channels_reref.fif) does not conform to MNE naming conventions. All raw files should end with raw.fif, raw_sss.fif, raw_tsss.fif, _meg.fif, _eeg.fif, _ieeg.fif, raw.fif.gz, raw_sss.fif.gz, raw_tsss.fif.gz, _meg.fif.gz, _eeg.fif.gz or _ieeg.fif.gz\n",
      "  raw.save(f\"{date}/{to_export}_2_channels_reref.fif\", picks=['Fp1-Cz', 'Pz-O2'])\n"
     ]
    },
    {
     "name": "stdout",
     "output_type": "stream",
     "text": [
      "Closing /media/maligan/My Passport/msc_thesis/data/tuh_abnormal_data/eval/abnormal/070/00007004/s002_2010_11_17/00007004_s002_t002_2_channels_reref.fif\n",
      "[done]\n",
      "[]\n",
      "Extracting EDF parameters from /media/maligan/My Passport/msc_thesis/data/tuh_abnormal_data/eval/abnormal/070/00007004/s003_2011_01_21/00007004_s003_t000.edf...\n",
      "EDF file detected\n",
      "Setting channel info structure...\n",
      "Creating raw.info structure...\n",
      "Renaming to standard 10-20 alphabetic channels ...\n",
      "Creating RawArray with float64 data, n_channels=2, n_times=321000\n",
      "    Range : 0 ... 320999 =      0.000 ...  1283.996 secs\n",
      "Ready.\n",
      "Writing /media/maligan/My Passport/msc_thesis/data/tuh_abnormal_data/eval/abnormal/070/00007004/s003_2011_01_21/00007004_s003_t000_2_channels_reref.fif\n"
     ]
    },
    {
     "name": "stderr",
     "output_type": "stream",
     "text": [
      "<ipython-input-26-4527fc4b8426>:47: RuntimeWarning: This filename (/media/maligan/My Passport/msc_thesis/data/tuh_abnormal_data/eval/abnormal/070/00007004/s003_2011_01_21/00007004_s003_t000_2_channels_reref.fif) does not conform to MNE naming conventions. All raw files should end with raw.fif, raw_sss.fif, raw_tsss.fif, _meg.fif, _eeg.fif, _ieeg.fif, raw.fif.gz, raw_sss.fif.gz, raw_tsss.fif.gz, _meg.fif.gz, _eeg.fif.gz or _ieeg.fif.gz\n",
      "  raw.save(f\"{date}/{to_export}_2_channels_reref.fif\", picks=['Fp1-Cz', 'Pz-O2'])\n"
     ]
    },
    {
     "name": "stdout",
     "output_type": "stream",
     "text": [
      "Closing /media/maligan/My Passport/msc_thesis/data/tuh_abnormal_data/eval/abnormal/070/00007004/s003_2011_01_21/00007004_s003_t000_2_channels_reref.fif\n",
      "[done]\n",
      "[]\n",
      "Extracting EDF parameters from /media/maligan/My Passport/msc_thesis/data/tuh_abnormal_data/eval/abnormal/070/00007078/s003_2010_01_29/00007078_s003_t001.edf...\n",
      "EDF file detected\n",
      "Setting channel info structure...\n",
      "Creating raw.info structure...\n",
      "Renaming to standard 10-20 alphabetic channels ...\n",
      "Creating RawArray with float64 data, n_channels=2, n_times=372750\n",
      "    Range : 0 ... 372749 =      0.000 ...  1490.996 secs\n",
      "Ready.\n",
      "Writing /media/maligan/My Passport/msc_thesis/data/tuh_abnormal_data/eval/abnormal/070/00007078/s003_2010_01_29/00007078_s003_t001_2_channels_reref.fif\n"
     ]
    },
    {
     "name": "stderr",
     "output_type": "stream",
     "text": [
      "<ipython-input-26-4527fc4b8426>:47: RuntimeWarning: This filename (/media/maligan/My Passport/msc_thesis/data/tuh_abnormal_data/eval/abnormal/070/00007078/s003_2010_01_29/00007078_s003_t001_2_channels_reref.fif) does not conform to MNE naming conventions. All raw files should end with raw.fif, raw_sss.fif, raw_tsss.fif, _meg.fif, _eeg.fif, _ieeg.fif, raw.fif.gz, raw_sss.fif.gz, raw_tsss.fif.gz, _meg.fif.gz, _eeg.fif.gz or _ieeg.fif.gz\n",
      "  raw.save(f\"{date}/{to_export}_2_channels_reref.fif\", picks=['Fp1-Cz', 'Pz-O2'])\n"
     ]
    },
    {
     "name": "stdout",
     "output_type": "stream",
     "text": [
      "Closing /media/maligan/My Passport/msc_thesis/data/tuh_abnormal_data/eval/abnormal/070/00007078/s003_2010_01_29/00007078_s003_t001_2_channels_reref.fif\n",
      "[done]\n",
      "[]\n",
      "Extracting EDF parameters from /media/maligan/My Passport/msc_thesis/data/tuh_abnormal_data/eval/abnormal/070/00007079/s001_2010_01_27/00007079_s001_t000.edf...\n",
      "EDF file detected\n",
      "Setting channel info structure...\n",
      "Creating raw.info structure...\n",
      "Renaming to standard 10-20 alphabetic channels ...\n",
      "Creating RawArray with float64 data, n_channels=2, n_times=385750\n",
      "    Range : 0 ... 385749 =      0.000 ...  1542.996 secs\n",
      "Ready.\n",
      "Writing /media/maligan/My Passport/msc_thesis/data/tuh_abnormal_data/eval/abnormal/070/00007079/s001_2010_01_27/00007079_s001_t000_2_channels_reref.fif\n"
     ]
    },
    {
     "name": "stderr",
     "output_type": "stream",
     "text": [
      "<ipython-input-26-4527fc4b8426>:47: RuntimeWarning: This filename (/media/maligan/My Passport/msc_thesis/data/tuh_abnormal_data/eval/abnormal/070/00007079/s001_2010_01_27/00007079_s001_t000_2_channels_reref.fif) does not conform to MNE naming conventions. All raw files should end with raw.fif, raw_sss.fif, raw_tsss.fif, _meg.fif, _eeg.fif, _ieeg.fif, raw.fif.gz, raw_sss.fif.gz, raw_tsss.fif.gz, _meg.fif.gz, _eeg.fif.gz or _ieeg.fif.gz\n",
      "  raw.save(f\"{date}/{to_export}_2_channels_reref.fif\", picks=['Fp1-Cz', 'Pz-O2'])\n"
     ]
    },
    {
     "name": "stdout",
     "output_type": "stream",
     "text": [
      "Closing /media/maligan/My Passport/msc_thesis/data/tuh_abnormal_data/eval/abnormal/070/00007079/s001_2010_01_27/00007079_s001_t000_2_channels_reref.fif\n",
      "[done]\n",
      "[]\n",
      "Extracting EDF parameters from /media/maligan/My Passport/msc_thesis/data/tuh_abnormal_data/eval/abnormal/071/00007117/s001_2010_01_29/00007117_s001_t000.edf...\n",
      "EDF file detected\n",
      "Setting channel info structure...\n",
      "Creating raw.info structure...\n",
      "Renaming to standard 10-20 alphabetic channels ...\n",
      "Creating RawArray with float64 data, n_channels=2, n_times=301250\n",
      "    Range : 0 ... 301249 =      0.000 ...  1204.996 secs\n",
      "Ready.\n",
      "Writing /media/maligan/My Passport/msc_thesis/data/tuh_abnormal_data/eval/abnormal/071/00007117/s001_2010_01_29/00007117_s001_t000_2_channels_reref.fif\n"
     ]
    },
    {
     "name": "stderr",
     "output_type": "stream",
     "text": [
      "<ipython-input-26-4527fc4b8426>:47: RuntimeWarning: This filename (/media/maligan/My Passport/msc_thesis/data/tuh_abnormal_data/eval/abnormal/071/00007117/s001_2010_01_29/00007117_s001_t000_2_channels_reref.fif) does not conform to MNE naming conventions. All raw files should end with raw.fif, raw_sss.fif, raw_tsss.fif, _meg.fif, _eeg.fif, _ieeg.fif, raw.fif.gz, raw_sss.fif.gz, raw_tsss.fif.gz, _meg.fif.gz, _eeg.fif.gz or _ieeg.fif.gz\n",
      "  raw.save(f\"{date}/{to_export}_2_channels_reref.fif\", picks=['Fp1-Cz', 'Pz-O2'])\n"
     ]
    },
    {
     "name": "stdout",
     "output_type": "stream",
     "text": [
      "Closing /media/maligan/My Passport/msc_thesis/data/tuh_abnormal_data/eval/abnormal/071/00007117/s001_2010_01_29/00007117_s001_t000_2_channels_reref.fif\n",
      "[done]\n",
      "[]\n",
      "Extracting EDF parameters from /media/maligan/My Passport/msc_thesis/data/tuh_abnormal_data/eval/abnormal/071/00007138/s001_2010_10_25/00007138_s001_t001.edf...\n",
      "EDF file detected\n",
      "Setting channel info structure...\n",
      "Creating raw.info structure...\n",
      "Renaming to standard 10-20 alphabetic channels ...\n",
      "Creating RawArray with float64 data, n_channels=2, n_times=310250\n",
      "    Range : 0 ... 310249 =      0.000 ...  1240.996 secs\n",
      "Ready.\n",
      "Writing /media/maligan/My Passport/msc_thesis/data/tuh_abnormal_data/eval/abnormal/071/00007138/s001_2010_10_25/00007138_s001_t001_2_channels_reref.fif\n"
     ]
    },
    {
     "name": "stderr",
     "output_type": "stream",
     "text": [
      "<ipython-input-26-4527fc4b8426>:47: RuntimeWarning: This filename (/media/maligan/My Passport/msc_thesis/data/tuh_abnormal_data/eval/abnormal/071/00007138/s001_2010_10_25/00007138_s001_t001_2_channels_reref.fif) does not conform to MNE naming conventions. All raw files should end with raw.fif, raw_sss.fif, raw_tsss.fif, _meg.fif, _eeg.fif, _ieeg.fif, raw.fif.gz, raw_sss.fif.gz, raw_tsss.fif.gz, _meg.fif.gz, _eeg.fif.gz or _ieeg.fif.gz\n",
      "  raw.save(f\"{date}/{to_export}_2_channels_reref.fif\", picks=['Fp1-Cz', 'Pz-O2'])\n"
     ]
    },
    {
     "name": "stdout",
     "output_type": "stream",
     "text": [
      "Closing /media/maligan/My Passport/msc_thesis/data/tuh_abnormal_data/eval/abnormal/071/00007138/s001_2010_10_25/00007138_s001_t001_2_channels_reref.fif\n",
      "[done]\n",
      "[]\n",
      "Extracting EDF parameters from /media/maligan/My Passport/msc_thesis/data/tuh_abnormal_data/eval/abnormal/073/00007383/s001_2010_02_25/00007383_s001_t001.edf...\n",
      "EDF file detected\n",
      "Setting channel info structure...\n",
      "Creating raw.info structure...\n",
      "Renaming to standard 10-20 alphabetic channels ...\n",
      "Creating RawArray with float64 data, n_channels=2, n_times=300250\n",
      "    Range : 0 ... 300249 =      0.000 ...  1200.996 secs\n",
      "Ready.\n",
      "Writing /media/maligan/My Passport/msc_thesis/data/tuh_abnormal_data/eval/abnormal/073/00007383/s001_2010_02_25/00007383_s001_t001_2_channels_reref.fif\n"
     ]
    },
    {
     "name": "stderr",
     "output_type": "stream",
     "text": [
      "<ipython-input-26-4527fc4b8426>:47: RuntimeWarning: This filename (/media/maligan/My Passport/msc_thesis/data/tuh_abnormal_data/eval/abnormal/073/00007383/s001_2010_02_25/00007383_s001_t001_2_channels_reref.fif) does not conform to MNE naming conventions. All raw files should end with raw.fif, raw_sss.fif, raw_tsss.fif, _meg.fif, _eeg.fif, _ieeg.fif, raw.fif.gz, raw_sss.fif.gz, raw_tsss.fif.gz, _meg.fif.gz, _eeg.fif.gz or _ieeg.fif.gz\n",
      "  raw.save(f\"{date}/{to_export}_2_channels_reref.fif\", picks=['Fp1-Cz', 'Pz-O2'])\n"
     ]
    },
    {
     "name": "stdout",
     "output_type": "stream",
     "text": [
      "Closing /media/maligan/My Passport/msc_thesis/data/tuh_abnormal_data/eval/abnormal/073/00007383/s001_2010_02_25/00007383_s001_t001_2_channels_reref.fif\n",
      "[done]\n",
      "[]\n",
      "Extracting EDF parameters from /media/maligan/My Passport/msc_thesis/data/tuh_abnormal_data/eval/abnormal/073/00007383/s002_2010_03_04/00007383_s002_t001.edf...\n",
      "EDF file detected\n",
      "Setting channel info structure...\n",
      "Creating raw.info structure...\n",
      "Renaming to standard 10-20 alphabetic channels ...\n",
      "Creating RawArray with float64 data, n_channels=2, n_times=298250\n",
      "    Range : 0 ... 298249 =      0.000 ...  1192.996 secs\n",
      "Ready.\n",
      "Writing /media/maligan/My Passport/msc_thesis/data/tuh_abnormal_data/eval/abnormal/073/00007383/s002_2010_03_04/00007383_s002_t001_2_channels_reref.fif\n"
     ]
    },
    {
     "name": "stderr",
     "output_type": "stream",
     "text": [
      "<ipython-input-26-4527fc4b8426>:47: RuntimeWarning: This filename (/media/maligan/My Passport/msc_thesis/data/tuh_abnormal_data/eval/abnormal/073/00007383/s002_2010_03_04/00007383_s002_t001_2_channels_reref.fif) does not conform to MNE naming conventions. All raw files should end with raw.fif, raw_sss.fif, raw_tsss.fif, _meg.fif, _eeg.fif, _ieeg.fif, raw.fif.gz, raw_sss.fif.gz, raw_tsss.fif.gz, _meg.fif.gz, _eeg.fif.gz or _ieeg.fif.gz\n",
      "  raw.save(f\"{date}/{to_export}_2_channels_reref.fif\", picks=['Fp1-Cz', 'Pz-O2'])\n"
     ]
    },
    {
     "name": "stdout",
     "output_type": "stream",
     "text": [
      "Closing /media/maligan/My Passport/msc_thesis/data/tuh_abnormal_data/eval/abnormal/073/00007383/s002_2010_03_04/00007383_s002_t001_2_channels_reref.fif\n",
      "[done]\n",
      "[]\n",
      "Extracting EDF parameters from /media/maligan/My Passport/msc_thesis/data/tuh_abnormal_data/eval/abnormal/074/00007456/s001_2010_12_02/00007456_s001_t000.edf...\n",
      "EDF file detected\n",
      "Setting channel info structure...\n",
      "Creating raw.info structure...\n",
      "Renaming to standard 10-20 alphabetic channels ...\n",
      "Creating RawArray with float64 data, n_channels=2, n_times=301000\n",
      "    Range : 0 ... 300999 =      0.000 ...  1203.996 secs\n",
      "Ready.\n",
      "Writing /media/maligan/My Passport/msc_thesis/data/tuh_abnormal_data/eval/abnormal/074/00007456/s001_2010_12_02/00007456_s001_t000_2_channels_reref.fif\n"
     ]
    },
    {
     "name": "stderr",
     "output_type": "stream",
     "text": [
      "<ipython-input-26-4527fc4b8426>:47: RuntimeWarning: This filename (/media/maligan/My Passport/msc_thesis/data/tuh_abnormal_data/eval/abnormal/074/00007456/s001_2010_12_02/00007456_s001_t000_2_channels_reref.fif) does not conform to MNE naming conventions. All raw files should end with raw.fif, raw_sss.fif, raw_tsss.fif, _meg.fif, _eeg.fif, _ieeg.fif, raw.fif.gz, raw_sss.fif.gz, raw_tsss.fif.gz, _meg.fif.gz, _eeg.fif.gz or _ieeg.fif.gz\n",
      "  raw.save(f\"{date}/{to_export}_2_channels_reref.fif\", picks=['Fp1-Cz', 'Pz-O2'])\n"
     ]
    },
    {
     "name": "stdout",
     "output_type": "stream",
     "text": [
      "Closing /media/maligan/My Passport/msc_thesis/data/tuh_abnormal_data/eval/abnormal/074/00007456/s001_2010_12_02/00007456_s001_t000_2_channels_reref.fif\n",
      "[done]\n",
      "[]\n",
      "Extracting EDF parameters from /media/maligan/My Passport/msc_thesis/data/tuh_abnormal_data/eval/abnormal/074/00007469/s001_2010_12_06/00007469_s001_t000.edf...\n",
      "EDF file detected\n",
      "Setting channel info structure...\n",
      "Creating raw.info structure...\n",
      "Renaming to standard 10-20 alphabetic channels ...\n",
      "Creating RawArray with float64 data, n_channels=2, n_times=301250\n",
      "    Range : 0 ... 301249 =      0.000 ...  1204.996 secs\n",
      "Ready.\n",
      "Writing /media/maligan/My Passport/msc_thesis/data/tuh_abnormal_data/eval/abnormal/074/00007469/s001_2010_12_06/00007469_s001_t000_2_channels_reref.fif\n"
     ]
    },
    {
     "name": "stderr",
     "output_type": "stream",
     "text": [
      "<ipython-input-26-4527fc4b8426>:47: RuntimeWarning: This filename (/media/maligan/My Passport/msc_thesis/data/tuh_abnormal_data/eval/abnormal/074/00007469/s001_2010_12_06/00007469_s001_t000_2_channels_reref.fif) does not conform to MNE naming conventions. All raw files should end with raw.fif, raw_sss.fif, raw_tsss.fif, _meg.fif, _eeg.fif, _ieeg.fif, raw.fif.gz, raw_sss.fif.gz, raw_tsss.fif.gz, _meg.fif.gz, _eeg.fif.gz or _ieeg.fif.gz\n",
      "  raw.save(f\"{date}/{to_export}_2_channels_reref.fif\", picks=['Fp1-Cz', 'Pz-O2'])\n"
     ]
    },
    {
     "name": "stdout",
     "output_type": "stream",
     "text": [
      "Closing /media/maligan/My Passport/msc_thesis/data/tuh_abnormal_data/eval/abnormal/074/00007469/s001_2010_12_06/00007469_s001_t000_2_channels_reref.fif\n",
      "[done]\n",
      "[]\n",
      "Extracting EDF parameters from /media/maligan/My Passport/msc_thesis/data/tuh_abnormal_data/eval/abnormal/074/00007487/s006_2013_07_09/00007487_s006_t000.edf...\n",
      "EDF file detected\n",
      "Setting channel info structure...\n",
      "Creating raw.info structure...\n",
      "Renaming to standard 10-20 alphabetic channels ...\n",
      "Creating RawArray with float64 data, n_channels=2, n_times=400750\n",
      "    Range : 0 ... 400749 =      0.000 ...  1602.996 secs\n",
      "Ready.\n",
      "Writing /media/maligan/My Passport/msc_thesis/data/tuh_abnormal_data/eval/abnormal/074/00007487/s006_2013_07_09/00007487_s006_t000_2_channels_reref.fif\n"
     ]
    },
    {
     "name": "stderr",
     "output_type": "stream",
     "text": [
      "<ipython-input-26-4527fc4b8426>:47: RuntimeWarning: This filename (/media/maligan/My Passport/msc_thesis/data/tuh_abnormal_data/eval/abnormal/074/00007487/s006_2013_07_09/00007487_s006_t000_2_channels_reref.fif) does not conform to MNE naming conventions. All raw files should end with raw.fif, raw_sss.fif, raw_tsss.fif, _meg.fif, _eeg.fif, _ieeg.fif, raw.fif.gz, raw_sss.fif.gz, raw_tsss.fif.gz, _meg.fif.gz, _eeg.fif.gz or _ieeg.fif.gz\n",
      "  raw.save(f\"{date}/{to_export}_2_channels_reref.fif\", picks=['Fp1-Cz', 'Pz-O2'])\n"
     ]
    },
    {
     "name": "stdout",
     "output_type": "stream",
     "text": [
      "Closing /media/maligan/My Passport/msc_thesis/data/tuh_abnormal_data/eval/abnormal/074/00007487/s006_2013_07_09/00007487_s006_t000_2_channels_reref.fif\n",
      "[done]\n",
      "[]\n",
      "Extracting EDF parameters from /media/maligan/My Passport/msc_thesis/data/tuh_abnormal_data/eval/abnormal/076/00007675/s001_2011_03_18/00007675_s001_t000.edf...\n",
      "EDF file detected\n",
      "Setting channel info structure...\n",
      "Creating raw.info structure...\n",
      "Renaming to standard 10-20 alphabetic channels ...\n",
      "Creating RawArray with float64 data, n_channels=2, n_times=352000\n",
      "    Range : 0 ... 351999 =      0.000 ...  1407.996 secs\n",
      "Ready.\n",
      "Writing /media/maligan/My Passport/msc_thesis/data/tuh_abnormal_data/eval/abnormal/076/00007675/s001_2011_03_18/00007675_s001_t000_2_channels_reref.fif\n"
     ]
    },
    {
     "name": "stderr",
     "output_type": "stream",
     "text": [
      "<ipython-input-26-4527fc4b8426>:47: RuntimeWarning: This filename (/media/maligan/My Passport/msc_thesis/data/tuh_abnormal_data/eval/abnormal/076/00007675/s001_2011_03_18/00007675_s001_t000_2_channels_reref.fif) does not conform to MNE naming conventions. All raw files should end with raw.fif, raw_sss.fif, raw_tsss.fif, _meg.fif, _eeg.fif, _ieeg.fif, raw.fif.gz, raw_sss.fif.gz, raw_tsss.fif.gz, _meg.fif.gz, _eeg.fif.gz or _ieeg.fif.gz\n",
      "  raw.save(f\"{date}/{to_export}_2_channels_reref.fif\", picks=['Fp1-Cz', 'Pz-O2'])\n"
     ]
    },
    {
     "name": "stdout",
     "output_type": "stream",
     "text": [
      "Closing /media/maligan/My Passport/msc_thesis/data/tuh_abnormal_data/eval/abnormal/076/00007675/s001_2011_03_18/00007675_s001_t000_2_channels_reref.fif\n",
      "[done]\n",
      "[]\n",
      "Extracting EDF parameters from /media/maligan/My Passport/msc_thesis/data/tuh_abnormal_data/eval/abnormal/077/00007726/s002_2011_06_02/00007726_s002_t000.edf...\n",
      "EDF file detected\n",
      "Setting channel info structure...\n",
      "Creating raw.info structure...\n",
      "Renaming to standard 10-20 alphabetic channels ...\n",
      "Creating RawArray with float64 data, n_channels=2, n_times=306500\n",
      "    Range : 0 ... 306499 =      0.000 ...  1225.996 secs\n",
      "Ready.\n",
      "Writing /media/maligan/My Passport/msc_thesis/data/tuh_abnormal_data/eval/abnormal/077/00007726/s002_2011_06_02/00007726_s002_t000_2_channels_reref.fif\n"
     ]
    },
    {
     "name": "stderr",
     "output_type": "stream",
     "text": [
      "<ipython-input-26-4527fc4b8426>:47: RuntimeWarning: This filename (/media/maligan/My Passport/msc_thesis/data/tuh_abnormal_data/eval/abnormal/077/00007726/s002_2011_06_02/00007726_s002_t000_2_channels_reref.fif) does not conform to MNE naming conventions. All raw files should end with raw.fif, raw_sss.fif, raw_tsss.fif, _meg.fif, _eeg.fif, _ieeg.fif, raw.fif.gz, raw_sss.fif.gz, raw_tsss.fif.gz, _meg.fif.gz, _eeg.fif.gz or _ieeg.fif.gz\n",
      "  raw.save(f\"{date}/{to_export}_2_channels_reref.fif\", picks=['Fp1-Cz', 'Pz-O2'])\n"
     ]
    },
    {
     "name": "stdout",
     "output_type": "stream",
     "text": [
      "Closing /media/maligan/My Passport/msc_thesis/data/tuh_abnormal_data/eval/abnormal/077/00007726/s002_2011_06_02/00007726_s002_t000_2_channels_reref.fif\n",
      "[done]\n",
      "[]\n",
      "Extracting EDF parameters from /media/maligan/My Passport/msc_thesis/data/tuh_abnormal_data/eval/abnormal/078/00007869/s001_2011_06_12/00007869_s001_t001.edf...\n",
      "EDF file detected\n",
      "Setting channel info structure...\n",
      "Creating raw.info structure...\n",
      "Renaming to standard 10-20 alphabetic channels ...\n",
      "Creating RawArray with float64 data, n_channels=2, n_times=450750\n",
      "    Range : 0 ... 450749 =      0.000 ...  1802.996 secs\n",
      "Ready.\n",
      "Writing /media/maligan/My Passport/msc_thesis/data/tuh_abnormal_data/eval/abnormal/078/00007869/s001_2011_06_12/00007869_s001_t001_2_channels_reref.fif\n"
     ]
    },
    {
     "name": "stderr",
     "output_type": "stream",
     "text": [
      "<ipython-input-26-4527fc4b8426>:47: RuntimeWarning: This filename (/media/maligan/My Passport/msc_thesis/data/tuh_abnormal_data/eval/abnormal/078/00007869/s001_2011_06_12/00007869_s001_t001_2_channels_reref.fif) does not conform to MNE naming conventions. All raw files should end with raw.fif, raw_sss.fif, raw_tsss.fif, _meg.fif, _eeg.fif, _ieeg.fif, raw.fif.gz, raw_sss.fif.gz, raw_tsss.fif.gz, _meg.fif.gz, _eeg.fif.gz or _ieeg.fif.gz\n",
      "  raw.save(f\"{date}/{to_export}_2_channels_reref.fif\", picks=['Fp1-Cz', 'Pz-O2'])\n"
     ]
    },
    {
     "name": "stdout",
     "output_type": "stream",
     "text": [
      "Closing /media/maligan/My Passport/msc_thesis/data/tuh_abnormal_data/eval/abnormal/078/00007869/s001_2011_06_12/00007869_s001_t001_2_channels_reref.fif\n",
      "[done]\n",
      "[]\n",
      "Extracting EDF parameters from /media/maligan/My Passport/msc_thesis/data/tuh_abnormal_data/eval/abnormal/078/00007880/s002_2012_02_27/00007880_s002_t000.edf...\n",
      "EDF file detected\n",
      "Setting channel info structure...\n",
      "Creating raw.info structure...\n",
      "Renaming to standard 10-20 alphabetic channels ...\n",
      "Creating RawArray with float64 data, n_channels=2, n_times=300750\n",
      "    Range : 0 ... 300749 =      0.000 ...  1202.996 secs\n",
      "Ready.\n",
      "Writing /media/maligan/My Passport/msc_thesis/data/tuh_abnormal_data/eval/abnormal/078/00007880/s002_2012_02_27/00007880_s002_t000_2_channels_reref.fif\n"
     ]
    },
    {
     "name": "stderr",
     "output_type": "stream",
     "text": [
      "<ipython-input-26-4527fc4b8426>:47: RuntimeWarning: This filename (/media/maligan/My Passport/msc_thesis/data/tuh_abnormal_data/eval/abnormal/078/00007880/s002_2012_02_27/00007880_s002_t000_2_channels_reref.fif) does not conform to MNE naming conventions. All raw files should end with raw.fif, raw_sss.fif, raw_tsss.fif, _meg.fif, _eeg.fif, _ieeg.fif, raw.fif.gz, raw_sss.fif.gz, raw_tsss.fif.gz, _meg.fif.gz, _eeg.fif.gz or _ieeg.fif.gz\n",
      "  raw.save(f\"{date}/{to_export}_2_channels_reref.fif\", picks=['Fp1-Cz', 'Pz-O2'])\n"
     ]
    },
    {
     "name": "stdout",
     "output_type": "stream",
     "text": [
      "Closing /media/maligan/My Passport/msc_thesis/data/tuh_abnormal_data/eval/abnormal/078/00007880/s002_2012_02_27/00007880_s002_t000_2_channels_reref.fif\n",
      "[done]\n",
      "[]\n",
      "Extracting EDF parameters from /media/maligan/My Passport/msc_thesis/data/tuh_abnormal_data/eval/abnormal/079/00007927/s001_2011_04_14/00007927_s001_t000.edf...\n",
      "EDF file detected\n",
      "Setting channel info structure...\n",
      "Creating raw.info structure...\n",
      "Renaming to standard 10-20 alphabetic channels ...\n",
      "Creating RawArray with float64 data, n_channels=2, n_times=300500\n",
      "    Range : 0 ... 300499 =      0.000 ...  1201.996 secs\n",
      "Ready.\n",
      "Writing /media/maligan/My Passport/msc_thesis/data/tuh_abnormal_data/eval/abnormal/079/00007927/s001_2011_04_14/00007927_s001_t000_2_channels_reref.fif\n"
     ]
    },
    {
     "name": "stderr",
     "output_type": "stream",
     "text": [
      "<ipython-input-26-4527fc4b8426>:47: RuntimeWarning: This filename (/media/maligan/My Passport/msc_thesis/data/tuh_abnormal_data/eval/abnormal/079/00007927/s001_2011_04_14/00007927_s001_t000_2_channels_reref.fif) does not conform to MNE naming conventions. All raw files should end with raw.fif, raw_sss.fif, raw_tsss.fif, _meg.fif, _eeg.fif, _ieeg.fif, raw.fif.gz, raw_sss.fif.gz, raw_tsss.fif.gz, _meg.fif.gz, _eeg.fif.gz or _ieeg.fif.gz\n",
      "  raw.save(f\"{date}/{to_export}_2_channels_reref.fif\", picks=['Fp1-Cz', 'Pz-O2'])\n"
     ]
    },
    {
     "name": "stdout",
     "output_type": "stream",
     "text": [
      "Closing /media/maligan/My Passport/msc_thesis/data/tuh_abnormal_data/eval/abnormal/079/00007927/s001_2011_04_14/00007927_s001_t000_2_channels_reref.fif\n",
      "[done]\n",
      "[]\n",
      "Extracting EDF parameters from /media/maligan/My Passport/msc_thesis/data/tuh_abnormal_data/eval/abnormal/079/00007927/s004_2012_09_28/00007927_s004_t001.edf...\n",
      "EDF file detected\n",
      "Setting channel info structure...\n",
      "Creating raw.info structure...\n",
      "Renaming to standard 10-20 alphabetic channels ...\n",
      "Creating RawArray with float64 data, n_channels=2, n_times=670250\n",
      "    Range : 0 ... 670249 =      0.000 ...  2680.996 secs\n",
      "Ready.\n",
      "Writing /media/maligan/My Passport/msc_thesis/data/tuh_abnormal_data/eval/abnormal/079/00007927/s004_2012_09_28/00007927_s004_t001_2_channels_reref.fif\n"
     ]
    },
    {
     "name": "stderr",
     "output_type": "stream",
     "text": [
      "<ipython-input-26-4527fc4b8426>:47: RuntimeWarning: This filename (/media/maligan/My Passport/msc_thesis/data/tuh_abnormal_data/eval/abnormal/079/00007927/s004_2012_09_28/00007927_s004_t001_2_channels_reref.fif) does not conform to MNE naming conventions. All raw files should end with raw.fif, raw_sss.fif, raw_tsss.fif, _meg.fif, _eeg.fif, _ieeg.fif, raw.fif.gz, raw_sss.fif.gz, raw_tsss.fif.gz, _meg.fif.gz, _eeg.fif.gz or _ieeg.fif.gz\n",
      "  raw.save(f\"{date}/{to_export}_2_channels_reref.fif\", picks=['Fp1-Cz', 'Pz-O2'])\n"
     ]
    },
    {
     "name": "stdout",
     "output_type": "stream",
     "text": [
      "Closing /media/maligan/My Passport/msc_thesis/data/tuh_abnormal_data/eval/abnormal/079/00007927/s004_2012_09_28/00007927_s004_t001_2_channels_reref.fif\n",
      "[done]\n",
      "[]\n",
      "Extracting EDF parameters from /media/maligan/My Passport/msc_thesis/data/tuh_abnormal_data/eval/abnormal/080/00008007/s001_2011_04_14/00008007_s001_t000.edf...\n",
      "EDF file detected\n",
      "Setting channel info structure...\n",
      "Creating raw.info structure...\n",
      "Renaming to standard 10-20 alphabetic channels ...\n",
      "Creating RawArray with float64 data, n_channels=2, n_times=317000\n",
      "    Range : 0 ... 316999 =      0.000 ...  1267.996 secs\n",
      "Ready.\n",
      "Writing /media/maligan/My Passport/msc_thesis/data/tuh_abnormal_data/eval/abnormal/080/00008007/s001_2011_04_14/00008007_s001_t000_2_channels_reref.fif\n"
     ]
    },
    {
     "name": "stderr",
     "output_type": "stream",
     "text": [
      "<ipython-input-26-4527fc4b8426>:47: RuntimeWarning: This filename (/media/maligan/My Passport/msc_thesis/data/tuh_abnormal_data/eval/abnormal/080/00008007/s001_2011_04_14/00008007_s001_t000_2_channels_reref.fif) does not conform to MNE naming conventions. All raw files should end with raw.fif, raw_sss.fif, raw_tsss.fif, _meg.fif, _eeg.fif, _ieeg.fif, raw.fif.gz, raw_sss.fif.gz, raw_tsss.fif.gz, _meg.fif.gz, _eeg.fif.gz or _ieeg.fif.gz\n",
      "  raw.save(f\"{date}/{to_export}_2_channels_reref.fif\", picks=['Fp1-Cz', 'Pz-O2'])\n"
     ]
    },
    {
     "name": "stdout",
     "output_type": "stream",
     "text": [
      "Closing /media/maligan/My Passport/msc_thesis/data/tuh_abnormal_data/eval/abnormal/080/00008007/s001_2011_04_14/00008007_s001_t000_2_channels_reref.fif\n",
      "[done]\n",
      "[]\n",
      "Extracting EDF parameters from /media/maligan/My Passport/msc_thesis/data/tuh_abnormal_data/eval/abnormal/080/00008077/s001_2011_04_27/00008077_s001_t000.edf...\n",
      "EDF file detected\n",
      "Setting channel info structure...\n",
      "Creating raw.info structure...\n",
      "Renaming to standard 10-20 alphabetic channels ...\n",
      "Creating RawArray with float64 data, n_channels=2, n_times=300750\n",
      "    Range : 0 ... 300749 =      0.000 ...  1202.996 secs\n",
      "Ready.\n",
      "Writing /media/maligan/My Passport/msc_thesis/data/tuh_abnormal_data/eval/abnormal/080/00008077/s001_2011_04_27/00008077_s001_t000_2_channels_reref.fif\n"
     ]
    },
    {
     "name": "stderr",
     "output_type": "stream",
     "text": [
      "<ipython-input-26-4527fc4b8426>:47: RuntimeWarning: This filename (/media/maligan/My Passport/msc_thesis/data/tuh_abnormal_data/eval/abnormal/080/00008077/s001_2011_04_27/00008077_s001_t000_2_channels_reref.fif) does not conform to MNE naming conventions. All raw files should end with raw.fif, raw_sss.fif, raw_tsss.fif, _meg.fif, _eeg.fif, _ieeg.fif, raw.fif.gz, raw_sss.fif.gz, raw_tsss.fif.gz, _meg.fif.gz, _eeg.fif.gz or _ieeg.fif.gz\n",
      "  raw.save(f\"{date}/{to_export}_2_channels_reref.fif\", picks=['Fp1-Cz', 'Pz-O2'])\n"
     ]
    },
    {
     "name": "stdout",
     "output_type": "stream",
     "text": [
      "Closing /media/maligan/My Passport/msc_thesis/data/tuh_abnormal_data/eval/abnormal/080/00008077/s001_2011_04_27/00008077_s001_t000_2_channels_reref.fif\n",
      "[done]\n",
      "[]\n",
      "Extracting EDF parameters from /media/maligan/My Passport/msc_thesis/data/tuh_abnormal_data/eval/abnormal/080/00008096/s002_2011_12_20/00008096_s002_t001.edf...\n",
      "EDF file detected\n",
      "Setting channel info structure...\n",
      "Creating raw.info structure...\n",
      "Renaming to standard 10-20 alphabetic channels ...\n",
      "Creating RawArray with float64 data, n_channels=2, n_times=288500\n",
      "    Range : 0 ... 288499 =      0.000 ...  1153.996 secs\n",
      "Ready.\n",
      "Writing /media/maligan/My Passport/msc_thesis/data/tuh_abnormal_data/eval/abnormal/080/00008096/s002_2011_12_20/00008096_s002_t001_2_channels_reref.fif\n"
     ]
    },
    {
     "name": "stderr",
     "output_type": "stream",
     "text": [
      "<ipython-input-26-4527fc4b8426>:47: RuntimeWarning: This filename (/media/maligan/My Passport/msc_thesis/data/tuh_abnormal_data/eval/abnormal/080/00008096/s002_2011_12_20/00008096_s002_t001_2_channels_reref.fif) does not conform to MNE naming conventions. All raw files should end with raw.fif, raw_sss.fif, raw_tsss.fif, _meg.fif, _eeg.fif, _ieeg.fif, raw.fif.gz, raw_sss.fif.gz, raw_tsss.fif.gz, _meg.fif.gz, _eeg.fif.gz or _ieeg.fif.gz\n",
      "  raw.save(f\"{date}/{to_export}_2_channels_reref.fif\", picks=['Fp1-Cz', 'Pz-O2'])\n"
     ]
    },
    {
     "name": "stdout",
     "output_type": "stream",
     "text": [
      "Closing /media/maligan/My Passport/msc_thesis/data/tuh_abnormal_data/eval/abnormal/080/00008096/s002_2011_12_20/00008096_s002_t001_2_channels_reref.fif\n",
      "[done]\n",
      "[]\n",
      "Extracting EDF parameters from /media/maligan/My Passport/msc_thesis/data/tuh_abnormal_data/eval/abnormal/081/00008165/s001_2011_09_06/00008165_s001_t001.edf...\n",
      "EDF file detected\n",
      "Setting channel info structure...\n",
      "Creating raw.info structure...\n",
      "Renaming to standard 10-20 alphabetic channels ...\n",
      "Creating RawArray with float64 data, n_channels=2, n_times=298000\n",
      "    Range : 0 ... 297999 =      0.000 ...  1191.996 secs\n",
      "Ready.\n",
      "Writing /media/maligan/My Passport/msc_thesis/data/tuh_abnormal_data/eval/abnormal/081/00008165/s001_2011_09_06/00008165_s001_t001_2_channels_reref.fif\n"
     ]
    },
    {
     "name": "stderr",
     "output_type": "stream",
     "text": [
      "<ipython-input-26-4527fc4b8426>:47: RuntimeWarning: This filename (/media/maligan/My Passport/msc_thesis/data/tuh_abnormal_data/eval/abnormal/081/00008165/s001_2011_09_06/00008165_s001_t001_2_channels_reref.fif) does not conform to MNE naming conventions. All raw files should end with raw.fif, raw_sss.fif, raw_tsss.fif, _meg.fif, _eeg.fif, _ieeg.fif, raw.fif.gz, raw_sss.fif.gz, raw_tsss.fif.gz, _meg.fif.gz, _eeg.fif.gz or _ieeg.fif.gz\n",
      "  raw.save(f\"{date}/{to_export}_2_channels_reref.fif\", picks=['Fp1-Cz', 'Pz-O2'])\n"
     ]
    },
    {
     "name": "stdout",
     "output_type": "stream",
     "text": [
      "Closing /media/maligan/My Passport/msc_thesis/data/tuh_abnormal_data/eval/abnormal/081/00008165/s001_2011_09_06/00008165_s001_t001_2_channels_reref.fif\n",
      "[done]\n",
      "[]\n",
      "Extracting EDF parameters from /media/maligan/My Passport/msc_thesis/data/tuh_abnormal_data/eval/abnormal/082/00008261/s001_2011_11_25/00008261_s001_t001.edf...\n",
      "EDF file detected\n",
      "Setting channel info structure...\n",
      "Creating raw.info structure...\n",
      "Renaming to standard 10-20 alphabetic channels ...\n",
      "Creating RawArray with float64 data, n_channels=2, n_times=681500\n",
      "    Range : 0 ... 681499 =      0.000 ...  2725.996 secs\n",
      "Ready.\n",
      "Writing /media/maligan/My Passport/msc_thesis/data/tuh_abnormal_data/eval/abnormal/082/00008261/s001_2011_11_25/00008261_s001_t001_2_channels_reref.fif\n"
     ]
    },
    {
     "name": "stderr",
     "output_type": "stream",
     "text": [
      "<ipython-input-26-4527fc4b8426>:47: RuntimeWarning: This filename (/media/maligan/My Passport/msc_thesis/data/tuh_abnormal_data/eval/abnormal/082/00008261/s001_2011_11_25/00008261_s001_t001_2_channels_reref.fif) does not conform to MNE naming conventions. All raw files should end with raw.fif, raw_sss.fif, raw_tsss.fif, _meg.fif, _eeg.fif, _ieeg.fif, raw.fif.gz, raw_sss.fif.gz, raw_tsss.fif.gz, _meg.fif.gz, _eeg.fif.gz or _ieeg.fif.gz\n",
      "  raw.save(f\"{date}/{to_export}_2_channels_reref.fif\", picks=['Fp1-Cz', 'Pz-O2'])\n"
     ]
    },
    {
     "name": "stdout",
     "output_type": "stream",
     "text": [
      "Closing /media/maligan/My Passport/msc_thesis/data/tuh_abnormal_data/eval/abnormal/082/00008261/s001_2011_11_25/00008261_s001_t001_2_channels_reref.fif\n",
      "[done]\n",
      "[]\n",
      "Extracting EDF parameters from /media/maligan/My Passport/msc_thesis/data/tuh_abnormal_data/eval/abnormal/083/00008302/s001_2011_11_28/00008302_s001_t000.edf...\n",
      "EDF file detected\n",
      "Setting channel info structure...\n",
      "Creating raw.info structure...\n",
      "Renaming to standard 10-20 alphabetic channels ...\n",
      "Creating RawArray with float64 data, n_channels=2, n_times=306250\n",
      "    Range : 0 ... 306249 =      0.000 ...  1224.996 secs\n",
      "Ready.\n",
      "Writing /media/maligan/My Passport/msc_thesis/data/tuh_abnormal_data/eval/abnormal/083/00008302/s001_2011_11_28/00008302_s001_t000_2_channels_reref.fif\n"
     ]
    },
    {
     "name": "stderr",
     "output_type": "stream",
     "text": [
      "<ipython-input-26-4527fc4b8426>:47: RuntimeWarning: This filename (/media/maligan/My Passport/msc_thesis/data/tuh_abnormal_data/eval/abnormal/083/00008302/s001_2011_11_28/00008302_s001_t000_2_channels_reref.fif) does not conform to MNE naming conventions. All raw files should end with raw.fif, raw_sss.fif, raw_tsss.fif, _meg.fif, _eeg.fif, _ieeg.fif, raw.fif.gz, raw_sss.fif.gz, raw_tsss.fif.gz, _meg.fif.gz, _eeg.fif.gz or _ieeg.fif.gz\n",
      "  raw.save(f\"{date}/{to_export}_2_channels_reref.fif\", picks=['Fp1-Cz', 'Pz-O2'])\n"
     ]
    },
    {
     "name": "stdout",
     "output_type": "stream",
     "text": [
      "Closing /media/maligan/My Passport/msc_thesis/data/tuh_abnormal_data/eval/abnormal/083/00008302/s001_2011_11_28/00008302_s001_t000_2_channels_reref.fif\n",
      "[done]\n",
      "[]\n",
      "Extracting EDF parameters from /media/maligan/My Passport/msc_thesis/data/tuh_abnormal_data/eval/abnormal/083/00008304/s001_2011_11_28/00008304_s001_t000.edf...\n",
      "EDF file detected\n",
      "Setting channel info structure...\n",
      "Creating raw.info structure...\n",
      "Renaming to standard 10-20 alphabetic channels ...\n",
      "Creating RawArray with float64 data, n_channels=2, n_times=293000\n",
      "    Range : 0 ... 292999 =      0.000 ...  1171.996 secs\n",
      "Ready.\n",
      "Writing /media/maligan/My Passport/msc_thesis/data/tuh_abnormal_data/eval/abnormal/083/00008304/s001_2011_11_28/00008304_s001_t000_2_channels_reref.fif\n"
     ]
    },
    {
     "name": "stderr",
     "output_type": "stream",
     "text": [
      "<ipython-input-26-4527fc4b8426>:47: RuntimeWarning: This filename (/media/maligan/My Passport/msc_thesis/data/tuh_abnormal_data/eval/abnormal/083/00008304/s001_2011_11_28/00008304_s001_t000_2_channels_reref.fif) does not conform to MNE naming conventions. All raw files should end with raw.fif, raw_sss.fif, raw_tsss.fif, _meg.fif, _eeg.fif, _ieeg.fif, raw.fif.gz, raw_sss.fif.gz, raw_tsss.fif.gz, _meg.fif.gz, _eeg.fif.gz or _ieeg.fif.gz\n",
      "  raw.save(f\"{date}/{to_export}_2_channels_reref.fif\", picks=['Fp1-Cz', 'Pz-O2'])\n"
     ]
    },
    {
     "name": "stdout",
     "output_type": "stream",
     "text": [
      "Closing /media/maligan/My Passport/msc_thesis/data/tuh_abnormal_data/eval/abnormal/083/00008304/s001_2011_11_28/00008304_s001_t000_2_channels_reref.fif\n",
      "[done]\n",
      "[]\n",
      "Extracting EDF parameters from /media/maligan/My Passport/msc_thesis/data/tuh_abnormal_data/eval/abnormal/083/00008348/s001_2011_11_15/00008348_s001_t001.edf...\n",
      "EDF file detected\n",
      "Setting channel info structure...\n",
      "Creating raw.info structure...\n",
      "Renaming to standard 10-20 alphabetic channels ...\n",
      "Creating RawArray with float64 data, n_channels=2, n_times=443000\n",
      "    Range : 0 ... 442999 =      0.000 ...  1771.996 secs\n",
      "Ready.\n",
      "Writing /media/maligan/My Passport/msc_thesis/data/tuh_abnormal_data/eval/abnormal/083/00008348/s001_2011_11_15/00008348_s001_t001_2_channels_reref.fif\n"
     ]
    },
    {
     "name": "stderr",
     "output_type": "stream",
     "text": [
      "<ipython-input-26-4527fc4b8426>:47: RuntimeWarning: This filename (/media/maligan/My Passport/msc_thesis/data/tuh_abnormal_data/eval/abnormal/083/00008348/s001_2011_11_15/00008348_s001_t001_2_channels_reref.fif) does not conform to MNE naming conventions. All raw files should end with raw.fif, raw_sss.fif, raw_tsss.fif, _meg.fif, _eeg.fif, _ieeg.fif, raw.fif.gz, raw_sss.fif.gz, raw_tsss.fif.gz, _meg.fif.gz, _eeg.fif.gz or _ieeg.fif.gz\n",
      "  raw.save(f\"{date}/{to_export}_2_channels_reref.fif\", picks=['Fp1-Cz', 'Pz-O2'])\n"
     ]
    },
    {
     "name": "stdout",
     "output_type": "stream",
     "text": [
      "Closing /media/maligan/My Passport/msc_thesis/data/tuh_abnormal_data/eval/abnormal/083/00008348/s001_2011_11_15/00008348_s001_t001_2_channels_reref.fif\n",
      "[done]\n",
      "[]\n",
      "Extracting EDF parameters from /media/maligan/My Passport/msc_thesis/data/tuh_abnormal_data/eval/abnormal/085/00008527/s001_2011_12_31/00008527_s001_t000.edf...\n",
      "EDF file detected\n",
      "Setting channel info structure...\n",
      "Creating raw.info structure...\n",
      "Renaming to standard 10-20 alphabetic channels ...\n",
      "Creating RawArray with float64 data, n_channels=2, n_times=300750\n",
      "    Range : 0 ... 300749 =      0.000 ...  1202.996 secs\n",
      "Ready.\n",
      "Writing /media/maligan/My Passport/msc_thesis/data/tuh_abnormal_data/eval/abnormal/085/00008527/s001_2011_12_31/00008527_s001_t000_2_channels_reref.fif\n"
     ]
    },
    {
     "name": "stderr",
     "output_type": "stream",
     "text": [
      "<ipython-input-26-4527fc4b8426>:47: RuntimeWarning: This filename (/media/maligan/My Passport/msc_thesis/data/tuh_abnormal_data/eval/abnormal/085/00008527/s001_2011_12_31/00008527_s001_t000_2_channels_reref.fif) does not conform to MNE naming conventions. All raw files should end with raw.fif, raw_sss.fif, raw_tsss.fif, _meg.fif, _eeg.fif, _ieeg.fif, raw.fif.gz, raw_sss.fif.gz, raw_tsss.fif.gz, _meg.fif.gz, _eeg.fif.gz or _ieeg.fif.gz\n",
      "  raw.save(f\"{date}/{to_export}_2_channels_reref.fif\", picks=['Fp1-Cz', 'Pz-O2'])\n"
     ]
    },
    {
     "name": "stdout",
     "output_type": "stream",
     "text": [
      "Closing /media/maligan/My Passport/msc_thesis/data/tuh_abnormal_data/eval/abnormal/085/00008527/s001_2011_12_31/00008527_s001_t000_2_channels_reref.fif\n",
      "[done]\n",
      "[]\n",
      "Extracting EDF parameters from /media/maligan/My Passport/msc_thesis/data/tuh_abnormal_data/eval/abnormal/085/00008582/s001_2012_02_09/00008582_s001_t000.edf...\n",
      "EDF file detected\n",
      "Setting channel info structure...\n",
      "Creating raw.info structure...\n",
      "Renaming to standard 10-20 alphabetic channels ...\n",
      "Creating RawArray with float64 data, n_channels=2, n_times=314250\n",
      "    Range : 0 ... 314249 =      0.000 ...  1256.996 secs\n",
      "Ready.\n",
      "Writing /media/maligan/My Passport/msc_thesis/data/tuh_abnormal_data/eval/abnormal/085/00008582/s001_2012_02_09/00008582_s001_t000_2_channels_reref.fif\n"
     ]
    },
    {
     "name": "stderr",
     "output_type": "stream",
     "text": [
      "<ipython-input-26-4527fc4b8426>:47: RuntimeWarning: This filename (/media/maligan/My Passport/msc_thesis/data/tuh_abnormal_data/eval/abnormal/085/00008582/s001_2012_02_09/00008582_s001_t000_2_channels_reref.fif) does not conform to MNE naming conventions. All raw files should end with raw.fif, raw_sss.fif, raw_tsss.fif, _meg.fif, _eeg.fif, _ieeg.fif, raw.fif.gz, raw_sss.fif.gz, raw_tsss.fif.gz, _meg.fif.gz, _eeg.fif.gz or _ieeg.fif.gz\n",
      "  raw.save(f\"{date}/{to_export}_2_channels_reref.fif\", picks=['Fp1-Cz', 'Pz-O2'])\n"
     ]
    },
    {
     "name": "stdout",
     "output_type": "stream",
     "text": [
      "Closing /media/maligan/My Passport/msc_thesis/data/tuh_abnormal_data/eval/abnormal/085/00008582/s001_2012_02_09/00008582_s001_t000_2_channels_reref.fif\n",
      "[done]\n",
      "[]\n",
      "Extracting EDF parameters from /media/maligan/My Passport/msc_thesis/data/tuh_abnormal_data/eval/abnormal/087/00008723/s001_2012_04_16/00008723_s001_t000.edf...\n",
      "EDF file detected\n",
      "Setting channel info structure...\n",
      "Creating raw.info structure...\n",
      "Renaming to standard 10-20 alphabetic channels ...\n",
      "Creating RawArray with float64 data, n_channels=2, n_times=346000\n",
      "    Range : 0 ... 345999 =      0.000 ...  1383.996 secs\n",
      "Ready.\n",
      "Writing /media/maligan/My Passport/msc_thesis/data/tuh_abnormal_data/eval/abnormal/087/00008723/s001_2012_04_16/00008723_s001_t000_2_channels_reref.fif\n"
     ]
    },
    {
     "name": "stderr",
     "output_type": "stream",
     "text": [
      "<ipython-input-26-4527fc4b8426>:47: RuntimeWarning: This filename (/media/maligan/My Passport/msc_thesis/data/tuh_abnormal_data/eval/abnormal/087/00008723/s001_2012_04_16/00008723_s001_t000_2_channels_reref.fif) does not conform to MNE naming conventions. All raw files should end with raw.fif, raw_sss.fif, raw_tsss.fif, _meg.fif, _eeg.fif, _ieeg.fif, raw.fif.gz, raw_sss.fif.gz, raw_tsss.fif.gz, _meg.fif.gz, _eeg.fif.gz or _ieeg.fif.gz\n",
      "  raw.save(f\"{date}/{to_export}_2_channels_reref.fif\", picks=['Fp1-Cz', 'Pz-O2'])\n"
     ]
    },
    {
     "name": "stdout",
     "output_type": "stream",
     "text": [
      "Closing /media/maligan/My Passport/msc_thesis/data/tuh_abnormal_data/eval/abnormal/087/00008723/s001_2012_04_16/00008723_s001_t000_2_channels_reref.fif\n",
      "[done]\n",
      "[]\n",
      "Extracting EDF parameters from /media/maligan/My Passport/msc_thesis/data/tuh_abnormal_data/eval/abnormal/087/00008740/s001_2012_04_18/00008740_s001_t000.edf...\n",
      "EDF file detected\n",
      "Setting channel info structure...\n",
      "Creating raw.info structure...\n",
      "Renaming to standard 10-20 alphabetic channels ...\n",
      "Creating RawArray with float64 data, n_channels=2, n_times=300750\n",
      "    Range : 0 ... 300749 =      0.000 ...  1202.996 secs\n",
      "Ready.\n",
      "Writing /media/maligan/My Passport/msc_thesis/data/tuh_abnormal_data/eval/abnormal/087/00008740/s001_2012_04_18/00008740_s001_t000_2_channels_reref.fif\n"
     ]
    },
    {
     "name": "stderr",
     "output_type": "stream",
     "text": [
      "<ipython-input-26-4527fc4b8426>:47: RuntimeWarning: This filename (/media/maligan/My Passport/msc_thesis/data/tuh_abnormal_data/eval/abnormal/087/00008740/s001_2012_04_18/00008740_s001_t000_2_channels_reref.fif) does not conform to MNE naming conventions. All raw files should end with raw.fif, raw_sss.fif, raw_tsss.fif, _meg.fif, _eeg.fif, _ieeg.fif, raw.fif.gz, raw_sss.fif.gz, raw_tsss.fif.gz, _meg.fif.gz, _eeg.fif.gz or _ieeg.fif.gz\n",
      "  raw.save(f\"{date}/{to_export}_2_channels_reref.fif\", picks=['Fp1-Cz', 'Pz-O2'])\n"
     ]
    },
    {
     "name": "stdout",
     "output_type": "stream",
     "text": [
      "Closing /media/maligan/My Passport/msc_thesis/data/tuh_abnormal_data/eval/abnormal/087/00008740/s001_2012_04_18/00008740_s001_t000_2_channels_reref.fif\n",
      "[done]\n",
      "[]\n",
      "Extracting EDF parameters from /media/maligan/My Passport/msc_thesis/data/tuh_abnormal_data/eval/abnormal/087/00008770/s001_2012_05_23/00008770_s001_t001.edf...\n",
      "EDF file detected\n",
      "Setting channel info structure...\n",
      "Creating raw.info structure...\n",
      "Renaming to standard 10-20 alphabetic channels ...\n",
      "Creating RawArray with float64 data, n_channels=2, n_times=348000\n",
      "    Range : 0 ... 347999 =      0.000 ...  1391.996 secs\n",
      "Ready.\n",
      "Writing /media/maligan/My Passport/msc_thesis/data/tuh_abnormal_data/eval/abnormal/087/00008770/s001_2012_05_23/00008770_s001_t001_2_channels_reref.fif\n"
     ]
    },
    {
     "name": "stderr",
     "output_type": "stream",
     "text": [
      "<ipython-input-26-4527fc4b8426>:47: RuntimeWarning: This filename (/media/maligan/My Passport/msc_thesis/data/tuh_abnormal_data/eval/abnormal/087/00008770/s001_2012_05_23/00008770_s001_t001_2_channels_reref.fif) does not conform to MNE naming conventions. All raw files should end with raw.fif, raw_sss.fif, raw_tsss.fif, _meg.fif, _eeg.fif, _ieeg.fif, raw.fif.gz, raw_sss.fif.gz, raw_tsss.fif.gz, _meg.fif.gz, _eeg.fif.gz or _ieeg.fif.gz\n",
      "  raw.save(f\"{date}/{to_export}_2_channels_reref.fif\", picks=['Fp1-Cz', 'Pz-O2'])\n"
     ]
    },
    {
     "name": "stdout",
     "output_type": "stream",
     "text": [
      "Closing /media/maligan/My Passport/msc_thesis/data/tuh_abnormal_data/eval/abnormal/087/00008770/s001_2012_05_23/00008770_s001_t001_2_channels_reref.fif\n",
      "[done]\n",
      "[]\n",
      "Extracting EDF parameters from /media/maligan/My Passport/msc_thesis/data/tuh_abnormal_data/eval/abnormal/089/00008971/s001_2012_07_17/00008971_s001_t003.edf...\n",
      "EDF file detected\n",
      "Setting channel info structure...\n",
      "Creating raw.info structure...\n",
      "Renaming to standard 10-20 alphabetic channels ...\n",
      "Creating RawArray with float64 data, n_channels=2, n_times=264000\n",
      "    Range : 0 ... 263999 =      0.000 ...  1055.996 secs\n",
      "Ready.\n",
      "Writing /media/maligan/My Passport/msc_thesis/data/tuh_abnormal_data/eval/abnormal/089/00008971/s001_2012_07_17/00008971_s001_t003_2_channels_reref.fif\n"
     ]
    },
    {
     "name": "stderr",
     "output_type": "stream",
     "text": [
      "<ipython-input-26-4527fc4b8426>:47: RuntimeWarning: This filename (/media/maligan/My Passport/msc_thesis/data/tuh_abnormal_data/eval/abnormal/089/00008971/s001_2012_07_17/00008971_s001_t003_2_channels_reref.fif) does not conform to MNE naming conventions. All raw files should end with raw.fif, raw_sss.fif, raw_tsss.fif, _meg.fif, _eeg.fif, _ieeg.fif, raw.fif.gz, raw_sss.fif.gz, raw_tsss.fif.gz, _meg.fif.gz, _eeg.fif.gz or _ieeg.fif.gz\n",
      "  raw.save(f\"{date}/{to_export}_2_channels_reref.fif\", picks=['Fp1-Cz', 'Pz-O2'])\n"
     ]
    },
    {
     "name": "stdout",
     "output_type": "stream",
     "text": [
      "Closing /media/maligan/My Passport/msc_thesis/data/tuh_abnormal_data/eval/abnormal/089/00008971/s001_2012_07_17/00008971_s001_t003_2_channels_reref.fif\n",
      "[done]\n",
      "[]\n",
      "Extracting EDF parameters from /media/maligan/My Passport/msc_thesis/data/tuh_abnormal_data/eval/abnormal/089/00008971/s003_2013_02_07/00008971_s003_t001.edf...\n",
      "EDF file detected\n",
      "Setting channel info structure...\n",
      "Creating raw.info structure...\n",
      "Renaming to standard 10-20 alphabetic channels ...\n",
      "Creating RawArray with float64 data, n_channels=2, n_times=590500\n",
      "    Range : 0 ... 590499 =      0.000 ...  2361.996 secs\n",
      "Ready.\n",
      "Writing /media/maligan/My Passport/msc_thesis/data/tuh_abnormal_data/eval/abnormal/089/00008971/s003_2013_02_07/00008971_s003_t001_2_channels_reref.fif\n"
     ]
    },
    {
     "name": "stderr",
     "output_type": "stream",
     "text": [
      "<ipython-input-26-4527fc4b8426>:47: RuntimeWarning: This filename (/media/maligan/My Passport/msc_thesis/data/tuh_abnormal_data/eval/abnormal/089/00008971/s003_2013_02_07/00008971_s003_t001_2_channels_reref.fif) does not conform to MNE naming conventions. All raw files should end with raw.fif, raw_sss.fif, raw_tsss.fif, _meg.fif, _eeg.fif, _ieeg.fif, raw.fif.gz, raw_sss.fif.gz, raw_tsss.fif.gz, _meg.fif.gz, _eeg.fif.gz or _ieeg.fif.gz\n",
      "  raw.save(f\"{date}/{to_export}_2_channels_reref.fif\", picks=['Fp1-Cz', 'Pz-O2'])\n"
     ]
    },
    {
     "name": "stdout",
     "output_type": "stream",
     "text": [
      "Closing /media/maligan/My Passport/msc_thesis/data/tuh_abnormal_data/eval/abnormal/089/00008971/s003_2013_02_07/00008971_s003_t001_2_channels_reref.fif\n",
      "[done]\n",
      "[]\n",
      "Extracting EDF parameters from /media/maligan/My Passport/msc_thesis/data/tuh_abnormal_data/eval/abnormal/089/00008971/s005_2013_03_04/00008971_s005_t000.edf...\n",
      "EDF file detected\n",
      "Setting channel info structure...\n",
      "Creating raw.info structure...\n",
      "Renaming to standard 10-20 alphabetic channels ...\n",
      "Creating RawArray with float64 data, n_channels=2, n_times=310000\n",
      "    Range : 0 ... 309999 =      0.000 ...  1239.996 secs\n",
      "Ready.\n",
      "Writing /media/maligan/My Passport/msc_thesis/data/tuh_abnormal_data/eval/abnormal/089/00008971/s005_2013_03_04/00008971_s005_t000_2_channels_reref.fif\n"
     ]
    },
    {
     "name": "stderr",
     "output_type": "stream",
     "text": [
      "<ipython-input-26-4527fc4b8426>:47: RuntimeWarning: This filename (/media/maligan/My Passport/msc_thesis/data/tuh_abnormal_data/eval/abnormal/089/00008971/s005_2013_03_04/00008971_s005_t000_2_channels_reref.fif) does not conform to MNE naming conventions. All raw files should end with raw.fif, raw_sss.fif, raw_tsss.fif, _meg.fif, _eeg.fif, _ieeg.fif, raw.fif.gz, raw_sss.fif.gz, raw_tsss.fif.gz, _meg.fif.gz, _eeg.fif.gz or _ieeg.fif.gz\n",
      "  raw.save(f\"{date}/{to_export}_2_channels_reref.fif\", picks=['Fp1-Cz', 'Pz-O2'])\n"
     ]
    },
    {
     "name": "stdout",
     "output_type": "stream",
     "text": [
      "Closing /media/maligan/My Passport/msc_thesis/data/tuh_abnormal_data/eval/abnormal/089/00008971/s005_2013_03_04/00008971_s005_t000_2_channels_reref.fif\n",
      "[done]\n",
      "[]\n",
      "Extracting EDF parameters from /media/maligan/My Passport/msc_thesis/data/tuh_abnormal_data/eval/abnormal/090/00009053/s001_2012_06_25/00009053_s001_t000.edf...\n",
      "EDF file detected\n",
      "Setting channel info structure...\n",
      "Creating raw.info structure...\n",
      "Renaming to standard 10-20 alphabetic channels ...\n",
      "Creating RawArray with float64 data, n_channels=2, n_times=302750\n",
      "    Range : 0 ... 302749 =      0.000 ...  1210.996 secs\n",
      "Ready.\n",
      "Writing /media/maligan/My Passport/msc_thesis/data/tuh_abnormal_data/eval/abnormal/090/00009053/s001_2012_06_25/00009053_s001_t000_2_channels_reref.fif\n"
     ]
    },
    {
     "name": "stderr",
     "output_type": "stream",
     "text": [
      "<ipython-input-26-4527fc4b8426>:47: RuntimeWarning: This filename (/media/maligan/My Passport/msc_thesis/data/tuh_abnormal_data/eval/abnormal/090/00009053/s001_2012_06_25/00009053_s001_t000_2_channels_reref.fif) does not conform to MNE naming conventions. All raw files should end with raw.fif, raw_sss.fif, raw_tsss.fif, _meg.fif, _eeg.fif, _ieeg.fif, raw.fif.gz, raw_sss.fif.gz, raw_tsss.fif.gz, _meg.fif.gz, _eeg.fif.gz or _ieeg.fif.gz\n",
      "  raw.save(f\"{date}/{to_export}_2_channels_reref.fif\", picks=['Fp1-Cz', 'Pz-O2'])\n"
     ]
    },
    {
     "name": "stdout",
     "output_type": "stream",
     "text": [
      "Closing /media/maligan/My Passport/msc_thesis/data/tuh_abnormal_data/eval/abnormal/090/00009053/s001_2012_06_25/00009053_s001_t000_2_channels_reref.fif\n",
      "[done]\n",
      "[]\n",
      "Extracting EDF parameters from /media/maligan/My Passport/msc_thesis/data/tuh_abnormal_data/eval/abnormal/091/00009102/s001_2012_07_11/00009102_s001_t000.edf...\n",
      "EDF file detected\n",
      "Setting channel info structure...\n",
      "Creating raw.info structure...\n",
      "Renaming to standard 10-20 alphabetic channels ...\n",
      "Creating RawArray with float64 data, n_channels=2, n_times=302000\n",
      "    Range : 0 ... 301999 =      0.000 ...  1207.996 secs\n",
      "Ready.\n",
      "Writing /media/maligan/My Passport/msc_thesis/data/tuh_abnormal_data/eval/abnormal/091/00009102/s001_2012_07_11/00009102_s001_t000_2_channels_reref.fif\n"
     ]
    },
    {
     "name": "stderr",
     "output_type": "stream",
     "text": [
      "<ipython-input-26-4527fc4b8426>:47: RuntimeWarning: This filename (/media/maligan/My Passport/msc_thesis/data/tuh_abnormal_data/eval/abnormal/091/00009102/s001_2012_07_11/00009102_s001_t000_2_channels_reref.fif) does not conform to MNE naming conventions. All raw files should end with raw.fif, raw_sss.fif, raw_tsss.fif, _meg.fif, _eeg.fif, _ieeg.fif, raw.fif.gz, raw_sss.fif.gz, raw_tsss.fif.gz, _meg.fif.gz, _eeg.fif.gz or _ieeg.fif.gz\n",
      "  raw.save(f\"{date}/{to_export}_2_channels_reref.fif\", picks=['Fp1-Cz', 'Pz-O2'])\n"
     ]
    },
    {
     "name": "stdout",
     "output_type": "stream",
     "text": [
      "Closing /media/maligan/My Passport/msc_thesis/data/tuh_abnormal_data/eval/abnormal/091/00009102/s001_2012_07_11/00009102_s001_t000_2_channels_reref.fif\n",
      "[done]\n",
      "[]\n",
      "Extracting EDF parameters from /media/maligan/My Passport/msc_thesis/data/tuh_abnormal_data/eval/abnormal/091/00009177/s001_2012_05_02/00009177_s001_t000.edf...\n",
      "EDF file detected\n",
      "Setting channel info structure...\n",
      "Creating raw.info structure...\n",
      "Renaming to standard 10-20 alphabetic channels ...\n",
      "Creating RawArray with float64 data, n_channels=2, n_times=373000\n",
      "    Range : 0 ... 372999 =      0.000 ...  1491.996 secs\n",
      "Ready.\n",
      "Writing /media/maligan/My Passport/msc_thesis/data/tuh_abnormal_data/eval/abnormal/091/00009177/s001_2012_05_02/00009177_s001_t000_2_channels_reref.fif\n"
     ]
    },
    {
     "name": "stderr",
     "output_type": "stream",
     "text": [
      "<ipython-input-26-4527fc4b8426>:47: RuntimeWarning: This filename (/media/maligan/My Passport/msc_thesis/data/tuh_abnormal_data/eval/abnormal/091/00009177/s001_2012_05_02/00009177_s001_t000_2_channels_reref.fif) does not conform to MNE naming conventions. All raw files should end with raw.fif, raw_sss.fif, raw_tsss.fif, _meg.fif, _eeg.fif, _ieeg.fif, raw.fif.gz, raw_sss.fif.gz, raw_tsss.fif.gz, _meg.fif.gz, _eeg.fif.gz or _ieeg.fif.gz\n",
      "  raw.save(f\"{date}/{to_export}_2_channels_reref.fif\", picks=['Fp1-Cz', 'Pz-O2'])\n"
     ]
    },
    {
     "name": "stdout",
     "output_type": "stream",
     "text": [
      "Closing /media/maligan/My Passport/msc_thesis/data/tuh_abnormal_data/eval/abnormal/091/00009177/s001_2012_05_02/00009177_s001_t000_2_channels_reref.fif\n",
      "[done]\n",
      "[]\n",
      "Extracting EDF parameters from /media/maligan/My Passport/msc_thesis/data/tuh_abnormal_data/eval/abnormal/091/00009195/s001_2012_06_04/00009195_s001_t002.edf...\n",
      "EDF file detected\n",
      "Setting channel info structure...\n",
      "Creating raw.info structure...\n",
      "Renaming to standard 10-20 alphabetic channels ...\n",
      "Creating RawArray with float64 data, n_channels=2, n_times=241500\n",
      "    Range : 0 ... 241499 =      0.000 ...   965.996 secs\n",
      "Ready.\n",
      "Writing /media/maligan/My Passport/msc_thesis/data/tuh_abnormal_data/eval/abnormal/091/00009195/s001_2012_06_04/00009195_s001_t002_2_channels_reref.fif\n"
     ]
    },
    {
     "name": "stderr",
     "output_type": "stream",
     "text": [
      "<ipython-input-26-4527fc4b8426>:47: RuntimeWarning: This filename (/media/maligan/My Passport/msc_thesis/data/tuh_abnormal_data/eval/abnormal/091/00009195/s001_2012_06_04/00009195_s001_t002_2_channels_reref.fif) does not conform to MNE naming conventions. All raw files should end with raw.fif, raw_sss.fif, raw_tsss.fif, _meg.fif, _eeg.fif, _ieeg.fif, raw.fif.gz, raw_sss.fif.gz, raw_tsss.fif.gz, _meg.fif.gz, _eeg.fif.gz or _ieeg.fif.gz\n",
      "  raw.save(f\"{date}/{to_export}_2_channels_reref.fif\", picks=['Fp1-Cz', 'Pz-O2'])\n"
     ]
    },
    {
     "name": "stdout",
     "output_type": "stream",
     "text": [
      "Closing /media/maligan/My Passport/msc_thesis/data/tuh_abnormal_data/eval/abnormal/091/00009195/s001_2012_06_04/00009195_s001_t002_2_channels_reref.fif\n",
      "[done]\n",
      "[]\n",
      "Extracting EDF parameters from /media/maligan/My Passport/msc_thesis/data/tuh_abnormal_data/eval/abnormal/093/00009362/s001_2012_08_24/00009362_s001_t001.edf...\n",
      "EDF file detected\n",
      "Setting channel info structure...\n",
      "Creating raw.info structure...\n",
      "Renaming to standard 10-20 alphabetic channels ...\n",
      "Creating RawArray with float64 data, n_channels=2, n_times=481250\n",
      "    Range : 0 ... 481249 =      0.000 ...  1924.996 secs\n",
      "Ready.\n",
      "Writing /media/maligan/My Passport/msc_thesis/data/tuh_abnormal_data/eval/abnormal/093/00009362/s001_2012_08_24/00009362_s001_t001_2_channels_reref.fif\n"
     ]
    },
    {
     "name": "stderr",
     "output_type": "stream",
     "text": [
      "<ipython-input-26-4527fc4b8426>:47: RuntimeWarning: This filename (/media/maligan/My Passport/msc_thesis/data/tuh_abnormal_data/eval/abnormal/093/00009362/s001_2012_08_24/00009362_s001_t001_2_channels_reref.fif) does not conform to MNE naming conventions. All raw files should end with raw.fif, raw_sss.fif, raw_tsss.fif, _meg.fif, _eeg.fif, _ieeg.fif, raw.fif.gz, raw_sss.fif.gz, raw_tsss.fif.gz, _meg.fif.gz, _eeg.fif.gz or _ieeg.fif.gz\n",
      "  raw.save(f\"{date}/{to_export}_2_channels_reref.fif\", picks=['Fp1-Cz', 'Pz-O2'])\n"
     ]
    },
    {
     "name": "stdout",
     "output_type": "stream",
     "text": [
      "Closing /media/maligan/My Passport/msc_thesis/data/tuh_abnormal_data/eval/abnormal/093/00009362/s001_2012_08_24/00009362_s001_t001_2_channels_reref.fif\n",
      "[done]\n",
      "[]\n",
      "Extracting EDF parameters from /media/maligan/My Passport/msc_thesis/data/tuh_abnormal_data/eval/abnormal/093/00009397/s001_2012_09_10/00009397_s001_t000.edf...\n",
      "EDF file detected\n",
      "Setting channel info structure...\n",
      "Creating raw.info structure...\n",
      "Renaming to standard 10-20 alphabetic channels ...\n",
      "Creating RawArray with float64 data, n_channels=2, n_times=308000\n",
      "    Range : 0 ... 307999 =      0.000 ...  1231.996 secs\n",
      "Ready.\n",
      "Writing /media/maligan/My Passport/msc_thesis/data/tuh_abnormal_data/eval/abnormal/093/00009397/s001_2012_09_10/00009397_s001_t000_2_channels_reref.fif\n"
     ]
    },
    {
     "name": "stderr",
     "output_type": "stream",
     "text": [
      "<ipython-input-26-4527fc4b8426>:47: RuntimeWarning: This filename (/media/maligan/My Passport/msc_thesis/data/tuh_abnormal_data/eval/abnormal/093/00009397/s001_2012_09_10/00009397_s001_t000_2_channels_reref.fif) does not conform to MNE naming conventions. All raw files should end with raw.fif, raw_sss.fif, raw_tsss.fif, _meg.fif, _eeg.fif, _ieeg.fif, raw.fif.gz, raw_sss.fif.gz, raw_tsss.fif.gz, _meg.fif.gz, _eeg.fif.gz or _ieeg.fif.gz\n",
      "  raw.save(f\"{date}/{to_export}_2_channels_reref.fif\", picks=['Fp1-Cz', 'Pz-O2'])\n"
     ]
    },
    {
     "name": "stdout",
     "output_type": "stream",
     "text": [
      "Closing /media/maligan/My Passport/msc_thesis/data/tuh_abnormal_data/eval/abnormal/093/00009397/s001_2012_09_10/00009397_s001_t000_2_channels_reref.fif\n",
      "[done]\n",
      "[]\n",
      "Extracting EDF parameters from /media/maligan/My Passport/msc_thesis/data/tuh_abnormal_data/eval/abnormal/094/00009431/s002_2012_06_15/00009431_s002_t000.edf...\n",
      "EDF file detected\n",
      "Setting channel info structure...\n",
      "Creating raw.info structure...\n",
      "Renaming to standard 10-20 alphabetic channels ...\n",
      "Creating RawArray with float64 data, n_channels=2, n_times=307750\n",
      "    Range : 0 ... 307749 =      0.000 ...  1230.996 secs\n",
      "Ready.\n",
      "Writing /media/maligan/My Passport/msc_thesis/data/tuh_abnormal_data/eval/abnormal/094/00009431/s002_2012_06_15/00009431_s002_t000_2_channels_reref.fif\n"
     ]
    },
    {
     "name": "stderr",
     "output_type": "stream",
     "text": [
      "<ipython-input-26-4527fc4b8426>:47: RuntimeWarning: This filename (/media/maligan/My Passport/msc_thesis/data/tuh_abnormal_data/eval/abnormal/094/00009431/s002_2012_06_15/00009431_s002_t000_2_channels_reref.fif) does not conform to MNE naming conventions. All raw files should end with raw.fif, raw_sss.fif, raw_tsss.fif, _meg.fif, _eeg.fif, _ieeg.fif, raw.fif.gz, raw_sss.fif.gz, raw_tsss.fif.gz, _meg.fif.gz, _eeg.fif.gz or _ieeg.fif.gz\n",
      "  raw.save(f\"{date}/{to_export}_2_channels_reref.fif\", picks=['Fp1-Cz', 'Pz-O2'])\n"
     ]
    },
    {
     "name": "stdout",
     "output_type": "stream",
     "text": [
      "Closing /media/maligan/My Passport/msc_thesis/data/tuh_abnormal_data/eval/abnormal/094/00009431/s002_2012_06_15/00009431_s002_t000_2_channels_reref.fif\n",
      "[done]\n",
      "[]\n",
      "Extracting EDF parameters from /media/maligan/My Passport/msc_thesis/data/tuh_abnormal_data/eval/abnormal/094/00009434/s001_2012_08_28/00009434_s001_t000.edf...\n",
      "EDF file detected\n",
      "Setting channel info structure...\n",
      "Creating raw.info structure...\n",
      "Renaming to standard 10-20 alphabetic channels ...\n",
      "Creating RawArray with float64 data, n_channels=2, n_times=363000\n",
      "    Range : 0 ... 362999 =      0.000 ...  1451.996 secs\n",
      "Ready.\n",
      "Writing /media/maligan/My Passport/msc_thesis/data/tuh_abnormal_data/eval/abnormal/094/00009434/s001_2012_08_28/00009434_s001_t000_2_channels_reref.fif\n"
     ]
    },
    {
     "name": "stderr",
     "output_type": "stream",
     "text": [
      "<ipython-input-26-4527fc4b8426>:47: RuntimeWarning: This filename (/media/maligan/My Passport/msc_thesis/data/tuh_abnormal_data/eval/abnormal/094/00009434/s001_2012_08_28/00009434_s001_t000_2_channels_reref.fif) does not conform to MNE naming conventions. All raw files should end with raw.fif, raw_sss.fif, raw_tsss.fif, _meg.fif, _eeg.fif, _ieeg.fif, raw.fif.gz, raw_sss.fif.gz, raw_tsss.fif.gz, _meg.fif.gz, _eeg.fif.gz or _ieeg.fif.gz\n",
      "  raw.save(f\"{date}/{to_export}_2_channels_reref.fif\", picks=['Fp1-Cz', 'Pz-O2'])\n"
     ]
    },
    {
     "name": "stdout",
     "output_type": "stream",
     "text": [
      "Closing /media/maligan/My Passport/msc_thesis/data/tuh_abnormal_data/eval/abnormal/094/00009434/s001_2012_08_28/00009434_s001_t000_2_channels_reref.fif\n",
      "[done]\n",
      "[]\n",
      "Extracting EDF parameters from /media/maligan/My Passport/msc_thesis/data/tuh_abnormal_data/eval/abnormal/094/00009434/s002_2013_03_15/00009434_s002_t000.edf...\n",
      "EDF file detected\n",
      "Setting channel info structure...\n",
      "Creating raw.info structure...\n",
      "Renaming to standard 10-20 alphabetic channels ...\n",
      "Creating RawArray with float64 data, n_channels=2, n_times=378250\n",
      "    Range : 0 ... 378249 =      0.000 ...  1512.996 secs\n",
      "Ready.\n",
      "Writing /media/maligan/My Passport/msc_thesis/data/tuh_abnormal_data/eval/abnormal/094/00009434/s002_2013_03_15/00009434_s002_t000_2_channels_reref.fif\n"
     ]
    },
    {
     "name": "stderr",
     "output_type": "stream",
     "text": [
      "<ipython-input-26-4527fc4b8426>:47: RuntimeWarning: This filename (/media/maligan/My Passport/msc_thesis/data/tuh_abnormal_data/eval/abnormal/094/00009434/s002_2013_03_15/00009434_s002_t000_2_channels_reref.fif) does not conform to MNE naming conventions. All raw files should end with raw.fif, raw_sss.fif, raw_tsss.fif, _meg.fif, _eeg.fif, _ieeg.fif, raw.fif.gz, raw_sss.fif.gz, raw_tsss.fif.gz, _meg.fif.gz, _eeg.fif.gz or _ieeg.fif.gz\n",
      "  raw.save(f\"{date}/{to_export}_2_channels_reref.fif\", picks=['Fp1-Cz', 'Pz-O2'])\n"
     ]
    },
    {
     "name": "stdout",
     "output_type": "stream",
     "text": [
      "Closing /media/maligan/My Passport/msc_thesis/data/tuh_abnormal_data/eval/abnormal/094/00009434/s002_2013_03_15/00009434_s002_t000_2_channels_reref.fif\n",
      "[done]\n",
      "[]\n",
      "Extracting EDF parameters from /media/maligan/My Passport/msc_thesis/data/tuh_abnormal_data/eval/abnormal/094/00009445/s001_2012_09_18/00009445_s001_t000.edf...\n",
      "EDF file detected\n",
      "Setting channel info structure...\n",
      "Creating raw.info structure...\n",
      "Renaming to standard 10-20 alphabetic channels ...\n",
      "Creating RawArray with float64 data, n_channels=2, n_times=329500\n",
      "    Range : 0 ... 329499 =      0.000 ...  1317.996 secs\n",
      "Ready.\n",
      "Writing /media/maligan/My Passport/msc_thesis/data/tuh_abnormal_data/eval/abnormal/094/00009445/s001_2012_09_18/00009445_s001_t000_2_channels_reref.fif\n"
     ]
    },
    {
     "name": "stderr",
     "output_type": "stream",
     "text": [
      "<ipython-input-26-4527fc4b8426>:47: RuntimeWarning: This filename (/media/maligan/My Passport/msc_thesis/data/tuh_abnormal_data/eval/abnormal/094/00009445/s001_2012_09_18/00009445_s001_t000_2_channels_reref.fif) does not conform to MNE naming conventions. All raw files should end with raw.fif, raw_sss.fif, raw_tsss.fif, _meg.fif, _eeg.fif, _ieeg.fif, raw.fif.gz, raw_sss.fif.gz, raw_tsss.fif.gz, _meg.fif.gz, _eeg.fif.gz or _ieeg.fif.gz\n",
      "  raw.save(f\"{date}/{to_export}_2_channels_reref.fif\", picks=['Fp1-Cz', 'Pz-O2'])\n"
     ]
    },
    {
     "name": "stdout",
     "output_type": "stream",
     "text": [
      "Closing /media/maligan/My Passport/msc_thesis/data/tuh_abnormal_data/eval/abnormal/094/00009445/s001_2012_09_18/00009445_s001_t000_2_channels_reref.fif\n",
      "[done]\n",
      "[]\n",
      "Extracting EDF parameters from /media/maligan/My Passport/msc_thesis/data/tuh_abnormal_data/eval/abnormal/094/00009458/s001_2012_10_17/00009458_s001_t003.edf...\n",
      "EDF file detected\n",
      "Setting channel info structure...\n",
      "Creating raw.info structure...\n",
      "Renaming to standard 10-20 alphabetic channels ...\n",
      "Creating RawArray with float64 data, n_channels=2, n_times=245750\n",
      "    Range : 0 ... 245749 =      0.000 ...   982.996 secs\n",
      "Ready.\n",
      "Writing /media/maligan/My Passport/msc_thesis/data/tuh_abnormal_data/eval/abnormal/094/00009458/s001_2012_10_17/00009458_s001_t003_2_channels_reref.fif\n"
     ]
    },
    {
     "name": "stderr",
     "output_type": "stream",
     "text": [
      "<ipython-input-26-4527fc4b8426>:47: RuntimeWarning: This filename (/media/maligan/My Passport/msc_thesis/data/tuh_abnormal_data/eval/abnormal/094/00009458/s001_2012_10_17/00009458_s001_t003_2_channels_reref.fif) does not conform to MNE naming conventions. All raw files should end with raw.fif, raw_sss.fif, raw_tsss.fif, _meg.fif, _eeg.fif, _ieeg.fif, raw.fif.gz, raw_sss.fif.gz, raw_tsss.fif.gz, _meg.fif.gz, _eeg.fif.gz or _ieeg.fif.gz\n",
      "  raw.save(f\"{date}/{to_export}_2_channels_reref.fif\", picks=['Fp1-Cz', 'Pz-O2'])\n"
     ]
    },
    {
     "name": "stdout",
     "output_type": "stream",
     "text": [
      "Closing /media/maligan/My Passport/msc_thesis/data/tuh_abnormal_data/eval/abnormal/094/00009458/s001_2012_10_17/00009458_s001_t003_2_channels_reref.fif\n",
      "[done]\n",
      "[]\n",
      "Extracting EDF parameters from /media/maligan/My Passport/msc_thesis/data/tuh_abnormal_data/eval/abnormal/094/00009498/s001_2012_12_04/00009498_s001_t000.edf...\n",
      "EDF file detected\n",
      "Setting channel info structure...\n",
      "Creating raw.info structure...\n",
      "Renaming to standard 10-20 alphabetic channels ...\n",
      "Creating RawArray with float64 data, n_channels=2, n_times=317500\n",
      "    Range : 0 ... 317499 =      0.000 ...  1269.996 secs\n",
      "Ready.\n",
      "Writing /media/maligan/My Passport/msc_thesis/data/tuh_abnormal_data/eval/abnormal/094/00009498/s001_2012_12_04/00009498_s001_t000_2_channels_reref.fif\n"
     ]
    },
    {
     "name": "stderr",
     "output_type": "stream",
     "text": [
      "<ipython-input-26-4527fc4b8426>:47: RuntimeWarning: This filename (/media/maligan/My Passport/msc_thesis/data/tuh_abnormal_data/eval/abnormal/094/00009498/s001_2012_12_04/00009498_s001_t000_2_channels_reref.fif) does not conform to MNE naming conventions. All raw files should end with raw.fif, raw_sss.fif, raw_tsss.fif, _meg.fif, _eeg.fif, _ieeg.fif, raw.fif.gz, raw_sss.fif.gz, raw_tsss.fif.gz, _meg.fif.gz, _eeg.fif.gz or _ieeg.fif.gz\n",
      "  raw.save(f\"{date}/{to_export}_2_channels_reref.fif\", picks=['Fp1-Cz', 'Pz-O2'])\n"
     ]
    },
    {
     "name": "stdout",
     "output_type": "stream",
     "text": [
      "Closing /media/maligan/My Passport/msc_thesis/data/tuh_abnormal_data/eval/abnormal/094/00009498/s001_2012_12_04/00009498_s001_t000_2_channels_reref.fif\n",
      "[done]\n",
      "[]\n",
      "Extracting EDF parameters from /media/maligan/My Passport/msc_thesis/data/tuh_abnormal_data/eval/abnormal/095/00009542/s001_2012_11_08/00009542_s001_t000.edf...\n",
      "EDF file detected\n",
      "Setting channel info structure...\n",
      "Creating raw.info structure...\n",
      "Renaming to standard 10-20 alphabetic channels ...\n",
      "Creating RawArray with float64 data, n_channels=2, n_times=315250\n",
      "    Range : 0 ... 315249 =      0.000 ...  1260.996 secs\n",
      "Ready.\n",
      "Writing /media/maligan/My Passport/msc_thesis/data/tuh_abnormal_data/eval/abnormal/095/00009542/s001_2012_11_08/00009542_s001_t000_2_channels_reref.fif\n"
     ]
    },
    {
     "name": "stderr",
     "output_type": "stream",
     "text": [
      "<ipython-input-26-4527fc4b8426>:47: RuntimeWarning: This filename (/media/maligan/My Passport/msc_thesis/data/tuh_abnormal_data/eval/abnormal/095/00009542/s001_2012_11_08/00009542_s001_t000_2_channels_reref.fif) does not conform to MNE naming conventions. All raw files should end with raw.fif, raw_sss.fif, raw_tsss.fif, _meg.fif, _eeg.fif, _ieeg.fif, raw.fif.gz, raw_sss.fif.gz, raw_tsss.fif.gz, _meg.fif.gz, _eeg.fif.gz or _ieeg.fif.gz\n",
      "  raw.save(f\"{date}/{to_export}_2_channels_reref.fif\", picks=['Fp1-Cz', 'Pz-O2'])\n"
     ]
    },
    {
     "name": "stdout",
     "output_type": "stream",
     "text": [
      "Closing /media/maligan/My Passport/msc_thesis/data/tuh_abnormal_data/eval/abnormal/095/00009542/s001_2012_11_08/00009542_s001_t000_2_channels_reref.fif\n",
      "[done]\n",
      "[]\n",
      "Extracting EDF parameters from /media/maligan/My Passport/msc_thesis/data/tuh_abnormal_data/eval/abnormal/096/00009647/s001_2012_11_24/00009647_s001_t000.edf...\n",
      "EDF file detected\n",
      "Setting channel info structure...\n",
      "Creating raw.info structure...\n",
      "Renaming to standard 10-20 alphabetic channels ...\n",
      "Creating RawArray with float64 data, n_channels=2, n_times=316500\n",
      "    Range : 0 ... 316499 =      0.000 ...  1265.996 secs\n",
      "Ready.\n",
      "Writing /media/maligan/My Passport/msc_thesis/data/tuh_abnormal_data/eval/abnormal/096/00009647/s001_2012_11_24/00009647_s001_t000_2_channels_reref.fif\n"
     ]
    },
    {
     "name": "stderr",
     "output_type": "stream",
     "text": [
      "<ipython-input-26-4527fc4b8426>:47: RuntimeWarning: This filename (/media/maligan/My Passport/msc_thesis/data/tuh_abnormal_data/eval/abnormal/096/00009647/s001_2012_11_24/00009647_s001_t000_2_channels_reref.fif) does not conform to MNE naming conventions. All raw files should end with raw.fif, raw_sss.fif, raw_tsss.fif, _meg.fif, _eeg.fif, _ieeg.fif, raw.fif.gz, raw_sss.fif.gz, raw_tsss.fif.gz, _meg.fif.gz, _eeg.fif.gz or _ieeg.fif.gz\n",
      "  raw.save(f\"{date}/{to_export}_2_channels_reref.fif\", picks=['Fp1-Cz', 'Pz-O2'])\n"
     ]
    },
    {
     "name": "stdout",
     "output_type": "stream",
     "text": [
      "Closing /media/maligan/My Passport/msc_thesis/data/tuh_abnormal_data/eval/abnormal/096/00009647/s001_2012_11_24/00009647_s001_t000_2_channels_reref.fif\n",
      "[done]\n",
      "[]\n",
      "Extracting EDF parameters from /media/maligan/My Passport/msc_thesis/data/tuh_abnormal_data/eval/abnormal/096/00009663/s002_2012_11_15/00009663_s002_t001.edf...\n",
      "EDF file detected\n",
      "Setting channel info structure...\n",
      "Creating raw.info structure...\n",
      "Renaming to standard 10-20 alphabetic channels ...\n",
      "Creating RawArray with float64 data, n_channels=2, n_times=263000\n",
      "    Range : 0 ... 262999 =      0.000 ...  1051.996 secs\n",
      "Ready.\n",
      "Writing /media/maligan/My Passport/msc_thesis/data/tuh_abnormal_data/eval/abnormal/096/00009663/s002_2012_11_15/00009663_s002_t001_2_channels_reref.fif\n"
     ]
    },
    {
     "name": "stderr",
     "output_type": "stream",
     "text": [
      "<ipython-input-26-4527fc4b8426>:47: RuntimeWarning: This filename (/media/maligan/My Passport/msc_thesis/data/tuh_abnormal_data/eval/abnormal/096/00009663/s002_2012_11_15/00009663_s002_t001_2_channels_reref.fif) does not conform to MNE naming conventions. All raw files should end with raw.fif, raw_sss.fif, raw_tsss.fif, _meg.fif, _eeg.fif, _ieeg.fif, raw.fif.gz, raw_sss.fif.gz, raw_tsss.fif.gz, _meg.fif.gz, _eeg.fif.gz or _ieeg.fif.gz\n",
      "  raw.save(f\"{date}/{to_export}_2_channels_reref.fif\", picks=['Fp1-Cz', 'Pz-O2'])\n"
     ]
    },
    {
     "name": "stdout",
     "output_type": "stream",
     "text": [
      "Closing /media/maligan/My Passport/msc_thesis/data/tuh_abnormal_data/eval/abnormal/096/00009663/s002_2012_11_15/00009663_s002_t001_2_channels_reref.fif\n",
      "[done]\n",
      "[]\n",
      "Extracting EDF parameters from /media/maligan/My Passport/msc_thesis/data/tuh_abnormal_data/eval/abnormal/096/00009688/s001_2011_12_14/00009688_s001_t000.edf...\n",
      "EDF file detected\n",
      "Setting channel info structure...\n",
      "Creating raw.info structure...\n",
      "Renaming to standard 10-20 alphabetic channels ...\n",
      "Creating RawArray with float64 data, n_channels=2, n_times=303500\n",
      "    Range : 0 ... 303499 =      0.000 ...  1213.996 secs\n",
      "Ready.\n",
      "Writing /media/maligan/My Passport/msc_thesis/data/tuh_abnormal_data/eval/abnormal/096/00009688/s001_2011_12_14/00009688_s001_t000_2_channels_reref.fif\n"
     ]
    },
    {
     "name": "stderr",
     "output_type": "stream",
     "text": [
      "<ipython-input-26-4527fc4b8426>:47: RuntimeWarning: This filename (/media/maligan/My Passport/msc_thesis/data/tuh_abnormal_data/eval/abnormal/096/00009688/s001_2011_12_14/00009688_s001_t000_2_channels_reref.fif) does not conform to MNE naming conventions. All raw files should end with raw.fif, raw_sss.fif, raw_tsss.fif, _meg.fif, _eeg.fif, _ieeg.fif, raw.fif.gz, raw_sss.fif.gz, raw_tsss.fif.gz, _meg.fif.gz, _eeg.fif.gz or _ieeg.fif.gz\n",
      "  raw.save(f\"{date}/{to_export}_2_channels_reref.fif\", picks=['Fp1-Cz', 'Pz-O2'])\n"
     ]
    },
    {
     "name": "stdout",
     "output_type": "stream",
     "text": [
      "Closing /media/maligan/My Passport/msc_thesis/data/tuh_abnormal_data/eval/abnormal/096/00009688/s001_2011_12_14/00009688_s001_t000_2_channels_reref.fif\n",
      "[done]\n",
      "[]\n",
      "Extracting EDF parameters from /media/maligan/My Passport/msc_thesis/data/tuh_abnormal_data/eval/abnormal/096/00009693/s001_2011_12_14/00009693_s001_t000.edf...\n",
      "EDF file detected\n",
      "Setting channel info structure...\n",
      "Creating raw.info structure...\n",
      "Renaming to standard 10-20 alphabetic channels ...\n",
      "Creating RawArray with float64 data, n_channels=2, n_times=310750\n",
      "    Range : 0 ... 310749 =      0.000 ...  1242.996 secs\n",
      "Ready.\n",
      "Writing /media/maligan/My Passport/msc_thesis/data/tuh_abnormal_data/eval/abnormal/096/00009693/s001_2011_12_14/00009693_s001_t000_2_channels_reref.fif\n",
      "Closing /media/maligan/My Passport/msc_thesis/data/tuh_abnormal_data/eval/abnormal/096/00009693/s001_2011_12_14/00009693_s001_t000_2_channels_reref.fif\n",
      "[done]\n",
      "[]\n",
      "Extracting EDF parameters from /media/maligan/My Passport/msc_thesis/data/tuh_abnormal_data/eval/abnormal/096/00009693/s002_2013_01_04/00009693_s002_t001.edf...\n",
      "EDF file detected\n"
     ]
    },
    {
     "name": "stderr",
     "output_type": "stream",
     "text": [
      "<ipython-input-26-4527fc4b8426>:47: RuntimeWarning: This filename (/media/maligan/My Passport/msc_thesis/data/tuh_abnormal_data/eval/abnormal/096/00009693/s001_2011_12_14/00009693_s001_t000_2_channels_reref.fif) does not conform to MNE naming conventions. All raw files should end with raw.fif, raw_sss.fif, raw_tsss.fif, _meg.fif, _eeg.fif, _ieeg.fif, raw.fif.gz, raw_sss.fif.gz, raw_tsss.fif.gz, _meg.fif.gz, _eeg.fif.gz or _ieeg.fif.gz\n",
      "  raw.save(f\"{date}/{to_export}_2_channels_reref.fif\", picks=['Fp1-Cz', 'Pz-O2'])\n"
     ]
    },
    {
     "name": "stdout",
     "output_type": "stream",
     "text": [
      "Setting channel info structure...\n",
      "Creating raw.info structure...\n",
      "Renaming to standard 10-20 alphabetic channels ...\n",
      "Creating RawArray with float64 data, n_channels=2, n_times=277500\n",
      "    Range : 0 ... 277499 =      0.000 ...  1109.996 secs\n",
      "Ready.\n",
      "Writing /media/maligan/My Passport/msc_thesis/data/tuh_abnormal_data/eval/abnormal/096/00009693/s002_2013_01_04/00009693_s002_t001_2_channels_reref.fif\n"
     ]
    },
    {
     "name": "stderr",
     "output_type": "stream",
     "text": [
      "<ipython-input-26-4527fc4b8426>:47: RuntimeWarning: This filename (/media/maligan/My Passport/msc_thesis/data/tuh_abnormal_data/eval/abnormal/096/00009693/s002_2013_01_04/00009693_s002_t001_2_channels_reref.fif) does not conform to MNE naming conventions. All raw files should end with raw.fif, raw_sss.fif, raw_tsss.fif, _meg.fif, _eeg.fif, _ieeg.fif, raw.fif.gz, raw_sss.fif.gz, raw_tsss.fif.gz, _meg.fif.gz, _eeg.fif.gz or _ieeg.fif.gz\n",
      "  raw.save(f\"{date}/{to_export}_2_channels_reref.fif\", picks=['Fp1-Cz', 'Pz-O2'])\n"
     ]
    },
    {
     "name": "stdout",
     "output_type": "stream",
     "text": [
      "Closing /media/maligan/My Passport/msc_thesis/data/tuh_abnormal_data/eval/abnormal/096/00009693/s002_2013_01_04/00009693_s002_t001_2_channels_reref.fif\n",
      "[done]\n",
      "[]\n",
      "Extracting EDF parameters from /media/maligan/My Passport/msc_thesis/data/tuh_abnormal_data/eval/abnormal/096/00009693/s003_2013_02_28/00009693_s003_t003.edf...\n",
      "EDF file detected\n",
      "Setting channel info structure...\n",
      "Creating raw.info structure...\n",
      "Renaming to standard 10-20 alphabetic channels ...\n",
      "Creating RawArray with float64 data, n_channels=2, n_times=280000\n",
      "    Range : 0 ... 279999 =      0.000 ...  1119.996 secs\n",
      "Ready.\n",
      "Writing /media/maligan/My Passport/msc_thesis/data/tuh_abnormal_data/eval/abnormal/096/00009693/s003_2013_02_28/00009693_s003_t003_2_channels_reref.fif\n"
     ]
    },
    {
     "name": "stderr",
     "output_type": "stream",
     "text": [
      "<ipython-input-26-4527fc4b8426>:47: RuntimeWarning: This filename (/media/maligan/My Passport/msc_thesis/data/tuh_abnormal_data/eval/abnormal/096/00009693/s003_2013_02_28/00009693_s003_t003_2_channels_reref.fif) does not conform to MNE naming conventions. All raw files should end with raw.fif, raw_sss.fif, raw_tsss.fif, _meg.fif, _eeg.fif, _ieeg.fif, raw.fif.gz, raw_sss.fif.gz, raw_tsss.fif.gz, _meg.fif.gz, _eeg.fif.gz or _ieeg.fif.gz\n",
      "  raw.save(f\"{date}/{to_export}_2_channels_reref.fif\", picks=['Fp1-Cz', 'Pz-O2'])\n"
     ]
    },
    {
     "name": "stdout",
     "output_type": "stream",
     "text": [
      "Closing /media/maligan/My Passport/msc_thesis/data/tuh_abnormal_data/eval/abnormal/096/00009693/s003_2013_02_28/00009693_s003_t003_2_channels_reref.fif\n",
      "[done]\n",
      "[]\n",
      "Extracting EDF parameters from /media/maligan/My Passport/msc_thesis/data/tuh_abnormal_data/eval/abnormal/098/00009800/s001_2012_03_19/00009800_s001_t000.edf...\n",
      "EDF file detected\n",
      "Setting channel info structure...\n",
      "Creating raw.info structure...\n",
      "Renaming to standard 10-20 alphabetic channels ...\n",
      "Creating RawArray with float64 data, n_channels=2, n_times=332750\n",
      "    Range : 0 ... 332749 =      0.000 ...  1330.996 secs\n",
      "Ready.\n",
      "Writing /media/maligan/My Passport/msc_thesis/data/tuh_abnormal_data/eval/abnormal/098/00009800/s001_2012_03_19/00009800_s001_t000_2_channels_reref.fif\n"
     ]
    },
    {
     "name": "stderr",
     "output_type": "stream",
     "text": [
      "<ipython-input-26-4527fc4b8426>:47: RuntimeWarning: This filename (/media/maligan/My Passport/msc_thesis/data/tuh_abnormal_data/eval/abnormal/098/00009800/s001_2012_03_19/00009800_s001_t000_2_channels_reref.fif) does not conform to MNE naming conventions. All raw files should end with raw.fif, raw_sss.fif, raw_tsss.fif, _meg.fif, _eeg.fif, _ieeg.fif, raw.fif.gz, raw_sss.fif.gz, raw_tsss.fif.gz, _meg.fif.gz, _eeg.fif.gz or _ieeg.fif.gz\n",
      "  raw.save(f\"{date}/{to_export}_2_channels_reref.fif\", picks=['Fp1-Cz', 'Pz-O2'])\n"
     ]
    },
    {
     "name": "stdout",
     "output_type": "stream",
     "text": [
      "Closing /media/maligan/My Passport/msc_thesis/data/tuh_abnormal_data/eval/abnormal/098/00009800/s001_2012_03_19/00009800_s001_t000_2_channels_reref.fif\n",
      "[done]\n",
      "[]\n",
      "Extracting EDF parameters from /media/maligan/My Passport/msc_thesis/data/tuh_abnormal_data/eval/abnormal/098/00009820/s002_2013_04_11/00009820_s002_t002.edf...\n",
      "EDF file detected\n",
      "Setting channel info structure...\n",
      "Creating raw.info structure...\n",
      "Renaming to standard 10-20 alphabetic channels ...\n",
      "Creating RawArray with float64 data, n_channels=2, n_times=366500\n",
      "    Range : 0 ... 366499 =      0.000 ...  1465.996 secs\n",
      "Ready.\n",
      "Writing /media/maligan/My Passport/msc_thesis/data/tuh_abnormal_data/eval/abnormal/098/00009820/s002_2013_04_11/00009820_s002_t002_2_channels_reref.fif\n"
     ]
    },
    {
     "name": "stderr",
     "output_type": "stream",
     "text": [
      "<ipython-input-26-4527fc4b8426>:47: RuntimeWarning: This filename (/media/maligan/My Passport/msc_thesis/data/tuh_abnormal_data/eval/abnormal/098/00009820/s002_2013_04_11/00009820_s002_t002_2_channels_reref.fif) does not conform to MNE naming conventions. All raw files should end with raw.fif, raw_sss.fif, raw_tsss.fif, _meg.fif, _eeg.fif, _ieeg.fif, raw.fif.gz, raw_sss.fif.gz, raw_tsss.fif.gz, _meg.fif.gz, _eeg.fif.gz or _ieeg.fif.gz\n",
      "  raw.save(f\"{date}/{to_export}_2_channels_reref.fif\", picks=['Fp1-Cz', 'Pz-O2'])\n"
     ]
    },
    {
     "name": "stdout",
     "output_type": "stream",
     "text": [
      "Closing /media/maligan/My Passport/msc_thesis/data/tuh_abnormal_data/eval/abnormal/098/00009820/s002_2013_04_11/00009820_s002_t002_2_channels_reref.fif\n",
      "[done]\n",
      "[]\n",
      "Extracting EDF parameters from /media/maligan/My Passport/msc_thesis/data/tuh_abnormal_data/eval/abnormal/099/00009906/s002_2013_04_18/00009906_s002_t000.edf...\n",
      "EDF file detected\n",
      "Setting channel info structure...\n",
      "Creating raw.info structure...\n",
      "Renaming to standard 10-20 alphabetic channels ...\n",
      "Creating RawArray with float64 data, n_channels=2, n_times=384000\n",
      "    Range : 0 ... 383999 =      0.000 ...  1499.996 secs\n",
      "Ready.\n",
      "Writing /media/maligan/My Passport/msc_thesis/data/tuh_abnormal_data/eval/abnormal/099/00009906/s002_2013_04_18/00009906_s002_t000_2_channels_reref.fif\n"
     ]
    },
    {
     "name": "stderr",
     "output_type": "stream",
     "text": [
      "<ipython-input-26-4527fc4b8426>:47: RuntimeWarning: This filename (/media/maligan/My Passport/msc_thesis/data/tuh_abnormal_data/eval/abnormal/099/00009906/s002_2013_04_18/00009906_s002_t000_2_channels_reref.fif) does not conform to MNE naming conventions. All raw files should end with raw.fif, raw_sss.fif, raw_tsss.fif, _meg.fif, _eeg.fif, _ieeg.fif, raw.fif.gz, raw_sss.fif.gz, raw_tsss.fif.gz, _meg.fif.gz, _eeg.fif.gz or _ieeg.fif.gz\n",
      "  raw.save(f\"{date}/{to_export}_2_channels_reref.fif\", picks=['Fp1-Cz', 'Pz-O2'])\n"
     ]
    },
    {
     "name": "stdout",
     "output_type": "stream",
     "text": [
      "Closing /media/maligan/My Passport/msc_thesis/data/tuh_abnormal_data/eval/abnormal/099/00009906/s002_2013_04_18/00009906_s002_t000_2_channels_reref.fif\n",
      "[done]\n",
      "[]\n",
      "Extracting EDF parameters from /media/maligan/My Passport/msc_thesis/data/tuh_abnormal_data/eval/abnormal/099/00009909/s001_2013_04_18/00009909_s001_t000.edf...\n",
      "EDF file detected\n",
      "Setting channel info structure...\n",
      "Creating raw.info structure...\n",
      "Renaming to standard 10-20 alphabetic channels ...\n",
      "Creating RawArray with float64 data, n_channels=2, n_times=336500\n",
      "    Range : 0 ... 336499 =      0.000 ...  1345.996 secs\n",
      "Ready.\n",
      "Writing /media/maligan/My Passport/msc_thesis/data/tuh_abnormal_data/eval/abnormal/099/00009909/s001_2013_04_18/00009909_s001_t000_2_channels_reref.fif\n"
     ]
    },
    {
     "name": "stderr",
     "output_type": "stream",
     "text": [
      "<ipython-input-26-4527fc4b8426>:47: RuntimeWarning: This filename (/media/maligan/My Passport/msc_thesis/data/tuh_abnormal_data/eval/abnormal/099/00009909/s001_2013_04_18/00009909_s001_t000_2_channels_reref.fif) does not conform to MNE naming conventions. All raw files should end with raw.fif, raw_sss.fif, raw_tsss.fif, _meg.fif, _eeg.fif, _ieeg.fif, raw.fif.gz, raw_sss.fif.gz, raw_tsss.fif.gz, _meg.fif.gz, _eeg.fif.gz or _ieeg.fif.gz\n",
      "  raw.save(f\"{date}/{to_export}_2_channels_reref.fif\", picks=['Fp1-Cz', 'Pz-O2'])\n"
     ]
    },
    {
     "name": "stdout",
     "output_type": "stream",
     "text": [
      "Closing /media/maligan/My Passport/msc_thesis/data/tuh_abnormal_data/eval/abnormal/099/00009909/s001_2013_04_18/00009909_s001_t000_2_channels_reref.fif\n",
      "[done]\n",
      "[]\n",
      "Extracting EDF parameters from /media/maligan/My Passport/msc_thesis/data/tuh_abnormal_data/eval/abnormal/099/00009939/s001_2013_03_01/00009939_s001_t000.edf...\n",
      "EDF file detected\n",
      "Setting channel info structure...\n",
      "Creating raw.info structure...\n",
      "Renaming to standard 10-20 alphabetic channels ...\n",
      "Creating RawArray with float64 data, n_channels=2, n_times=392000\n",
      "    Range : 0 ... 391999 =      0.000 ...  1567.996 secs\n",
      "Ready.\n",
      "Writing /media/maligan/My Passport/msc_thesis/data/tuh_abnormal_data/eval/abnormal/099/00009939/s001_2013_03_01/00009939_s001_t000_2_channels_reref.fif\n"
     ]
    },
    {
     "name": "stderr",
     "output_type": "stream",
     "text": [
      "<ipython-input-26-4527fc4b8426>:47: RuntimeWarning: This filename (/media/maligan/My Passport/msc_thesis/data/tuh_abnormal_data/eval/abnormal/099/00009939/s001_2013_03_01/00009939_s001_t000_2_channels_reref.fif) does not conform to MNE naming conventions. All raw files should end with raw.fif, raw_sss.fif, raw_tsss.fif, _meg.fif, _eeg.fif, _ieeg.fif, raw.fif.gz, raw_sss.fif.gz, raw_tsss.fif.gz, _meg.fif.gz, _eeg.fif.gz or _ieeg.fif.gz\n",
      "  raw.save(f\"{date}/{to_export}_2_channels_reref.fif\", picks=['Fp1-Cz', 'Pz-O2'])\n"
     ]
    },
    {
     "name": "stdout",
     "output_type": "stream",
     "text": [
      "Closing /media/maligan/My Passport/msc_thesis/data/tuh_abnormal_data/eval/abnormal/099/00009939/s001_2013_03_01/00009939_s001_t000_2_channels_reref.fif\n",
      "[done]\n",
      "[]\n",
      "Extracting EDF parameters from /media/maligan/My Passport/msc_thesis/data/tuh_abnormal_data/eval/abnormal/100/00010003/s001_2013_02_18/00010003_s001_t000.edf...\n",
      "EDF file detected\n",
      "Setting channel info structure...\n",
      "Creating raw.info structure...\n",
      "Renaming to standard 10-20 alphabetic channels ...\n",
      "Creating RawArray with float64 data, n_channels=2, n_times=334000\n",
      "    Range : 0 ... 333999 =      0.000 ...  1335.996 secs\n",
      "Ready.\n",
      "Writing /media/maligan/My Passport/msc_thesis/data/tuh_abnormal_data/eval/abnormal/100/00010003/s001_2013_02_18/00010003_s001_t000_2_channels_reref.fif\n"
     ]
    },
    {
     "name": "stderr",
     "output_type": "stream",
     "text": [
      "<ipython-input-26-4527fc4b8426>:47: RuntimeWarning: This filename (/media/maligan/My Passport/msc_thesis/data/tuh_abnormal_data/eval/abnormal/100/00010003/s001_2013_02_18/00010003_s001_t000_2_channels_reref.fif) does not conform to MNE naming conventions. All raw files should end with raw.fif, raw_sss.fif, raw_tsss.fif, _meg.fif, _eeg.fif, _ieeg.fif, raw.fif.gz, raw_sss.fif.gz, raw_tsss.fif.gz, _meg.fif.gz, _eeg.fif.gz or _ieeg.fif.gz\n",
      "  raw.save(f\"{date}/{to_export}_2_channels_reref.fif\", picks=['Fp1-Cz', 'Pz-O2'])\n"
     ]
    },
    {
     "name": "stdout",
     "output_type": "stream",
     "text": [
      "Closing /media/maligan/My Passport/msc_thesis/data/tuh_abnormal_data/eval/abnormal/100/00010003/s001_2013_02_18/00010003_s001_t000_2_channels_reref.fif\n",
      "[done]\n",
      "[]\n",
      "Extracting EDF parameters from /media/maligan/My Passport/msc_thesis/data/tuh_abnormal_data/eval/abnormal/100/00010021/s001_2013_03_30/00010021_s001_t000.edf...\n",
      "EDF file detected\n",
      "Setting channel info structure...\n",
      "Creating raw.info structure...\n",
      "Renaming to standard 10-20 alphabetic channels ...\n",
      "Creating RawArray with float64 data, n_channels=2, n_times=347392\n",
      "    Range : 0 ... 347391 =      0.000 ...  1356.996 secs\n",
      "Ready.\n",
      "Writing /media/maligan/My Passport/msc_thesis/data/tuh_abnormal_data/eval/abnormal/100/00010021/s001_2013_03_30/00010021_s001_t000_2_channels_reref.fif\n"
     ]
    },
    {
     "name": "stderr",
     "output_type": "stream",
     "text": [
      "<ipython-input-26-4527fc4b8426>:47: RuntimeWarning: This filename (/media/maligan/My Passport/msc_thesis/data/tuh_abnormal_data/eval/abnormal/100/00010021/s001_2013_03_30/00010021_s001_t000_2_channels_reref.fif) does not conform to MNE naming conventions. All raw files should end with raw.fif, raw_sss.fif, raw_tsss.fif, _meg.fif, _eeg.fif, _ieeg.fif, raw.fif.gz, raw_sss.fif.gz, raw_tsss.fif.gz, _meg.fif.gz, _eeg.fif.gz or _ieeg.fif.gz\n",
      "  raw.save(f\"{date}/{to_export}_2_channels_reref.fif\", picks=['Fp1-Cz', 'Pz-O2'])\n"
     ]
    },
    {
     "name": "stdout",
     "output_type": "stream",
     "text": [
      "Closing /media/maligan/My Passport/msc_thesis/data/tuh_abnormal_data/eval/abnormal/100/00010021/s001_2013_03_30/00010021_s001_t000_2_channels_reref.fif\n",
      "[done]\n",
      "[]\n",
      "Extracting EDF parameters from /media/maligan/My Passport/msc_thesis/data/tuh_abnormal_data/eval/abnormal/100/00010024/s001_2013_02_18/00010024_s001_t000.edf...\n",
      "EDF file detected\n",
      "Setting channel info structure...\n",
      "Creating raw.info structure...\n",
      "Renaming to standard 10-20 alphabetic channels ...\n",
      "Creating RawArray with float64 data, n_channels=2, n_times=374500\n",
      "    Range : 0 ... 374499 =      0.000 ...  1497.996 secs\n",
      "Ready.\n",
      "Writing /media/maligan/My Passport/msc_thesis/data/tuh_abnormal_data/eval/abnormal/100/00010024/s001_2013_02_18/00010024_s001_t000_2_channels_reref.fif\n"
     ]
    },
    {
     "name": "stderr",
     "output_type": "stream",
     "text": [
      "<ipython-input-26-4527fc4b8426>:47: RuntimeWarning: This filename (/media/maligan/My Passport/msc_thesis/data/tuh_abnormal_data/eval/abnormal/100/00010024/s001_2013_02_18/00010024_s001_t000_2_channels_reref.fif) does not conform to MNE naming conventions. All raw files should end with raw.fif, raw_sss.fif, raw_tsss.fif, _meg.fif, _eeg.fif, _ieeg.fif, raw.fif.gz, raw_sss.fif.gz, raw_tsss.fif.gz, _meg.fif.gz, _eeg.fif.gz or _ieeg.fif.gz\n",
      "  raw.save(f\"{date}/{to_export}_2_channels_reref.fif\", picks=['Fp1-Cz', 'Pz-O2'])\n"
     ]
    },
    {
     "name": "stdout",
     "output_type": "stream",
     "text": [
      "Closing /media/maligan/My Passport/msc_thesis/data/tuh_abnormal_data/eval/abnormal/100/00010024/s001_2013_02_18/00010024_s001_t000_2_channels_reref.fif\n",
      "[done]\n",
      "[]\n",
      "Extracting EDF parameters from /media/maligan/My Passport/msc_thesis/data/tuh_abnormal_data/eval/abnormal/101/00010157/s001_2013_02_12/00010157_s001_t000.edf...\n",
      "EDF file detected\n",
      "Setting channel info structure...\n",
      "Creating raw.info structure...\n",
      "Renaming to standard 10-20 alphabetic channels ...\n",
      "Creating RawArray with float64 data, n_channels=2, n_times=309750\n",
      "    Range : 0 ... 309749 =      0.000 ...  1238.996 secs\n",
      "Ready.\n",
      "Writing /media/maligan/My Passport/msc_thesis/data/tuh_abnormal_data/eval/abnormal/101/00010157/s001_2013_02_12/00010157_s001_t000_2_channels_reref.fif\n"
     ]
    },
    {
     "name": "stderr",
     "output_type": "stream",
     "text": [
      "<ipython-input-26-4527fc4b8426>:47: RuntimeWarning: This filename (/media/maligan/My Passport/msc_thesis/data/tuh_abnormal_data/eval/abnormal/101/00010157/s001_2013_02_12/00010157_s001_t000_2_channels_reref.fif) does not conform to MNE naming conventions. All raw files should end with raw.fif, raw_sss.fif, raw_tsss.fif, _meg.fif, _eeg.fif, _ieeg.fif, raw.fif.gz, raw_sss.fif.gz, raw_tsss.fif.gz, _meg.fif.gz, _eeg.fif.gz or _ieeg.fif.gz\n",
      "  raw.save(f\"{date}/{to_export}_2_channels_reref.fif\", picks=['Fp1-Cz', 'Pz-O2'])\n"
     ]
    },
    {
     "name": "stdout",
     "output_type": "stream",
     "text": [
      "Closing /media/maligan/My Passport/msc_thesis/data/tuh_abnormal_data/eval/abnormal/101/00010157/s001_2013_02_12/00010157_s001_t000_2_channels_reref.fif\n",
      "[done]\n",
      "[]\n",
      "Extracting EDF parameters from /media/maligan/My Passport/msc_thesis/data/tuh_abnormal_data/eval/abnormal/103/00010340/s001_2013_05_23/00010340_s001_t000.edf...\n",
      "EDF file detected\n",
      "Setting channel info structure...\n",
      "Creating raw.info structure...\n",
      "Renaming to standard 10-20 alphabetic channels ...\n",
      "Creating RawArray with float64 data, n_channels=2, n_times=389750\n",
      "    Range : 0 ... 389749 =      0.000 ...  1558.996 secs\n",
      "Ready.\n",
      "Writing /media/maligan/My Passport/msc_thesis/data/tuh_abnormal_data/eval/abnormal/103/00010340/s001_2013_05_23/00010340_s001_t000_2_channels_reref.fif\n"
     ]
    },
    {
     "name": "stderr",
     "output_type": "stream",
     "text": [
      "<ipython-input-26-4527fc4b8426>:47: RuntimeWarning: This filename (/media/maligan/My Passport/msc_thesis/data/tuh_abnormal_data/eval/abnormal/103/00010340/s001_2013_05_23/00010340_s001_t000_2_channels_reref.fif) does not conform to MNE naming conventions. All raw files should end with raw.fif, raw_sss.fif, raw_tsss.fif, _meg.fif, _eeg.fif, _ieeg.fif, raw.fif.gz, raw_sss.fif.gz, raw_tsss.fif.gz, _meg.fif.gz, _eeg.fif.gz or _ieeg.fif.gz\n",
      "  raw.save(f\"{date}/{to_export}_2_channels_reref.fif\", picks=['Fp1-Cz', 'Pz-O2'])\n"
     ]
    },
    {
     "name": "stdout",
     "output_type": "stream",
     "text": [
      "Closing /media/maligan/My Passport/msc_thesis/data/tuh_abnormal_data/eval/abnormal/103/00010340/s001_2013_05_23/00010340_s001_t000_2_channels_reref.fif\n",
      "[done]\n",
      "[]\n",
      "Extracting EDF parameters from /media/maligan/My Passport/msc_thesis/data/tuh_abnormal_data/eval/abnormal/104/00010423/s001_2013_06_17/00010423_s001_t001.edf...\n",
      "EDF file detected\n",
      "Setting channel info structure...\n",
      "Creating raw.info structure...\n",
      "Renaming to standard 10-20 alphabetic channels ...\n",
      "Creating RawArray with float64 data, n_channels=2, n_times=267250\n",
      "    Range : 0 ... 267249 =      0.000 ...  1068.996 secs\n",
      "Ready.\n",
      "Writing /media/maligan/My Passport/msc_thesis/data/tuh_abnormal_data/eval/abnormal/104/00010423/s001_2013_06_17/00010423_s001_t001_2_channels_reref.fif\n"
     ]
    },
    {
     "name": "stderr",
     "output_type": "stream",
     "text": [
      "<ipython-input-26-4527fc4b8426>:47: RuntimeWarning: This filename (/media/maligan/My Passport/msc_thesis/data/tuh_abnormal_data/eval/abnormal/104/00010423/s001_2013_06_17/00010423_s001_t001_2_channels_reref.fif) does not conform to MNE naming conventions. All raw files should end with raw.fif, raw_sss.fif, raw_tsss.fif, _meg.fif, _eeg.fif, _ieeg.fif, raw.fif.gz, raw_sss.fif.gz, raw_tsss.fif.gz, _meg.fif.gz, _eeg.fif.gz or _ieeg.fif.gz\n",
      "  raw.save(f\"{date}/{to_export}_2_channels_reref.fif\", picks=['Fp1-Cz', 'Pz-O2'])\n"
     ]
    },
    {
     "name": "stdout",
     "output_type": "stream",
     "text": [
      "Closing /media/maligan/My Passport/msc_thesis/data/tuh_abnormal_data/eval/abnormal/104/00010423/s001_2013_06_17/00010423_s001_t001_2_channels_reref.fif\n",
      "[done]\n",
      "[]\n",
      "Extracting EDF parameters from /media/maligan/My Passport/msc_thesis/data/tuh_abnormal_data/eval/abnormal/104/00010450/s001_2013_06_19/00010450_s001_t001.edf...\n",
      "EDF file detected\n",
      "Setting channel info structure...\n",
      "Creating raw.info structure...\n",
      "Renaming to standard 10-20 alphabetic channels ...\n",
      "Creating RawArray with float64 data, n_channels=2, n_times=257280\n",
      "    Range : 0 ... 257279 =      0.000 ...  1004.996 secs\n",
      "Ready.\n",
      "Writing /media/maligan/My Passport/msc_thesis/data/tuh_abnormal_data/eval/abnormal/104/00010450/s001_2013_06_19/00010450_s001_t001_2_channels_reref.fif\n"
     ]
    },
    {
     "name": "stderr",
     "output_type": "stream",
     "text": [
      "<ipython-input-26-4527fc4b8426>:47: RuntimeWarning: This filename (/media/maligan/My Passport/msc_thesis/data/tuh_abnormal_data/eval/abnormal/104/00010450/s001_2013_06_19/00010450_s001_t001_2_channels_reref.fif) does not conform to MNE naming conventions. All raw files should end with raw.fif, raw_sss.fif, raw_tsss.fif, _meg.fif, _eeg.fif, _ieeg.fif, raw.fif.gz, raw_sss.fif.gz, raw_tsss.fif.gz, _meg.fif.gz, _eeg.fif.gz or _ieeg.fif.gz\n",
      "  raw.save(f\"{date}/{to_export}_2_channels_reref.fif\", picks=['Fp1-Cz', 'Pz-O2'])\n"
     ]
    },
    {
     "name": "stdout",
     "output_type": "stream",
     "text": [
      "Closing /media/maligan/My Passport/msc_thesis/data/tuh_abnormal_data/eval/abnormal/104/00010450/s001_2013_06_19/00010450_s001_t001_2_channels_reref.fif\n",
      "[done]\n",
      "[]\n",
      "Extracting EDF parameters from /media/maligan/My Passport/msc_thesis/data/tuh_abnormal_data/eval/abnormal/104/00010453/s002_2013_07_24/00010453_s002_t001.edf...\n",
      "EDF file detected\n",
      "Setting channel info structure...\n",
      "Creating raw.info structure...\n",
      "Renaming to standard 10-20 alphabetic channels ...\n",
      "Creating RawArray with float64 data, n_channels=2, n_times=327000\n",
      "    Range : 0 ... 326999 =      0.000 ...  1307.996 secs\n",
      "Ready.\n",
      "Writing /media/maligan/My Passport/msc_thesis/data/tuh_abnormal_data/eval/abnormal/104/00010453/s002_2013_07_24/00010453_s002_t001_2_channels_reref.fif\n"
     ]
    },
    {
     "name": "stderr",
     "output_type": "stream",
     "text": [
      "<ipython-input-26-4527fc4b8426>:47: RuntimeWarning: This filename (/media/maligan/My Passport/msc_thesis/data/tuh_abnormal_data/eval/abnormal/104/00010453/s002_2013_07_24/00010453_s002_t001_2_channels_reref.fif) does not conform to MNE naming conventions. All raw files should end with raw.fif, raw_sss.fif, raw_tsss.fif, _meg.fif, _eeg.fif, _ieeg.fif, raw.fif.gz, raw_sss.fif.gz, raw_tsss.fif.gz, _meg.fif.gz, _eeg.fif.gz or _ieeg.fif.gz\n",
      "  raw.save(f\"{date}/{to_export}_2_channels_reref.fif\", picks=['Fp1-Cz', 'Pz-O2'])\n"
     ]
    },
    {
     "name": "stdout",
     "output_type": "stream",
     "text": [
      "Closing /media/maligan/My Passport/msc_thesis/data/tuh_abnormal_data/eval/abnormal/104/00010453/s002_2013_07_24/00010453_s002_t001_2_channels_reref.fif\n",
      "[done]\n",
      "[]\n",
      "Extracting EDF parameters from /media/maligan/My Passport/msc_thesis/data/tuh_abnormal_data/eval/abnormal/104/00010467/s001_2013_06_27/00010467_s001_t000.edf...\n",
      "EDF file detected\n",
      "Setting channel info structure...\n",
      "Creating raw.info structure...\n",
      "Renaming to standard 10-20 alphabetic channels ...\n",
      "Creating RawArray with float64 data, n_channels=2, n_times=381250\n",
      "    Range : 0 ... 381249 =      0.000 ...  1524.996 secs\n",
      "Ready.\n",
      "Writing /media/maligan/My Passport/msc_thesis/data/tuh_abnormal_data/eval/abnormal/104/00010467/s001_2013_06_27/00010467_s001_t000_2_channels_reref.fif\n"
     ]
    },
    {
     "name": "stderr",
     "output_type": "stream",
     "text": [
      "<ipython-input-26-4527fc4b8426>:47: RuntimeWarning: This filename (/media/maligan/My Passport/msc_thesis/data/tuh_abnormal_data/eval/abnormal/104/00010467/s001_2013_06_27/00010467_s001_t000_2_channels_reref.fif) does not conform to MNE naming conventions. All raw files should end with raw.fif, raw_sss.fif, raw_tsss.fif, _meg.fif, _eeg.fif, _ieeg.fif, raw.fif.gz, raw_sss.fif.gz, raw_tsss.fif.gz, _meg.fif.gz, _eeg.fif.gz or _ieeg.fif.gz\n",
      "  raw.save(f\"{date}/{to_export}_2_channels_reref.fif\", picks=['Fp1-Cz', 'Pz-O2'])\n"
     ]
    },
    {
     "name": "stdout",
     "output_type": "stream",
     "text": [
      "Closing /media/maligan/My Passport/msc_thesis/data/tuh_abnormal_data/eval/abnormal/104/00010467/s001_2013_06_27/00010467_s001_t000_2_channels_reref.fif\n",
      "[done]\n",
      "[]\n",
      "Extracting EDF parameters from /media/maligan/My Passport/msc_thesis/data/tuh_abnormal_data/eval/abnormal/104/00010495/s001_2013_07_12/00010495_s001_t000.edf...\n",
      "EDF file detected\n",
      "Setting channel info structure...\n",
      "Creating raw.info structure...\n",
      "Renaming to standard 10-20 alphabetic channels ...\n",
      "Creating RawArray with float64 data, n_channels=2, n_times=493500\n",
      "    Range : 0 ... 493499 =      0.000 ...  1973.996 secs\n",
      "Ready.\n",
      "Writing /media/maligan/My Passport/msc_thesis/data/tuh_abnormal_data/eval/abnormal/104/00010495/s001_2013_07_12/00010495_s001_t000_2_channels_reref.fif\n"
     ]
    },
    {
     "name": "stderr",
     "output_type": "stream",
     "text": [
      "<ipython-input-26-4527fc4b8426>:47: RuntimeWarning: This filename (/media/maligan/My Passport/msc_thesis/data/tuh_abnormal_data/eval/abnormal/104/00010495/s001_2013_07_12/00010495_s001_t000_2_channels_reref.fif) does not conform to MNE naming conventions. All raw files should end with raw.fif, raw_sss.fif, raw_tsss.fif, _meg.fif, _eeg.fif, _ieeg.fif, raw.fif.gz, raw_sss.fif.gz, raw_tsss.fif.gz, _meg.fif.gz, _eeg.fif.gz or _ieeg.fif.gz\n",
      "  raw.save(f\"{date}/{to_export}_2_channels_reref.fif\", picks=['Fp1-Cz', 'Pz-O2'])\n"
     ]
    },
    {
     "name": "stdout",
     "output_type": "stream",
     "text": [
      "Closing /media/maligan/My Passport/msc_thesis/data/tuh_abnormal_data/eval/abnormal/104/00010495/s001_2013_07_12/00010495_s001_t000_2_channels_reref.fif\n",
      "[done]\n",
      "[]\n",
      "Extracting EDF parameters from /media/maligan/My Passport/msc_thesis/data/tuh_abnormal_data/eval/abnormal/105/00010506/s001_2013_07_01/00010506_s001_t000.edf...\n",
      "EDF file detected\n",
      "Setting channel info structure...\n",
      "Creating raw.info structure...\n",
      "Renaming to standard 10-20 alphabetic channels ...\n",
      "Creating RawArray with float64 data, n_channels=2, n_times=315500\n",
      "    Range : 0 ... 315499 =      0.000 ...  1261.996 secs\n",
      "Ready.\n",
      "Writing /media/maligan/My Passport/msc_thesis/data/tuh_abnormal_data/eval/abnormal/105/00010506/s001_2013_07_01/00010506_s001_t000_2_channels_reref.fif\n"
     ]
    },
    {
     "name": "stderr",
     "output_type": "stream",
     "text": [
      "<ipython-input-26-4527fc4b8426>:47: RuntimeWarning: This filename (/media/maligan/My Passport/msc_thesis/data/tuh_abnormal_data/eval/abnormal/105/00010506/s001_2013_07_01/00010506_s001_t000_2_channels_reref.fif) does not conform to MNE naming conventions. All raw files should end with raw.fif, raw_sss.fif, raw_tsss.fif, _meg.fif, _eeg.fif, _ieeg.fif, raw.fif.gz, raw_sss.fif.gz, raw_tsss.fif.gz, _meg.fif.gz, _eeg.fif.gz or _ieeg.fif.gz\n",
      "  raw.save(f\"{date}/{to_export}_2_channels_reref.fif\", picks=['Fp1-Cz', 'Pz-O2'])\n"
     ]
    },
    {
     "name": "stdout",
     "output_type": "stream",
     "text": [
      "Closing /media/maligan/My Passport/msc_thesis/data/tuh_abnormal_data/eval/abnormal/105/00010506/s001_2013_07_01/00010506_s001_t000_2_channels_reref.fif\n",
      "[done]\n",
      "[]\n",
      "Extracting EDF parameters from /media/maligan/My Passport/msc_thesis/data/tuh_abnormal_data/eval/abnormal/105/00010559/s001_2013_07_27/00010559_s001_t000.edf...\n",
      "EDF file detected\n",
      "Setting channel info structure...\n",
      "Creating raw.info structure...\n",
      "Renaming to standard 10-20 alphabetic channels ...\n",
      "Creating RawArray with float64 data, n_channels=2, n_times=331000\n",
      "    Range : 0 ... 330999 =      0.000 ...  1323.996 secs\n",
      "Ready.\n",
      "Writing /media/maligan/My Passport/msc_thesis/data/tuh_abnormal_data/eval/abnormal/105/00010559/s001_2013_07_27/00010559_s001_t000_2_channels_reref.fif\n"
     ]
    },
    {
     "name": "stderr",
     "output_type": "stream",
     "text": [
      "<ipython-input-26-4527fc4b8426>:47: RuntimeWarning: This filename (/media/maligan/My Passport/msc_thesis/data/tuh_abnormal_data/eval/abnormal/105/00010559/s001_2013_07_27/00010559_s001_t000_2_channels_reref.fif) does not conform to MNE naming conventions. All raw files should end with raw.fif, raw_sss.fif, raw_tsss.fif, _meg.fif, _eeg.fif, _ieeg.fif, raw.fif.gz, raw_sss.fif.gz, raw_tsss.fif.gz, _meg.fif.gz, _eeg.fif.gz or _ieeg.fif.gz\n",
      "  raw.save(f\"{date}/{to_export}_2_channels_reref.fif\", picks=['Fp1-Cz', 'Pz-O2'])\n"
     ]
    },
    {
     "name": "stdout",
     "output_type": "stream",
     "text": [
      "Closing /media/maligan/My Passport/msc_thesis/data/tuh_abnormal_data/eval/abnormal/105/00010559/s001_2013_07_27/00010559_s001_t000_2_channels_reref.fif\n",
      "[done]\n",
      "[]\n",
      "Extracting EDF parameters from /media/maligan/My Passport/msc_thesis/data/tuh_abnormal_data/eval/abnormal/106/00010634/s001_2013_08_16/00010634_s001_t000.edf...\n",
      "EDF file detected\n",
      "Setting channel info structure...\n",
      "Creating raw.info structure...\n",
      "Renaming to standard 10-20 alphabetic channels ...\n",
      "Creating RawArray with float64 data, n_channels=2, n_times=366336\n",
      "    Range : 0 ... 366335 =      0.000 ...  1430.996 secs\n",
      "Ready.\n",
      "Writing /media/maligan/My Passport/msc_thesis/data/tuh_abnormal_data/eval/abnormal/106/00010634/s001_2013_08_16/00010634_s001_t000_2_channels_reref.fif\n"
     ]
    },
    {
     "name": "stderr",
     "output_type": "stream",
     "text": [
      "<ipython-input-26-4527fc4b8426>:47: RuntimeWarning: This filename (/media/maligan/My Passport/msc_thesis/data/tuh_abnormal_data/eval/abnormal/106/00010634/s001_2013_08_16/00010634_s001_t000_2_channels_reref.fif) does not conform to MNE naming conventions. All raw files should end with raw.fif, raw_sss.fif, raw_tsss.fif, _meg.fif, _eeg.fif, _ieeg.fif, raw.fif.gz, raw_sss.fif.gz, raw_tsss.fif.gz, _meg.fif.gz, _eeg.fif.gz or _ieeg.fif.gz\n",
      "  raw.save(f\"{date}/{to_export}_2_channels_reref.fif\", picks=['Fp1-Cz', 'Pz-O2'])\n"
     ]
    },
    {
     "name": "stdout",
     "output_type": "stream",
     "text": [
      "Closing /media/maligan/My Passport/msc_thesis/data/tuh_abnormal_data/eval/abnormal/106/00010634/s001_2013_08_16/00010634_s001_t000_2_channels_reref.fif\n",
      "[done]\n",
      "[]\n",
      "Extracting EDF parameters from /media/maligan/My Passport/msc_thesis/data/tuh_abnormal_data/eval/abnormal/106/00010641/s001_2013_08_23/00010641_s001_t000.edf...\n",
      "EDF file detected\n",
      "Setting channel info structure...\n",
      "Creating raw.info structure...\n",
      "Renaming to standard 10-20 alphabetic channels ...\n",
      "Creating RawArray with float64 data, n_channels=2, n_times=310016\n",
      "    Range : 0 ... 310015 =      0.000 ...  1210.996 secs\n",
      "Ready.\n",
      "Writing /media/maligan/My Passport/msc_thesis/data/tuh_abnormal_data/eval/abnormal/106/00010641/s001_2013_08_23/00010641_s001_t000_2_channels_reref.fif\n"
     ]
    },
    {
     "name": "stderr",
     "output_type": "stream",
     "text": [
      "<ipython-input-26-4527fc4b8426>:47: RuntimeWarning: This filename (/media/maligan/My Passport/msc_thesis/data/tuh_abnormal_data/eval/abnormal/106/00010641/s001_2013_08_23/00010641_s001_t000_2_channels_reref.fif) does not conform to MNE naming conventions. All raw files should end with raw.fif, raw_sss.fif, raw_tsss.fif, _meg.fif, _eeg.fif, _ieeg.fif, raw.fif.gz, raw_sss.fif.gz, raw_tsss.fif.gz, _meg.fif.gz, _eeg.fif.gz or _ieeg.fif.gz\n",
      "  raw.save(f\"{date}/{to_export}_2_channels_reref.fif\", picks=['Fp1-Cz', 'Pz-O2'])\n"
     ]
    },
    {
     "name": "stdout",
     "output_type": "stream",
     "text": [
      "Closing /media/maligan/My Passport/msc_thesis/data/tuh_abnormal_data/eval/abnormal/106/00010641/s001_2013_08_23/00010641_s001_t000_2_channels_reref.fif\n",
      "[done]\n",
      "[]\n",
      "Extracting EDF parameters from /media/maligan/My Passport/msc_thesis/data/tuh_abnormal_data/eval/abnormal/107/00010708/s001_2013_08_31/00010708_s001_t001.edf...\n",
      "EDF file detected\n",
      "Setting channel info structure...\n",
      "Creating raw.info structure...\n",
      "Renaming to standard 10-20 alphabetic channels ...\n",
      "Creating RawArray with float64 data, n_channels=2, n_times=314500\n",
      "    Range : 0 ... 314499 =      0.000 ...  1257.996 secs\n",
      "Ready.\n",
      "Writing /media/maligan/My Passport/msc_thesis/data/tuh_abnormal_data/eval/abnormal/107/00010708/s001_2013_08_31/00010708_s001_t001_2_channels_reref.fif\n"
     ]
    },
    {
     "name": "stderr",
     "output_type": "stream",
     "text": [
      "<ipython-input-26-4527fc4b8426>:47: RuntimeWarning: This filename (/media/maligan/My Passport/msc_thesis/data/tuh_abnormal_data/eval/abnormal/107/00010708/s001_2013_08_31/00010708_s001_t001_2_channels_reref.fif) does not conform to MNE naming conventions. All raw files should end with raw.fif, raw_sss.fif, raw_tsss.fif, _meg.fif, _eeg.fif, _ieeg.fif, raw.fif.gz, raw_sss.fif.gz, raw_tsss.fif.gz, _meg.fif.gz, _eeg.fif.gz or _ieeg.fif.gz\n",
      "  raw.save(f\"{date}/{to_export}_2_channels_reref.fif\", picks=['Fp1-Cz', 'Pz-O2'])\n"
     ]
    },
    {
     "name": "stdout",
     "output_type": "stream",
     "text": [
      "Closing /media/maligan/My Passport/msc_thesis/data/tuh_abnormal_data/eval/abnormal/107/00010708/s001_2013_08_31/00010708_s001_t001_2_channels_reref.fif\n",
      "[done]\n",
      "[]\n",
      "Extracting EDF parameters from /media/maligan/My Passport/msc_thesis/data/tuh_abnormal_data/eval/abnormal/107/00010710/s001_2013_09_09/00010710_s001_t000.edf...\n",
      "EDF file detected\n",
      "Setting channel info structure...\n",
      "Creating raw.info structure...\n",
      "Renaming to standard 10-20 alphabetic channels ...\n",
      "Creating RawArray with float64 data, n_channels=2, n_times=330500\n",
      "    Range : 0 ... 330499 =      0.000 ...  1321.996 secs\n",
      "Ready.\n",
      "Writing /media/maligan/My Passport/msc_thesis/data/tuh_abnormal_data/eval/abnormal/107/00010710/s001_2013_09_09/00010710_s001_t000_2_channels_reref.fif\n"
     ]
    },
    {
     "name": "stderr",
     "output_type": "stream",
     "text": [
      "<ipython-input-26-4527fc4b8426>:47: RuntimeWarning: This filename (/media/maligan/My Passport/msc_thesis/data/tuh_abnormal_data/eval/abnormal/107/00010710/s001_2013_09_09/00010710_s001_t000_2_channels_reref.fif) does not conform to MNE naming conventions. All raw files should end with raw.fif, raw_sss.fif, raw_tsss.fif, _meg.fif, _eeg.fif, _ieeg.fif, raw.fif.gz, raw_sss.fif.gz, raw_tsss.fif.gz, _meg.fif.gz, _eeg.fif.gz or _ieeg.fif.gz\n",
      "  raw.save(f\"{date}/{to_export}_2_channels_reref.fif\", picks=['Fp1-Cz', 'Pz-O2'])\n"
     ]
    },
    {
     "name": "stdout",
     "output_type": "stream",
     "text": [
      "Closing /media/maligan/My Passport/msc_thesis/data/tuh_abnormal_data/eval/abnormal/107/00010710/s001_2013_09_09/00010710_s001_t000_2_channels_reref.fif\n",
      "[done]\n",
      "[]\n",
      "Extracting EDF parameters from /media/maligan/My Passport/msc_thesis/data/tuh_abnormal_data/eval/abnormal/107/00010726/s001_2013_09_12/00010726_s001_t001.edf...\n",
      "EDF file detected\n",
      "Setting channel info structure...\n",
      "Creating raw.info structure...\n",
      "Renaming to standard 10-20 alphabetic channels ...\n",
      "Creating RawArray with float64 data, n_channels=2, n_times=370750\n",
      "    Range : 0 ... 370749 =      0.000 ...  1482.996 secs\n",
      "Ready.\n",
      "Writing /media/maligan/My Passport/msc_thesis/data/tuh_abnormal_data/eval/abnormal/107/00010726/s001_2013_09_12/00010726_s001_t001_2_channels_reref.fif\n"
     ]
    },
    {
     "name": "stderr",
     "output_type": "stream",
     "text": [
      "<ipython-input-26-4527fc4b8426>:47: RuntimeWarning: This filename (/media/maligan/My Passport/msc_thesis/data/tuh_abnormal_data/eval/abnormal/107/00010726/s001_2013_09_12/00010726_s001_t001_2_channels_reref.fif) does not conform to MNE naming conventions. All raw files should end with raw.fif, raw_sss.fif, raw_tsss.fif, _meg.fif, _eeg.fif, _ieeg.fif, raw.fif.gz, raw_sss.fif.gz, raw_tsss.fif.gz, _meg.fif.gz, _eeg.fif.gz or _ieeg.fif.gz\n",
      "  raw.save(f\"{date}/{to_export}_2_channels_reref.fif\", picks=['Fp1-Cz', 'Pz-O2'])\n"
     ]
    },
    {
     "name": "stdout",
     "output_type": "stream",
     "text": [
      "Closing /media/maligan/My Passport/msc_thesis/data/tuh_abnormal_data/eval/abnormal/107/00010726/s001_2013_09_12/00010726_s001_t001_2_channels_reref.fif\n",
      "[done]\n",
      "[]\n",
      "Extracting EDF parameters from /media/maligan/My Passport/msc_thesis/data/tuh_abnormal_data/eval/abnormal/107/00010782/s001_2013_10_04/00010782_s001_t001.edf...\n",
      "EDF file detected\n",
      "Setting channel info structure...\n",
      "Creating raw.info structure...\n",
      "Renaming to standard 10-20 alphabetic channels ...\n",
      "Creating RawArray with float64 data, n_channels=2, n_times=308000\n",
      "    Range : 0 ... 307999 =      0.000 ...  1231.996 secs\n",
      "Ready.\n",
      "Writing /media/maligan/My Passport/msc_thesis/data/tuh_abnormal_data/eval/abnormal/107/00010782/s001_2013_10_04/00010782_s001_t001_2_channels_reref.fif\n"
     ]
    },
    {
     "name": "stderr",
     "output_type": "stream",
     "text": [
      "<ipython-input-26-4527fc4b8426>:47: RuntimeWarning: This filename (/media/maligan/My Passport/msc_thesis/data/tuh_abnormal_data/eval/abnormal/107/00010782/s001_2013_10_04/00010782_s001_t001_2_channels_reref.fif) does not conform to MNE naming conventions. All raw files should end with raw.fif, raw_sss.fif, raw_tsss.fif, _meg.fif, _eeg.fif, _ieeg.fif, raw.fif.gz, raw_sss.fif.gz, raw_tsss.fif.gz, _meg.fif.gz, _eeg.fif.gz or _ieeg.fif.gz\n",
      "  raw.save(f\"{date}/{to_export}_2_channels_reref.fif\", picks=['Fp1-Cz', 'Pz-O2'])\n"
     ]
    },
    {
     "name": "stdout",
     "output_type": "stream",
     "text": [
      "Closing /media/maligan/My Passport/msc_thesis/data/tuh_abnormal_data/eval/abnormal/107/00010782/s001_2013_10_04/00010782_s001_t001_2_channels_reref.fif\n",
      "[done]\n",
      "[]\n",
      "Extracting EDF parameters from /media/maligan/My Passport/msc_thesis/data/tuh_abnormal_data/eval/abnormal/107/00010782/s002_2013_10_05/00010782_s002_t001.edf...\n",
      "EDF file detected\n",
      "Setting channel info structure...\n",
      "Creating raw.info structure...\n",
      "Renaming to standard 10-20 alphabetic channels ...\n",
      "Creating RawArray with float64 data, n_channels=2, n_times=321792\n",
      "    Range : 0 ... 321791 =      0.000 ...  1256.996 secs\n",
      "Ready.\n",
      "Writing /media/maligan/My Passport/msc_thesis/data/tuh_abnormal_data/eval/abnormal/107/00010782/s002_2013_10_05/00010782_s002_t001_2_channels_reref.fif\n"
     ]
    },
    {
     "name": "stderr",
     "output_type": "stream",
     "text": [
      "<ipython-input-26-4527fc4b8426>:47: RuntimeWarning: This filename (/media/maligan/My Passport/msc_thesis/data/tuh_abnormal_data/eval/abnormal/107/00010782/s002_2013_10_05/00010782_s002_t001_2_channels_reref.fif) does not conform to MNE naming conventions. All raw files should end with raw.fif, raw_sss.fif, raw_tsss.fif, _meg.fif, _eeg.fif, _ieeg.fif, raw.fif.gz, raw_sss.fif.gz, raw_tsss.fif.gz, _meg.fif.gz, _eeg.fif.gz or _ieeg.fif.gz\n",
      "  raw.save(f\"{date}/{to_export}_2_channels_reref.fif\", picks=['Fp1-Cz', 'Pz-O2'])\n"
     ]
    },
    {
     "name": "stdout",
     "output_type": "stream",
     "text": [
      "Closing /media/maligan/My Passport/msc_thesis/data/tuh_abnormal_data/eval/abnormal/107/00010782/s002_2013_10_05/00010782_s002_t001_2_channels_reref.fif\n",
      "[done]\n",
      "[]\n"
     ]
    },
    {
     "ename": "TypeError",
     "evalue": "list indices must be integers or slices, not str",
     "output_type": "error",
     "traceback": [
      "\u001b[0;31m---------------------------------------------------------------------------\u001b[0m",
      "\u001b[0;31mTypeError\u001b[0m                                 Traceback (most recent call last)",
      "\u001b[0;32m<ipython-input-26-4527fc4b8426>\u001b[0m in \u001b[0;36m<module>\u001b[0;34m\u001b[0m\n\u001b[1;32m     55\u001b[0m             \u001b[0mrecordings\u001b[0m\u001b[0;34m[\u001b[0m\u001b[0mhf\u001b[0m\u001b[0;34m.\u001b[0m\u001b[0mget_id\u001b[0m\u001b[0;34m(\u001b[0m\u001b[0mrecording\u001b[0m\u001b[0;34m)\u001b[0m\u001b[0;34m]\u001b[0m \u001b[0;34m=\u001b[0m \u001b[0mdates\u001b[0m\u001b[0;34m\u001b[0m\u001b[0;34m\u001b[0m\u001b[0m\n\u001b[1;32m     56\u001b[0m         \u001b[0msubjects\u001b[0m\u001b[0;34m[\u001b[0m\u001b[0mhf\u001b[0m\u001b[0;34m.\u001b[0m\u001b[0mget_id\u001b[0m\u001b[0;34m(\u001b[0m\u001b[0msubject\u001b[0m\u001b[0;34m)\u001b[0m\u001b[0;34m]\u001b[0m \u001b[0;34m=\u001b[0m \u001b[0mrecordings\u001b[0m\u001b[0;34m\u001b[0m\u001b[0;34m\u001b[0m\u001b[0m\n\u001b[0;32m---> 57\u001b[0;31m     \u001b[0mannotations\u001b[0m\u001b[0;34m[\u001b[0m\u001b[0mhf\u001b[0m\u001b[0;34m.\u001b[0m\u001b[0mget_id\u001b[0m\u001b[0;34m(\u001b[0m\u001b[0mannotation\u001b[0m\u001b[0;34m)\u001b[0m\u001b[0;34m]\u001b[0m \u001b[0;34m=\u001b[0m \u001b[0msubjects\u001b[0m\u001b[0;34m\u001b[0m\u001b[0;34m\u001b[0m\u001b[0m\n\u001b[0m",
      "\u001b[0;31mTypeError\u001b[0m: list indices must be integers or slices, not str"
     ]
    }
   ],
   "source": [
    "\n",
    "data_dir = '/media/maligan/My Passport/msc_thesis/data/tuh_abnormal_data/eval/'\n",
    "\n",
    "files = []\n",
    "descriptions = []\n",
    "error = []\n",
    "\n",
    "annotations = {}\n",
    "for annotation in hf.get_file_list(data_dir):\n",
    "    subjects = {}\n",
    "    for subject in hf.get_file_list(annotation):\n",
    "        recordings = {}\n",
    "        for recording in hf.get_file_list(subject):\n",
    "            dates = {}\n",
    "            for date in hf.get_file_list(recording):\n",
    "                for raw_path in hf.get_file_list(date):\n",
    "                    _path = hf.get_id(raw_path)\n",
    "                    # print(hf.get_id(raw_path))\n",
    "                    annotations = []\n",
    "                    # if '.rec' in hf.get_id(raw_path) and not '.rec_orig' in hf.get_id(raw_path):\n",
    "                        # annotation file\n",
    "                        # print(f'Getting ANNOTATIONS from: {raw_path}')\n",
    "                        # annotations = get_tuar_annotations(raw_path)\n",
    "                        # print(annotations)\n",
    "                    if '.edf' in _path and not '.fif' in _path:\n",
    "                        # raw file\n",
    "                        # print(f'Getting RAW EDF from: {raw_path}')\n",
    "                        raw = mne.io.read_raw_edf(raw_path)\n",
    "                        raw = create_eeg_montage(raw)\n",
    "                        data = rereference_channels(raw)\n",
    "                        \n",
    "                        info = mne.create_info([MONTAGE_MAP[0], MONTAGE_MAP[21]], ch_types=['eeg']*2, sfreq=raw.info['sfreq'])\n",
    "                        raw = mne.io.RawArray(data, info)\n",
    "\n",
    "                        _raw_path = _path\n",
    "                    \n",
    "                    if annotations:\n",
    "                        # transpose annotation list\n",
    "                        annots = list(zip(*annotations))\n",
    "                        # calculate durations\n",
    "                        # print(durations)\n",
    "                        durations = np.array(annots[2]).astype(float) - np.array(annots[1]).astype(float)\n",
    "                        # set annotations per channel\n",
    "                        raw = raw.set_annotations(mne.Annotations(onset=annots[1], duration=durations, description=annots[3], ch_names=[[x] for x in annots[0]]))\n",
    "\n",
    "                to_export = _raw_path.split('.')[0].split('/')[-1]\n",
    "                try:\n",
    "                    raw.save(f\"{date}/{to_export}_2_channels_reref.fif\", picks=['Fp1-Cz', 'Pz-O2'])\n",
    "                except:\n",
    "                    error.append(to_export)\n",
    "\n",
    "                pp.pprint(error)\n",
    "\n",
    "                descriptions += [{'subject': subject, 'recording': recording, 'date': date}]\n",
    "                dates[hf.get_id(date)] = raw\n",
    "            recordings[hf.get_id(recording)] = dates\n",
    "        subjects[hf.get_id(subject)] = recordings\n",
    "    annotations[hf.get_id(annotation)] = subjects\n"
   ]
  },
  {
   "cell_type": "code",
   "execution_count": null,
   "metadata": {},
   "outputs": [],
   "source": []
  },
  {
   "cell_type": "code",
   "execution_count": 232,
   "metadata": {},
   "outputs": [
    {
     "name": "stdout",
     "output_type": "stream",
     "text": [
      "Extracting EDF parameters from /media/maligan/My Passport/msc_thesis/data/tuar/v2.1.0/edf/01_tcp_ar/107/00010748/s001_2013_09_19/00010748_s001_t000.edf...\n",
      "EDF file detected\n",
      "Setting channel info structure...\n",
      "Creating raw.info structure...\n",
      "Renaming to standard 10-20 alphabetic channels ...\n",
      "Creating RawArray with float64 data, n_channels=2, n_times=370500\n",
      "    Range : 0 ... 370499 =      0.000 ...  1481.996 secs\n",
      "Ready.\n"
     ]
    }
   ],
   "source": [
    "# # TUAR sample\n",
    "# raw_folder = './data/sample_TUAR/s005_2010_11_15/'\n",
    "# edf_f = '00000254_s005_t000.edf'\n",
    "# annot_txt = '00000254_s005_t000.rec'\n",
    "\n",
    "# raw_path = raw_folder + edf_f\n",
    "\n",
    "# files = []\n",
    "\n",
    "# for raw_path in hf.get_file_list(date):\n",
    "#     if '.rec' in hf.get_id(raw_path) and not '.rec_orig' in hf.get_id(raw_path):\n",
    "#         # annotation file\n",
    "#         annotations = get_tuar_annotations(raw_path)\n",
    "#     if '.edf' in hf.get_id(raw_path):\n",
    "#         # raw file\n",
    "#         raw = mne.io.read_raw_edf(raw_path)\n",
    "#         raw = create_eeg_montage(raw)\n",
    "#         data = rereference_channels(raw)\n",
    "        \n",
    "#         info = mne.create_info([MONTAGE_MAP[0], MONTAGE_MAP[21]], ch_types=['eeg']*2, sfreq=raw.info['sfreq'])\n",
    "#         raw = mne.io.RawArray(data, info)\n",
    "\n",
    "#         # transpose annotation list\n",
    "#         annots = list(zip(*annotations))\n",
    "#         # calculate durations\n",
    "#         durations = np.array(annots[2]).astype(float) - np.array(annots[1]).astype(float)\n",
    "#         # set annotations per channel\n",
    "#         raw = raw.set_annotations(mne.Annotations(onset=annots[1], duration=durations, description=annots[3], ch_names=[[x] for x in annots[0]]))\n",
    "\n",
    "\n",
    "# files += [raw, annotations]"
   ]
  },
  {
   "cell_type": "markdown",
   "metadata": {},
   "source": []
  },
  {
   "cell_type": "code",
   "execution_count": 279,
   "metadata": {},
   "outputs": [
    {
     "data": {
      "text/plain": [
       "'/media/maligan/My Passport/msc_thesis/data/tuar/v2.1.0/edf/01_tcp_ar/107/00010748/s001_2013_09_19/00010748_s001_t000.rec_orig'"
      ]
     },
     "execution_count": 279,
     "metadata": {},
     "output_type": "execute_result"
    }
   ],
   "source": [
    "# hf.get_file_list(data_dir)\n",
    "# hf.get_file_list(subject)\n",
    "# hf.get_file_list(recording)\n",
    "hf.get_file_list(date)\n",
    "raw_path"
   ]
  },
  {
   "cell_type": "code",
   "execution_count": 314,
   "metadata": {},
   "outputs": [
    {
     "ename": "FileNotFoundError",
     "evalue": "[Errno 2] No such file or directory: '/media/maligan/My Passport/msc_thesis/data/tuar/v2_1_0/processed/'",
     "output_type": "error",
     "traceback": [
      "\u001b[0;31m---------------------------------------------------------------------------\u001b[0m",
      "\u001b[0;31mFileNotFoundError\u001b[0m                         Traceback (most recent call last)",
      "\u001b[0;32m<ipython-input-314-fcfb0a79007d>\u001b[0m in \u001b[0;36m<module>\u001b[0;34m\u001b[0m\n\u001b[1;32m      1\u001b[0m \u001b[0mdir_path\u001b[0m \u001b[0;34m=\u001b[0m \u001b[0;34m'/media/maligan/My Passport/msc_thesis/data/tuar/v2_1_0/processed/'\u001b[0m\u001b[0;34m\u001b[0m\u001b[0;34m\u001b[0m\u001b[0m\n\u001b[1;32m      2\u001b[0m \u001b[0;34m\u001b[0m\u001b[0m\n\u001b[0;32m----> 3\u001b[0;31m \u001b[0mfiles\u001b[0m \u001b[0;34m=\u001b[0m \u001b[0mhf\u001b[0m\u001b[0;34m.\u001b[0m\u001b[0mget_file_list\u001b[0m\u001b[0;34m(\u001b[0m\u001b[0mdir_path\u001b[0m\u001b[0;34m)\u001b[0m\u001b[0;34m\u001b[0m\u001b[0;34m\u001b[0m\u001b[0m\n\u001b[0m\u001b[1;32m      4\u001b[0m \u001b[0mdataset\u001b[0m \u001b[0;34m=\u001b[0m \u001b[0;34m[\u001b[0m\u001b[0;34m]\u001b[0m\u001b[0;34m\u001b[0m\u001b[0;34m\u001b[0m\u001b[0m\n\u001b[1;32m      5\u001b[0m \u001b[0mdescriptions\u001b[0m \u001b[0;34m=\u001b[0m \u001b[0;34m[\u001b[0m\u001b[0;34m]\u001b[0m\u001b[0;34m\u001b[0m\u001b[0;34m\u001b[0m\u001b[0m\n",
      "\u001b[0;32m~/Documents/VU/Year_2/M.Sc._Thesis_[X_400285]/my_thesis/code/ssl_thesis/helper_funcs.py\u001b[0m in \u001b[0;36mget_file_list\u001b[0;34m(x)\u001b[0m\n\u001b[1;32m     58\u001b[0m     \u001b[0;31m# helper functions for loading TUH abnormal raw files from hierarchy\u001b[0m\u001b[0;34m\u001b[0m\u001b[0;34m\u001b[0m\u001b[0;34m\u001b[0m\u001b[0m\n\u001b[1;32m     59\u001b[0m     \u001b[0;32mdef\u001b[0m \u001b[0mget_file_list\u001b[0m\u001b[0;34m(\u001b[0m\u001b[0mx\u001b[0m\u001b[0;34m)\u001b[0m\u001b[0;34m:\u001b[0m\u001b[0;34m\u001b[0m\u001b[0;34m\u001b[0m\u001b[0m\n\u001b[0;32m---> 60\u001b[0;31m         \u001b[0;32mreturn\u001b[0m \u001b[0;34m[\u001b[0m\u001b[0mos\u001b[0m\u001b[0;34m.\u001b[0m\u001b[0mpath\u001b[0m\u001b[0;34m.\u001b[0m\u001b[0mjoin\u001b[0m\u001b[0;34m(\u001b[0m\u001b[0mx\u001b[0m\u001b[0;34m,\u001b[0m \u001b[0mfname\u001b[0m\u001b[0;34m)\u001b[0m \u001b[0;32mfor\u001b[0m \u001b[0mfname\u001b[0m \u001b[0;32min\u001b[0m \u001b[0mos\u001b[0m\u001b[0;34m.\u001b[0m\u001b[0mlistdir\u001b[0m\u001b[0;34m(\u001b[0m\u001b[0mx\u001b[0m\u001b[0;34m)\u001b[0m\u001b[0;34m]\u001b[0m\u001b[0;34m\u001b[0m\u001b[0;34m\u001b[0m\u001b[0m\n\u001b[0m\u001b[1;32m     61\u001b[0m     \u001b[0;32mdef\u001b[0m \u001b[0mget_id\u001b[0m\u001b[0;34m(\u001b[0m\u001b[0mx\u001b[0m\u001b[0;34m)\u001b[0m\u001b[0;34m:\u001b[0m\u001b[0;34m\u001b[0m\u001b[0;34m\u001b[0m\u001b[0m\n\u001b[1;32m     62\u001b[0m         \u001b[0;32mreturn\u001b[0m \u001b[0mx\u001b[0m\u001b[0;34m.\u001b[0m\u001b[0msplit\u001b[0m\u001b[0;34m(\u001b[0m\u001b[0;34m'/'\u001b[0m\u001b[0;34m)\u001b[0m\u001b[0;34m[\u001b[0m\u001b[0;34m-\u001b[0m\u001b[0;36m1\u001b[0m\u001b[0;34m]\u001b[0m\u001b[0;34m\u001b[0m\u001b[0;34m\u001b[0m\u001b[0m\n",
      "\u001b[0;31mFileNotFoundError\u001b[0m: [Errno 2] No such file or directory: '/media/maligan/My Passport/msc_thesis/data/tuar/v2_1_0/processed/'"
     ]
    }
   ],
   "source": [
    "\n",
    "dir_path = '/media/maligan/My Passport/msc_thesis/data/tuar/v2_1_0/processed/'\n",
    "\n",
    "files = hf.get_file_list(dir_path)\n",
    "dataset = []\n",
    "descriptions = []\n",
    "\n",
    "for i, f in enumerate(files):\n",
    "    dataset += [mne.io.read_raw_fif(f)]\n",
    "    descriptions += [{'subject': i}]\n"
   ]
  },
  {
   "cell_type": "code",
   "execution_count": null,
   "metadata": {},
   "outputs": [],
   "source": [
    "annotations = []\n",
    "\n",
    "for f in files:\n",
    "    for annot in mne.io.read_raw_fif(f).annotations:\n",
    "        annotations += [annot['description']]\n",
    "    \n",
    "# mne.io.read_raw_fif(files[0])._annotations[0]['description']"
   ]
  },
  {
   "cell_type": "code",
   "execution_count": 329,
   "metadata": {},
   "outputs": [
    {
     "data": {
      "text/plain": [
       "array(['bckg', 'chew', 'chew_elec', 'chew_musc', 'elec', 'eyem',\n",
       "       'eyem_chew', 'eyem_elec', 'eyem_musc', 'eyem_shiv', 'musc',\n",
       "       'musc_elec', 'shiv'], dtype='<U9')"
      ]
     },
     "execution_count": 329,
     "metadata": {},
     "output_type": "execute_result"
    }
   ],
   "source": [
    "np.unique(annotations)"
   ]
  },
  {
   "cell_type": "code",
   "execution_count": 9,
   "metadata": {},
   "outputs": [
    {
     "name": "stdout",
     "output_type": "stream",
     "text": [
      "Opening raw data file /media/maligan/My Passport/msc_thesis/data/tuh_abnormal_data/eval_2channels/00000768_s003_t000_2_channels.fif...\n",
      "Isotrak not found\n",
      "    Range : 0 ... 304249 =      0.000 ...  1216.996 secs\n",
      "Ready.\n"
     ]
    },
    {
     "name": "stderr",
     "output_type": "stream",
     "text": [
      "<ipython-input-9-9e22150894e4>:1: RuntimeWarning: This filename (/media/maligan/My Passport/msc_thesis/data/tuh_abnormal_data/eval_2channels/00000768_s003_t000_2_channels.fif) does not conform to MNE naming conventions. All raw files should end with raw.fif, raw_sss.fif, raw_tsss.fif, _meg.fif, _eeg.fif, _ieeg.fif, raw.fif.gz, raw_sss.fif.gz, raw_tsss.fif.gz, _meg.fif.gz, _eeg.fif.gz or _ieeg.fif.gz\n",
      "  raw = mne.io.read_raw_fif('/media/maligan/My Passport/msc_thesis/data/tuh_abnormal_data/eval_2channels/00000768_s003_t000_2_channels.fif')\n"
     ]
    }
   ],
   "source": [
    "raw = mne.io.read_raw_fif('/media/maligan/My Passport/msc_thesis/data/tuh_abnormal_data/eval_2channels/00000768_s003_t000_2_channels.fif')"
   ]
  },
  {
   "cell_type": "code",
   "execution_count": 11,
   "metadata": {},
   "outputs": [
    {
     "data": {
      "text/plain": [
       "['Fp1-Cz', 'Pz-O2']"
      ]
     },
     "execution_count": 11,
     "metadata": {},
     "output_type": "execute_result"
    }
   ],
   "source": [
    "raw.ch_names"
   ]
  }
 ],
 "metadata": {
  "interpreter": {
   "hash": "916dbcbb3f70747c44a77c7bcd40155683ae19c65e1c03b4aa3499c5328201f1"
  },
  "kernelspec": {
   "display_name": "Python 3.8.10 64-bit",
   "language": "python",
   "name": "python3"
  },
  "language_info": {
   "codemirror_mode": {
    "name": "ipython",
    "version": 3
   },
   "file_extension": ".py",
   "mimetype": "text/x-python",
   "name": "python",
   "nbconvert_exporter": "python",
   "pygments_lexer": "ipython3",
   "version": "3.8.10"
  },
  "orig_nbformat": 4
 },
 "nbformat": 4,
 "nbformat_minor": 2
}
