{
 "cells": [
  {
   "cell_type": "code",
   "execution_count": 1,
   "metadata": {},
   "outputs": [],
   "source": [
    "import mne\n",
    "import sys\n",
    "import os\n",
    "import importlib\n",
    "\n",
    "from braindecode.preprocessing.preprocess import preprocess, Preprocessor, zscore\n",
    "from braindecode.datasets import (create_from_mne_raw, create_from_mne_epochs)\n",
    "from braindecode.preprocessing.windowers import create_windows_from_events\n",
    "from braindecode.datasets.sleep_physionet import SleepPhysionet\n",
    "from braindecode.datasets import BaseDataset, BaseConcatDataset, WindowsDataset\n",
    "from mne_extras import write_edf\n",
    "\n",
    "from plot import Plot\n",
    "from segment import Segmenter\n",
    "\n",
    "import matplotlib.pyplot as plt\n",
    "\n",
    "from mat73 import loadmat\n",
    "from tqdm import tqdm\n",
    "\n",
    "import pprint\n",
    "\n",
    "pp = pprint.PrettyPrinter(indent=2)\n"
   ]
  },
  {
   "cell_type": "code",
   "execution_count": null,
   "metadata": {},
   "outputs": [],
   "source": [
    "# data_dir = '/media/maligan/My Passport/msc_thesis/ssl_thesis/data/'\n",
    "data_dir = '/media/maligan/My Passport/msc_thesis/ssl_thesis/data/tuh_abnormal_data/eval/'"
   ]
  },
  {
   "cell_type": "code",
   "execution_count": null,
   "metadata": {},
   "outputs": [],
   "source": [
    "files = [os.path.join(data_dir, fname) for fname in os.listdir(data_dir)]\n",
    "# subject_files = [os.path.join(files[0], fname) for fname in os.listdir(files[0])]\n",
    "# recordings = [os.path.join(subjects[0], fname) for fname in os.listdir(subjects[0])]"
   ]
  },
  {
   "cell_type": "code",
   "execution_count": null,
   "metadata": {},
   "outputs": [],
   "source": [
    "files"
   ]
  },
  {
   "cell_type": "code",
   "execution_count": null,
   "metadata": {},
   "outputs": [],
   "source": [
    "def get_file_list(x):\n",
    "    return [os.path.join(x, fname) for fname in os.listdir(x)]\n",
    "\n",
    "def get_id(x):\n",
    "    return x.split('/')[-1]"
   ]
  },
  {
   "cell_type": "code",
   "execution_count": null,
   "metadata": {},
   "outputs": [],
   "source": [
    "annotations = {}\n",
    "for annotation in get_file_list(data_dir):\n",
    "    subjects = {}\n",
    "    for subject in get_file_list(annotation):\n",
    "        recordings = {}\n",
    "        for recording in get_file_list(subject):\n",
    "            dates = {}\n",
    "            for date in get_file_list(recording):\n",
    "                for raw_path in get_file_list(date):\n",
    "                    if '.edf' in get_id(raw_path):\n",
    "                        break\n",
    "                    else:\n",
    "                        pass\n",
    "                dates[get_id(date)] = raw_path\n",
    "            recordings[get_id(recording)] = dates\n",
    "        subjects[get_id(subject)] = recordings\n",
    "    annotations[get_id(annotation)] = subjects\n",
    "\n",
    "\n",
    "\n",
    "pp.pprint(annotations)\n"
   ]
  },
  {
   "cell_type": "code",
   "execution_count": null,
   "metadata": {},
   "outputs": [],
   "source": []
  },
  {
   "cell_type": "code",
   "execution_count": null,
   "metadata": {},
   "outputs": [],
   "source": [
    "import pandas as pd\n",
    "\n",
    "df = pd.json_normalize(annotations, sep='_').T\n",
    "\n",
    "# paths list\n",
    "raw_paths = [df.iloc[i][0] for i in range(len(df))]\n",
    "\n",
    "# define abnormal and normal subjects\n",
    "abnormal_subjects = annotations['abnormal'].keys()\n",
    "normal_subjects = annotations['normal'].keys()\n",
    "\n",
    "# define descriptions (recoding per subject)\n",
    "abnormal_descriptions, normal_descriptions, classification = [], [], []\n",
    "for id in abnormal_subjects:\n",
    "    for recording in annotations['abnormal'][id].values():\n",
    "        for x in recording.keys():\n",
    "            abnormal_descriptions += [{'subject': id, 'recording': x}]\n",
    "            classification += ['abnormal']\n",
    "for id in normal_subjects:\n",
    "    for recording in annotations['normal'][id].values():\n",
    "        for x in recording.keys():\n",
    "            normal_descriptions += [{'subject': id, 'recording': x}]\n",
    "            classification += ['normal']\n",
    "\n",
    "descriptions = abnormal_descriptions + normal_descriptions"
   ]
  },
  {
   "cell_type": "code",
   "execution_count": null,
   "metadata": {},
   "outputs": [],
   "source": [
    "from sklearn.utils import shuffle\n",
    "raw_paths, descriptions, classification = shuffle(raw_paths, descriptions, classification)"
   ]
  },
  {
   "cell_type": "code",
   "execution_count": null,
   "metadata": {},
   "outputs": [],
   "source": [
    "# [print(id) for id in abnormal_subjects ]\n",
    "# [print(x) for x in annotations['abnormal']['072']]\n",
    "\n",
    "# len(descriptions)\n",
    "# len(raw_paths)\n",
    "# len(classification)\n"
   ]
  },
  {
   "cell_type": "code",
   "execution_count": null,
   "metadata": {},
   "outputs": [],
   "source": [
    "\n",
    "raw = mne.io.read_raw_edf('/media/maligan/My Passport/msc_thesis/ssl_thesis/data/tuh_abnormal_data/eval/abnormal/007/00000768/s003_2012_04_06/00000768_s003_t000.edf')"
   ]
  },
  {
   "cell_type": "code",
   "execution_count": null,
   "metadata": {},
   "outputs": [],
   "source": [
    "sfreq = 100\n",
    "high_cut_hz = 30\n",
    "low_cut_hz = 0.5\n",
    "n_jobs = 1\n",
    "\n",
    "# preprocessing\n",
    "# for raw in raws:\n",
    "mne.io.Raw.resample(raw, sfreq)   # resample\n",
    "mne.io.Raw.filter(raw, l_freq=low_cut_hz, h_freq=high_cut_hz, n_jobs=n_jobs)    # high-pass filter"
   ]
  },
  {
   "cell_type": "code",
   "execution_count": null,
   "metadata": {},
   "outputs": [],
   "source": [
    "raw = raw.set_annotations(mne.Annotations(onset=[0], duration=raw.times.max(), description=['abnormal']))"
   ]
  },
  {
   "cell_type": "code",
   "execution_count": null,
   "metadata": {},
   "outputs": [],
   "source": [
    "ssl_sample = mne.io.read_raw_edf('/media/maligan/My Passport/msc_thesis/ssl_thesis/data/sleep_staging_sample/SC4012E0-PSG.edf')\n",
    "ssl_sample"
   ]
  },
  {
   "cell_type": "code",
   "execution_count": null,
   "metadata": {},
   "outputs": [],
   "source": []
  },
  {
   "cell_type": "code",
   "execution_count": null,
   "metadata": {},
   "outputs": [],
   "source": [
    "\n",
    "# load data and set annotations\n",
    "dataset = []\n",
    "for i, path in enumerate(raw_paths):\n",
    "    # classification = 'abnormal' if  else 'normal'\n",
    "    print(df.iloc[i].name.split('_')[0])\n",
    "    \n",
    "    # raw = mne.io.read_raw_fif(path)\n",
    "    # raw = raw.set_annotations(mne.Annotations(onset=[0], duration=raw.times.max(), description=['abnormal']))\n",
    "    # dataset.append(raw)\n"
   ]
  },
  {
   "cell_type": "code",
   "execution_count": null,
   "metadata": {},
   "outputs": [],
   "source": [
    "raw = annotations['abnormal']['021']['00002118']['s006_2013_08_16']\n",
    "raw = mne.io.read_raw_edf(raw)\n",
    "# raw.ch_names"
   ]
  },
  {
   "cell_type": "code",
   "execution_count": null,
   "metadata": {},
   "outputs": [],
   "source": [
    "import pandas as pd\n",
    "\n",
    "df = pd.json_normalize(annotations, sep='_').T\n",
    "df"
   ]
  },
  {
   "cell_type": "code",
   "execution_count": null,
   "metadata": {},
   "outputs": [],
   "source": [
    "# read, pick channels, save loop\n",
    "for i in tqdm(range(len(df))):\n",
    "    file = df.iloc[i][0]\n",
    "    raw = mne.io.read_raw_edf(file)\n",
    "    to_export = f\"{file.split('/')[-1].split('.')[0]}\"\n",
    "    raw.save(f\"{file}_2_channels.fif\", picks=['EEG FZ-REF', 'EEG PZ-REF'], overwrite=True)\n"
   ]
  },
  {
   "cell_type": "code",
   "execution_count": null,
   "metadata": {},
   "outputs": [],
   "source": [
    "# shuffle two arrays the same way\n",
    "\n",
    "import random\n",
    "\n",
    "desc\n",
    "\n",
    "random.seed(90)\n",
    "random.shuffle(descriptions)\n",
    "# reset the same seed to get the identical random sequence and shuffle the y\n",
    "# random.seed(seed)\n",
    "random.shuffle(y_data)"
   ]
  },
  {
   "cell_type": "code",
   "execution_count": null,
   "metadata": {},
   "outputs": [],
   "source": [
    "pp.pprint(len(normal_descriptions+abnormal_descriptions))\n",
    "pp.pprint(len(raw_paths))"
   ]
  },
  {
   "cell_type": "code",
   "execution_count": null,
   "metadata": {},
   "outputs": [],
   "source": [
    "# read, pick channels, save loop\n",
    "for file in tqdm(files):\n",
    "    raw = mne.io.read_raw_edf('{file}')\n",
    "    to_export = f\"{file.split('/')[-1]}\"\n",
    "    raw.save(f\"{data_dir}../eval_2_channels/{to_export}\", picks=['Fpz', 'Pz'], overwrite=True)\n"
   ]
  },
  {
   "cell_type": "code",
   "execution_count": null,
   "metadata": {},
   "outputs": [],
   "source": [
    "data = mat73.loadmat('data/scopolamine/mats/CHDR0511.S2044.10MAY06_0942.O01M01.mat')\n",
    "biomRegName = loadmat('data/scopolamine/biomRegName.mat')\n",
    "classification = loadmat('data/scopolamine/ClassificationStatObj.mat')\n",
    "dataMatrix = loadmat('data/scopolamine/DataMatrixScp1Scp5.mat')\n",
    "mAChRindex = loadmat('data/scopolamine/mAChRindex.mat')\n",
    "outcome = loadmat('data/scopolamine/Outcome.mat')"
   ]
  },
  {
   "cell_type": "code",
   "execution_count": null,
   "metadata": {},
   "outputs": [],
   "source": [
    "data['RawSignal']"
   ]
  },
  {
   "cell_type": "code",
   "execution_count": null,
   "metadata": {},
   "outputs": [],
   "source": [
    "mne.io.RawArray(data['RawSignal'], mne.create_info(['Fz-Cz', 'Pz-Oz', '3','4','5','6'], 100))"
   ]
  },
  {
   "cell_type": "code",
   "execution_count": null,
   "metadata": {},
   "outputs": [],
   "source": [
    "\n",
    "print('LOADING BCI DATA')\n",
    "\n",
    "''' ANNOTATIONS\n",
    "T0 corresponds to rest\n",
    "T1 corresponds to onset of motion (real or imagined) of\n",
    "    the left fist (in runs 3, 4, 7, 8, 11, and 12)\n",
    "    both fists (in runs 5, 6, 9, 10, 13, and 14)\n",
    "T2 corresponds to onset of motion (real or imagined) of\n",
    "    the right fist (in runs 3, 4, 7, 8, 11, and 12)\n",
    "    both feet (in runs 5, 6, 9, 10, 13, and 14)\n",
    "'''\n",
    "\n",
    "subject_size = [1,10]\n",
    "subjects = range(subject_size[0], subject_size[1]) # max 110\n",
    "event_codes = [\n",
    "    1, 2, # eyes open, eyes closed (baselines)\n",
    "    3, 4, 5,\n",
    "    6, 7, 8, 9, \n",
    "    10, 11, 12, 13, 14\n",
    "]\n",
    "\n",
    "physionet_paths, descriptions = [], []\n",
    "\n",
    "for subject_id in subjects:\n",
    "    physionet_paths += [mne.datasets.eegbci.load_data(subject_id, event_codes, update_path=False)]\n",
    "    descriptions += [{\"event_code\": code, \"subject\": subject_id} for code in event_codes]\n"
   ]
  },
  {
   "cell_type": "code",
   "execution_count": null,
   "metadata": {},
   "outputs": [],
   "source": [
    "# raw_set = [\n",
    "#     '/home/maligan/mne_data/physionet-sleep-data/SC4012E0-PSG.edf',\n",
    "#     '/home/maligan/mne_data/physionet-sleep-data/SC4451F0-PSG.edf',\n",
    "#     '/home/maligan/mne_data/physionet-sleep-data/SC4441E0-PSG.edf',\n",
    "#     '/home/maligan/mne_data/physionet-sleep-data/SC4431E0-PSG.edf',\n",
    "#     '/home/maligan/mne_data/physionet-sleep-data/SC4421E0-PSG.edf',\n",
    "# ]\n",
    "\n",
    "# space_bambi directory\n",
    "data_dir = './data/SPACE_BAMBI_2channels/'\n",
    "raw_set = [\n",
    "    f'{data_dir}SPACE.S175.yyyymmdd.EORASD_raw.fif',\n",
    "    f'{data_dir}SPACE.S170.yyyymmdd.EORASD_raw.fif'\n",
    "]\n",
    "\n",
    "print(raw_set)\n",
    "\n",
    "# load into raw array\n",
    "raws = [mne.io.read_raw_fif(x, preload=True) for x in raw_set]"
   ]
  },
  {
   "cell_type": "code",
   "execution_count": null,
   "metadata": {},
   "outputs": [],
   "source": [
    "# space_bambi directory\n",
    "data_dir = './data/SPACE_BAMBI_2channels/'\n",
    "\n",
    "raws = []\n",
    "\n",
    "print(f'{len(os.listdir(data_dir))} files found')\n",
    "for i, path in enumerate(os.listdir(data_dir)):\n",
    "    if i == 5:\n",
    "        break\n",
    "    full_path = os.path.join(data_dir, path)\n",
    "    raws.append(mne.io.read_raw_fif(full_path, preload=True))"
   ]
  },
  {
   "cell_type": "code",
   "execution_count": null,
   "metadata": {},
   "outputs": [],
   "source": [
    "# import pandas as pd\n",
    "# descriptions = []\n",
    "\n",
    "# for id, raw in enumerate(raws):\n",
    "#     descriptions += [{\n",
    "#         id: {\n",
    "#         \"onset\": annot['onset'], \n",
    "#         \"duration\": annot['duration'], \n",
    "#         \"description\": annot['description'], \n",
    "#         \"orig_time\": annot['orig_time']\n",
    "#         }\n",
    "#     } for annot in raw.annotations]"
   ]
  },
  {
   "cell_type": "code",
   "execution_count": null,
   "metadata": {},
   "outputs": [],
   "source": [
    "descriptions = []\n",
    "\n",
    "for subject_id, raw in enumerate(raws):\n",
    "    descriptions += [{\"subject\": subject_id}]"
   ]
  },
  {
   "cell_type": "code",
   "execution_count": null,
   "metadata": {},
   "outputs": [],
   "source": [
    "descriptions[0]"
   ]
  },
  {
   "cell_type": "code",
   "execution_count": null,
   "metadata": {},
   "outputs": [],
   "source": [
    "raws[0].ch_names"
   ]
  },
  {
   "cell_type": "code",
   "execution_count": null,
   "metadata": {},
   "outputs": [],
   "source": [
    "\n",
    "event_codes = [\n",
    "    1, 2, # eyes open, eyes closed (baselines)\n",
    "    3, 4, 5,\n",
    "    6, 7, 8, 9, \n",
    "    10, 11, 12, 13, 14\n",
    "]\n",
    "\n",
    "physionet_paths, descriptions = [], []\n",
    "\n",
    "for subject_id in subjects:\n",
    "    physionet_paths += [mne.datasets.eegbci.load_data(subject_id, event_codes, update_path=False)]\n",
    "    descriptions += [{\"event_code\": code, \"subject\": subject_id} for code in event_codes]\n"
   ]
  },
  {
   "cell_type": "code",
   "execution_count": null,
   "metadata": {},
   "outputs": [],
   "source": [
    "descriptions"
   ]
  },
  {
   "cell_type": "code",
   "execution_count": null,
   "metadata": {},
   "outputs": [],
   "source": [
    "### preprocess\n",
    "# resample to 160Hz\n",
    "# high pass filtering of 30Hz\n",
    "\n",
    "sfreq = 160\n",
    "high_cut_hz = 30\n",
    "n_jobs = 2\n",
    "\n",
    "for raw in raws:\n",
    "    mne.io.Raw.resample(raw, sfreq, n_jobs=n_jobs) # resample all files\n",
    "    mne.io.Raw.filter(raw, l_freq=None, h_freq=high_cut_hz, n_jobs=n_jobs) # high-pass filter"
   ]
  },
  {
   "cell_type": "code",
   "execution_count": null,
   "metadata": {},
   "outputs": [],
   "source": [
    "base_datasets = [BaseDataset(raw) for raw in raws]\n",
    "base_concat_datasets = BaseConcatDataset(base_datasets)"
   ]
  },
  {
   "cell_type": "code",
   "execution_count": null,
   "metadata": {},
   "outputs": [],
   "source": [
    "base_concat_datasets"
   ]
  },
  {
   "cell_type": "code",
   "execution_count": null,
   "metadata": {},
   "outputs": [],
   "source": [
    "window_size_samples = 100\n",
    "\n",
    "windows_dataset = create_from_mne_raw(\n",
    "    raws,\n",
    "    trial_start_offset_samples=0,\n",
    "    trial_stop_offset_samples=0,\n",
    "    window_size_samples=window_size_samples,\n",
    "    window_stride_samples=window_size_samples,\n",
    "    drop_last_window=True,\n",
    "    # descriptions=descriptions,\n",
    "    accepted_bads_ratio=0.5,\n",
    "    drop_bad_windows=True,\n",
    "    # mapping=mapping,\n",
    "    # preload=True,\n",
    "    on_missing='ignore'\n",
    ")\n"
   ]
  },
  {
   "cell_type": "code",
   "execution_count": null,
   "metadata": {},
   "outputs": [],
   "source": [
    "type(windows_dataset)"
   ]
  },
  {
   "cell_type": "code",
   "execution_count": null,
   "metadata": {},
   "outputs": [],
   "source": [
    "# z-score normalization\n",
    "\n",
    "preprocess(windows_dataset, Preprocessor(zscore))\n"
   ]
  },
  {
   "cell_type": "code",
   "execution_count": null,
   "metadata": {},
   "outputs": [],
   "source": [
    "path = '/home/maligan/Documents/VU/Year_2/M.Sc._Thesis_[X_400285]/my_thesis/code/ssl_thesis/data/SPACE_BAMBI_2channels/SPACE.S170.yyyymmdd.EORASD_raw.fif'\n",
    "\n",
    "raw = mne.io.read_raw_fif(path)\n",
    "raw"
   ]
  },
  {
   "cell_type": "code",
   "execution_count": null,
   "metadata": {},
   "outputs": [],
   "source": [
    "importlib.reload(sys.modules['segment'])"
   ]
  },
  {
   "cell_type": "code",
   "execution_count": null,
   "metadata": {},
   "outputs": [],
   "source": [
    "segmenter = Segmenter()\n",
    "raw = mne.io.read_raw_fif('/home/maligan/Documents/VU/Year_2/M.Sc._Thesis_[X_400285]/my_thesis/code/ssl_thesis/data/SPACE_BAMBI_2channels/SPACE.S175.yyyymmdd.EORASD_raw.fif')"
   ]
  },
  {
   "cell_type": "code",
   "execution_count": null,
   "metadata": {},
   "outputs": [],
   "source": [
    "mapped_segments = segmenter.segment(raw)"
   ]
  },
  {
   "cell_type": "code",
   "execution_count": null,
   "metadata": {},
   "outputs": [],
   "source": [
    "raw.info"
   ]
  },
  {
   "cell_type": "code",
   "execution_count": null,
   "metadata": {},
   "outputs": [],
   "source": [
    "raw.annotations"
   ]
  },
  {
   "cell_type": "code",
   "execution_count": null,
   "metadata": {},
   "outputs": [],
   "source": [
    "# Print results\n",
    "ids = [e[2] for e in mapped_segments.events]  # all ids\n",
    "idx_ignore = [id for id, id_ in enumerate(ids) if id_ == 2]  # ids of segments to ignore\n",
    "idx_artifacts = [id for id, id_ in enumerate(ids) if id_ == 0]  # ids of artifact segments\n",
    "idx_nonartifacts = [id for id, id_ in enumerate(ids) if id_ == 1]  # ids of nonartifact segments\n",
    "print('Number of artifact segments is {}'.format(len(idx_artifacts)))\n",
    "print('Number of non-artifact segments is {}'.format(len(idx_nonartifacts)))\n",
    "print('Number of segments to ignore is {}'.format(len(idx_ignore)))"
   ]
  },
  {
   "cell_type": "code",
   "execution_count": null,
   "metadata": {},
   "outputs": [],
   "source": [
    "import pathlib\n",
    "\n",
    "dir_path = \"/home/maligan/Documents/VU/Year_2/M.Sc._Thesis_[X_400285]/my_thesis/code/ssl_thesis/data/scopolamine/mats/raws/\"\n",
    "\n",
    "mats = os.listdir(dir_path)\n",
    "mats"
   ]
  },
  {
   "cell_type": "code",
   "execution_count": null,
   "metadata": {},
   "outputs": [],
   "source": [
    "from  mat73 import loadmat\n",
    "import mne\n",
    "\n",
    "raws = []\n",
    "info = mne.create_info(ch_names=['Fpz-cz', 'Pz-Oz'], ch_types=['eeg']*2, sfreq=1012)\n",
    "\n",
    "for mat in mats:\n",
    "    print(mat)\n",
    "    # select columns 3 and 4 (Fpz-Cz, and Pz-Oz respectively) and convert to microvolts\n",
    "    x = loadmat(dir_path + mat)['RawSignal'][:, [2,3]].T / 100000\n",
    "    raw = mne.io.RawArray(x, info)\n",
    "    raw = raw.set_annotations(mne.Annotations(onset=[0], duration=raw.times.max(), description=['scopolamine']))\n",
    "\n",
    "raws"
   ]
  },
  {
   "cell_type": "code",
   "execution_count": null,
   "metadata": {},
   "outputs": [],
   "source": [
    "info = mne.create_info(ch_names=['Fpz-cz', 'Pz-Oz'], ch_types=['eeg']*2, sfreq=1012)\n",
    "raw = mne.io.RawArray(dataset[0], info)\n",
    "# raw.plot()"
   ]
  },
  {
   "cell_type": "code",
   "execution_count": null,
   "metadata": {},
   "outputs": [],
   "source": [
    "from  mat73 import loadmat\n",
    "import mne\n",
    "\n",
    "print(':: loading SCOPOLAMINE data')\n",
    "\n",
    "scop_dir = '/home/maligan/Documents/VU/Year_2/M.Sc._Thesis_[X_400285]/my_thesis/code/ssl_thesis/data/scopolamine/mats/raws/'\n",
    "\n",
    "mats = os.listdir(scop_dir)\n",
    "\n",
    "scp_raws, scp_desc = [], []\n",
    "info = mne.create_info(ch_names=['Fpz-cz', 'Pz-Oz'], ch_types=['eeg']*2, sfreq=1012)\n",
    "\n",
    "# creating scopolamine raw data\n",
    "for i, mat in enumerate(mats):\n",
    "    print(mat)\n",
    "    # select columns 3 and 4 (Fpz-Cz, and Pz-Oz respectively) and convert to microvolts\n",
    "    x = loadmat(scop_dir + mat)['RawSignal'][:, [2,3]].T / 100000\n",
    "    raw = mne.io.RawArray(x, info)\n",
    "    scp_raws += [raw.set_annotations(mne.Annotations(onset=[0], duration=raw.times.max(), description=['scopolamine']))]\n",
    "    scp_desc += [{'subject': 1, 'recording': i}]\n",
    "\n",
    "# creating sample abnormal raw data\n",
    "# ----------------------------- TEMP -------------------------------------------------\n",
    "\n",
    "abn_dir = [\n",
    "    '/media/maligan/My Passport/msc_thesis/ssl_thesis/data/tuh_abnormal_data/eval/abnormal/007/00000768/s003_2012_04_06/00000768_s003_t000.edf_2_channels.fif',\n",
    "    '/media/maligan/My Passport/msc_thesis/ssl_thesis/data/tuh_abnormal_data/eval/abnormal/011/00001154/s007_2012_07_25/00001154_s007_t000.edf_2_channels.fif'\n",
    "]\n",
    "norm_dir = [\n",
    "    '/media/maligan/My Passport/msc_thesis/ssl_thesis/data/tuh_abnormal_data/eval/normal/006/00000647/s002_2009_09_21/00000647_s002_t000.edf_2_channels.fif',\n",
    "    '/media/maligan/My Passport/msc_thesis/ssl_thesis/data/tuh_abnormal_data/eval/normal/013/00001355/s003_2009_12_08/00001355_s003_t000.edf_2_channels.fif'\n",
    "]\n",
    "\n",
    "\n",
    "# only 1 rec per subject (temporary)\n",
    "def make_raws(_class, dataset=[], descriptions=[]):\n",
    "    for i, path in enumerate(abn_dir):\n",
    "        raw = mne.io.read_raw_fif(path)\n",
    "        raw = raw.set_annotations(mne.Annotations(onset=[0], duration=raw.times.max(), description=[_class]))\n",
    "        dataset.append(raw)\n",
    "        descriptions += [{'subject': len(descriptions)+1, 'recording': 1}]\n",
    "\n",
    "    return dataset, descriptions\n",
    "    \n",
    "dataset, descriptions = make_raws('abnormal')\n",
    "dataset, descriptions = make_raws('normal', dataset, descriptions)\n",
    "\n",
    "dataset += scp_raws\n",
    "descriptions += scp_desc\n",
    "\n",
    "# -----------------------------------------------------------------------------------\n",
    "\n",
    "for i, x in enumerate(dataset):\n",
    "    print(dataset[i], descriptions[i])\n",
    "\n"
   ]
  },
  {
   "cell_type": "code",
   "execution_count": null,
   "metadata": {},
   "outputs": [],
   "source": [
    "#  generate signal\n",
    "import numpy as np\n",
    "from matplotlib import pyplot as plt\n",
    "\n",
    "from mne import create_info, EpochsArray\n",
    "from mne.baseline import rescale\n",
    "from mne.time_frequency import (tfr_multitaper, tfr_stockwell, tfr_morlet,\n",
    "                                tfr_array_morlet)\n",
    "from mne.viz import centers_to_edges\n",
    "\n",
    "sfreq = 100.0\n",
    "ch_names = ['SIM0001', 'SIM0002']\n",
    "ch_types = ['eeg'] *2\n",
    "info = create_info(ch_names=ch_names, sfreq=sfreq, ch_types=ch_types)\n",
    "\n",
    "n_times = 1024  # Just over 1 second epochs\n",
    "n_epochs = 40\n",
    "seed = 42\n",
    "rng = np.random.RandomState(seed)\n",
    "noise = rng.randn(n_epochs, len(ch_names), n_times)\n",
    "\n",
    "# Add a 50 Hz sinusoidal burst to the noise and ramp it.\n",
    "t = np.arange(n_times, dtype=np.float64) / sfreq\n",
    "signal = np.sin(np.pi * 2. * 50. * t)  # 50 Hz sinusoid signal\n",
    "signal[np.logical_or(t < 0.45, t > 0.55)] = 0.  # Hard windowing\n",
    "on_time = np.logical_and(t >= 0.45, t <= 0.55)\n",
    "signal[on_time] *= np.hanning(on_time.sum())  # Ramping\n",
    "data = noise + signal\n",
    "\n",
    "reject = dict(eeg=4000)\n",
    "events = np.empty((n_epochs, 3), dtype=int)\n",
    "first_event_sample = 100\n",
    "event_id = dict(sin50hz=1)\n",
    "for k in range(n_epochs):\n",
    "    events[k, :] = first_event_sample + k * n_times, 0, event_id['sin50hz']\n",
    "\n",
    "epochs = EpochsArray(data=data, info=info, events=events, event_id=event_id,\n",
    "                     reject=reject)\n",
    "\n",
    "\n",
    "epochs.average().plot()\n"
   ]
  },
  {
   "cell_type": "code",
   "execution_count": null,
   "metadata": {},
   "outputs": [],
   "source": [
    "ch_names = ['SIM0001', 'SIM0002']\n",
    "ch_types = ['eeg'] *2\n",
    "sfreq = 100.0\n",
    "n_times = 1024\n",
    "\n",
    "info = mne.create_info(ch_names, sfreq, ch_types=['eeg'] *2)"
   ]
  },
  {
   "cell_type": "code",
   "execution_count": null,
   "metadata": {},
   "outputs": [],
   "source": [
    "raw.plot()\n",
    "\n"
   ]
  },
  {
   "cell_type": "code",
   "execution_count": null,
   "metadata": {},
   "outputs": [],
   "source": [
    "ch_names=['SIM0001', 'SIM0002']\n",
    "ch_types=['eeg']*2\n",
    "sfreq=100.0\n",
    "n_times=5000\n",
    "seed=42\n",
    "wave_hz=50.0\n",
    "stage='noise'\n",
    "\n",
    "rng = np.random.RandomState(seed)\n",
    "noise = rng.randn(len(ch_names), n_times)\n",
    "\n",
    "# Add a specified (50hz) sinusoidal burst to the noise and ramp it.\n",
    "t = np.arange(n_times, dtype=np.float64) / sfreq\n",
    "signal = np.sin(np.pi * 2. * wave_hz * t)  # wave_hz sinusoid signal\n",
    "signal[np.logical_or(t < wave_hz-0.5, t > wave_hz+0.5)] = 0.  # Hard windowing\n",
    "on_time = np.logical_and(t >= wave_hz-0.5, t <= wave_hz+0.5)\n",
    "signal[on_time] *= np.hanning(on_time.sum())  # Ramping\n",
    "data = noise + signal\n",
    "\n",
    "info = mne.create_info(ch_names, sfreq, ch_types)\n",
    "raw = mne.io.RawArray(data/100000, info)\n",
    "raw = raw.set_annotations(mne.Annotations(onset=[0], duration=raw.times.max(), description=[stage]))"
   ]
  },
  {
   "cell_type": "code",
   "execution_count": null,
   "metadata": {},
   "outputs": [],
   "source": [
    "points = raw[:][0][:][0]\n",
    "\n",
    "# %matplotlib inline\n",
    "\n",
    "fig, ax = plt.subplots(1,1)\n",
    "plt.hist(points)\n",
    "plt.show()"
   ]
  },
  {
   "cell_type": "code",
   "execution_count": null,
   "metadata": {},
   "outputs": [],
   "source": [
    "ch_names=['SIM0001', 'SIM0002']\n",
    "ch_types=['eeg']*2\n",
    "sfreq=100.0\n",
    "n_times=5000\n",
    "seed=42\n",
    "wave_hz=50.0\n",
    "stage='white_noise'\n",
    "bound=1\n",
    "\n",
    "noise = np.array([\n",
    "    np.random.uniform(wave_hz-bound, wave_hz+bound, size=n_times), \n",
    "    np.random.uniform(wave_hz-bound, wave_hz+bound, size=n_times)\n",
    "])\n",
    "\n",
    "# Add a specified (50hz) sinusoidal burst to the noise and ramp it.\n",
    "# t = np.arange(n_times, dtype=np.float64) / sfreq\n",
    "# signal = np.sin(np.pi * 2. * wave_hz * t)  # wave_hz sinusoid signal\n",
    "# signal[np.logical_or(t < wave_hz-0.5, t > wave_hz+0.5)] = 0.  # Hard windowing\n",
    "# on_time = np.logical_and(t >= wave_hz-0.5, t <= wave_hz+0.5)\n",
    "# signal[on_time] *= np.hanning(on_time.sum())  # Ramping\n",
    "# data = noise + signal\n",
    "\n",
    "info = mne.create_info(ch_names, sfreq, ch_types)\n",
    "white_noise = mne.io.RawArray(noise/100000, info)\n",
    "white_noise = white_noise.set_annotations(mne.Annotations(onset=[0], duration=raw.times.max(), description=[stage]))"
   ]
  },
  {
   "cell_type": "code",
   "execution_count": null,
   "metadata": {},
   "outputs": [],
   "source": [
    "white_noise.plot()"
   ]
  },
  {
   "cell_type": "code",
   "execution_count": null,
   "metadata": {},
   "outputs": [],
   "source": [
    "points = white_noise[:][0][:][0]\n",
    "\n",
    "# %matplotlib inline\n",
    "\n",
    "fig, ax = plt.subplots(1,1)\n",
    "plt.hist(points)\n",
    "plt.show()"
   ]
  },
  {
   "cell_type": "code",
   "execution_count": null,
   "metadata": {},
   "outputs": [],
   "source": [
    "white_noise[:][0][:][0]"
   ]
  },
  {
   "cell_type": "code",
   "execution_count": null,
   "metadata": {},
   "outputs": [],
   "source": [
    "from matplotlib import cm\n",
    "\n",
    "n_stages = 2 \n",
    "colors = cm.get_cmap('viridis', n_stages)(range(n_stages))"
   ]
  },
  {
   "cell_type": "code",
   "execution_count": null,
   "metadata": {},
   "outputs": [],
   "source": [
    "type(white_noise[0][0])"
   ]
  },
  {
   "cell_type": "code",
   "execution_count": null,
   "metadata": {},
   "outputs": [],
   "source": [
    "from obspy.signal.tf_misfit import plot_tfr\n",
    "import numpy as np"
   ]
  },
  {
   "cell_type": "code",
   "execution_count": null,
   "metadata": {},
   "outputs": [],
   "source": [
    "arr = np.random.randn(50)\n",
    "print(arr.shape, len(arr))\n",
    "print(np.max(arr), np.min(arr))"
   ]
  },
  {
   "cell_type": "code",
   "execution_count": null,
   "metadata": {},
   "outputs": [],
   "source": [
    "from mne.time_frequency import tfr_morlet\n",
    "\n",
    "tfr_morlet(arr)"
   ]
  },
  {
   "cell_type": "code",
   "execution_count": null,
   "metadata": {},
   "outputs": [],
   "source": [
    "import matplotlib.pyplot as plt\n",
    "from obspy import read\n",
    "\n",
    "st = read()\n",
    "tr = st[0]\n",
    "\n",
    "fig = plt.figure()\n",
    "ax = fig.add_subplot(1, 1, 1)\n",
    "ax.plot(tr.times(\"matplotlib\"), tr.data, \"b-\")\n",
    "ax.xaxis_date()\n",
    "fig.autofmt_xdate()\n",
    "plt.show()"
   ]
  },
  {
   "cell_type": "code",
   "execution_count": null,
   "metadata": {},
   "outputs": [],
   "source": [
    "%matplotlib\n",
    "\n",
    "fig, ax = plt.subplots(1,2)\n",
    "\n",
    "ax = plot_tfr(arr, dt=0.1, h_2=2, w_2=2, show=False)\n"
   ]
  },
  {
   "cell_type": "markdown",
   "metadata": {},
   "source": [
    "## TF plots for scopolamine - visual inspection"
   ]
  },
  {
   "cell_type": "code",
   "execution_count": null,
   "metadata": {},
   "outputs": [],
   "source": [
    "%matplotlib inline\n",
    "\n",
    "m01 = '/home/maligan/Documents/VU/Year_2/M.Sc._Thesis_[X_400285]/my_thesis/code/ssl_thesis/data/scopolamine/CHDR0507.S1001.06MAR06_0911.O04M01.mat'\n",
    "m05 = '/home/maligan/Documents/VU/Year_2/M.Sc._Thesis_[X_400285]/my_thesis/code/ssl_thesis/data/scopolamine/CHDR0507.S1001.06MAR06_1237.O04M05.mat'\n",
    "\n",
    "info = mne.create_info(ch_names=['Fpz-cz', 'Pz-Oz'], ch_types=['eeg']*2, sfreq=1012)"
   ]
  },
  {
   "cell_type": "code",
   "execution_count": null,
   "metadata": {},
   "outputs": [],
   "source": [
    "# scopolamine - M01\n",
    "m01_raw = mne.io.RawArray((loadmat(m01)['RawSignal'][:, [2,3]].T / 100000), info)\n",
    "m01_cropped = m01_raw.crop(0, 20)"
   ]
  },
  {
   "cell_type": "code",
   "execution_count": null,
   "metadata": {},
   "outputs": [],
   "source": [
    "raw = m01_raw\n",
    "\n",
    "raw.plot()"
   ]
  },
  {
   "cell_type": "code",
   "execution_count": null,
   "metadata": {},
   "outputs": [],
   "source": [
    "raw = raw.filter(l_freq=0.5, h_freq=30, n_jobs=1)\n",
    "raw = raw.resample(100)"
   ]
  },
  {
   "cell_type": "code",
   "execution_count": null,
   "metadata": {},
   "outputs": [],
   "source": [
    "raw.plot()"
   ]
  },
  {
   "cell_type": "code",
   "execution_count": null,
   "metadata": {},
   "outputs": [],
   "source": [
    "# scopolamine - M05\n",
    "m05_raw = mne.io.RawArray((loadmat(m05)['RawSignal'][:, [2,3]].T / 100000), info)\n",
    "m05_cropped = m05_raw.crop(0, 20)"
   ]
  },
  {
   "cell_type": "code",
   "execution_count": null,
   "metadata": {},
   "outputs": [],
   "source": [
    "# m05_cropped.plot()"
   ]
  },
  {
   "cell_type": "code",
   "execution_count": null,
   "metadata": {},
   "outputs": [],
   "source": [
    "# Fpz_Cz\n",
    "plot_tfr(m01_cropped[:][0][0], dt=0.1, h_2=2, w_2=2)\n",
    "plot_tfr(m05_cropped[:][0][0], dt=0.1, h_2=2, w_2=2)"
   ]
  },
  {
   "cell_type": "code",
   "execution_count": null,
   "metadata": {},
   "outputs": [],
   "source": [
    "# Pz_Oz\n",
    "\n",
    "fig, (ax1,ax2) = plt.subplots(1, 2)\n",
    "\n",
    "ax = plot_tfr(m01_cropped[:][0][1], dt=0.1, h_2=2, w_2=2, fmax=1, show=False)\n",
    "# plot_tfr(m05_cropped[:][0][1], dt=0.1, h_2=2, w_2=2, fmax=0.001)\n",
    "plt.show()"
   ]
  },
  {
   "cell_type": "markdown",
   "metadata": {},
   "source": [
    "## Logistic regression for fully-supervised data"
   ]
  },
  {
   "cell_type": "code",
   "execution_count": 143,
   "metadata": {},
   "outputs": [],
   "source": [
    "import matplotlib.pyplot as plt\n",
    "\n",
    "from sklearn.model_selection import train_test_split\n",
    "from sklearn.metrics import confusion_matrix\n",
    "from sklearn.metrics import classification_report\n",
    "from sklearn.metrics import balanced_accuracy_score\n",
    "from sklearn.linear_model import LogisticRegression\n",
    "from sklearn.preprocessing import StandardScaler\n",
    "from sklearn.pipeline import make_pipeline\n",
    "from sklearn.model_selection import train_test_split\n",
    "from sklearn.model_selection import learning_curve, validation_curve, cross_validate\n",
    "\n",
    "from sklearn.datasets import load_iris, load_breast_cancer\n",
    "\n",
    "import numpy as np"
   ]
  },
  {
   "cell_type": "code",
   "execution_count": 135,
   "metadata": {},
   "outputs": [],
   "source": [
    "\n",
    "pipeline = make_pipeline(\n",
    "    # StandardScaler(),\n",
    "    LogisticRegression(\n",
    "        penalty='l2', C=1.0, class_weight='balanced', solver='newton-cg',\n",
    "        multi_class='multinomial', random_state=42\n",
    "    )\n",
    ")"
   ]
  },
  {
   "cell_type": "code",
   "execution_count": 136,
   "metadata": {},
   "outputs": [],
   "source": [
    "X, y = load_breast_cancer(return_X_y=True, as_frame=True)"
   ]
  },
  {
   "cell_type": "code",
   "execution_count": 146,
   "metadata": {},
   "outputs": [
    {
     "name": "stderr",
     "output_type": "stream",
     "text": [
      "/home/maligan/.local/lib/python3.8/site-packages/sklearn/utils/optimize.py:211: ConvergenceWarning: newton-cg failed to converge. Increase the number of iterations.\n",
      "  warnings.warn(\"newton-cg failed to converge. Increase the \"\n",
      "/home/maligan/.local/lib/python3.8/site-packages/sklearn/utils/optimize.py:211: ConvergenceWarning: newton-cg failed to converge. Increase the number of iterations.\n",
      "  warnings.warn(\"newton-cg failed to converge. Increase the \"\n",
      "/home/maligan/.local/lib/python3.8/site-packages/sklearn/utils/optimize.py:211: ConvergenceWarning: newton-cg failed to converge. Increase the number of iterations.\n",
      "  warnings.warn(\"newton-cg failed to converge. Increase the \"\n",
      "/home/maligan/.local/lib/python3.8/site-packages/sklearn/utils/optimize.py:211: ConvergenceWarning: newton-cg failed to converge. Increase the number of iterations.\n",
      "  warnings.warn(\"newton-cg failed to converge. Increase the \"\n",
      "/home/maligan/.local/lib/python3.8/site-packages/sklearn/utils/optimize.py:211: ConvergenceWarning: newton-cg failed to converge. Increase the number of iterations.\n",
      "  warnings.warn(\"newton-cg failed to converge. Increase the \"\n",
      "/home/maligan/.local/lib/python3.8/site-packages/sklearn/utils/optimize.py:211: ConvergenceWarning: newton-cg failed to converge. Increase the number of iterations.\n",
      "  warnings.warn(\"newton-cg failed to converge. Increase the \"\n",
      "/home/maligan/.local/lib/python3.8/site-packages/sklearn/utils/optimize.py:211: ConvergenceWarning: newton-cg failed to converge. Increase the number of iterations.\n",
      "  warnings.warn(\"newton-cg failed to converge. Increase the \"\n",
      "/home/maligan/.local/lib/python3.8/site-packages/sklearn/utils/optimize.py:211: ConvergenceWarning: newton-cg failed to converge. Increase the number of iterations.\n",
      "  warnings.warn(\"newton-cg failed to converge. Increase the \"\n",
      "/home/maligan/.local/lib/python3.8/site-packages/sklearn/utils/optimize.py:211: ConvergenceWarning: newton-cg failed to converge. Increase the number of iterations.\n",
      "  warnings.warn(\"newton-cg failed to converge. Increase the \"\n",
      "/home/maligan/.local/lib/python3.8/site-packages/sklearn/utils/optimize.py:211: ConvergenceWarning: newton-cg failed to converge. Increase the number of iterations.\n",
      "  warnings.warn(\"newton-cg failed to converge. Increase the \"\n",
      "/home/maligan/.local/lib/python3.8/site-packages/sklearn/utils/optimize.py:211: ConvergenceWarning: newton-cg failed to converge. Increase the number of iterations.\n",
      "  warnings.warn(\"newton-cg failed to converge. Increase the \"\n",
      "/home/maligan/.local/lib/python3.8/site-packages/sklearn/utils/optimize.py:211: ConvergenceWarning: newton-cg failed to converge. Increase the number of iterations.\n",
      "  warnings.warn(\"newton-cg failed to converge. Increase the \"\n"
     ]
    }
   ],
   "source": [
    "# training\n",
    "train_sizes, train_scores, valid_scores, fit_times, score_times = learning_curve(\n",
    "    pipeline,\n",
    "    X, y,\n",
    "    cv=5,\n",
    "    train_sizes=np.linspace(0.1, 1, 10),\n",
    "    return_times=True\n",
    ")"
   ]
  },
  {
   "cell_type": "code",
   "execution_count": 147,
   "metadata": {},
   "outputs": [
    {
     "data": {
      "image/png": "[encoded data removed]",
      "text/plain": [
       "<Figure size 640x480 with 1 Axes>"
      ]
     },
     "metadata": {},
     "output_type": "display_data"
    }
   ],
   "source": [
    "train_scores_mean = np.mean(train_scores, axis=1)\n",
    "valid_scores_mean = np.mean(valid_scores, axis=1)\n",
    "\n",
    "plt.grid()\n",
    "plt.title('Train and Valid accuracy scores for breast cancer logit')\n",
    "plt.plot(train_sizes, train_scores_mean, \"o-\", color=\"r\", label=\"Training score\")\n",
    "plt.plot(train_sizes, valid_scores_mean, \"o-\", color=\"b\", label=\"Validation score\")\n",
    "plt.show()"
   ]
  },
  {
   "cell_type": "code",
   "execution_count": 140,
   "metadata": {},
   "outputs": [
    {
     "data": {
      "image/png": "[encoded data removed]",
      "text/plain": [
       "<Figure size 640x480 with 1 Axes>"
      ]
     },
     "metadata": {},
     "output_type": "display_data"
    }
   ],
   "source": [
    "# seaborn\n",
    "import seaborn as sns\n",
    "sns.set_theme(style=\"darkgrid\")\n",
    "\n",
    "# Load an example dataset with long-form data\n",
    "# fmri = sns.load_dataset(\"fmri\")\n",
    "\n",
    "# Plot the responses for different events and regions\n",
    "sns.lineplot(x=train_sizes, y=train_scores_mean,\n",
    "            #  hue=\"region\", style=\"event\"\n",
    "             )\n",
    "sns.lineplot(x=train_sizes, y=valid_scores_mean,\n",
    "            #  hue=\"region\", style=\"event\"\n",
    "             )\n",
    "plt.show()"
   ]
  },
  {
   "cell_type": "code",
   "execution_count": 142,
   "metadata": {},
   "outputs": [
    {
     "ename": "NotFittedError",
     "evalue": "This LogisticRegression instance is not fitted yet. Call 'fit' with appropriate arguments before using this estimator.",
     "output_type": "error",
     "traceback": [
      "\u001b[0;31m---------------------------------------------------------------------------\u001b[0m",
      "\u001b[0;31mNotFittedError\u001b[0m                            Traceback (most recent call last)",
      "\u001b[0;32m<ipython-input-142-11970027d89f>\u001b[0m in \u001b[0;36m<module>\u001b[0;34m\u001b[0m\n\u001b[0;32m----> 1\u001b[0;31m \u001b[0mprint\u001b[0m\u001b[0;34m(\u001b[0m\u001b[0;34mf'predicting: {pipeline.predict(X)}'\u001b[0m\u001b[0;34m)\u001b[0m\u001b[0;34m\u001b[0m\u001b[0;34m\u001b[0m\u001b[0m\n\u001b[0m\u001b[1;32m      2\u001b[0m \u001b[0mprint\u001b[0m\u001b[0;34m(\u001b[0m\u001b[0;34mf'predicting prob: {pipeline.predict_proba(X[-1:, :])}'\u001b[0m\u001b[0;34m)\u001b[0m\u001b[0;34m\u001b[0m\u001b[0;34m\u001b[0m\u001b[0m\n\u001b[1;32m      3\u001b[0m \u001b[0mprint\u001b[0m\u001b[0;34m(\u001b[0m\u001b[0;34mf'score: {pipeline.score(X,y)}'\u001b[0m\u001b[0;34m)\u001b[0m\u001b[0;34m\u001b[0m\u001b[0;34m\u001b[0m\u001b[0m\n",
      "\u001b[0;32m~/.local/lib/python3.8/site-packages/sklearn/utils/metaestimators.py\u001b[0m in \u001b[0;36m<lambda>\u001b[0;34m(*args, **kwargs)\u001b[0m\n\u001b[1;32m    117\u001b[0m \u001b[0;34m\u001b[0m\u001b[0m\n\u001b[1;32m    118\u001b[0m         \u001b[0;31m# lambda, but not partial, allows help() to work with update_wrapper\u001b[0m\u001b[0;34m\u001b[0m\u001b[0;34m\u001b[0m\u001b[0;34m\u001b[0m\u001b[0m\n\u001b[0;32m--> 119\u001b[0;31m         \u001b[0mout\u001b[0m \u001b[0;34m=\u001b[0m \u001b[0;32mlambda\u001b[0m \u001b[0;34m*\u001b[0m\u001b[0margs\u001b[0m\u001b[0;34m,\u001b[0m \u001b[0;34m**\u001b[0m\u001b[0mkwargs\u001b[0m\u001b[0;34m:\u001b[0m \u001b[0mself\u001b[0m\u001b[0;34m.\u001b[0m\u001b[0mfn\u001b[0m\u001b[0;34m(\u001b[0m\u001b[0mobj\u001b[0m\u001b[0;34m,\u001b[0m \u001b[0;34m*\u001b[0m\u001b[0margs\u001b[0m\u001b[0;34m,\u001b[0m \u001b[0;34m**\u001b[0m\u001b[0mkwargs\u001b[0m\u001b[0;34m)\u001b[0m\u001b[0;34m\u001b[0m\u001b[0;34m\u001b[0m\u001b[0m\n\u001b[0m\u001b[1;32m    120\u001b[0m         \u001b[0;31m# update the docstring of the returned function\u001b[0m\u001b[0;34m\u001b[0m\u001b[0;34m\u001b[0m\u001b[0;34m\u001b[0m\u001b[0m\n\u001b[1;32m    121\u001b[0m         \u001b[0mupdate_wrapper\u001b[0m\u001b[0;34m(\u001b[0m\u001b[0mout\u001b[0m\u001b[0;34m,\u001b[0m \u001b[0mself\u001b[0m\u001b[0;34m.\u001b[0m\u001b[0mfn\u001b[0m\u001b[0;34m)\u001b[0m\u001b[0;34m\u001b[0m\u001b[0;34m\u001b[0m\u001b[0m\n",
      "\u001b[0;32m~/.local/lib/python3.8/site-packages/sklearn/pipeline.py\u001b[0m in \u001b[0;36mpredict\u001b[0;34m(self, X, **predict_params)\u001b[0m\n\u001b[1;32m    406\u001b[0m         \u001b[0;32mfor\u001b[0m \u001b[0m_\u001b[0m\u001b[0;34m,\u001b[0m \u001b[0mname\u001b[0m\u001b[0;34m,\u001b[0m \u001b[0mtransform\u001b[0m \u001b[0;32min\u001b[0m \u001b[0mself\u001b[0m\u001b[0;34m.\u001b[0m\u001b[0m_iter\u001b[0m\u001b[0;34m(\u001b[0m\u001b[0mwith_final\u001b[0m\u001b[0;34m=\u001b[0m\u001b[0;32mFalse\u001b[0m\u001b[0;34m)\u001b[0m\u001b[0;34m:\u001b[0m\u001b[0;34m\u001b[0m\u001b[0;34m\u001b[0m\u001b[0m\n\u001b[1;32m    407\u001b[0m             \u001b[0mXt\u001b[0m \u001b[0;34m=\u001b[0m \u001b[0mtransform\u001b[0m\u001b[0;34m.\u001b[0m\u001b[0mtransform\u001b[0m\u001b[0;34m(\u001b[0m\u001b[0mXt\u001b[0m\u001b[0;34m)\u001b[0m\u001b[0;34m\u001b[0m\u001b[0;34m\u001b[0m\u001b[0m\n\u001b[0;32m--> 408\u001b[0;31m         \u001b[0;32mreturn\u001b[0m \u001b[0mself\u001b[0m\u001b[0;34m.\u001b[0m\u001b[0msteps\u001b[0m\u001b[0;34m[\u001b[0m\u001b[0;34m-\u001b[0m\u001b[0;36m1\u001b[0m\u001b[0;34m]\u001b[0m\u001b[0;34m[\u001b[0m\u001b[0;34m-\u001b[0m\u001b[0;36m1\u001b[0m\u001b[0;34m]\u001b[0m\u001b[0;34m.\u001b[0m\u001b[0mpredict\u001b[0m\u001b[0;34m(\u001b[0m\u001b[0mXt\u001b[0m\u001b[0;34m,\u001b[0m \u001b[0;34m**\u001b[0m\u001b[0mpredict_params\u001b[0m\u001b[0;34m)\u001b[0m\u001b[0;34m\u001b[0m\u001b[0;34m\u001b[0m\u001b[0m\n\u001b[0m\u001b[1;32m    409\u001b[0m \u001b[0;34m\u001b[0m\u001b[0m\n\u001b[1;32m    410\u001b[0m     \u001b[0;34m@\u001b[0m\u001b[0mif_delegate_has_method\u001b[0m\u001b[0;34m(\u001b[0m\u001b[0mdelegate\u001b[0m\u001b[0;34m=\u001b[0m\u001b[0;34m'_final_estimator'\u001b[0m\u001b[0;34m)\u001b[0m\u001b[0;34m\u001b[0m\u001b[0;34m\u001b[0m\u001b[0m\n",
      "\u001b[0;32m~/.local/lib/python3.8/site-packages/sklearn/linear_model/_base.py\u001b[0m in \u001b[0;36mpredict\u001b[0;34m(self, X)\u001b[0m\n\u001b[1;32m    305\u001b[0m             \u001b[0mPredicted\u001b[0m \u001b[0;32mclass\u001b[0m \u001b[0mlabel\u001b[0m \u001b[0mper\u001b[0m \u001b[0msample\u001b[0m\u001b[0;34m.\u001b[0m\u001b[0;34m\u001b[0m\u001b[0;34m\u001b[0m\u001b[0m\n\u001b[1;32m    306\u001b[0m         \"\"\"\n\u001b[0;32m--> 307\u001b[0;31m         \u001b[0mscores\u001b[0m \u001b[0;34m=\u001b[0m \u001b[0mself\u001b[0m\u001b[0;34m.\u001b[0m\u001b[0mdecision_function\u001b[0m\u001b[0;34m(\u001b[0m\u001b[0mX\u001b[0m\u001b[0;34m)\u001b[0m\u001b[0;34m\u001b[0m\u001b[0;34m\u001b[0m\u001b[0m\n\u001b[0m\u001b[1;32m    308\u001b[0m         \u001b[0;32mif\u001b[0m \u001b[0mlen\u001b[0m\u001b[0;34m(\u001b[0m\u001b[0mscores\u001b[0m\u001b[0;34m.\u001b[0m\u001b[0mshape\u001b[0m\u001b[0;34m)\u001b[0m \u001b[0;34m==\u001b[0m \u001b[0;36m1\u001b[0m\u001b[0;34m:\u001b[0m\u001b[0;34m\u001b[0m\u001b[0;34m\u001b[0m\u001b[0m\n\u001b[1;32m    309\u001b[0m             \u001b[0mindices\u001b[0m \u001b[0;34m=\u001b[0m \u001b[0;34m(\u001b[0m\u001b[0mscores\u001b[0m \u001b[0;34m>\u001b[0m \u001b[0;36m0\u001b[0m\u001b[0;34m)\u001b[0m\u001b[0;34m.\u001b[0m\u001b[0mastype\u001b[0m\u001b[0;34m(\u001b[0m\u001b[0mnp\u001b[0m\u001b[0;34m.\u001b[0m\u001b[0mint\u001b[0m\u001b[0;34m)\u001b[0m\u001b[0;34m\u001b[0m\u001b[0;34m\u001b[0m\u001b[0m\n",
      "\u001b[0;32m~/.local/lib/python3.8/site-packages/sklearn/linear_model/_base.py\u001b[0m in \u001b[0;36mdecision_function\u001b[0;34m(self, X)\u001b[0m\n\u001b[1;32m    278\u001b[0m             \u001b[0;32mclass\u001b[0m \u001b[0mwould\u001b[0m \u001b[0mbe\u001b[0m \u001b[0mpredicted\u001b[0m\u001b[0;34m.\u001b[0m\u001b[0;34m\u001b[0m\u001b[0;34m\u001b[0m\u001b[0m\n\u001b[1;32m    279\u001b[0m         \"\"\"\n\u001b[0;32m--> 280\u001b[0;31m         \u001b[0mcheck_is_fitted\u001b[0m\u001b[0;34m(\u001b[0m\u001b[0mself\u001b[0m\u001b[0;34m)\u001b[0m\u001b[0;34m\u001b[0m\u001b[0;34m\u001b[0m\u001b[0m\n\u001b[0m\u001b[1;32m    281\u001b[0m \u001b[0;34m\u001b[0m\u001b[0m\n\u001b[1;32m    282\u001b[0m         \u001b[0mX\u001b[0m \u001b[0;34m=\u001b[0m \u001b[0mcheck_array\u001b[0m\u001b[0;34m(\u001b[0m\u001b[0mX\u001b[0m\u001b[0;34m,\u001b[0m \u001b[0maccept_sparse\u001b[0m\u001b[0;34m=\u001b[0m\u001b[0;34m'csr'\u001b[0m\u001b[0;34m)\u001b[0m\u001b[0;34m\u001b[0m\u001b[0;34m\u001b[0m\u001b[0m\n",
      "\u001b[0;32m~/.local/lib/python3.8/site-packages/sklearn/utils/validation.py\u001b[0m in \u001b[0;36minner_f\u001b[0;34m(*args, **kwargs)\u001b[0m\n\u001b[1;32m     71\u001b[0m                           FutureWarning)\n\u001b[1;32m     72\u001b[0m         \u001b[0mkwargs\u001b[0m\u001b[0;34m.\u001b[0m\u001b[0mupdate\u001b[0m\u001b[0;34m(\u001b[0m\u001b[0;34m{\u001b[0m\u001b[0mk\u001b[0m\u001b[0;34m:\u001b[0m \u001b[0marg\u001b[0m \u001b[0;32mfor\u001b[0m \u001b[0mk\u001b[0m\u001b[0;34m,\u001b[0m \u001b[0marg\u001b[0m \u001b[0;32min\u001b[0m \u001b[0mzip\u001b[0m\u001b[0;34m(\u001b[0m\u001b[0msig\u001b[0m\u001b[0;34m.\u001b[0m\u001b[0mparameters\u001b[0m\u001b[0;34m,\u001b[0m \u001b[0margs\u001b[0m\u001b[0;34m)\u001b[0m\u001b[0;34m}\u001b[0m\u001b[0;34m)\u001b[0m\u001b[0;34m\u001b[0m\u001b[0;34m\u001b[0m\u001b[0m\n\u001b[0;32m---> 73\u001b[0;31m         \u001b[0;32mreturn\u001b[0m \u001b[0mf\u001b[0m\u001b[0;34m(\u001b[0m\u001b[0;34m**\u001b[0m\u001b[0mkwargs\u001b[0m\u001b[0;34m)\u001b[0m\u001b[0;34m\u001b[0m\u001b[0;34m\u001b[0m\u001b[0m\n\u001b[0m\u001b[1;32m     74\u001b[0m     \u001b[0;32mreturn\u001b[0m \u001b[0minner_f\u001b[0m\u001b[0;34m\u001b[0m\u001b[0;34m\u001b[0m\u001b[0m\n\u001b[1;32m     75\u001b[0m \u001b[0;34m\u001b[0m\u001b[0m\n",
      "\u001b[0;32m~/.local/lib/python3.8/site-packages/sklearn/utils/validation.py\u001b[0m in \u001b[0;36mcheck_is_fitted\u001b[0;34m(estimator, attributes, msg, all_or_any)\u001b[0m\n\u001b[1;32m   1018\u001b[0m \u001b[0;34m\u001b[0m\u001b[0m\n\u001b[1;32m   1019\u001b[0m     \u001b[0;32mif\u001b[0m \u001b[0;32mnot\u001b[0m \u001b[0mattrs\u001b[0m\u001b[0;34m:\u001b[0m\u001b[0;34m\u001b[0m\u001b[0;34m\u001b[0m\u001b[0m\n\u001b[0;32m-> 1020\u001b[0;31m         \u001b[0;32mraise\u001b[0m \u001b[0mNotFittedError\u001b[0m\u001b[0;34m(\u001b[0m\u001b[0mmsg\u001b[0m \u001b[0;34m%\u001b[0m \u001b[0;34m{\u001b[0m\u001b[0;34m'name'\u001b[0m\u001b[0;34m:\u001b[0m \u001b[0mtype\u001b[0m\u001b[0;34m(\u001b[0m\u001b[0mestimator\u001b[0m\u001b[0;34m)\u001b[0m\u001b[0;34m.\u001b[0m\u001b[0m__name__\u001b[0m\u001b[0;34m}\u001b[0m\u001b[0;34m)\u001b[0m\u001b[0;34m\u001b[0m\u001b[0;34m\u001b[0m\u001b[0m\n\u001b[0m\u001b[1;32m   1021\u001b[0m \u001b[0;34m\u001b[0m\u001b[0m\n\u001b[1;32m   1022\u001b[0m \u001b[0;34m\u001b[0m\u001b[0m\n",
      "\u001b[0;31mNotFittedError\u001b[0m: This LogisticRegression instance is not fitted yet. Call 'fit' with appropriate arguments before using this estimator."
     ]
    }
   ],
   "source": [
    "\n",
    "print(f'predicting: {pipeline.predict(X)}')\n",
    "print(f'predicting prob: {pipeline.predict_proba(X[-1:, :])}')\n",
    "print(f'score: {pipeline.score(X,y)}')"
   ]
  },
  {
   "cell_type": "markdown",
   "metadata": {},
   "source": [
    "## EEG windows"
   ]
  },
  {
   "cell_type": "code",
   "execution_count": 154,
   "metadata": {},
   "outputs": [
    {
     "ename": "NameError",
     "evalue": "name 'splitted' is not defined",
     "output_type": "error",
     "traceback": [
      "\u001b[0;31m---------------------------------------------------------------------------\u001b[0m",
      "\u001b[0;31mNameError\u001b[0m                                 Traceback (most recent call last)",
      "\u001b[0;32m<ipython-input-154-94e6e054ce6f>\u001b[0m in \u001b[0;36m<module>\u001b[0;34m\u001b[0m\n\u001b[1;32m      1\u001b[0m array = np.array(\n\u001b[0;32m----> 2\u001b[0;31m     \u001b[0;34m[\u001b[0m\u001b[0msplitted\u001b[0m\u001b[0;34m[\u001b[0m\u001b[0;34m'train'\u001b[0m\u001b[0;34m]\u001b[0m\u001b[0;34m[\u001b[0m\u001b[0mi\u001b[0m\u001b[0;34m]\u001b[0m\u001b[0;34m[\u001b[0m\u001b[0;36m0\u001b[0m\u001b[0;34m]\u001b[0m\u001b[0;34m[\u001b[0m\u001b[0;36m0\u001b[0m\u001b[0;34m]\u001b[0m \u001b[0;32mfor\u001b[0m \u001b[0mi\u001b[0m \u001b[0;32min\u001b[0m \u001b[0mrange\u001b[0m\u001b[0;34m(\u001b[0m\u001b[0mlen\u001b[0m\u001b[0;34m(\u001b[0m\u001b[0msplitted\u001b[0m\u001b[0;34m[\u001b[0m\u001b[0;34m'train'\u001b[0m\u001b[0;34m]\u001b[0m\u001b[0;34m)\u001b[0m\u001b[0;34m)\u001b[0m\u001b[0;34m]\u001b[0m\u001b[0;34m,\u001b[0m\u001b[0;34m\u001b[0m\u001b[0;34m\u001b[0m\u001b[0m\n\u001b[0m\u001b[1;32m      3\u001b[0m     \u001b[0;34m[\u001b[0m\u001b[0msplitted\u001b[0m\u001b[0;34m[\u001b[0m\u001b[0;34m'train'\u001b[0m\u001b[0;34m]\u001b[0m\u001b[0;34m[\u001b[0m\u001b[0mi\u001b[0m\u001b[0;34m]\u001b[0m\u001b[0;34m[\u001b[0m\u001b[0;36m1\u001b[0m\u001b[0;34m]\u001b[0m\u001b[0;34m[\u001b[0m\u001b[0;36m0\u001b[0m\u001b[0;34m]\u001b[0m \u001b[0;32mfor\u001b[0m \u001b[0mi\u001b[0m \u001b[0;32min\u001b[0m \u001b[0mrange\u001b[0m\u001b[0;34m(\u001b[0m\u001b[0mlen\u001b[0m\u001b[0;34m(\u001b[0m\u001b[0msplitted\u001b[0m\u001b[0;34m[\u001b[0m\u001b[0;34m'train'\u001b[0m\u001b[0;34m]\u001b[0m\u001b[0;34m)\u001b[0m\u001b[0;34m)\u001b[0m\u001b[0;34m]\u001b[0m\u001b[0;34m\u001b[0m\u001b[0;34m\u001b[0m\u001b[0m\n\u001b[1;32m      4\u001b[0m )\n",
      "\u001b[0;31mNameError\u001b[0m: name 'splitted' is not defined"
     ]
    }
   ],
   "source": [
    "array = np.array([\n",
    "    [splitted['train'][i][0][0] for i in range(len(splitted['train']))],\n",
    "    [splitted['train'][i][1][0] for i in range(len(splitted['train']))]\n",
    "])"
   ]
  },
  {
   "cell_type": "code",
   "execution_count": 156,
   "metadata": {},
   "outputs": [
    {
     "data": {
      "text/plain": [
       "array([[1],\n",
       "       [2]])"
      ]
     },
     "execution_count": 156,
     "metadata": {},
     "output_type": "execute_result"
    }
   ],
   "source": [
    "np.array([[1],[2]])\n"
   ]
  }
 ],
 "metadata": {
  "interpreter": {
   "hash": "31f2aee4e71d21fbe5cf8b01ff0e069b9275f58929596ceb00d14d90e3e16cd6"
  },
  "kernelspec": {
   "display_name": "Python 3.8.10 64-bit",
   "language": "python",
   "name": "python3"
  },
  "language_info": {
   "codemirror_mode": {
    "name": "ipython",
    "version": 3
   },
   "file_extension": ".py",
   "mimetype": "text/x-python",
   "name": "python",
   "nbconvert_exporter": "python",
   "pygments_lexer": "ipython3",
   "version": "3.8.10"
  },
  "orig_nbformat": 4
 },
 "nbformat": 4,
 "nbformat_minor": 2
}
