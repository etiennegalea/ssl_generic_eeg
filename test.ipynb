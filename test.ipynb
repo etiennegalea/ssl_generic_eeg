{
 "cells": [
  {
   "cell_type": "code",
   "execution_count": 153,
   "metadata": {},
   "outputs": [],
   "source": [
    "import mne\n",
    "import sys\n",
    "import os\n",
    "import importlib\n",
    "\n",
    "\n",
    "from braindecode.preprocessing.preprocess import preprocess, Preprocessor, zscore\n",
    "from braindecode.datasets import (create_from_mne_raw, create_from_mne_epochs)\n",
    "from braindecode.preprocessing.windowers import create_windows_from_events\n",
    "from braindecode.datasets.sleep_physionet import SleepPhysionet\n",
    "from braindecode.datasets import BaseDataset, BaseConcatDataset, WindowsDataset\n",
    "\n",
    "from plot import Plot"
   ]
  },
  {
   "cell_type": "code",
   "execution_count": 154,
   "metadata": {},
   "outputs": [],
   "source": [
    "import mat73\n",
    "from scipy.io import loadmat"
   ]
  },
  {
   "cell_type": "code",
   "execution_count": 22,
   "metadata": {},
   "outputs": [],
   "source": [
    "data = mat73.loadmat('data/scopolamine/mats/CHDR0511.S2044.10MAY06_0942.O01M01.mat')\n",
    "biomRegName = loadmat('data/scopolamine/biomRegName.mat')\n",
    "classification = loadmat('data/scopolamine/ClassificationStatObj.mat')\n",
    "dataMatrix = loadmat('data/scopolamine/DataMatrixScp1Scp5.mat')\n",
    "mAChRindex = loadmat('data/scopolamine/mAChRindex.mat')\n",
    "outcome = loadmat('data/scopolamine/Outcome.mat')"
   ]
  },
  {
   "cell_type": "code",
   "execution_count": 31,
   "metadata": {},
   "outputs": [
    {
     "data": {
      "text/plain": [
       "array([[ 0.49962461, -0.65875173, -0.14366271,  0.01985283, -0.04261129,\n",
       "        -0.02809451],\n",
       "       [ 0.49962461, -0.65239894, -0.14367796,  0.01198544, -0.04263961,\n",
       "        -0.02780316],\n",
       "       [ 0.49962461, -0.66252047, -0.14350288,  0.02470998, -0.04259126,\n",
       "        -0.0282714 ],\n",
       "       ...,\n",
       "       [ 0.49962461, -0.13753186,  0.04217241,  0.28275687, -0.04272525,\n",
       "        -0.03777108],\n",
       "       [ 0.49962461, -0.12997124,  0.0539127 ,  0.27765587, -0.04302568,\n",
       "        -0.03681615],\n",
       "       [ 0.49962461, -0.13421607,  0.0474169 ,  0.28051439, -0.04286418,\n",
       "        -0.03732444]])"
      ]
     },
     "execution_count": 31,
     "metadata": {},
     "output_type": "execute_result"
    }
   ],
   "source": [
    "data['RawSignal']"
   ]
  },
  {
   "cell_type": "code",
   "execution_count": 34,
   "metadata": {},
   "outputs": [
    {
     "ename": "ValueError",
     "evalue": "len(data) (64768) does not match len(info[\"ch_names\"]) (6)",
     "output_type": "error",
     "traceback": [
      "\u001b[0;31m---------------------------------------------------------------------------\u001b[0m",
      "\u001b[0;31mValueError\u001b[0m                                Traceback (most recent call last)",
      "\u001b[0;32m<ipython-input-34-b58debe20105>\u001b[0m in \u001b[0;36m<module>\u001b[0;34m\u001b[0m\n\u001b[0;32m----> 1\u001b[0;31m \u001b[0mmne\u001b[0m\u001b[0;34m.\u001b[0m\u001b[0mio\u001b[0m\u001b[0;34m.\u001b[0m\u001b[0mRawArray\u001b[0m\u001b[0;34m(\u001b[0m\u001b[0mdata\u001b[0m\u001b[0;34m[\u001b[0m\u001b[0;34m'RawSignal'\u001b[0m\u001b[0;34m]\u001b[0m\u001b[0;34m,\u001b[0m \u001b[0mmne\u001b[0m\u001b[0;34m.\u001b[0m\u001b[0mcreate_info\u001b[0m\u001b[0;34m(\u001b[0m\u001b[0;34m[\u001b[0m\u001b[0;34m'Fz-Cz'\u001b[0m\u001b[0;34m,\u001b[0m \u001b[0;34m'Pz-Oz'\u001b[0m\u001b[0;34m,\u001b[0m \u001b[0;34m'3'\u001b[0m\u001b[0;34m,\u001b[0m\u001b[0;34m'4'\u001b[0m\u001b[0;34m,\u001b[0m\u001b[0;34m'5'\u001b[0m\u001b[0;34m,\u001b[0m\u001b[0;34m'6'\u001b[0m\u001b[0;34m]\u001b[0m\u001b[0;34m,\u001b[0m \u001b[0;36m100\u001b[0m\u001b[0;34m)\u001b[0m\u001b[0;34m)\u001b[0m\u001b[0;34m\u001b[0m\u001b[0;34m\u001b[0m\u001b[0m\n\u001b[0m",
      "\u001b[0;32m<decorator-gen-192>\u001b[0m in \u001b[0;36m__init__\u001b[0;34m(self, data, info, first_samp, copy, verbose)\u001b[0m\n",
      "\u001b[0;32m~/.local/lib/python3.8/site-packages/mne/io/array/array.py\u001b[0m in \u001b[0;36m__init__\u001b[0;34m(self, data, info, first_samp, copy, verbose)\u001b[0m\n\u001b[1;32m     63\u001b[0m                              'n_samples), got shape %s' % (data.shape,))\n\u001b[1;32m     64\u001b[0m         \u001b[0;32mif\u001b[0m \u001b[0mlen\u001b[0m\u001b[0;34m(\u001b[0m\u001b[0mdata\u001b[0m\u001b[0;34m)\u001b[0m \u001b[0;34m!=\u001b[0m \u001b[0mlen\u001b[0m\u001b[0;34m(\u001b[0m\u001b[0minfo\u001b[0m\u001b[0;34m[\u001b[0m\u001b[0;34m'ch_names'\u001b[0m\u001b[0;34m]\u001b[0m\u001b[0;34m)\u001b[0m\u001b[0;34m:\u001b[0m\u001b[0;34m\u001b[0m\u001b[0;34m\u001b[0m\u001b[0m\n\u001b[0;32m---> 65\u001b[0;31m             raise ValueError('len(data) (%s) does not match '\n\u001b[0m\u001b[1;32m     66\u001b[0m                              \u001b[0;34m'len(info[\"ch_names\"]) (%s)'\u001b[0m\u001b[0;34m\u001b[0m\u001b[0;34m\u001b[0m\u001b[0m\n\u001b[1;32m     67\u001b[0m                              % (len(data), len(info['ch_names'])))\n",
      "\u001b[0;31mValueError\u001b[0m: len(data) (64768) does not match len(info[\"ch_names\"]) (6)"
     ]
    }
   ],
   "source": [
    "mne.io.RawArray(data['RawSignal'], mne.create_info(['Fz-Cz', 'Pz-Oz', '3','4','5','6'], 100))"
   ]
  },
  {
   "cell_type": "code",
   "execution_count": 155,
   "metadata": {},
   "outputs": [
    {
     "name": "stdout",
     "output_type": "stream",
     "text": [
      "LOADING BCI DATA\n"
     ]
    }
   ],
   "source": [
    "\n",
    "print('LOADING BCI DATA')\n",
    "\n",
    "''' ANNOTATIONS\n",
    "T0 corresponds to rest\n",
    "T1 corresponds to onset of motion (real or imagined) of\n",
    "    the left fist (in runs 3, 4, 7, 8, 11, and 12)\n",
    "    both fists (in runs 5, 6, 9, 10, 13, and 14)\n",
    "T2 corresponds to onset of motion (real or imagined) of\n",
    "    the right fist (in runs 3, 4, 7, 8, 11, and 12)\n",
    "    both feet (in runs 5, 6, 9, 10, 13, and 14)\n",
    "'''\n",
    "\n",
    "subject_size = [1,10]\n",
    "subjects = range(subject_size[0], subject_size[1]) # max 110\n",
    "event_codes = [\n",
    "    1, 2, # eyes open, eyes closed (baselines)\n",
    "    3, 4, 5,\n",
    "    6, 7, 8, 9, \n",
    "    10, 11, 12, 13, 14\n",
    "]\n",
    "\n",
    "physionet_paths, descriptions = [], []\n",
    "\n",
    "for subject_id in subjects:\n",
    "    physionet_paths += [mne.datasets.eegbci.load_data(subject_id, event_codes, update_path=False)]\n",
    "    descriptions += [{\"event_code\": code, \"subject\": subject_id} for code in event_codes]\n"
   ]
  },
  {
   "cell_type": "code",
   "execution_count": 156,
   "metadata": {},
   "outputs": [
    {
     "name": "stdout",
     "output_type": "stream",
     "text": [
      "['./data/SPACE_BAMBI_2channels/SPACE.S175.yyyymmdd.EORASD_raw.fif', './data/SPACE_BAMBI_2channels/SPACE.S170.yyyymmdd.EORASD_raw.fif']\n",
      "Opening raw data file ./data/SPACE_BAMBI_2channels/SPACE.S175.yyyymmdd.EORASD_raw.fif...\n",
      "    Range : 0 ... 628735 =      0.000 ...   307.000 secs\n",
      "Ready.\n",
      "Reading 0 ... 628735  =      0.000 ...   307.000 secs...\n",
      "Opening raw data file ./data/SPACE_BAMBI_2channels/SPACE.S170.yyyymmdd.EORASD_raw.fif...\n",
      "    Range : 0 ... 616447 =      0.000 ...   301.000 secs\n",
      "Ready.\n",
      "Reading 0 ... 616447  =      0.000 ...   301.000 secs...\n"
     ]
    }
   ],
   "source": [
    "# raw_set = [\n",
    "#     '/home/maligan/mne_data/physionet-sleep-data/SC4012E0-PSG.edf',\n",
    "#     '/home/maligan/mne_data/physionet-sleep-data/SC4451F0-PSG.edf',\n",
    "#     '/home/maligan/mne_data/physionet-sleep-data/SC4441E0-PSG.edf',\n",
    "#     '/home/maligan/mne_data/physionet-sleep-data/SC4431E0-PSG.edf',\n",
    "#     '/home/maligan/mne_data/physionet-sleep-data/SC4421E0-PSG.edf',\n",
    "# ]\n",
    "\n",
    "# space_bambi directory\n",
    "data_dir = './data/SPACE_BAMBI_2channels/'\n",
    "raw_set = [\n",
    "    f'{data_dir}SPACE.S175.yyyymmdd.EORASD_raw.fif',\n",
    "    f'{data_dir}SPACE.S170.yyyymmdd.EORASD_raw.fif'\n",
    "]\n",
    "\n",
    "print(raw_set)\n",
    "\n",
    "# load into raw array\n",
    "raws = [mne.io.read_raw_fif(x, preload=True) for x in raw_set]"
   ]
  },
  {
   "cell_type": "code",
   "execution_count": 79,
   "metadata": {},
   "outputs": [
    {
     "name": "stdout",
     "output_type": "stream",
     "text": [
      "340 files found\n",
      "Opening raw data file ./data/SPACE_BAMBI_2channels/SPACE.S27.yyyymmdd.ECRASD_raw.fif...\n",
      "    Range : 0 ... 368639 =      0.000 ...   180.000 secs\n",
      "Ready.\n",
      "Reading 0 ... 368639  =      0.000 ...   180.000 secs...\n",
      "Opening raw data file ./data/SPACE_BAMBI_2channels/BAMBI.S620.yyyymmdd.EORASD1_raw.fif...\n",
      "    Range : 0 ... 618495 =      0.000 ...   302.000 secs\n",
      "Ready.\n",
      "Reading 0 ... 618495  =      0.000 ...   302.000 secs...\n",
      "Opening raw data file ./data/SPACE_BAMBI_2channels/SPACE.S50.yyyymmdd.EORASD_raw.fif...\n",
      "    Range : 0 ... 378879 =      0.000 ...   185.000 secs\n",
      "Ready.\n",
      "Reading 0 ... 378879  =      0.000 ...   185.000 secs...\n",
      "Opening raw data file ./data/SPACE_BAMBI_2channels/SPACE.S101.yyyymmdd.EORHE_raw.fif...\n",
      "    Range : 0 ... 622591 =      0.000 ...   304.000 secs\n",
      "Ready.\n",
      "Reading 0 ... 622591  =      0.000 ...   304.000 secs...\n",
      "Opening raw data file ./data/SPACE_BAMBI_2channels/SPACE.S94.yyyymmdd.EORHE_raw.fif...\n",
      "    Range : 0 ... 731135 =      0.000 ...   357.000 secs\n",
      "Ready.\n",
      "Reading 0 ... 731135  =      0.000 ...   357.000 secs...\n"
     ]
    }
   ],
   "source": [
    "# space_bambi directory\n",
    "data_dir = './data/SPACE_BAMBI_2channels/'\n",
    "\n",
    "raws = []\n",
    "\n",
    "print(f'{len(os.listdir(data_dir))} files found')\n",
    "for i, path in enumerate(os.listdir(data_dir)):\n",
    "    if i == 5:\n",
    "        break\n",
    "    full_path = os.path.join(data_dir, path)\n",
    "    raws.append(mne.io.read_raw_fif(full_path, preload=True))"
   ]
  },
  {
   "cell_type": "code",
   "execution_count": 164,
   "metadata": {},
   "outputs": [],
   "source": [
    "import pandas as pd\n",
    "descriptions = []\n",
    "\n",
    "for id, raw in enumerate(raws):\n",
    "    descriptions += [{\n",
    "        id: {\n",
    "        \"onset\": annot['onset'], \n",
    "        \"duration\": annot['duration'], \n",
    "        \"description\": annot['description'], \n",
    "        \"orig_time\": annot['orig_time']\n",
    "        }\n",
    "    } for annot in raw.annotations]"
   ]
  },
  {
   "cell_type": "code",
   "execution_count": 192,
   "metadata": {},
   "outputs": [],
   "source": [
    "descriptions = []\n",
    "\n",
    "for subject_id, raw in enumerate(raws):\n",
    "    descriptions += [{\"subject\": subject_id}]"
   ]
  },
  {
   "cell_type": "code",
   "execution_count": 193,
   "metadata": {},
   "outputs": [
    {
     "data": {
      "text/plain": [
       "{'subject': 0}"
      ]
     },
     "execution_count": 193,
     "metadata": {},
     "output_type": "execute_result"
    }
   ],
   "source": [
    "descriptions[0]"
   ]
  },
  {
   "cell_type": "code",
   "execution_count": 72,
   "metadata": {},
   "outputs": [],
   "source": [
    "\n",
    "event_codes = [\n",
    "    1, 2, # eyes open, eyes closed (baselines)\n",
    "    3, 4, 5,\n",
    "    6, 7, 8, 9, \n",
    "    10, 11, 12, 13, 14\n",
    "]\n",
    "\n",
    "physionet_paths, descriptions = [], []\n",
    "\n",
    "for subject_id in subjects:\n",
    "    physionet_paths += [mne.datasets.eegbci.load_data(subject_id, event_codes, update_path=False)]\n",
    "    descriptions += [{\"event_code\": code, \"subject\": subject_id} for code in event_codes]\n"
   ]
  },
  {
   "cell_type": "code",
   "execution_count": 76,
   "metadata": {},
   "outputs": [
    {
     "data": {
      "text/plain": [
       "[{'event_code': 1, 'subject': 1},\n",
       " {'event_code': 2, 'subject': 1},\n",
       " {'event_code': 3, 'subject': 1},\n",
       " {'event_code': 4, 'subject': 1},\n",
       " {'event_code': 5, 'subject': 1},\n",
       " {'event_code': 6, 'subject': 1},\n",
       " {'event_code': 7, 'subject': 1},\n",
       " {'event_code': 8, 'subject': 1},\n",
       " {'event_code': 9, 'subject': 1},\n",
       " {'event_code': 10, 'subject': 1},\n",
       " {'event_code': 11, 'subject': 1},\n",
       " {'event_code': 12, 'subject': 1},\n",
       " {'event_code': 13, 'subject': 1},\n",
       " {'event_code': 14, 'subject': 1},\n",
       " {'event_code': 1, 'subject': 2},\n",
       " {'event_code': 2, 'subject': 2},\n",
       " {'event_code': 3, 'subject': 2},\n",
       " {'event_code': 4, 'subject': 2},\n",
       " {'event_code': 5, 'subject': 2},\n",
       " {'event_code': 6, 'subject': 2},\n",
       " {'event_code': 7, 'subject': 2},\n",
       " {'event_code': 8, 'subject': 2},\n",
       " {'event_code': 9, 'subject': 2},\n",
       " {'event_code': 10, 'subject': 2},\n",
       " {'event_code': 11, 'subject': 2},\n",
       " {'event_code': 12, 'subject': 2},\n",
       " {'event_code': 13, 'subject': 2},\n",
       " {'event_code': 14, 'subject': 2},\n",
       " {'event_code': 1, 'subject': 3},\n",
       " {'event_code': 2, 'subject': 3},\n",
       " {'event_code': 3, 'subject': 3},\n",
       " {'event_code': 4, 'subject': 3},\n",
       " {'event_code': 5, 'subject': 3},\n",
       " {'event_code': 6, 'subject': 3},\n",
       " {'event_code': 7, 'subject': 3},\n",
       " {'event_code': 8, 'subject': 3},\n",
       " {'event_code': 9, 'subject': 3},\n",
       " {'event_code': 10, 'subject': 3},\n",
       " {'event_code': 11, 'subject': 3},\n",
       " {'event_code': 12, 'subject': 3},\n",
       " {'event_code': 13, 'subject': 3},\n",
       " {'event_code': 14, 'subject': 3},\n",
       " {'event_code': 1, 'subject': 4},\n",
       " {'event_code': 2, 'subject': 4},\n",
       " {'event_code': 3, 'subject': 4},\n",
       " {'event_code': 4, 'subject': 4},\n",
       " {'event_code': 5, 'subject': 4},\n",
       " {'event_code': 6, 'subject': 4},\n",
       " {'event_code': 7, 'subject': 4},\n",
       " {'event_code': 8, 'subject': 4},\n",
       " {'event_code': 9, 'subject': 4},\n",
       " {'event_code': 10, 'subject': 4},\n",
       " {'event_code': 11, 'subject': 4},\n",
       " {'event_code': 12, 'subject': 4},\n",
       " {'event_code': 13, 'subject': 4},\n",
       " {'event_code': 14, 'subject': 4},\n",
       " {'event_code': 1, 'subject': 5},\n",
       " {'event_code': 2, 'subject': 5},\n",
       " {'event_code': 3, 'subject': 5},\n",
       " {'event_code': 4, 'subject': 5},\n",
       " {'event_code': 5, 'subject': 5},\n",
       " {'event_code': 6, 'subject': 5},\n",
       " {'event_code': 7, 'subject': 5},\n",
       " {'event_code': 8, 'subject': 5},\n",
       " {'event_code': 9, 'subject': 5},\n",
       " {'event_code': 10, 'subject': 5},\n",
       " {'event_code': 11, 'subject': 5},\n",
       " {'event_code': 12, 'subject': 5},\n",
       " {'event_code': 13, 'subject': 5},\n",
       " {'event_code': 14, 'subject': 5},\n",
       " {'event_code': 1, 'subject': 6},\n",
       " {'event_code': 2, 'subject': 6},\n",
       " {'event_code': 3, 'subject': 6},\n",
       " {'event_code': 4, 'subject': 6},\n",
       " {'event_code': 5, 'subject': 6},\n",
       " {'event_code': 6, 'subject': 6},\n",
       " {'event_code': 7, 'subject': 6},\n",
       " {'event_code': 8, 'subject': 6},\n",
       " {'event_code': 9, 'subject': 6},\n",
       " {'event_code': 10, 'subject': 6},\n",
       " {'event_code': 11, 'subject': 6},\n",
       " {'event_code': 12, 'subject': 6},\n",
       " {'event_code': 13, 'subject': 6},\n",
       " {'event_code': 14, 'subject': 6},\n",
       " {'event_code': 1, 'subject': 7},\n",
       " {'event_code': 2, 'subject': 7},\n",
       " {'event_code': 3, 'subject': 7},\n",
       " {'event_code': 4, 'subject': 7},\n",
       " {'event_code': 5, 'subject': 7},\n",
       " {'event_code': 6, 'subject': 7},\n",
       " {'event_code': 7, 'subject': 7},\n",
       " {'event_code': 8, 'subject': 7},\n",
       " {'event_code': 9, 'subject': 7},\n",
       " {'event_code': 10, 'subject': 7},\n",
       " {'event_code': 11, 'subject': 7},\n",
       " {'event_code': 12, 'subject': 7},\n",
       " {'event_code': 13, 'subject': 7},\n",
       " {'event_code': 14, 'subject': 7},\n",
       " {'event_code': 1, 'subject': 8},\n",
       " {'event_code': 2, 'subject': 8},\n",
       " {'event_code': 3, 'subject': 8},\n",
       " {'event_code': 4, 'subject': 8},\n",
       " {'event_code': 5, 'subject': 8},\n",
       " {'event_code': 6, 'subject': 8},\n",
       " {'event_code': 7, 'subject': 8},\n",
       " {'event_code': 8, 'subject': 8},\n",
       " {'event_code': 9, 'subject': 8},\n",
       " {'event_code': 10, 'subject': 8},\n",
       " {'event_code': 11, 'subject': 8},\n",
       " {'event_code': 12, 'subject': 8},\n",
       " {'event_code': 13, 'subject': 8},\n",
       " {'event_code': 14, 'subject': 8},\n",
       " {'event_code': 1, 'subject': 9},\n",
       " {'event_code': 2, 'subject': 9},\n",
       " {'event_code': 3, 'subject': 9},\n",
       " {'event_code': 4, 'subject': 9},\n",
       " {'event_code': 5, 'subject': 9},\n",
       " {'event_code': 6, 'subject': 9},\n",
       " {'event_code': 7, 'subject': 9},\n",
       " {'event_code': 8, 'subject': 9},\n",
       " {'event_code': 9, 'subject': 9},\n",
       " {'event_code': 10, 'subject': 9},\n",
       " {'event_code': 11, 'subject': 9},\n",
       " {'event_code': 12, 'subject': 9},\n",
       " {'event_code': 13, 'subject': 9},\n",
       " {'event_code': 14, 'subject': 9}]"
      ]
     },
     "execution_count": 76,
     "metadata": {},
     "output_type": "execute_result"
    }
   ],
   "source": [
    "descriptions"
   ]
  },
  {
   "cell_type": "code",
   "execution_count": 4,
   "metadata": {},
   "outputs": [
    {
     "name": "stderr",
     "output_type": "stream",
     "text": [
      "[Parallel(n_jobs=2)]: Using backend LokyBackend with 2 concurrent workers.\n"
     ]
    },
    {
     "name": "stdout",
     "output_type": "stream",
     "text": [
      "Filtering raw data in 1 contiguous segment\n",
      "Setting up low-pass filter at 30 Hz\n",
      "\n",
      "FIR filter parameters\n",
      "---------------------\n",
      "Designing a one-pass, zero-phase, non-causal lowpass filter:\n",
      "- Windowed time-domain design (firwin) method\n",
      "- Hamming window with 0.0194 passband ripple and 53 dB stopband attenuation\n",
      "- Upper passband edge: 30.00 Hz\n",
      "- Upper transition bandwidth: 7.50 Hz (-6 dB cutoff frequency: 33.75 Hz)\n",
      "- Filter length: 71 samples (0.444 sec)\n",
      "\n"
     ]
    },
    {
     "name": "stderr",
     "output_type": "stream",
     "text": [
      "[Parallel(n_jobs=2)]: Done   2 out of   2 | elapsed:    2.3s remaining:    0.0s\n",
      "[Parallel(n_jobs=2)]: Done   2 out of   2 | elapsed:    2.3s finished\n",
      "[Parallel(n_jobs=2)]: Using backend LokyBackend with 2 concurrent workers.\n",
      "[Parallel(n_jobs=2)]: Done   2 out of   2 | elapsed:    0.0s remaining:    0.0s\n",
      "[Parallel(n_jobs=2)]: Done   2 out of   2 | elapsed:    0.0s finished\n",
      "[Parallel(n_jobs=2)]: Using backend LokyBackend with 2 concurrent workers.\n"
     ]
    },
    {
     "name": "stdout",
     "output_type": "stream",
     "text": [
      "Filtering raw data in 1 contiguous segment\n",
      "Setting up low-pass filter at 30 Hz\n",
      "\n",
      "FIR filter parameters\n",
      "---------------------\n",
      "Designing a one-pass, zero-phase, non-causal lowpass filter:\n",
      "- Windowed time-domain design (firwin) method\n",
      "- Hamming window with 0.0194 passband ripple and 53 dB stopband attenuation\n",
      "- Upper passband edge: 30.00 Hz\n",
      "- Upper transition bandwidth: 7.50 Hz (-6 dB cutoff frequency: 33.75 Hz)\n",
      "- Filter length: 71 samples (0.444 sec)\n",
      "\n"
     ]
    },
    {
     "name": "stderr",
     "output_type": "stream",
     "text": [
      "[Parallel(n_jobs=2)]: Done   2 out of   2 | elapsed:    0.3s remaining:    0.0s\n",
      "[Parallel(n_jobs=2)]: Done   2 out of   2 | elapsed:    0.3s finished\n",
      "[Parallel(n_jobs=2)]: Using backend LokyBackend with 2 concurrent workers.\n",
      "[Parallel(n_jobs=2)]: Done   2 out of   2 | elapsed:    0.0s remaining:    0.0s\n",
      "[Parallel(n_jobs=2)]: Done   2 out of   2 | elapsed:    0.0s finished\n"
     ]
    }
   ],
   "source": [
    "### preprocess\n",
    "# resample to 160Hz\n",
    "# high pass filtering of 30Hz\n",
    "\n",
    "sfreq = 160\n",
    "high_cut_hz = 30\n",
    "n_jobs = 2\n",
    "\n",
    "for raw in raws:\n",
    "    mne.io.Raw.resample(raw, sfreq, n_jobs=n_jobs) # resample all files\n",
    "    mne.io.Raw.filter(raw, l_freq=None, h_freq=high_cut_hz, n_jobs=n_jobs) # high-pass filter"
   ]
  },
  {
   "cell_type": "code",
   "execution_count": 5,
   "metadata": {},
   "outputs": [],
   "source": [
    "base_datasets = [BaseDataset(raw) for raw in raws]\n",
    "base_concat_datasets = BaseConcatDataset(base_datasets)"
   ]
  },
  {
   "cell_type": "code",
   "execution_count": 6,
   "metadata": {},
   "outputs": [
    {
     "data": {
      "text/plain": [
       "<braindecode.datasets.base.BaseConcatDataset at 0x7f5d95791160>"
      ]
     },
     "execution_count": 6,
     "metadata": {},
     "output_type": "execute_result"
    }
   ],
   "source": [
    "base_concat_datasets"
   ]
  },
  {
   "cell_type": "code",
   "execution_count": 7,
   "metadata": {},
   "outputs": [
    {
     "name": "stdout",
     "output_type": "stream",
     "text": [
      "Used Annotations descriptions: ['artifact']\n",
      "Adding metadata with 4 columns\n",
      "Replacing existing metadata with 4 columns\n",
      "112 matching events found\n",
      "No baseline correction applied\n",
      "0 projection items activated\n",
      "Loading data for 112 events and 100 original time points ...\n",
      "0 bad epochs dropped\n",
      "Used Annotations descriptions: ['artifact']\n",
      "Adding metadata with 4 columns\n",
      "Replacing existing metadata with 4 columns\n",
      "120 matching events found\n",
      "No baseline correction applied\n",
      "0 projection items activated\n",
      "Loading data for 120 events and 100 original time points ...\n",
      "0 bad epochs dropped\n"
     ]
    }
   ],
   "source": [
    "window_size_samples = 100\n",
    "\n",
    "windows_dataset = create_from_mne_raw(\n",
    "    raws,\n",
    "    trial_start_offset_samples=0,\n",
    "    trial_stop_offset_samples=0,\n",
    "    window_size_samples=window_size_samples,\n",
    "    window_stride_samples=window_size_samples,\n",
    "    drop_last_window=True,\n",
    "    # descriptions=descriptions,\n",
    "    accepted_bads_ratio=0.5,\n",
    "    drop_bad_windows=True,\n",
    "    # mapping=mapping,\n",
    "    # preload=True,\n",
    "    on_missing='ignore'\n",
    ")\n"
   ]
  },
  {
   "cell_type": "code",
   "execution_count": 8,
   "metadata": {},
   "outputs": [
    {
     "data": {
      "text/plain": [
       "braindecode.datasets.base.BaseConcatDataset"
      ]
     },
     "execution_count": 8,
     "metadata": {},
     "output_type": "execute_result"
    }
   ],
   "source": [
    "type(windows_dataset)"
   ]
  },
  {
   "cell_type": "code",
   "execution_count": 9,
   "metadata": {},
   "outputs": [
    {
     "name": "stdout",
     "output_type": "stream",
     "text": [
      "Loading data for 112 events and 100 original time points ...\n",
      "Loading data for 120 events and 100 original time points ...\n"
     ]
    },
    {
     "name": "stderr",
     "output_type": "stream",
     "text": [
      "/home/maligan/.local/lib/python3.8/site-packages/sklearn/utils/deprecation.py:86: FutureWarning: Function zscore is deprecated; will be removed in 0.7.0. Use sklearn.preprocessing.scale instead.\n",
      "  warnings.warn(msg, category=FutureWarning)\n"
     ]
    },
    {
     "data": {
      "text/plain": [
       "<braindecode.datasets.base.BaseConcatDataset at 0x7f5e3d50f0a0>"
      ]
     },
     "execution_count": 9,
     "metadata": {},
     "output_type": "execute_result"
    }
   ],
   "source": [
    "# z-score normalization\n",
    "\n",
    "preprocess(windows_dataset, Preprocessor(zscore))\n"
   ]
  },
  {
   "cell_type": "code",
   "execution_count": 14,
   "metadata": {},
   "outputs": [
    {
     "ename": "AttributeError",
     "evalue": "'WindowsDataset' object has no attribute '__annotations__'",
     "output_type": "error",
     "traceback": [
      "\u001b[0;31m---------------------------------------------------------------------------\u001b[0m",
      "\u001b[0;31mAttributeError\u001b[0m                            Traceback (most recent call last)",
      "\u001b[0;32m<ipython-input-14-078caf8498cf>\u001b[0m in \u001b[0;36m<module>\u001b[0;34m\u001b[0m\n\u001b[0;32m----> 1\u001b[0;31m \u001b[0mwindows_dataset\u001b[0m\u001b[0;34m.\u001b[0m\u001b[0mdatasets\u001b[0m\u001b[0;34m[\u001b[0m\u001b[0;36m0\u001b[0m\u001b[0;34m]\u001b[0m\u001b[0;34m.\u001b[0m\u001b[0m__annotations__\u001b[0m\u001b[0;34m\u001b[0m\u001b[0;34m\u001b[0m\u001b[0m\n\u001b[0m",
      "\u001b[0;31mAttributeError\u001b[0m: 'WindowsDataset' object has no attribute '__annotations__'"
     ]
    }
   ],
   "source": []
  }
 ],
 "metadata": {
  "interpreter": {
   "hash": "31f2aee4e71d21fbe5cf8b01ff0e069b9275f58929596ceb00d14d90e3e16cd6"
  },
  "kernelspec": {
   "display_name": "Python 3.8.10 64-bit",
   "language": "python",
   "name": "python3"
  },
  "language_info": {
   "codemirror_mode": {
    "name": "ipython",
    "version": 3
   },
   "file_extension": ".py",
   "mimetype": "text/x-python",
   "name": "python",
   "nbconvert_exporter": "python",
   "pygments_lexer": "ipython3",
   "version": "3.8.10"
  },
  "orig_nbformat": 4
 },
 "nbformat": 4,
 "nbformat_minor": 2
}
